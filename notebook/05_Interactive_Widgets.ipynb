{
 "cells": [
  {
   "cell_type": "markdown",
   "metadata": {},
   "source": [
    "# Simple Widget Introduction\n",
    "**Adapted from the ipywidgets documentation:**\n",
    "\n",
    "**- [Widget basics](https://ipywidgets.readthedocs.io/en/stable/examples/Widget%20Basics.html)**\n",
    "\n",
    "**- [Using Interact](https://ipywidgets.readthedocs.io/en/stable/examples/Using%20Interact.html)**\n",
    "\n"
   ]
  },
  {
   "cell_type": "markdown",
   "metadata": {},
   "source": [
    "## What are widgets?"
   ]
  },
  {
   "cell_type": "markdown",
   "metadata": {
    "slideshow": {
     "slide_type": "slide"
    }
   },
   "source": [
    "Widgets are eventful python objects that have a representation in the browser, often as a control like a slider, textbox, etc."
   ]
  },
  {
   "cell_type": "markdown",
   "metadata": {},
   "source": [
    "## What can they be used for?"
   ]
  },
  {
   "cell_type": "markdown",
   "metadata": {
    "slideshow": {
     "slide_type": "slide"
    }
   },
   "source": [
    "You can use widgets to build **interactive GUIs** for your notebooks.  \n",
    "You can also use widgets to **synchronize stateful and stateless information** between Python and JavaScript."
   ]
  },
  {
   "cell_type": "markdown",
   "metadata": {},
   "source": [
    "## Using widgets  "
   ]
  },
  {
   "cell_type": "markdown",
   "metadata": {
    "slideshow": {
     "slide_type": "slide"
    }
   },
   "source": [
    "To use the widget framework, you need to import `ipywidgets`."
   ]
  },
  {
   "cell_type": "code",
   "execution_count": 1,
   "metadata": {},
   "outputs": [],
   "source": [
    "import ipywidgets as widgets"
   ]
  },
  {
   "cell_type": "markdown",
   "metadata": {
    "slideshow": {
     "slide_type": "slide"
    }
   },
   "source": [
    "### repr"
   ]
  },
  {
   "cell_type": "markdown",
   "metadata": {},
   "source": [
    "Widgets have their own display `repr` which allows them to be displayed using IPython's display framework.  Constructing and returning an `IntSlider` automatically displays the widget (as seen below).  Widgets are displayed inside the output area below the code cell. Clearing cell output will also remove the widget."
   ]
  },
  {
   "cell_type": "code",
   "execution_count": 2,
   "metadata": {},
   "outputs": [
    {
     "data": {
      "application/vnd.jupyter.widget-view+json": {
       "model_id": "8ffe87143aab4887a12f509b87318e08",
       "version_major": 2,
       "version_minor": 0
      },
      "text/plain": [
       "IntSlider(value=0)"
      ]
     },
     "metadata": {},
     "output_type": "display_data"
    }
   ],
   "source": [
    "widgets.IntSlider()"
   ]
  },
  {
   "cell_type": "markdown",
   "metadata": {
    "slideshow": {
     "slide_type": "slide"
    }
   },
   "source": [
    "### display()"
   ]
  },
  {
   "cell_type": "markdown",
   "metadata": {},
   "source": [
    "You can also explicitly display the widget using `display(...)`."
   ]
  },
  {
   "cell_type": "code",
   "execution_count": 3,
   "metadata": {},
   "outputs": [
    {
     "data": {
      "application/vnd.jupyter.widget-view+json": {
       "model_id": "",
       "version_major": 2,
       "version_minor": 0
      },
      "text/plain": [
       "IntSlider(value=0)"
      ]
     },
     "metadata": {},
     "output_type": "display_data"
    }
   ],
   "source": [
    "from IPython.display import display\n",
    "w = widgets.IntSlider()\n",
    "display(w)"
   ]
  },
  {
   "cell_type": "markdown",
   "metadata": {
    "slideshow": {
     "slide_type": "slide"
    }
   },
   "source": [
    "### Multiple display() calls"
   ]
  },
  {
   "cell_type": "markdown",
   "metadata": {},
   "source": [
    "If you display the same widget twice, the displayed instances in the front-end will remain in sync with each other.  Try dragging the slider below and watch the slider above."
   ]
  },
  {
   "cell_type": "code",
   "execution_count": 4,
   "metadata": {
    "scrolled": true
   },
   "outputs": [
    {
     "data": {
      "application/vnd.jupyter.widget-view+json": {
       "model_id": "",
       "version_major": 2,
       "version_minor": 0
      },
      "text/plain": [
       "IntSlider(value=0)"
      ]
     },
     "metadata": {},
     "output_type": "display_data"
    }
   ],
   "source": [
    "display(w)"
   ]
  },
  {
   "cell_type": "markdown",
   "metadata": {},
   "source": [
    "## Why does displaying the same widget twice work?"
   ]
  },
  {
   "cell_type": "markdown",
   "metadata": {
    "slideshow": {
     "slide_type": "slide"
    }
   },
   "source": [
    "Widgets are represented in the back-end by a single object.  Each time a widget is displayed, a new representation of that same object is created in the front-end.  These representations are called views.\n",
    "<img src=\"pictures/WidgetModelView.png\">"
   ]
  },
  {
   "cell_type": "markdown",
   "metadata": {
    "slideshow": {
     "slide_type": "slide"
    }
   },
   "source": [
    "### Closing widgets"
   ]
  },
  {
   "cell_type": "markdown",
   "metadata": {},
   "source": [
    "You can close a widget by calling its `close()` method."
   ]
  },
  {
   "cell_type": "code",
   "execution_count": 5,
   "metadata": {},
   "outputs": [
    {
     "data": {
      "application/vnd.jupyter.widget-view+json": {
       "model_id": "",
       "version_major": 2,
       "version_minor": 0
      },
      "text/plain": [
       "IntSlider(value=0)"
      ]
     },
     "metadata": {},
     "output_type": "display_data"
    }
   ],
   "source": [
    "display(w)"
   ]
  },
  {
   "cell_type": "code",
   "execution_count": 6,
   "metadata": {},
   "outputs": [],
   "source": [
    "w.close()"
   ]
  },
  {
   "cell_type": "markdown",
   "metadata": {},
   "source": [
    "## Widget properties"
   ]
  },
  {
   "cell_type": "markdown",
   "metadata": {
    "slideshow": {
     "slide_type": "slide"
    }
   },
   "source": [
    "All of the IPython widgets share a similar naming scheme.  To read the value of a widget, you can query its `value` property."
   ]
  },
  {
   "cell_type": "code",
   "execution_count": 7,
   "metadata": {},
   "outputs": [
    {
     "data": {
      "application/vnd.jupyter.widget-view+json": {
       "model_id": "5aa3da51c83d4ff1a7e99042de84df9d",
       "version_major": 2,
       "version_minor": 0
      },
      "text/plain": [
       "IntSlider(value=0)"
      ]
     },
     "metadata": {},
     "output_type": "display_data"
    }
   ],
   "source": [
    "w = widgets.IntSlider()\n",
    "display(w)"
   ]
  },
  {
   "cell_type": "code",
   "execution_count": 8,
   "metadata": {},
   "outputs": [
    {
     "data": {
      "text/plain": [
       "0"
      ]
     },
     "execution_count": 8,
     "metadata": {},
     "output_type": "execute_result"
    }
   ],
   "source": [
    "w.value"
   ]
  },
  {
   "cell_type": "markdown",
   "metadata": {},
   "source": [
    "Similarly, to set a widget's value, you can set its `value` property."
   ]
  },
  {
   "cell_type": "code",
   "execution_count": 9,
   "metadata": {},
   "outputs": [],
   "source": [
    "w.value = 100"
   ]
  },
  {
   "cell_type": "markdown",
   "metadata": {
    "slideshow": {
     "slide_type": "slide"
    }
   },
   "source": [
    "### Keys"
   ]
  },
  {
   "cell_type": "markdown",
   "metadata": {},
   "source": [
    "In addition to `value`, most widgets share `keys`, `description`, and `disabled`.  To see the entire list of synchronized, stateful properties of any specific widget, you can query the `keys` property."
   ]
  },
  {
   "cell_type": "code",
   "execution_count": 10,
   "metadata": {},
   "outputs": [
    {
     "data": {
      "text/plain": [
       "['_dom_classes',\n",
       " '_model_module',\n",
       " '_model_module_version',\n",
       " '_model_name',\n",
       " '_view_count',\n",
       " '_view_module',\n",
       " '_view_module_version',\n",
       " '_view_name',\n",
       " 'continuous_update',\n",
       " 'description',\n",
       " 'description_tooltip',\n",
       " 'disabled',\n",
       " 'layout',\n",
       " 'max',\n",
       " 'min',\n",
       " 'orientation',\n",
       " 'readout',\n",
       " 'readout_format',\n",
       " 'step',\n",
       " 'style',\n",
       " 'value']"
      ]
     },
     "execution_count": 10,
     "metadata": {},
     "output_type": "execute_result"
    }
   ],
   "source": [
    "w.keys"
   ]
  },
  {
   "cell_type": "markdown",
   "metadata": {},
   "source": [
    "### Shorthand for setting the initial values of widget properties"
   ]
  },
  {
   "cell_type": "markdown",
   "metadata": {
    "slideshow": {
     "slide_type": "slide"
    }
   },
   "source": [
    "While creating a widget, you can set some or all of the initial values of that widget by defining them as keyword arguments in the widget's constructor (as seen below)."
   ]
  },
  {
   "cell_type": "code",
   "execution_count": 11,
   "metadata": {},
   "outputs": [
    {
     "data": {
      "application/vnd.jupyter.widget-view+json": {
       "model_id": "5270792512694dca9b3cbc0281744407",
       "version_major": 2,
       "version_minor": 0
      },
      "text/plain": [
       "Text(value='Hello World!', disabled=True)"
      ]
     },
     "metadata": {},
     "output_type": "display_data"
    }
   ],
   "source": [
    "widgets.Text(value='Hello World!', disabled=True)"
   ]
  },
  {
   "cell_type": "markdown",
   "metadata": {},
   "source": [
    "# Using Interact"
   ]
  },
  {
   "cell_type": "markdown",
   "metadata": {},
   "source": [
    "The `interact` function (`ipywidgets.interact`) automatically creates user interface (UI) controls for exploring code and data interactively. It is the easiest way to get started using IPython's widgets."
   ]
  },
  {
   "cell_type": "code",
   "execution_count": 12,
   "metadata": {},
   "outputs": [],
   "source": [
    "from __future__ import print_function\n",
    "from ipywidgets import interact, interactive, fixed, interact_manual\n",
    "import ipywidgets as widgets"
   ]
  },
  {
   "cell_type": "markdown",
   "metadata": {},
   "source": [
    "## Basic `interact`"
   ]
  },
  {
   "cell_type": "markdown",
   "metadata": {},
   "source": [
    "At the most basic level, `interact` autogenerates UI controls for function arguments, and then calls the function with those arguments when you manipulate the controls interactively. To use `interact`, you need to define a function that you want to explore. Here is a function that prints its only argument `x`."
   ]
  },
  {
   "cell_type": "code",
   "execution_count": 13,
   "metadata": {},
   "outputs": [],
   "source": [
    "def f(x):\n",
    "    return x"
   ]
  },
  {
   "cell_type": "markdown",
   "metadata": {},
   "source": [
    "When you pass this function as the first argument to `interact` along with an integer keyword argument (`x=10`), a slider is generated and bound to the function parameter."
   ]
  },
  {
   "cell_type": "code",
   "execution_count": 14,
   "metadata": {},
   "outputs": [
    {
     "data": {
      "application/vnd.jupyter.widget-view+json": {
       "model_id": "fe6b93347ea94de5b43d514f9236f84a",
       "version_major": 2,
       "version_minor": 0
      },
      "text/plain": [
       "interactive(children=(IntSlider(value=10, description='x', max=30, min=-10), Output()), _dom_classes=('widget-…"
      ]
     },
     "metadata": {},
     "output_type": "display_data"
    }
   ],
   "source": [
    "interact(f, x=10);"
   ]
  },
  {
   "cell_type": "markdown",
   "metadata": {},
   "source": [
    "When you move the slider, the function is called, which prints the current value of `x`.\n",
    "\n",
    "If you pass `True` or `False`, `interact` will generate a checkbox:"
   ]
  },
  {
   "cell_type": "code",
   "execution_count": 15,
   "metadata": {},
   "outputs": [
    {
     "data": {
      "application/vnd.jupyter.widget-view+json": {
       "model_id": "87887190d7f94d798769b91db14acf11",
       "version_major": 2,
       "version_minor": 0
      },
      "text/plain": [
       "interactive(children=(Checkbox(value=True, description='x'), Output()), _dom_classes=('widget-interact',))"
      ]
     },
     "metadata": {},
     "output_type": "display_data"
    }
   ],
   "source": [
    "interact(f, x=True);"
   ]
  },
  {
   "cell_type": "markdown",
   "metadata": {},
   "source": [
    "If you pass a string, `interact` will generate a text area."
   ]
  },
  {
   "cell_type": "code",
   "execution_count": 16,
   "metadata": {},
   "outputs": [
    {
     "data": {
      "application/vnd.jupyter.widget-view+json": {
       "model_id": "9662925490d544dbbace3b772a72d990",
       "version_major": 2,
       "version_minor": 0
      },
      "text/plain": [
       "interactive(children=(Text(value='Hi there!', description='x'), Output()), _dom_classes=('widget-interact',))"
      ]
     },
     "metadata": {},
     "output_type": "display_data"
    }
   ],
   "source": [
    "interact(f, x='Hi there!');"
   ]
  },
  {
   "cell_type": "markdown",
   "metadata": {},
   "source": [
    "`interact` can also be used as a decorator. This allows you to define a function and interact with it in a single shot. As this example shows, `interact` also works with functions that have multiple arguments."
   ]
  },
  {
   "cell_type": "code",
   "execution_count": 17,
   "metadata": {},
   "outputs": [
    {
     "data": {
      "application/vnd.jupyter.widget-view+json": {
       "model_id": "cc2f9a0ccee44646aaa6eb4b2877b2c3",
       "version_major": 2,
       "version_minor": 0
      },
      "text/plain": [
       "interactive(children=(Checkbox(value=True, description='x'), FloatSlider(value=1.0, description='y', max=3.0, …"
      ]
     },
     "metadata": {},
     "output_type": "display_data"
    }
   ],
   "source": [
    "@interact(x=True, y=1.0)\n",
    "def g(x, y):\n",
    "    return (x, y)"
   ]
  },
  {
   "cell_type": "markdown",
   "metadata": {},
   "source": [
    "## Linking two similar widgets"
   ]
  },
  {
   "cell_type": "markdown",
   "metadata": {
    "slideshow": {
     "slide_type": "slide"
    }
   },
   "source": [
    "If you need to display the same value two different ways, you'll have to use two different widgets.  Instead of attempting to manually synchronize the values of the two widgets, you can use the `link`  or `jslink` function to link two properties together (the difference between these is discussed in [Widget Events](Widget Events.ipynb)).  Below, the values of two widgets are linked together."
   ]
  },
  {
   "cell_type": "code",
   "execution_count": 18,
   "metadata": {},
   "outputs": [
    {
     "data": {
      "application/vnd.jupyter.widget-view+json": {
       "model_id": "3a100b2991b94af0b1eafd2ca254d7f9",
       "version_major": 2,
       "version_minor": 0
      },
      "text/plain": [
       "FloatText(value=0.0)"
      ]
     },
     "metadata": {},
     "output_type": "display_data"
    },
    {
     "data": {
      "application/vnd.jupyter.widget-view+json": {
       "model_id": "22b222ec0baa4cb883053a8c94206399",
       "version_major": 2,
       "version_minor": 0
      },
      "text/plain": [
       "FloatSlider(value=0.0)"
      ]
     },
     "metadata": {},
     "output_type": "display_data"
    }
   ],
   "source": [
    "a = widgets.FloatText()\n",
    "b = widgets.FloatSlider()\n",
    "display(a,b)\n",
    "\n",
    "mylink = widgets.jslink((a, 'value'), (b, 'value'))"
   ]
  },
  {
   "cell_type": "markdown",
   "metadata": {},
   "source": [
    "### Unlinking widgets"
   ]
  },
  {
   "cell_type": "markdown",
   "metadata": {
    "slideshow": {
     "slide_type": "slide"
    }
   },
   "source": [
    "Unlinking the widgets is simple.  All you have to do is call `.unlink` on the link object.  Try changing one of the widgets above after unlinking to see that they can be independently changed."
   ]
  },
  {
   "cell_type": "code",
   "execution_count": 19,
   "metadata": {},
   "outputs": [],
   "source": [
    "mylink.unlink()"
   ]
  },
  {
   "cell_type": "markdown",
   "metadata": {},
   "source": [
    "## Widget abbreviations"
   ]
  },
  {
   "cell_type": "markdown",
   "metadata": {},
   "source": [
    "When you pass an integer-valued keyword argument of `10` (`x=10`) to `interact`, it generates an integer-valued slider control with a range of `[-10,+3*10]`. In this case, `10` is an *abbreviation* for an actual slider widget:\n",
    "\n",
    "```python\n",
    "IntSlider(min=-10,max=30,step=1,value=10)\n",
    "```\n",
    "\n",
    "In fact, we can get the same result if we pass this `IntSlider` as the keyword argument for `x`:"
   ]
  },
  {
   "cell_type": "code",
   "execution_count": 20,
   "metadata": {},
   "outputs": [
    {
     "data": {
      "application/vnd.jupyter.widget-view+json": {
       "model_id": "c4d1225a56754a54b50fa93e3980b38a",
       "version_major": 2,
       "version_minor": 0
      },
      "text/plain": [
       "interactive(children=(IntSlider(value=10, description='x', max=30, min=-10), Output()), _dom_classes=('widget-…"
      ]
     },
     "metadata": {},
     "output_type": "display_data"
    }
   ],
   "source": [
    "interact(f, x=widgets.IntSlider(min=-10,max=30,step=1,value=10));"
   ]
  },
  {
   "cell_type": "markdown",
   "metadata": {},
   "source": [
    "This examples clarifies how `interact` proceses its keyword arguments:\n",
    "\n",
    "1. If the keyword argument is a `Widget` instance with a `value` attribute, that widget is used. Any widget with a `value` attribute can be used, even custom ones.\n",
    "2. Otherwise, the value is treated as a *widget abbreviation* that is converted to a widget before it is used.\n",
    "\n",
    "The following table gives an overview of different widget abbreviations:\n",
    "\n",
    "<table class=\"table table-condensed table-bordered\">\n",
    "  <tr><td><strong>Keyword argument</strong></td><td><strong>Widget</strong></td></tr>  \n",
    "  <tr><td>`True` or `False`</td><td>Checkbox</td></tr>  \n",
    "  <tr><td>`'Hi there'`</td><td>Text</td></tr>\n",
    "  <tr><td>`value` or `(min,max)` or `(min,max,step)` if integers are passed</td><td>IntSlider</td></tr>\n",
    "  <tr><td>`value` or `(min,max)` or `(min,max,step)` if floats are passed</td><td>FloatSlider</td></tr>\n",
    "  <tr><td>`['orange','apple']` or `{'one':1,'two':2}`</td><td>Dropdown</td></tr>\n",
    "</table>\n",
    "Note that a dropdown is used if a list or a dict is given (signifying discrete choices), and a slider is used if a tuple is given (signifying a range)."
   ]
  },
  {
   "cell_type": "markdown",
   "metadata": {},
   "source": [
    "You have seen how the checkbox and textarea widgets work above. Here, more details about the different abbreviations for sliders and dropdowns are given.\n",
    "\n",
    "If a 2-tuple of integers is passed `(min,max)`, an integer-valued slider is produced with those minimum and maximum values (inclusively). In this case, the default step size of `1` is used."
   ]
  },
  {
   "cell_type": "code",
   "execution_count": 21,
   "metadata": {},
   "outputs": [
    {
     "data": {
      "application/vnd.jupyter.widget-view+json": {
       "model_id": "70b0aaa60efc47bf89d9059dc1462a0a",
       "version_major": 2,
       "version_minor": 0
      },
      "text/plain": [
       "interactive(children=(IntSlider(value=2, description='x', max=4), Output()), _dom_classes=('widget-interact',)…"
      ]
     },
     "metadata": {},
     "output_type": "display_data"
    }
   ],
   "source": [
    "interact(f, x=(0,4));"
   ]
  },
  {
   "cell_type": "markdown",
   "metadata": {},
   "source": [
    "If a 3-tuple of integers is passed `(min,max,step)`, the step size can also be set."
   ]
  },
  {
   "cell_type": "code",
   "execution_count": 22,
   "metadata": {},
   "outputs": [
    {
     "data": {
      "application/vnd.jupyter.widget-view+json": {
       "model_id": "89c41cae7396470193162300a3aa898a",
       "version_major": 2,
       "version_minor": 0
      },
      "text/plain": [
       "interactive(children=(IntSlider(value=4, description='x', max=8, step=2), Output()), _dom_classes=('widget-int…"
      ]
     },
     "metadata": {},
     "output_type": "display_data"
    }
   ],
   "source": [
    "interact(f, x=(0,8,2));"
   ]
  },
  {
   "cell_type": "markdown",
   "metadata": {},
   "source": [
    "A float-valued slider is produced if the elements of the tuples are floats. Here the minimum is `0.0`, the maximum is `10.0` and step size is `0.1` (the default)."
   ]
  },
  {
   "cell_type": "code",
   "execution_count": 23,
   "metadata": {},
   "outputs": [
    {
     "data": {
      "application/vnd.jupyter.widget-view+json": {
       "model_id": "9cc3de87b3ad428da98a0c7ba87402b3",
       "version_major": 2,
       "version_minor": 0
      },
      "text/plain": [
       "interactive(children=(FloatSlider(value=5.0, description='x', max=10.0), Output()), _dom_classes=('widget-inte…"
      ]
     },
     "metadata": {},
     "output_type": "display_data"
    }
   ],
   "source": [
    "interact(f, x=(0.0,10.0));"
   ]
  },
  {
   "cell_type": "markdown",
   "metadata": {},
   "source": [
    "The step size can be changed by passing a third element in the tuple."
   ]
  },
  {
   "cell_type": "code",
   "execution_count": 24,
   "metadata": {},
   "outputs": [
    {
     "data": {
      "application/vnd.jupyter.widget-view+json": {
       "model_id": "ede2e80beee94c598d75418817d733b4",
       "version_major": 2,
       "version_minor": 0
      },
      "text/plain": [
       "interactive(children=(FloatSlider(value=5.0, description='x', max=10.0, step=0.01), Output()), _dom_classes=('…"
      ]
     },
     "metadata": {},
     "output_type": "display_data"
    }
   ],
   "source": [
    "interact(f, x=(0.0,10.0,0.01));"
   ]
  },
  {
   "cell_type": "markdown",
   "metadata": {},
   "source": [
    "For both integer and float-valued sliders, you can pick the initial value of the widget by passing a default keyword argument to the underlying Python function. Here we set the initial value of a float slider to `5.5`."
   ]
  },
  {
   "cell_type": "code",
   "execution_count": 25,
   "metadata": {},
   "outputs": [
    {
     "data": {
      "application/vnd.jupyter.widget-view+json": {
       "model_id": "4e3caef5b67c4282b3688bcb7bdecd0f",
       "version_major": 2,
       "version_minor": 0
      },
      "text/plain": [
       "interactive(children=(FloatSlider(value=5.5, description='x', max=20.0, step=0.5), Output()), _dom_classes=('w…"
      ]
     },
     "metadata": {},
     "output_type": "display_data"
    }
   ],
   "source": [
    "@interact(x=(0.0,20.0,0.5))\n",
    "def h(x=5.5):\n",
    "    return x"
   ]
  },
  {
   "cell_type": "markdown",
   "metadata": {},
   "source": [
    "Dropdown menus are constructed by passing a list of strings. In this case, the strings are both used as the names in the dropdown menu UI and passed to the underlying Python function."
   ]
  },
  {
   "cell_type": "code",
   "execution_count": 26,
   "metadata": {},
   "outputs": [
    {
     "data": {
      "application/vnd.jupyter.widget-view+json": {
       "model_id": "d09cb60b683f45e297626038567a074e",
       "version_major": 2,
       "version_minor": 0
      },
      "text/plain": [
       "interactive(children=(Dropdown(description='x', options=('apples', 'oranges'), value='apples'), Output()), _do…"
      ]
     },
     "metadata": {},
     "output_type": "display_data"
    }
   ],
   "source": [
    "interact(f, x=['apples','oranges']);"
   ]
  },
  {
   "cell_type": "markdown",
   "metadata": {},
   "source": [
    "If you want a dropdown menu that passes non-string values to the Python function, you can pass a list of (label, value) pairs."
   ]
  },
  {
   "cell_type": "code",
   "execution_count": 27,
   "metadata": {},
   "outputs": [
    {
     "data": {
      "application/vnd.jupyter.widget-view+json": {
       "model_id": "3b35b481fadb4122ab20f2b24a41e783",
       "version_major": 2,
       "version_minor": 0
      },
      "text/plain": [
       "interactive(children=(Dropdown(description='x', options=(('one', 10), ('two', 20)), value=10), Output()), _dom…"
      ]
     },
     "metadata": {},
     "output_type": "display_data"
    }
   ],
   "source": [
    "interact(f, x=[('one', 10), ('two', 20)]);"
   ]
  },
  {
   "cell_type": "markdown",
   "metadata": {},
   "source": [
    "## `interactive`"
   ]
  },
  {
   "cell_type": "markdown",
   "metadata": {},
   "source": [
    "In addition to `interact`, IPython provides another function, `interactive`, that is useful when you want to reuse the widgets that are produced or access the data that is bound to the UI controls.\n",
    "\n",
    "Note that unlike `interact`, the return value of the function will not be displayed automatically, but you can display a value inside the function with `IPython.display.display`."
   ]
  },
  {
   "cell_type": "markdown",
   "metadata": {},
   "source": [
    "Here is a function that returns the sum of its two arguments and displays them. The display line may be omitted if you don't want to show the result of the function."
   ]
  },
  {
   "cell_type": "code",
   "execution_count": 28,
   "metadata": {},
   "outputs": [],
   "source": [
    "from IPython.display import display\n",
    "def f(a, b):\n",
    "    display(a + b)\n",
    "    return a+b"
   ]
  },
  {
   "cell_type": "markdown",
   "metadata": {},
   "source": [
    "Unlike `interact`, `interactive` returns a `Widget` instance rather than immediately displaying the widget."
   ]
  },
  {
   "cell_type": "code",
   "execution_count": 29,
   "metadata": {},
   "outputs": [],
   "source": [
    "w = interactive(f, a=10, b=20)"
   ]
  },
  {
   "cell_type": "markdown",
   "metadata": {},
   "source": [
    "The widget is an `interactive`, a subclass of `VBox`, which is a container for other widgets."
   ]
  },
  {
   "cell_type": "code",
   "execution_count": 30,
   "metadata": {},
   "outputs": [
    {
     "data": {
      "text/plain": [
       "ipywidgets.widgets.interaction.interactive"
      ]
     },
     "execution_count": 30,
     "metadata": {},
     "output_type": "execute_result"
    }
   ],
   "source": [
    "type(w)"
   ]
  },
  {
   "cell_type": "markdown",
   "metadata": {},
   "source": [
    "The children of the `interactive` are two integer-valued sliders and an output widget, produced by the widget abbreviations above."
   ]
  },
  {
   "cell_type": "code",
   "execution_count": 31,
   "metadata": {},
   "outputs": [
    {
     "data": {
      "text/plain": [
       "(IntSlider(value=10, description='a', max=30, min=-10),\n",
       " IntSlider(value=20, description='b', max=60, min=-20),\n",
       " Output())"
      ]
     },
     "execution_count": 31,
     "metadata": {},
     "output_type": "execute_result"
    }
   ],
   "source": [
    "w.children"
   ]
  },
  {
   "cell_type": "markdown",
   "metadata": {},
   "source": [
    "To actually display the widgets, you can use IPython's `display` function."
   ]
  },
  {
   "cell_type": "code",
   "execution_count": 32,
   "metadata": {},
   "outputs": [
    {
     "data": {
      "application/vnd.jupyter.widget-view+json": {
       "model_id": "98744818ff1945cdb5211eb06ef83a70",
       "version_major": 2,
       "version_minor": 0
      },
      "text/plain": [
       "interactive(children=(IntSlider(value=10, description='a', max=30, min=-10), IntSlider(value=20, description='…"
      ]
     },
     "metadata": {},
     "output_type": "display_data"
    }
   ],
   "source": [
    "display(w)"
   ]
  },
  {
   "cell_type": "markdown",
   "metadata": {},
   "source": [
    "At this point, the UI controls work just like they would if `interact` had been used. You can manipulate them interactively and the function will be called. However, the widget instance returned by `interactive` also gives you access to the current keyword arguments and return value of the underlying Python function. \n",
    "\n",
    "Here are the current keyword arguments. If you rerun this cell after manipulating the sliders, the values will have changed."
   ]
  },
  {
   "cell_type": "code",
   "execution_count": 33,
   "metadata": {},
   "outputs": [
    {
     "data": {
      "text/plain": [
       "{'a': 10, 'b': 20}"
      ]
     },
     "execution_count": 33,
     "metadata": {},
     "output_type": "execute_result"
    }
   ],
   "source": [
    "w.kwargs"
   ]
  },
  {
   "cell_type": "markdown",
   "metadata": {},
   "source": [
    "Here is the current return value of the function."
   ]
  },
  {
   "cell_type": "code",
   "execution_count": 34,
   "metadata": {},
   "outputs": [
    {
     "data": {
      "text/plain": [
       "30"
      ]
     },
     "execution_count": 34,
     "metadata": {},
     "output_type": "execute_result"
    }
   ],
   "source": [
    "w.result"
   ]
  },
  {
   "cell_type": "markdown",
   "metadata": {},
   "source": [
    "### `interactive_output`\n",
    "\n",
    "`interactive_output` provides additional flexibility: you can control how the UI elements are laid out.\n",
    "\n",
    "Unlike `interact`, `interactive`, and `interact_manual`, `interactive_output` does not generate a user interface for the widgets. This is powerful, because it means you can create a widget, put it in a box, and then pass the widget to `interactive_output`, and have control over the widget and its layout."
   ]
  },
  {
   "cell_type": "code",
   "execution_count": 35,
   "metadata": {},
   "outputs": [
    {
     "data": {
      "application/vnd.jupyter.widget-view+json": {
       "model_id": "d52426a518434cf78cf4f42f9d49d824",
       "version_major": 2,
       "version_minor": 0
      },
      "text/plain": [
       "HBox(children=(IntSlider(value=0), IntSlider(value=0), IntSlider(value=0)))"
      ]
     },
     "metadata": {},
     "output_type": "display_data"
    },
    {
     "data": {
      "application/vnd.jupyter.widget-view+json": {
       "model_id": "a23f2c90afa7415aa6dfef8a9b90789e",
       "version_major": 2,
       "version_minor": 0
      },
      "text/plain": [
       "Output()"
      ]
     },
     "metadata": {},
     "output_type": "display_data"
    }
   ],
   "source": [
    "a = widgets.IntSlider()\n",
    "b = widgets.IntSlider()\n",
    "c = widgets.IntSlider()\n",
    "ui = widgets.HBox([a, b, c])\n",
    "def f(a, b, c):\n",
    "    print((a, b, c))\n",
    "\n",
    "out = widgets.interactive_output(f, {'a': a, 'b': b, 'c': c})\n",
    "\n",
    "display(ui, out)"
   ]
  },
  {
   "cell_type": "markdown",
   "metadata": {},
   "source": [
    "## Arguments that are dependent on each other"
   ]
  },
  {
   "cell_type": "markdown",
   "metadata": {},
   "source": [
    "Arguments that are dependent on each other can be expressed manually using `observe`.  See the following example, where one variable is used to describe the bounds of another.  For more information, please see the [widget events example notebook](./Widget Events.ipynb)."
   ]
  },
  {
   "cell_type": "code",
   "execution_count": 36,
   "metadata": {},
   "outputs": [
    {
     "data": {
      "application/vnd.jupyter.widget-view+json": {
       "model_id": "cff2120225f34fcabd81b22e5c10409c",
       "version_major": 2,
       "version_minor": 0
      },
      "text/plain": [
       "interactive(children=(FloatSlider(value=0.0, description='x', max=10.0, step=0.05), FloatSlider(value=5.0, des…"
      ]
     },
     "metadata": {},
     "output_type": "display_data"
    }
   ],
   "source": [
    "x_widget = widgets.FloatSlider(min=0.0, max=10.0, step=0.05)\n",
    "y_widget = widgets.FloatSlider(min=0.5, max=10.0, step=0.05, value=5.0)\n",
    "\n",
    "def update_x_range(*args):\n",
    "    x_widget.max = 2.0 * y_widget.value\n",
    "y_widget.observe(update_x_range, 'value')\n",
    "\n",
    "def printer(x, y):\n",
    "    print(x, y)\n",
    "interact(printer,x=x_widget, y=y_widget);"
   ]
  },
  {
   "cell_type": "markdown",
   "metadata": {},
   "source": [
    "## Controlling a plot\n",
    "\n"
   ]
  },
  {
   "cell_type": "code",
   "execution_count": 37,
   "metadata": {
    "scrolled": true
   },
   "outputs": [
    {
     "data": {
      "application/vnd.jupyter.widget-view+json": {
       "model_id": "4322194c2a314500b1b0165f0b44cbc0",
       "version_major": 2,
       "version_minor": 0
      },
      "text/plain": [
       "interactive(children=(FloatSlider(value=0.0, description='m', max=2.0, min=-2.0), FloatSlider(value=0.0, descr…"
      ]
     },
     "metadata": {},
     "output_type": "display_data"
    }
   ],
   "source": [
    "%matplotlib inline\n",
    "from ipywidgets import interactive\n",
    "import matplotlib.pyplot as plt\n",
    "import numpy as np\n",
    "\n",
    "def f(m, b):\n",
    "    plt.figure(2)\n",
    "    x = np.linspace(-10, 10, num=1000)\n",
    "    plt.plot(x, m * x + b)\n",
    "    plt.ylim(-5, 5)\n",
    "    plt.show()\n",
    "\n",
    "interactive_plot = interactive(f, m=(-2.0, 2.0), b=(-3, 3, 0.5))\n",
    "output = interactive_plot.children[-1]\n",
    "output.layout.height = '350px'\n",
    "interactive_plot"
   ]
  },
  {
   "cell_type": "markdown",
   "metadata": {},
   "source": [
    "# More widgets\n",
    "See [here](https://ipywidgets.readthedocs.io/en/stable/examples/Widget%20List.html) for a list of ipywidgets. \n",
    "\n",
    "They are demonstrated in a notebook that was converted to a web page. Click on the \"Edit in GitHub\" button to go to the notebook."
   ]
  },
  {
   "cell_type": "code",
   "execution_count": null,
   "metadata": {},
   "outputs": [],
   "source": []
  }
 ],
 "metadata": {
  "kernelspec": {
   "display_name": "Python 3",
   "language": "python",
   "name": "python3"
  },
  "language_info": {
   "codemirror_mode": {
    "name": "ipython",
    "version": 3
   },
   "file_extension": ".py",
   "mimetype": "text/x-python",
   "name": "python",
   "nbconvert_exporter": "python",
   "pygments_lexer": "ipython3",
   "version": "3.6.7"
  },
  "widgets": {
   "application/vnd.jupyter.widget-state+json": {
    "state": {
     "00c6df02e73342ca8f2183ea15025d52": {
      "model_module": "@jupyter-widgets/controls",
      "model_module_version": "1.4.0",
      "model_name": "VBoxModel",
      "state": {
       "_dom_classes": [
        "widget-interact"
       ],
       "children": [
        "IPY_MODEL_5c990ddbb95046389664cec7035382ae",
        "IPY_MODEL_9bcfe85dc67940ba8a33fb3b7738f0f4"
       ],
       "layout": "IPY_MODEL_d38ecb1814784d69a206c6dbf149a91a"
      }
     },
     "0167387cc74049e6b5b76f399342611c": {
      "model_module": "@jupyter-widgets/output",
      "model_module_version": "1.0.0",
      "model_name": "OutputModel",
      "state": {
       "layout": "IPY_MODEL_c92c4ad5e1944240bc70b76228895690",
       "outputs": [
        {
         "data": {
          "text/plain": "10"
         },
         "metadata": {},
         "output_type": "display_data"
        }
       ]
      }
     },
     "01bf1a39bf26433a9734c0d0a3fb1ea7": {
      "model_module": "@jupyter-widgets/controls",
      "model_module_version": "1.4.0",
      "model_name": "SliderStyleModel",
      "state": {
       "description_width": ""
      }
     },
     "01ce37939caf4fa393f77cc6a82a3c7f": {
      "model_module": "@jupyter-widgets/output",
      "model_module_version": "1.0.0",
      "model_name": "OutputModel",
      "state": {
       "layout": "IPY_MODEL_4ee328488fb645dda46ebee35a38f4fb",
       "outputs": [
        {
         "data": {
          "text/plain": "'Hi there!'"
         },
         "metadata": {},
         "output_type": "display_data"
        }
       ]
      }
     },
     "02486bee1b6f40fcb94816811fb6a34d": {
      "model_module": "@jupyter-widgets/base",
      "model_module_version": "1.1.0",
      "model_name": "LayoutModel",
      "state": {}
     },
     "027fdc4bd5074e66adfbb6732874ef49": {
      "model_module": "@jupyter-widgets/controls",
      "model_module_version": "1.4.0",
      "model_name": "FloatSliderModel",
      "state": {
       "description": "m",
       "layout": "IPY_MODEL_7d522b95d9f5405c970cd20c796cade2",
       "max": 2,
       "min": -2,
       "step": 0.1,
       "style": "IPY_MODEL_76066491075142a5a5374c5c3861aed4"
      }
     },
     "0594a48a01524ecfb03b75430870ff01": {
      "model_module": "@jupyter-widgets/controls",
      "model_module_version": "1.4.0",
      "model_name": "SliderStyleModel",
      "state": {
       "description_width": ""
      }
     },
     "05b0702daf424ad789fe8d9d6e83336a": {
      "model_module": "@jupyter-widgets/controls",
      "model_module_version": "1.4.0",
      "model_name": "VBoxModel",
      "state": {
       "_dom_classes": [
        "widget-interact"
       ],
       "children": [
        "IPY_MODEL_087925f1efc04e72ac42e1d74d0b46ff",
        "IPY_MODEL_d81e4389c79d4208bf378ae04d2e688b",
        "IPY_MODEL_bb2355a3b29846418b505e3251267762"
       ],
       "layout": "IPY_MODEL_a7161c5f033d43a9b0c74045f911075f"
      }
     },
     "05ffb5b9ba8042e8b0aae2e8db329a65": {
      "model_module": "@jupyter-widgets/base",
      "model_module_version": "1.1.0",
      "model_name": "LayoutModel",
      "state": {}
     },
     "06e90021ca01419c89be5685aaabc2a7": {
      "model_module": "@jupyter-widgets/output",
      "model_module_version": "1.0.0",
      "model_name": "OutputModel",
      "state": {
       "layout": "IPY_MODEL_ea54de5f9937488cb8664170ee85adbb",
       "outputs": [
        {
         "data": {
          "text/plain": "5.0"
         },
         "metadata": {},
         "output_type": "display_data"
        }
       ]
      }
     },
     "075b550d7071452080eef4557538b33a": {
      "model_module": "@jupyter-widgets/controls",
      "model_module_version": "1.4.0",
      "model_name": "TextModel",
      "state": {
       "description": "x",
       "layout": "IPY_MODEL_a6e5164f75ee4be2abe454ee41afe4b8",
       "style": "IPY_MODEL_5e5636faeb0145fa9528712f44b39e8b",
       "value": "Hi there!"
      }
     },
     "0786b892519440d09487064cb11d907f": {
      "model_module": "@jupyter-widgets/controls",
      "model_module_version": "1.4.0",
      "model_name": "VBoxModel",
      "state": {
       "_dom_classes": [
        "widget-interact"
       ],
       "children": [
        "IPY_MODEL_d708c16ad4e645a5bedad7c85a666544",
        "IPY_MODEL_fd767d0532654a2abbbf19cb575bf0a9",
        "IPY_MODEL_3fdfc934d2224cd581a8360a7518d8b6"
       ],
       "layout": "IPY_MODEL_f5f267b9582e4bdbb80f5e5313b94e8f"
      }
     },
     "087925f1efc04e72ac42e1d74d0b46ff": {
      "model_module": "@jupyter-widgets/controls",
      "model_module_version": "1.4.0",
      "model_name": "IntSliderModel",
      "state": {
       "description": "a",
       "layout": "IPY_MODEL_e10eb4630aee47699d6870f9d69653b6",
       "max": 30,
       "min": -10,
       "style": "IPY_MODEL_be62be2500db4f7199ff51d0c98925b4",
       "value": 10
      }
     },
     "0915bed033034002ac2481442b52dfc2": {
      "model_module": "@jupyter-widgets/base",
      "model_module_version": "1.1.0",
      "model_name": "LayoutModel",
      "state": {}
     },
     "0945d9ba1db242f7996cd93de82707b0": {
      "model_module": "@jupyter-widgets/controls",
      "model_module_version": "1.4.0",
      "model_name": "SliderStyleModel",
      "state": {
       "description_width": ""
      }
     },
     "0958092831da4984b8ea57cec45d84c0": {
      "model_module": "@jupyter-widgets/base",
      "model_module_version": "1.1.0",
      "model_name": "LayoutModel",
      "state": {}
     },
     "095ee59539354749ab8e28dd9c18cf9a": {
      "model_module": "@jupyter-widgets/base",
      "model_module_version": "1.1.0",
      "model_name": "LayoutModel",
      "state": {}
     },
     "09ad3046bcec4f739c1aec28f8bb8596": {
      "model_module": "@jupyter-widgets/controls",
      "model_module_version": "1.4.0",
      "model_name": "SliderStyleModel",
      "state": {
       "description_width": ""
      }
     },
     "0b6b1af2bebf43bc8f756feebfd5a9bd": {
      "model_module": "@jupyter-widgets/controls",
      "model_module_version": "1.4.0",
      "model_name": "CheckboxModel",
      "state": {
       "description": "x",
       "disabled": false,
       "layout": "IPY_MODEL_8c644683047e4007b2d83cdf878e424c",
       "style": "IPY_MODEL_71b49c5719a542dea8677fa134d33ad8",
       "value": true
      }
     },
     "0cb23651e77d410eb17b687f8cb8c865": {
      "model_module": "@jupyter-widgets/controls",
      "model_module_version": "1.4.0",
      "model_name": "DescriptionStyleModel",
      "state": {
       "description_width": ""
      }
     },
     "0eafa181aecd4b9bba70484857aef6dd": {
      "model_module": "@jupyter-widgets/output",
      "model_module_version": "1.0.0",
      "model_name": "OutputModel",
      "state": {
       "layout": "IPY_MODEL_4e71ebc08b2f4f1d94344830ec314ff9",
       "outputs": [
        {
         "data": {
          "text/plain": "(True, 1.0)"
         },
         "metadata": {},
         "output_type": "display_data"
        }
       ]
      }
     },
     "0f144dc92a484ad091388c9be03b2d2e": {
      "model_module": "@jupyter-widgets/base",
      "model_module_version": "1.1.0",
      "model_name": "LayoutModel",
      "state": {}
     },
     "1071d6ed008d4d31b50eb45324e3268a": {
      "model_module": "@jupyter-widgets/controls",
      "model_module_version": "1.4.0",
      "model_name": "ButtonStyleModel",
      "state": {}
     },
     "10e9bcf4b16e4f6b8c5d81cabaeeee55": {
      "model_module": "@jupyter-widgets/output",
      "model_module_version": "1.0.0",
      "model_name": "OutputModel",
      "state": {
       "layout": "IPY_MODEL_db7d7fab789b40faa0f44d9d489ebda1",
       "outputs": [
        {
         "data": {
          "text/plain": "5.0"
         },
         "metadata": {},
         "output_type": "display_data"
        }
       ]
      }
     },
     "124088a0e8eb49768f3a1ee5e2b6b5e7": {
      "model_module": "@jupyter-widgets/output",
      "model_module_version": "1.0.0",
      "model_name": "OutputModel",
      "state": {
       "layout": "IPY_MODEL_d1841751618b4f64a5d8aff7437d9146",
       "outputs": [
        {
         "data": {
          "text/plain": "'Hi there!'"
         },
         "metadata": {},
         "output_type": "display_data"
        }
       ]
      }
     },
     "12574ead8f1e4246861ef090c5a3cc64": {
      "model_module": "@jupyter-widgets/controls",
      "model_module_version": "1.4.0",
      "model_name": "FloatSliderModel",
      "state": {
       "description": "x",
       "layout": "IPY_MODEL_9cdd3bd3158c4249ad1a08090297ac19",
       "max": 20,
       "step": 0.5,
       "style": "IPY_MODEL_2c63cad5cb7541e2b8fcecb7317587b1",
       "value": 5.5
      }
     },
     "15163972fb56426aa3ae2c77f72d0242": {
      "model_module": "@jupyter-widgets/controls",
      "model_module_version": "1.4.0",
      "model_name": "VBoxModel",
      "state": {
       "_dom_classes": [
        "widget-interact"
       ],
       "children": [
        "IPY_MODEL_e47d8ed3d8b64c33b7be6d6fbb5c8043",
        "IPY_MODEL_efa6dff08d4042cfa4cad4ea2cd9b0d3"
       ],
       "layout": "IPY_MODEL_f0c2430c49964174b2b98c396ab47f8e"
      }
     },
     "1561ec3b83544f6da52b54b81e03424b": {
      "model_module": "@jupyter-widgets/base",
      "model_module_version": "1.1.0",
      "model_name": "LayoutModel",
      "state": {}
     },
     "15a62077a15c41e0a53bd9ead78f2004": {
      "model_module": "@jupyter-widgets/controls",
      "model_module_version": "1.4.0",
      "model_name": "SliderStyleModel",
      "state": {
       "description_width": ""
      }
     },
     "161795d2aacc4dd4b6d0ed6ebae0c9dd": {
      "model_module": "@jupyter-widgets/base",
      "model_module_version": "1.1.0",
      "model_name": "LayoutModel",
      "state": {}
     },
     "16cdb235cc554822b97329b63e94d4d5": {
      "model_module": "@jupyter-widgets/controls",
      "model_module_version": "1.4.0",
      "model_name": "DropdownModel",
      "state": {
       "_options_labels": [
        "one",
        "two"
       ],
       "description": "x",
       "index": 0,
       "layout": "IPY_MODEL_331fa54206594f1481f3193dd3e56767",
       "style": "IPY_MODEL_f558da4bd74747df81d36c9a44e28df3"
      }
     },
     "1751078194964ba1a7fd4df6c48e1cba": {
      "model_module": "@jupyter-widgets/output",
      "model_module_version": "1.0.0",
      "model_name": "OutputModel",
      "state": {
       "layout": "IPY_MODEL_60aa7cd7ddc04d8b99ca422d81dc0f30",
       "outputs": [
        {
         "data": {
          "text/plain": "5.5"
         },
         "metadata": {},
         "output_type": "display_data"
        }
       ]
      }
     },
     "18cbb06d65eb4a16908365899cb0aba3": {
      "model_module": "@jupyter-widgets/controls",
      "model_module_version": "1.4.0",
      "model_name": "SliderStyleModel",
      "state": {
       "description_width": ""
      }
     },
     "198ec7b9150644ba8d2ba9d9ba2c5148": {
      "model_module": "@jupyter-widgets/controls",
      "model_module_version": "1.4.0",
      "model_name": "SliderStyleModel",
      "state": {
       "description_width": ""
      }
     },
     "19a38ad4e60f4e7ca1290008f58ebd40": {
      "model_module": "@jupyter-widgets/controls",
      "model_module_version": "1.4.0",
      "model_name": "SliderStyleModel",
      "state": {
       "description_width": ""
      }
     },
     "1bdea818a8dd43cbaa6d9bab288b78fa": {
      "model_module": "@jupyter-widgets/base",
      "model_module_version": "1.1.0",
      "model_name": "LayoutModel",
      "state": {}
     },
     "1c4e17ab4e1c427cb043fcdba1f29ed2": {
      "model_module": "@jupyter-widgets/base",
      "model_module_version": "1.1.0",
      "model_name": "LayoutModel",
      "state": {}
     },
     "1d0fc2407f4c423c92d0f341cb067f40": {
      "model_module": "@jupyter-widgets/base",
      "model_module_version": "1.1.0",
      "model_name": "LayoutModel",
      "state": {}
     },
     "1ed79e95f9d344b8b6474a0049d49ab1": {
      "model_module": "@jupyter-widgets/controls",
      "model_module_version": "1.4.0",
      "model_name": "VBoxModel",
      "state": {
       "_dom_classes": [
        "widget-interact"
       ],
       "children": [
        "IPY_MODEL_a8c5697bdc98492994605224daf22010",
        "IPY_MODEL_758d3373c7a2426dbf14648ce970fbab"
       ],
       "layout": "IPY_MODEL_8a86b279718b47e5bad34a004e806b9b"
      }
     },
     "1fdbd69a88684ee4b254ab6ce8d568e0": {
      "model_module": "@jupyter-widgets/base",
      "model_module_version": "1.1.0",
      "model_name": "LayoutModel",
      "state": {}
     },
     "222e7059bc3b42e7ad87230fcdf76ad7": {
      "model_module": "@jupyter-widgets/controls",
      "model_module_version": "1.4.0",
      "model_name": "VBoxModel",
      "state": {
       "_dom_classes": [
        "widget-interact"
       ],
       "children": [
        "IPY_MODEL_075b550d7071452080eef4557538b33a",
        "IPY_MODEL_124088a0e8eb49768f3a1ee5e2b6b5e7"
       ],
       "layout": "IPY_MODEL_bbd17a2eb5cb42dca9a9722623351b98"
      }
     },
     "223ad088ced145819dd25d13e14f4e00": {
      "model_module": "@jupyter-widgets/controls",
      "model_module_version": "1.4.0",
      "model_name": "VBoxModel",
      "state": {
       "_dom_classes": [
        "widget-interact"
       ],
       "children": [
        "IPY_MODEL_f8d77c653f4f4719b1071872033e862a",
        "IPY_MODEL_afbdafa5ee9044158749a7434202dec5"
       ],
       "layout": "IPY_MODEL_a89852a28fe84286b257911d1c2e997f"
      }
     },
     "22b222ec0baa4cb883053a8c94206399": {
      "model_module": "@jupyter-widgets/controls",
      "model_module_version": "1.4.0",
      "model_name": "FloatSliderModel",
      "state": {
       "layout": "IPY_MODEL_f214d6b566414689b109bcaf9ed02d67",
       "step": 0.1,
       "style": "IPY_MODEL_4d43ecf8cf5045f9bf88eb23d0711677"
      }
     },
     "24b23d4021b944a7a66d653aa197c6e0": {
      "model_module": "@jupyter-widgets/base",
      "model_module_version": "1.1.0",
      "model_name": "LayoutModel",
      "state": {}
     },
     "25382077986c42c68b02a22931922636": {
      "model_module": "@jupyter-widgets/base",
      "model_module_version": "1.1.0",
      "model_name": "LayoutModel",
      "state": {}
     },
     "2709f5bc99e44625976cab25175f3c2c": {
      "model_module": "@jupyter-widgets/base",
      "model_module_version": "1.1.0",
      "model_name": "LayoutModel",
      "state": {}
     },
     "2825044603bc4ca88b4e31fad6323de1": {
      "model_module": "@jupyter-widgets/controls",
      "model_module_version": "1.4.0",
      "model_name": "VBoxModel",
      "state": {
       "_dom_classes": [
        "widget-interact"
       ],
       "children": [
        "IPY_MODEL_2c1fcf1b2837474190e7f56c93ceac80",
        "IPY_MODEL_f66e2484398441d29868e1b00d491c5d",
        "IPY_MODEL_7636ebc78f1247b8bc797daa8679eb98"
       ],
       "layout": "IPY_MODEL_4178fb9cbcfe48c78c373c9a13793021"
      }
     },
     "28e9d8e2da314f638a482ac03e5b22d3": {
      "model_module": "@jupyter-widgets/controls",
      "model_module_version": "1.4.0",
      "model_name": "SliderStyleModel",
      "state": {
       "description_width": ""
      }
     },
     "2b6977e6da7c481b8b72e988420d4cb9": {
      "model_module": "@jupyter-widgets/controls",
      "model_module_version": "1.4.0",
      "model_name": "DescriptionStyleModel",
      "state": {
       "description_width": ""
      }
     },
     "2b7d818902bf4c50b666b97383261895": {
      "model_module": "@jupyter-widgets/output",
      "model_module_version": "1.0.0",
      "model_name": "OutputModel",
      "state": {
       "layout": "IPY_MODEL_acf33b64ea354c1d99556f51114b2264",
       "outputs": [
        {
         "data": {
          "text/plain": "4"
         },
         "metadata": {},
         "output_type": "display_data"
        }
       ]
      }
     },
     "2c1fcf1b2837474190e7f56c93ceac80": {
      "model_module": "@jupyter-widgets/controls",
      "model_module_version": "1.4.0",
      "model_name": "FloatSliderModel",
      "state": {
       "description": "i",
       "layout": "IPY_MODEL_2709f5bc99e44625976cab25175f3c2c",
       "max": 10000000,
       "min": 100000,
       "step": 100000,
       "style": "IPY_MODEL_663c0ff472394a05b9c5becc4abcd761",
       "value": 100000
      }
     },
     "2c63cad5cb7541e2b8fcecb7317587b1": {
      "model_module": "@jupyter-widgets/controls",
      "model_module_version": "1.4.0",
      "model_name": "SliderStyleModel",
      "state": {
       "description_width": ""
      }
     },
     "2cd495b8dfba40358c7e1a57d1c19549": {
      "model_module": "@jupyter-widgets/base",
      "model_module_version": "1.1.0",
      "model_name": "LayoutModel",
      "state": {}
     },
     "2de4eafb16f64f90a70a0cc210fd7762": {
      "model_module": "@jupyter-widgets/base",
      "model_module_version": "1.1.0",
      "model_name": "LayoutModel",
      "state": {}
     },
     "2e10a550995e4b828712a082a0ef1e82": {
      "model_module": "@jupyter-widgets/base",
      "model_module_version": "1.1.0",
      "model_name": "LayoutModel",
      "state": {}
     },
     "2f3f7efaeab342bebfecc96e621e345a": {
      "model_module": "@jupyter-widgets/controls",
      "model_module_version": "1.4.0",
      "model_name": "SliderStyleModel",
      "state": {
       "description_width": ""
      }
     },
     "30679fd7912545b4a192d91923c76831": {
      "model_module": "@jupyter-widgets/base",
      "model_module_version": "1.1.0",
      "model_name": "LayoutModel",
      "state": {}
     },
     "331fa54206594f1481f3193dd3e56767": {
      "model_module": "@jupyter-widgets/base",
      "model_module_version": "1.1.0",
      "model_name": "LayoutModel",
      "state": {}
     },
     "34a22df8ecc148e3bc23933eb959db20": {
      "model_module": "@jupyter-widgets/output",
      "model_module_version": "1.0.0",
      "model_name": "OutputModel",
      "state": {
       "layout": "IPY_MODEL_5593357426244c1696d7f2b18199d565",
       "outputs": [
        {
         "data": {
          "text/plain": "30"
         },
         "metadata": {},
         "output_type": "display_data"
        }
       ]
      }
     },
     "34c8fed8196d4fb6825fe503bf4690e6": {
      "model_module": "@jupyter-widgets/controls",
      "model_module_version": "1.4.0",
      "model_name": "SliderStyleModel",
      "state": {
       "description_width": ""
      }
     },
     "34e9eca67d87423a8019bb5e7cddea7f": {
      "model_module": "@jupyter-widgets/controls",
      "model_module_version": "1.4.0",
      "model_name": "FloatSliderModel",
      "state": {
       "description": "y",
       "layout": "IPY_MODEL_afc0cae1f84640fdaeb2123fb2d15fb5",
       "max": 3,
       "min": -1,
       "step": 0.1,
       "style": "IPY_MODEL_cfbe54fefdb44343a95023cfa476dac9",
       "value": 1
      }
     },
     "37204ea492d94bb5a437b781194d4af0": {
      "model_module": "@jupyter-widgets/output",
      "model_module_version": "1.0.0",
      "model_name": "OutputModel",
      "state": {
       "layout": "IPY_MODEL_f7aa92f05c1b4b85b0ac310426f58d7c",
       "outputs": [
        {
         "name": "stdout",
         "output_type": "stream",
         "text": "(0, 0, 0)\n"
        }
       ]
      }
     },
     "3892e4ccf3804360b20fd8fb9f79483f": {
      "model_module": "@jupyter-widgets/controls",
      "model_module_version": "1.4.0",
      "model_name": "DescriptionStyleModel",
      "state": {
       "description_width": ""
      }
     },
     "39ed90ded9044c25a02236de2b3a5037": {
      "model_module": "@jupyter-widgets/base",
      "model_module_version": "1.1.0",
      "model_name": "LayoutModel",
      "state": {}
     },
     "3a100b2991b94af0b1eafd2ca254d7f9": {
      "model_module": "@jupyter-widgets/controls",
      "model_module_version": "1.4.0",
      "model_name": "FloatTextModel",
      "state": {
       "layout": "IPY_MODEL_161795d2aacc4dd4b6d0ed6ebae0c9dd",
       "step": null,
       "style": "IPY_MODEL_75501bc8001d4e64874753a7743c6a47"
      }
     },
     "3a51b5e470ad4160ba3fcde266f0923d": {
      "model_module": "@jupyter-widgets/base",
      "model_module_version": "1.1.0",
      "model_name": "LayoutModel",
      "state": {}
     },
     "3b35b481fadb4122ab20f2b24a41e783": {
      "model_module": "@jupyter-widgets/controls",
      "model_module_version": "1.4.0",
      "model_name": "VBoxModel",
      "state": {
       "_dom_classes": [
        "widget-interact"
       ],
       "children": [
        "IPY_MODEL_dedf8f0f1c5849468f08fe290a287377",
        "IPY_MODEL_0167387cc74049e6b5b76f399342611c"
       ],
       "layout": "IPY_MODEL_93c9bd5ad0454482bb917b6f699aba7d"
      }
     },
     "3bc54f2937d143a5ab3e3f507a6ad73f": {
      "model_module": "@jupyter-widgets/base",
      "model_module_version": "1.1.0",
      "model_name": "LayoutModel",
      "state": {}
     },
     "3c3b6f95c8ff431981adbd153763c180": {
      "model_module": "@jupyter-widgets/controls",
      "model_module_version": "1.4.0",
      "model_name": "CheckboxModel",
      "state": {
       "description": "x",
       "disabled": false,
       "layout": "IPY_MODEL_5c4fe49015e34e8d9c834639ef3a1cfb",
       "style": "IPY_MODEL_0cb23651e77d410eb17b687f8cb8c865",
       "value": true
      }
     },
     "3c6bd07476cd4895b0ad5da6b2330d47": {
      "model_module": "@jupyter-widgets/controls",
      "model_module_version": "1.4.0",
      "model_name": "IntSliderModel",
      "state": {
       "description": "b",
       "layout": "IPY_MODEL_eed3960b15e24c7184551e100df18e29",
       "max": 60,
       "min": -20,
       "style": "IPY_MODEL_a9c4024b6d354536ab25ec4f60049cc6",
       "value": 20
      }
     },
     "3d464c0255e343eaad35ed5675bc1fe0": {
      "model_module": "@jupyter-widgets/base",
      "model_module_version": "1.1.0",
      "model_name": "LayoutModel",
      "state": {}
     },
     "3db10f71303a4eada3fd2e0a14d6962b": {
      "model_module": "@jupyter-widgets/controls",
      "model_module_version": "1.4.0",
      "model_name": "IntSliderModel",
      "state": {
       "description": "x",
       "layout": "IPY_MODEL_81576af681ea40a188a6e93f80b8d011",
       "max": 4,
       "style": "IPY_MODEL_88f3a6669cf8492689d2ff79897c4540",
       "value": 2
      }
     },
     "3e724742919144a08a2c9c88a170cd26": {
      "model_module": "@jupyter-widgets/controls",
      "model_module_version": "1.4.0",
      "model_name": "IntSliderModel",
      "state": {
       "layout": "IPY_MODEL_1fdbd69a88684ee4b254ab6ce8d568e0",
       "style": "IPY_MODEL_e06cf4d00b984cd89b460ab13321db49"
      }
     },
     "3fdfc934d2224cd581a8360a7518d8b6": {
      "model_module": "@jupyter-widgets/output",
      "model_module_version": "1.0.0",
      "model_name": "OutputModel",
      "state": {
       "layout": "IPY_MODEL_c295641d02b248809e00419c126c8da1",
       "outputs": [
        {
         "name": "stdout",
         "output_type": "stream",
         "text": "0.0 5.0\n"
        }
       ]
      }
     },
     "4046bb590921472cad4270ec31b603ed": {
      "model_module": "@jupyter-widgets/output",
      "model_module_version": "1.0.0",
      "model_name": "OutputModel",
      "state": {
       "layout": "IPY_MODEL_f13e3a632d434d6d9c213c394081e6a8",
       "outputs": [
        {
         "data": {
          "text/plain": "5.0"
         },
         "metadata": {},
         "output_type": "display_data"
        }
       ]
      }
     },
     "40ea12aed26a4ddf9b396783ac1f3633": {
      "model_module": "@jupyter-widgets/base",
      "model_module_version": "1.1.0",
      "model_name": "LayoutModel",
      "state": {}
     },
     "41293c7f1fc24d7f84c5f39c829f5645": {
      "model_module": "@jupyter-widgets/output",
      "model_module_version": "1.0.0",
      "model_name": "OutputModel",
      "state": {
       "layout": "IPY_MODEL_05ffb5b9ba8042e8b0aae2e8db329a65",
       "outputs": [
        {
         "name": "stdout",
         "output_type": "stream",
         "text": "100000 [0, 1, 2, 3, 11, 22, 101, 111, 121, 202, 212, 1001, 1111, 2002, 10001, 10101, 10201, 11011, 11111, 11211, 20002, 20102]\n"
        }
       ]
      }
     },
     "4178fb9cbcfe48c78c373c9a13793021": {
      "model_module": "@jupyter-widgets/base",
      "model_module_version": "1.1.0",
      "model_name": "LayoutModel",
      "state": {}
     },
     "43188539b1524434ba2e2c19b22b63c4": {
      "model_module": "@jupyter-widgets/base",
      "model_module_version": "1.1.0",
      "model_name": "LayoutModel",
      "state": {}
     },
     "4322194c2a314500b1b0165f0b44cbc0": {
      "model_module": "@jupyter-widgets/controls",
      "model_module_version": "1.4.0",
      "model_name": "VBoxModel",
      "state": {
       "_dom_classes": [
        "widget-interact"
       ],
       "children": [
        "IPY_MODEL_b51e8f3baa6b43108b855ea9d846b5a4",
        "IPY_MODEL_931389ceb7694c339cf492626e6d4392",
        "IPY_MODEL_f1569b30fba34dbda38fb0e3e45fe5da"
       ],
       "layout": "IPY_MODEL_d082545ab61c476fbd11d0e4a86d9ece"
      }
     },
     "442d774e53624f9b85ca6801864a10b4": {
      "model_module": "@jupyter-widgets/base",
      "model_module_version": "1.1.0",
      "model_name": "LayoutModel",
      "state": {}
     },
     "44a5005003cf4707932afc268a311656": {
      "model_module": "@jupyter-widgets/base",
      "model_module_version": "1.1.0",
      "model_name": "LayoutModel",
      "state": {}
     },
     "47aa608972ba4ebb8ec7e3554f2b7ca8": {
      "model_module": "@jupyter-widgets/base",
      "model_module_version": "1.1.0",
      "model_name": "LayoutModel",
      "state": {}
     },
     "482ed7eb581c42c296a6a45c41e5ed24": {
      "model_module": "@jupyter-widgets/controls",
      "model_module_version": "1.4.0",
      "model_name": "VBoxModel",
      "state": {
       "_dom_classes": [
        "widget-interact"
       ],
       "children": [
        "IPY_MODEL_958d785b53ff44fc98ada61785387748",
        "IPY_MODEL_4046bb590921472cad4270ec31b603ed"
       ],
       "layout": "IPY_MODEL_cb02d590e2a24a339ce5b4bc6bbf03ef"
      }
     },
     "4c52785e0a6346579b52fbdc7d900e2f": {
      "model_module": "@jupyter-widgets/base",
      "model_module_version": "1.1.0",
      "model_name": "LayoutModel",
      "state": {}
     },
     "4d43ecf8cf5045f9bf88eb23d0711677": {
      "model_module": "@jupyter-widgets/controls",
      "model_module_version": "1.4.0",
      "model_name": "SliderStyleModel",
      "state": {
       "description_width": ""
      }
     },
     "4dbf8f657694484db127461b8944ac4e": {
      "model_module": "@jupyter-widgets/controls",
      "model_module_version": "1.4.0",
      "model_name": "SliderStyleModel",
      "state": {
       "description_width": ""
      }
     },
     "4e3caef5b67c4282b3688bcb7bdecd0f": {
      "model_module": "@jupyter-widgets/controls",
      "model_module_version": "1.4.0",
      "model_name": "VBoxModel",
      "state": {
       "_dom_classes": [
        "widget-interact"
       ],
       "children": [
        "IPY_MODEL_f8127d990ffc4db4874ac1a9472177c0",
        "IPY_MODEL_1751078194964ba1a7fd4df6c48e1cba"
       ],
       "layout": "IPY_MODEL_c85d2fa28ecf49c3b4786bd15790a64a"
      }
     },
     "4e71ebc08b2f4f1d94344830ec314ff9": {
      "model_module": "@jupyter-widgets/base",
      "model_module_version": "1.1.0",
      "model_name": "LayoutModel",
      "state": {}
     },
     "4ee328488fb645dda46ebee35a38f4fb": {
      "model_module": "@jupyter-widgets/base",
      "model_module_version": "1.1.0",
      "model_name": "LayoutModel",
      "state": {}
     },
     "50bf5db6aa694760b3d2ac80d03ac4bb": {
      "model_module": "@jupyter-widgets/output",
      "model_module_version": "1.0.0",
      "model_name": "OutputModel",
      "state": {
       "layout": "IPY_MODEL_80ce329e08794806b56a112e7a6d2e9b",
       "outputs": [
        {
         "data": {
          "image/png": "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\n",
          "text/plain": "<Figure size 432x288 with 1 Axes>"
         },
         "metadata": {},
         "output_type": "display_data"
        }
       ]
      }
     },
     "51c45d318840442bb3eb21eced46ea98": {
      "model_module": "@jupyter-widgets/base",
      "model_module_version": "1.1.0",
      "model_name": "LayoutModel",
      "state": {}
     },
     "525209fdbe0a4b86b145ff2c3ba991cd": {
      "model_module": "@jupyter-widgets/controls",
      "model_module_version": "1.4.0",
      "model_name": "SliderStyleModel",
      "state": {
       "description_width": ""
      }
     },
     "5270792512694dca9b3cbc0281744407": {
      "model_module": "@jupyter-widgets/controls",
      "model_module_version": "1.4.0",
      "model_name": "TextModel",
      "state": {
       "disabled": true,
       "layout": "IPY_MODEL_cff1ee5cb71c467682dbcd85c59ee387",
       "style": "IPY_MODEL_2b6977e6da7c481b8b72e988420d4cb9",
       "value": "Hello World!"
      }
     },
     "5419845e6fa2435b93c1a6f87c18ee5c": {
      "model_module": "@jupyter-widgets/base",
      "model_module_version": "1.1.0",
      "model_name": "LayoutModel",
      "state": {}
     },
     "5593357426244c1696d7f2b18199d565": {
      "model_module": "@jupyter-widgets/base",
      "model_module_version": "1.1.0",
      "model_name": "LayoutModel",
      "state": {}
     },
     "55fb76f8e64f42bc9bc2a4340644955c": {
      "model_module": "@jupyter-widgets/controls",
      "model_module_version": "1.4.0",
      "model_name": "VBoxModel",
      "state": {
       "_dom_classes": [
        "widget-interact"
       ],
       "children": [
        "IPY_MODEL_3c3b6f95c8ff431981adbd153763c180",
        "IPY_MODEL_34e9eca67d87423a8019bb5e7cddea7f",
        "IPY_MODEL_0eafa181aecd4b9bba70484857aef6dd"
       ],
       "layout": "IPY_MODEL_d4c26ee816c04fcbb3e3369a47670386"
      }
     },
     "570d96f33214460bb6dc588a41fb4542": {
      "model_module": "@jupyter-widgets/base",
      "model_module_version": "1.1.0",
      "model_name": "LayoutModel",
      "state": {}
     },
     "576fad54af3b4d4bbf998cb092468bcc": {
      "model_module": "@jupyter-widgets/base",
      "model_module_version": "1.1.0",
      "model_name": "LayoutModel",
      "state": {}
     },
     "5900a8b485984804b49fc3e1723beeb2": {
      "model_module": "@jupyter-widgets/output",
      "model_module_version": "1.0.0",
      "model_name": "OutputModel",
      "state": {
       "layout": "IPY_MODEL_ad57f53c6e3c45ccaa344f429c011242",
       "outputs": [
        {
         "data": {
          "text/plain": "10"
         },
         "metadata": {},
         "output_type": "display_data"
        }
       ]
      }
     },
     "5a4b3d367a3e44ee923d3eefcad4d578": {
      "model_module": "@jupyter-widgets/base",
      "model_module_version": "1.1.0",
      "model_name": "LayoutModel",
      "state": {}
     },
     "5aa3da51c83d4ff1a7e99042de84df9d": {
      "model_module": "@jupyter-widgets/controls",
      "model_module_version": "1.4.0",
      "model_name": "IntSliderModel",
      "state": {
       "layout": "IPY_MODEL_51c45d318840442bb3eb21eced46ea98",
       "style": "IPY_MODEL_34c8fed8196d4fb6825fe503bf4690e6",
       "value": 100
      }
     },
     "5b8dc227a94a42d09651a0531ea6818a": {
      "model_module": "@jupyter-widgets/base",
      "model_module_version": "1.1.0",
      "model_name": "LayoutModel",
      "state": {}
     },
     "5c4fe49015e34e8d9c834639ef3a1cfb": {
      "model_module": "@jupyter-widgets/base",
      "model_module_version": "1.1.0",
      "model_name": "LayoutModel",
      "state": {}
     },
     "5c990ddbb95046389664cec7035382ae": {
      "model_module": "@jupyter-widgets/controls",
      "model_module_version": "1.4.0",
      "model_name": "IntSliderModel",
      "state": {
       "description": "x",
       "layout": "IPY_MODEL_7914ff4848834b62b7ff3d1228483323",
       "max": 8,
       "step": 2,
       "style": "IPY_MODEL_8529cd039b0c4a9199879e2cb87f918a",
       "value": 4
      }
     },
     "5df256ac024a47cabfeccc867a788523": {
      "model_module": "@jupyter-widgets/controls",
      "model_module_version": "1.4.0",
      "model_name": "DescriptionStyleModel",
      "state": {
       "description_width": ""
      }
     },
     "5e5636faeb0145fa9528712f44b39e8b": {
      "model_module": "@jupyter-widgets/controls",
      "model_module_version": "1.4.0",
      "model_name": "DescriptionStyleModel",
      "state": {
       "description_width": ""
      }
     },
     "5eeb24b7e3de4fd7899bbb881955fec0": {
      "model_module": "@jupyter-widgets/controls",
      "model_module_version": "1.4.0",
      "model_name": "DescriptionStyleModel",
      "state": {
       "description_width": ""
      }
     },
     "60905c06f9034f14905d9359bedbcf1f": {
      "model_module": "@jupyter-widgets/base",
      "model_module_version": "1.1.0",
      "model_name": "LayoutModel",
      "state": {}
     },
     "60aa7cd7ddc04d8b99ca422d81dc0f30": {
      "model_module": "@jupyter-widgets/base",
      "model_module_version": "1.1.0",
      "model_name": "LayoutModel",
      "state": {}
     },
     "60be07c4a40841e2b6a85e36bd93e0f0": {
      "model_module": "@jupyter-widgets/controls",
      "model_module_version": "1.4.0",
      "model_name": "FloatSliderModel",
      "state": {
       "description": "y",
       "layout": "IPY_MODEL_02486bee1b6f40fcb94816811fb6a34d",
       "max": 10,
       "min": 0.5,
       "step": 0.05,
       "style": "IPY_MODEL_7845918ea5de4f6c90e48c8c6e9bad8b",
       "value": 5
      }
     },
     "613f1639b6a5475ab2c9f690f592c673": {
      "model_module": "@jupyter-widgets/base",
      "model_module_version": "1.1.0",
      "model_name": "LayoutModel",
      "state": {}
     },
     "6401a9e7e52f46868e5a042861d48f27": {
      "model_module": "@jupyter-widgets/controls",
      "model_module_version": "1.4.0",
      "model_name": "VBoxModel",
      "state": {
       "_dom_classes": [
        "widget-interact"
       ],
       "children": [
        "IPY_MODEL_12574ead8f1e4246861ef090c5a3cc64",
        "IPY_MODEL_d24e5412fe314b0bbcae4b1b1b13a37d"
       ],
       "layout": "IPY_MODEL_dc5e6dbaaa0a4a3380c8140720430d2e"
      }
     },
     "640e6be17c28412e843a168b0aa558b6": {
      "model_module": "@jupyter-widgets/controls",
      "model_module_version": "1.4.0",
      "model_name": "SliderStyleModel",
      "state": {
       "description_width": ""
      }
     },
     "663c0ff472394a05b9c5becc4abcd761": {
      "model_module": "@jupyter-widgets/controls",
      "model_module_version": "1.4.0",
      "model_name": "SliderStyleModel",
      "state": {
       "description_width": ""
      }
     },
     "688d7d0b4ac84837979d027de4f1c200": {
      "model_module": "@jupyter-widgets/controls",
      "model_module_version": "1.4.0",
      "model_name": "DescriptionStyleModel",
      "state": {
       "description_width": ""
      }
     },
     "69361f023a2749aab45869b136e0fb17": {
      "model_module": "@jupyter-widgets/output",
      "model_module_version": "1.0.0",
      "model_name": "OutputModel",
      "state": {
       "layout": "IPY_MODEL_f2e4c20a04574f24925881a53099a302",
       "outputs": [
        {
         "data": {
          "text/plain": "(True, 1.0)"
         },
         "metadata": {},
         "output_type": "display_data"
        }
       ]
      }
     },
     "69f4102b787d4ee4b3d2d3821a4da550": {
      "model_module": "@jupyter-widgets/controls",
      "model_module_version": "1.4.0",
      "model_name": "IntSliderModel",
      "state": {
       "description": "a",
       "layout": "IPY_MODEL_dfabddc6056b4a1bb233ae996956108a",
       "max": 30,
       "min": -10,
       "style": "IPY_MODEL_28e9d8e2da314f638a482ac03e5b22d3",
       "value": 10
      }
     },
     "6ab91396cf5b48c18091a483ab74becb": {
      "model_module": "@jupyter-widgets/controls",
      "model_module_version": "1.4.0",
      "model_name": "VBoxModel",
      "state": {
       "_dom_classes": [
        "widget-interact"
       ],
       "children": [
        "IPY_MODEL_f8f53a5d93ea4866a46b0ff106fca80c",
        "IPY_MODEL_41293c7f1fc24d7f84c5f39c829f5645"
       ],
       "layout": "IPY_MODEL_39ed90ded9044c25a02236de2b3a5037"
      }
     },
     "6c709a42ad54487c86967820d027da2a": {
      "model_module": "@jupyter-widgets/controls",
      "model_module_version": "1.4.0",
      "model_name": "SliderStyleModel",
      "state": {
       "description_width": ""
      }
     },
     "6e51d1f35be043259224d7044c086bfd": {
      "model_module": "@jupyter-widgets/controls",
      "model_module_version": "1.4.0",
      "model_name": "SliderStyleModel",
      "state": {
       "description_width": ""
      }
     },
     "70b0aaa60efc47bf89d9059dc1462a0a": {
      "model_module": "@jupyter-widgets/controls",
      "model_module_version": "1.4.0",
      "model_name": "VBoxModel",
      "state": {
       "_dom_classes": [
        "widget-interact"
       ],
       "children": [
        "IPY_MODEL_3db10f71303a4eada3fd2e0a14d6962b",
        "IPY_MODEL_eb6bea597030412eb752a7092beaf6d1"
       ],
       "layout": "IPY_MODEL_3a51b5e470ad4160ba3fcde266f0923d"
      }
     },
     "7160032bc31d449e94896ba2957e15f3": {
      "model_module": "@jupyter-widgets/base",
      "model_module_version": "1.1.0",
      "model_name": "LayoutModel",
      "state": {}
     },
     "71b49c5719a542dea8677fa134d33ad8": {
      "model_module": "@jupyter-widgets/controls",
      "model_module_version": "1.4.0",
      "model_name": "DescriptionStyleModel",
      "state": {
       "description_width": ""
      }
     },
     "7316fdff39e04815833ef4947fee383d": {
      "model_module": "@jupyter-widgets/base",
      "model_module_version": "1.1.0",
      "model_name": "LayoutModel",
      "state": {}
     },
     "75501bc8001d4e64874753a7743c6a47": {
      "model_module": "@jupyter-widgets/controls",
      "model_module_version": "1.4.0",
      "model_name": "DescriptionStyleModel",
      "state": {
       "description_width": ""
      }
     },
     "758d3373c7a2426dbf14648ce970fbab": {
      "model_module": "@jupyter-widgets/output",
      "model_module_version": "1.0.0",
      "model_name": "OutputModel",
      "state": {
       "layout": "IPY_MODEL_c03ec0712e674c5c918861c668b25d14",
       "outputs": [
        {
         "data": {
          "text/plain": "2"
         },
         "metadata": {},
         "output_type": "display_data"
        }
       ]
      }
     },
     "75fdd3aae3aa499bab56a631be096389": {
      "model_module": "@jupyter-widgets/controls",
      "model_module_version": "1.4.0",
      "model_name": "DescriptionStyleModel",
      "state": {
       "description_width": ""
      }
     },
     "76066491075142a5a5374c5c3861aed4": {
      "model_module": "@jupyter-widgets/controls",
      "model_module_version": "1.4.0",
      "model_name": "SliderStyleModel",
      "state": {
       "description_width": ""
      }
     },
     "7606fe77ccab4bc6afd865978bc7e5be": {
      "model_module": "@jupyter-widgets/output",
      "model_module_version": "1.0.0",
      "model_name": "OutputModel",
      "state": {
       "layout": "IPY_MODEL_1561ec3b83544f6da52b54b81e03424b",
       "outputs": [
        {
         "data": {
          "text/plain": "'apples'"
         },
         "metadata": {},
         "output_type": "display_data"
        }
       ]
      }
     },
     "7636ebc78f1247b8bc797daa8679eb98": {
      "model_module": "@jupyter-widgets/output",
      "model_module_version": "1.0.0",
      "model_name": "OutputModel",
      "state": {
       "layout": "IPY_MODEL_7a5251fb0bc249daac117d2c1528dedb"
      }
     },
     "7685a1ab44f344b98a06dcbf1c352b33": {
      "model_module": "@jupyter-widgets/base",
      "model_module_version": "1.1.0",
      "model_name": "LayoutModel",
      "state": {}
     },
     "7845918ea5de4f6c90e48c8c6e9bad8b": {
      "model_module": "@jupyter-widgets/controls",
      "model_module_version": "1.4.0",
      "model_name": "SliderStyleModel",
      "state": {
       "description_width": ""
      }
     },
     "784f141396ac49d1a9bb601092776dea": {
      "model_module": "@jupyter-widgets/controls",
      "model_module_version": "1.4.0",
      "model_name": "CheckboxModel",
      "state": {
       "description": "x",
       "disabled": false,
       "layout": "IPY_MODEL_ae488e62dab54c4eace718b3344b8f18",
       "style": "IPY_MODEL_5eeb24b7e3de4fd7899bbb881955fec0",
       "value": true
      }
     },
     "7914ff4848834b62b7ff3d1228483323": {
      "model_module": "@jupyter-widgets/base",
      "model_module_version": "1.1.0",
      "model_name": "LayoutModel",
      "state": {}
     },
     "7a5251fb0bc249daac117d2c1528dedb": {
      "model_module": "@jupyter-widgets/base",
      "model_module_version": "1.1.0",
      "model_name": "LayoutModel",
      "state": {}
     },
     "7b9939a164ec4fd696a024e553a24273": {
      "model_module": "@jupyter-widgets/output",
      "model_module_version": "1.0.0",
      "model_name": "OutputModel",
      "state": {
       "layout": "IPY_MODEL_3d464c0255e343eaad35ed5675bc1fe0",
       "outputs": [
        {
         "data": {
          "text/plain": "10"
         },
         "metadata": {},
         "output_type": "display_data"
        }
       ]
      }
     },
     "7d522b95d9f5405c970cd20c796cade2": {
      "model_module": "@jupyter-widgets/base",
      "model_module_version": "1.1.0",
      "model_name": "LayoutModel",
      "state": {}
     },
     "7d9f82e664c143e0b45a9df5ed8ce416": {
      "model_module": "@jupyter-widgets/controls",
      "model_module_version": "1.4.0",
      "model_name": "DescriptionStyleModel",
      "state": {
       "description_width": ""
      }
     },
     "7e715f53f26b47e58b81affb2149a240": {
      "model_module": "@jupyter-widgets/output",
      "model_module_version": "1.0.0",
      "model_name": "OutputModel",
      "state": {
       "layout": "IPY_MODEL_60905c06f9034f14905d9359bedbcf1f",
       "outputs": [
        {
         "data": {
          "text/plain": "5.0"
         },
         "metadata": {},
         "output_type": "display_data"
        }
       ]
      }
     },
     "80cde8137f5c42b28b8a38b26d9d4f44": {
      "model_module": "@jupyter-widgets/base",
      "model_module_version": "1.1.0",
      "model_name": "LayoutModel",
      "state": {}
     },
     "80ce329e08794806b56a112e7a6d2e9b": {
      "model_module": "@jupyter-widgets/base",
      "model_module_version": "1.1.0",
      "model_name": "LayoutModel",
      "state": {
       "height": "350px"
      }
     },
     "80da7e7f1c144043bcf5fcc60af65e77": {
      "model_module": "@jupyter-widgets/base",
      "model_module_version": "1.1.0",
      "model_name": "LayoutModel",
      "state": {}
     },
     "81576af681ea40a188a6e93f80b8d011": {
      "model_module": "@jupyter-widgets/base",
      "model_module_version": "1.1.0",
      "model_name": "LayoutModel",
      "state": {}
     },
     "8255dadf380e4c50951816617f2968c0": {
      "model_module": "@jupyter-widgets/base",
      "model_module_version": "1.1.0",
      "model_name": "LayoutModel",
      "state": {}
     },
     "85161524c16e4836a488ad9a577dd9ee": {
      "model_module": "@jupyter-widgets/controls",
      "model_module_version": "1.4.0",
      "model_name": "SliderStyleModel",
      "state": {
       "description_width": ""
      }
     },
     "8529cd039b0c4a9199879e2cb87f918a": {
      "model_module": "@jupyter-widgets/controls",
      "model_module_version": "1.4.0",
      "model_name": "SliderStyleModel",
      "state": {
       "description_width": ""
      }
     },
     "853a93ceeb3140c5a252ff5a1e56b96d": {
      "model_module": "@jupyter-widgets/controls",
      "model_module_version": "1.4.0",
      "model_name": "FloatSliderModel",
      "state": {
       "description": "x",
       "layout": "IPY_MODEL_2e10a550995e4b828712a082a0ef1e82",
       "max": 10,
       "step": 0.05,
       "style": "IPY_MODEL_d81de40ebef544a19781c32197b01f57"
      }
     },
     "8600e512e6064e3189d44e5e4194e44f": {
      "model_module": "@jupyter-widgets/controls",
      "model_module_version": "1.4.0",
      "model_name": "SliderStyleModel",
      "state": {
       "description_width": ""
      }
     },
     "87887190d7f94d798769b91db14acf11": {
      "model_module": "@jupyter-widgets/controls",
      "model_module_version": "1.4.0",
      "model_name": "VBoxModel",
      "state": {
       "_dom_classes": [
        "widget-interact"
       ],
       "children": [
        "IPY_MODEL_784f141396ac49d1a9bb601092776dea",
        "IPY_MODEL_e9eea41420094fceb5a022da44ba2f3a"
       ],
       "layout": "IPY_MODEL_ede64d1b44dd46d0a790f16d9901fcfb"
      }
     },
     "87b6569339334be58b858807b040f7cc": {
      "model_module": "@jupyter-widgets/controls",
      "model_module_version": "1.4.0",
      "model_name": "IntSliderModel",
      "state": {
       "layout": "IPY_MODEL_8b9d0f1846b749cfa7e1a7189e4dbb68",
       "style": "IPY_MODEL_15a62077a15c41e0a53bd9ead78f2004"
      }
     },
     "87c33f3da654486387892ab6bb7409f6": {
      "model_module": "@jupyter-widgets/base",
      "model_module_version": "1.1.0",
      "model_name": "LayoutModel",
      "state": {}
     },
     "88f3a6669cf8492689d2ff79897c4540": {
      "model_module": "@jupyter-widgets/controls",
      "model_module_version": "1.4.0",
      "model_name": "SliderStyleModel",
      "state": {
       "description_width": ""
      }
     },
     "89c41cae7396470193162300a3aa898a": {
      "model_module": "@jupyter-widgets/controls",
      "model_module_version": "1.4.0",
      "model_name": "VBoxModel",
      "state": {
       "_dom_classes": [
        "widget-interact"
       ],
       "children": [
        "IPY_MODEL_987d869fd5834911b6797daae6f6517d",
        "IPY_MODEL_2b7d818902bf4c50b666b97383261895"
       ],
       "layout": "IPY_MODEL_43188539b1524434ba2e2c19b22b63c4"
      }
     },
     "8a0d71b4b8594ad18d4cd6e4fa3d3ff8": {
      "model_module": "@jupyter-widgets/controls",
      "model_module_version": "1.4.0",
      "model_name": "FloatSliderModel",
      "state": {
       "description": "x",
       "layout": "IPY_MODEL_5b8dc227a94a42d09651a0531ea6818a",
       "max": 10,
       "step": 0.1,
       "style": "IPY_MODEL_6c709a42ad54487c86967820d027da2a",
       "value": 5
      }
     },
     "8a86b279718b47e5bad34a004e806b9b": {
      "model_module": "@jupyter-widgets/base",
      "model_module_version": "1.1.0",
      "model_name": "LayoutModel",
      "state": {}
     },
     "8b9d0f1846b749cfa7e1a7189e4dbb68": {
      "model_module": "@jupyter-widgets/base",
      "model_module_version": "1.1.0",
      "model_name": "LayoutModel",
      "state": {}
     },
     "8c644683047e4007b2d83cdf878e424c": {
      "model_module": "@jupyter-widgets/base",
      "model_module_version": "1.1.0",
      "model_name": "LayoutModel",
      "state": {}
     },
     "8d1b1d5c3f45420d90a48f2611f07144": {
      "model_module": "@jupyter-widgets/base",
      "model_module_version": "1.1.0",
      "model_name": "LayoutModel",
      "state": {}
     },
     "8ed5704fb133455a820148311537430a": {
      "model_module": "@jupyter-widgets/base",
      "model_module_version": "1.1.0",
      "model_name": "LayoutModel",
      "state": {}
     },
     "8f585ee5d6ac4473b1d13a5dfe38ba4a": {
      "model_module": "@jupyter-widgets/output",
      "model_module_version": "1.0.0",
      "model_name": "OutputModel",
      "state": {
       "layout": "IPY_MODEL_0f144dc92a484ad091388c9be03b2d2e",
       "outputs": [
        {
         "data": {
          "text/plain": "10"
         },
         "metadata": {},
         "output_type": "display_data"
        }
       ]
      }
     },
     "8ffe87143aab4887a12f509b87318e08": {
      "model_module": "@jupyter-widgets/controls",
      "model_module_version": "1.4.0",
      "model_name": "IntSliderModel",
      "state": {
       "layout": "IPY_MODEL_9657a7bd251841b4adbcdab2f9fd4d6c",
       "style": "IPY_MODEL_e566dc46f0d444fd9b7de92929228c75"
      }
     },
     "9169b11493f54bf1adf293f432f16149": {
      "model_module": "@jupyter-widgets/base",
      "model_module_version": "1.1.0",
      "model_name": "LayoutModel",
      "state": {}
     },
     "9204c17374944ccb81ed6edd080f62a8": {
      "model_module": "@jupyter-widgets/controls",
      "model_module_version": "1.4.0",
      "model_name": "FloatSliderModel",
      "state": {
       "description": "i",
       "layout": "IPY_MODEL_957eb9f559574281a4939e760931dcb7",
       "max": 10000000,
       "min": 100000,
       "step": 100000,
       "style": "IPY_MODEL_8600e512e6064e3189d44e5e4194e44f",
       "value": 100000
      }
     },
     "931389ceb7694c339cf492626e6d4392": {
      "model_module": "@jupyter-widgets/controls",
      "model_module_version": "1.4.0",
      "model_name": "FloatSliderModel",
      "state": {
       "description": "b",
       "layout": "IPY_MODEL_ee693b598fe748a0b28887ac0c74fbf5",
       "max": 3,
       "min": -3,
       "step": 0.5,
       "style": "IPY_MODEL_9604033de41f47d9943563f4cb6cd229"
      }
     },
     "934beb95bef145d6b97c248dc615544d": {
      "model_module": "@jupyter-widgets/base",
      "model_module_version": "1.1.0",
      "model_name": "LayoutModel",
      "state": {}
     },
     "93a17424911246caa2d51bf9e6bb4454": {
      "model_module": "@jupyter-widgets/base",
      "model_module_version": "1.1.0",
      "model_name": "LayoutModel",
      "state": {}
     },
     "93c9bd5ad0454482bb917b6f699aba7d": {
      "model_module": "@jupyter-widgets/base",
      "model_module_version": "1.1.0",
      "model_name": "LayoutModel",
      "state": {}
     },
     "93d5b89bdbac438f8fd1dfffa3b2fad2": {
      "model_module": "@jupyter-widgets/controls",
      "model_module_version": "1.4.0",
      "model_name": "VBoxModel",
      "state": {
       "_dom_classes": [
        "widget-interact"
       ],
       "children": [
        "IPY_MODEL_16cdb235cc554822b97329b63e94d4d5",
        "IPY_MODEL_98f347e7f6fd49b78035d2292d1e804b"
       ],
       "layout": "IPY_MODEL_c34a38797d774dd8874442fede13873a"
      }
     },
     "93e45d43537d4b9aae925b665bcf7a5b": {
      "model_module": "@jupyter-widgets/controls",
      "model_module_version": "1.4.0",
      "model_name": "SliderStyleModel",
      "state": {
       "description_width": ""
      }
     },
     "950683eaca0e4eb0bf5d8dc3c1413435": {
      "model_module": "@jupyter-widgets/base",
      "model_module_version": "1.1.0",
      "model_name": "LayoutModel",
      "state": {}
     },
     "957eb9f559574281a4939e760931dcb7": {
      "model_module": "@jupyter-widgets/base",
      "model_module_version": "1.1.0",
      "model_name": "LayoutModel",
      "state": {}
     },
     "958d785b53ff44fc98ada61785387748": {
      "model_module": "@jupyter-widgets/controls",
      "model_module_version": "1.4.0",
      "model_name": "FloatSliderModel",
      "state": {
       "description": "x",
       "layout": "IPY_MODEL_3bc54f2937d143a5ab3e3f507a6ad73f",
       "max": 10,
       "step": 0.01,
       "style": "IPY_MODEL_e6e3abd3ef084d7e8a86f101db541446",
       "value": 5
      }
     },
     "95e8d18ca86d408a99f6fbc95a96edfe": {
      "model_module": "@jupyter-widgets/base",
      "model_module_version": "1.1.0",
      "model_name": "LayoutModel",
      "state": {}
     },
     "9604033de41f47d9943563f4cb6cd229": {
      "model_module": "@jupyter-widgets/controls",
      "model_module_version": "1.4.0",
      "model_name": "SliderStyleModel",
      "state": {
       "description_width": ""
      }
     },
     "9657a7bd251841b4adbcdab2f9fd4d6c": {
      "model_module": "@jupyter-widgets/base",
      "model_module_version": "1.1.0",
      "model_name": "LayoutModel",
      "state": {}
     },
     "9662925490d544dbbace3b772a72d990": {
      "model_module": "@jupyter-widgets/controls",
      "model_module_version": "1.4.0",
      "model_name": "VBoxModel",
      "state": {
       "_dom_classes": [
        "widget-interact"
       ],
       "children": [
        "IPY_MODEL_f017034bad844811a5e630e1ab8a8374",
        "IPY_MODEL_01ce37939caf4fa393f77cc6a82a3c7f"
       ],
       "layout": "IPY_MODEL_93a17424911246caa2d51bf9e6bb4454"
      }
     },
     "977b088fd70d40359207eb02dbf582cc": {
      "model_module": "@jupyter-widgets/base",
      "model_module_version": "1.1.0",
      "model_name": "LayoutModel",
      "state": {}
     },
     "983cd3aa2dae439b9a2c451b63cfa372": {
      "model_module": "@jupyter-widgets/base",
      "model_module_version": "1.1.0",
      "model_name": "LayoutModel",
      "state": {}
     },
     "98744818ff1945cdb5211eb06ef83a70": {
      "model_module": "@jupyter-widgets/controls",
      "model_module_version": "1.4.0",
      "model_name": "VBoxModel",
      "state": {
       "_dom_classes": [
        "widget-interact"
       ],
       "children": [
        "IPY_MODEL_69f4102b787d4ee4b3d2d3821a4da550",
        "IPY_MODEL_3c6bd07476cd4895b0ad5da6b2330d47",
        "IPY_MODEL_34a22df8ecc148e3bc23933eb959db20"
       ],
       "layout": "IPY_MODEL_8255dadf380e4c50951816617f2968c0"
      }
     },
     "987d869fd5834911b6797daae6f6517d": {
      "model_module": "@jupyter-widgets/controls",
      "model_module_version": "1.4.0",
      "model_name": "IntSliderModel",
      "state": {
       "description": "x",
       "layout": "IPY_MODEL_80cde8137f5c42b28b8a38b26d9d4f44",
       "max": 8,
       "step": 2,
       "style": "IPY_MODEL_f05ea4c0431d497594c95fe7ea6a1c62",
       "value": 4
      }
     },
     "98f347e7f6fd49b78035d2292d1e804b": {
      "model_module": "@jupyter-widgets/output",
      "model_module_version": "1.0.0",
      "model_name": "OutputModel",
      "state": {
       "layout": "IPY_MODEL_ecb567d1db1c4676a924ebbb2de0d6c8",
       "outputs": [
        {
         "data": {
          "text/plain": "10"
         },
         "metadata": {},
         "output_type": "display_data"
        }
       ]
      }
     },
     "9bcfe85dc67940ba8a33fb3b7738f0f4": {
      "model_module": "@jupyter-widgets/output",
      "model_module_version": "1.0.0",
      "model_name": "OutputModel",
      "state": {
       "layout": "IPY_MODEL_40ea12aed26a4ddf9b396783ac1f3633",
       "outputs": [
        {
         "data": {
          "text/plain": "4"
         },
         "metadata": {},
         "output_type": "display_data"
        }
       ]
      }
     },
     "9bfa79e9fa0d447da3c162a38545582a": {
      "model_module": "@jupyter-widgets/controls",
      "model_module_version": "1.4.0",
      "model_name": "SliderStyleModel",
      "state": {
       "description_width": ""
      }
     },
     "9cc3de87b3ad428da98a0c7ba87402b3": {
      "model_module": "@jupyter-widgets/controls",
      "model_module_version": "1.4.0",
      "model_name": "VBoxModel",
      "state": {
       "_dom_classes": [
        "widget-interact"
       ],
       "children": [
        "IPY_MODEL_cf2575a6f5134b308d55faadcc598239",
        "IPY_MODEL_7e715f53f26b47e58b81affb2149a240"
       ],
       "layout": "IPY_MODEL_a0aae9f84f8a48489b8f2513788ce76a"
      }
     },
     "9cdd3bd3158c4249ad1a08090297ac19": {
      "model_module": "@jupyter-widgets/base",
      "model_module_version": "1.1.0",
      "model_name": "LayoutModel",
      "state": {}
     },
     "9d44c3ad19824d818e5e48d9479ce88d": {
      "model_module": "@jupyter-widgets/base",
      "model_module_version": "1.1.0",
      "model_name": "LayoutModel",
      "state": {}
     },
     "9ff68d35b29643b3bfb83d9b87296b44": {
      "model_module": "@jupyter-widgets/controls",
      "model_module_version": "1.4.0",
      "model_name": "VBoxModel",
      "state": {
       "_dom_classes": [
        "widget-interact"
       ],
       "children": [
        "IPY_MODEL_f60a4790a75d47b1ba6c6a675ea2e36b",
        "IPY_MODEL_bfe48e65e4bb48e3a8774a5acb40abae"
       ],
       "layout": "IPY_MODEL_c6f7d10328ce40e6a72f754da78e9734"
      }
     },
     "a061662c53e84615ab22e00f4c6caec1": {
      "model_module": "@jupyter-widgets/controls",
      "model_module_version": "1.4.0",
      "model_name": "IntSliderModel",
      "state": {
       "layout": "IPY_MODEL_d865aff4d8e14b9aaaa566f29f943d12",
       "style": "IPY_MODEL_fdf8aaaccd0448f59a409b2e91cd822f"
      }
     },
     "a0aae9f84f8a48489b8f2513788ce76a": {
      "model_module": "@jupyter-widgets/base",
      "model_module_version": "1.1.0",
      "model_name": "LayoutModel",
      "state": {}
     },
     "a23f2c90afa7415aa6dfef8a9b90789e": {
      "model_module": "@jupyter-widgets/output",
      "model_module_version": "1.0.0",
      "model_name": "OutputModel",
      "state": {
       "layout": "IPY_MODEL_9d44c3ad19824d818e5e48d9479ce88d",
       "outputs": [
        {
         "name": "stdout",
         "output_type": "stream",
         "text": "(0, 0, 0)\n"
        }
       ]
      }
     },
     "a267f58ff8324debabccb0279bf2a287": {
      "model_module": "@jupyter-widgets/base",
      "model_module_version": "1.1.0",
      "model_name": "LayoutModel",
      "state": {}
     },
     "a4a2b5d61adf493390fd1d836ba8b50d": {
      "model_module": "@jupyter-widgets/controls",
      "model_module_version": "1.4.0",
      "model_name": "IntSliderModel",
      "state": {
       "description": "x",
       "layout": "IPY_MODEL_2de4eafb16f64f90a70a0cc210fd7762",
       "max": 30,
       "min": -10,
       "style": "IPY_MODEL_2f3f7efaeab342bebfecc96e621e345a",
       "value": 10
      }
     },
     "a6e5164f75ee4be2abe454ee41afe4b8": {
      "model_module": "@jupyter-widgets/base",
      "model_module_version": "1.1.0",
      "model_name": "LayoutModel",
      "state": {}
     },
     "a7161c5f033d43a9b0c74045f911075f": {
      "model_module": "@jupyter-widgets/base",
      "model_module_version": "1.1.0",
      "model_name": "LayoutModel",
      "state": {}
     },
     "a89852a28fe84286b257911d1c2e997f": {
      "model_module": "@jupyter-widgets/base",
      "model_module_version": "1.1.0",
      "model_name": "LayoutModel",
      "state": {}
     },
     "a8c5697bdc98492994605224daf22010": {
      "model_module": "@jupyter-widgets/controls",
      "model_module_version": "1.4.0",
      "model_name": "IntSliderModel",
      "state": {
       "description": "x",
       "layout": "IPY_MODEL_5a4b3d367a3e44ee923d3eefcad4d578",
       "max": 4,
       "style": "IPY_MODEL_93e45d43537d4b9aae925b665bcf7a5b",
       "value": 2
      }
     },
     "a9c4024b6d354536ab25ec4f60049cc6": {
      "model_module": "@jupyter-widgets/controls",
      "model_module_version": "1.4.0",
      "model_name": "SliderStyleModel",
      "state": {
       "description_width": ""
      }
     },
     "acf33b64ea354c1d99556f51114b2264": {
      "model_module": "@jupyter-widgets/base",
      "model_module_version": "1.1.0",
      "model_name": "LayoutModel",
      "state": {}
     },
     "ad57f53c6e3c45ccaa344f429c011242": {
      "model_module": "@jupyter-widgets/base",
      "model_module_version": "1.1.0",
      "model_name": "LayoutModel",
      "state": {}
     },
     "adb6797e127b47e29a348f69e2387165": {
      "model_module": "@jupyter-widgets/base",
      "model_module_version": "1.1.0",
      "model_name": "LayoutModel",
      "state": {}
     },
     "ae488e62dab54c4eace718b3344b8f18": {
      "model_module": "@jupyter-widgets/base",
      "model_module_version": "1.1.0",
      "model_name": "LayoutModel",
      "state": {}
     },
     "afbdafa5ee9044158749a7434202dec5": {
      "model_module": "@jupyter-widgets/output",
      "model_module_version": "1.0.0",
      "model_name": "OutputModel",
      "state": {
       "layout": "IPY_MODEL_1d0fc2407f4c423c92d0f341cb067f40",
       "outputs": [
        {
         "data": {
          "text/plain": "10"
         },
         "metadata": {},
         "output_type": "display_data"
        }
       ]
      }
     },
     "afc0cae1f84640fdaeb2123fb2d15fb5": {
      "model_module": "@jupyter-widgets/base",
      "model_module_version": "1.1.0",
      "model_name": "LayoutModel",
      "state": {}
     },
     "b1aa478529a647659f97ebdcb1312395": {
      "model_module": "@jupyter-widgets/base",
      "model_module_version": "1.1.0",
      "model_name": "LayoutModel",
      "state": {}
     },
     "b1f9e0d181bf46d8baea0a962bedaf6a": {
      "model_module": "@jupyter-widgets/base",
      "model_module_version": "1.1.0",
      "model_name": "LayoutModel",
      "state": {}
     },
     "b51e8f3baa6b43108b855ea9d846b5a4": {
      "model_module": "@jupyter-widgets/controls",
      "model_module_version": "1.4.0",
      "model_name": "FloatSliderModel",
      "state": {
       "description": "m",
       "layout": "IPY_MODEL_570d96f33214460bb6dc588a41fb4542",
       "max": 2,
       "min": -2,
       "step": 0.1,
       "style": "IPY_MODEL_ed612e0669e44a629579767d337e48cf"
      }
     },
     "bab43214a622472ea72d93065f73d2d2": {
      "model_module": "@jupyter-widgets/controls",
      "model_module_version": "1.4.0",
      "model_name": "DropdownModel",
      "state": {
       "_options_labels": [
        "apples",
        "oranges"
       ],
       "description": "x",
       "index": 0,
       "layout": "IPY_MODEL_f1688f748fe44bc3956d8b4c6da2989a",
       "style": "IPY_MODEL_5df256ac024a47cabfeccc867a788523"
      }
     },
     "bb2355a3b29846418b505e3251267762": {
      "model_module": "@jupyter-widgets/output",
      "model_module_version": "1.0.0",
      "model_name": "OutputModel",
      "state": {
       "layout": "IPY_MODEL_8ed5704fb133455a820148311537430a",
       "outputs": [
        {
         "data": {
          "text/plain": "30"
         },
         "metadata": {},
         "output_type": "display_data"
        }
       ]
      }
     },
     "bbd17a2eb5cb42dca9a9722623351b98": {
      "model_module": "@jupyter-widgets/base",
      "model_module_version": "1.1.0",
      "model_name": "LayoutModel",
      "state": {}
     },
     "bd0e5dc04aa345bd85d34f192d278031": {
      "model_module": "@jupyter-widgets/controls",
      "model_module_version": "1.4.0",
      "model_name": "VBoxModel",
      "state": {
       "_dom_classes": [
        "widget-interact"
       ],
       "children": [
        "IPY_MODEL_8a0d71b4b8594ad18d4cd6e4fa3d3ff8",
        "IPY_MODEL_10e9bcf4b16e4f6b8c5d81cabaeeee55"
       ],
       "layout": "IPY_MODEL_613f1639b6a5475ab2c9f690f592c673"
      }
     },
     "bd889a0f1bd74b859f8940863b54fe9e": {
      "model_module": "@jupyter-widgets/controls",
      "model_module_version": "1.4.0",
      "model_name": "SliderStyleModel",
      "state": {
       "description_width": ""
      }
     },
     "be62be2500db4f7199ff51d0c98925b4": {
      "model_module": "@jupyter-widgets/controls",
      "model_module_version": "1.4.0",
      "model_name": "SliderStyleModel",
      "state": {
       "description_width": ""
      }
     },
     "bfe48e65e4bb48e3a8774a5acb40abae": {
      "model_module": "@jupyter-widgets/output",
      "model_module_version": "1.0.0",
      "model_name": "OutputModel",
      "state": {
       "layout": "IPY_MODEL_30679fd7912545b4a192d91923c76831",
       "outputs": [
        {
         "data": {
          "text/plain": "(5, 20)"
         },
         "metadata": {},
         "output_type": "display_data"
        }
       ]
      }
     },
     "c03ec0712e674c5c918861c668b25d14": {
      "model_module": "@jupyter-widgets/base",
      "model_module_version": "1.1.0",
      "model_name": "LayoutModel",
      "state": {}
     },
     "c295641d02b248809e00419c126c8da1": {
      "model_module": "@jupyter-widgets/base",
      "model_module_version": "1.1.0",
      "model_name": "LayoutModel",
      "state": {}
     },
     "c2f91454820c41058b0916f4d5e09931": {
      "model_module": "@jupyter-widgets/base",
      "model_module_version": "1.1.0",
      "model_name": "LayoutModel",
      "state": {
       "height": "350px"
      }
     },
     "c309452df5984292a71fba9ed0d26f9d": {
      "model_module": "@jupyter-widgets/controls",
      "model_module_version": "1.4.0",
      "model_name": "IntSliderModel",
      "state": {
       "layout": "IPY_MODEL_b1aa478529a647659f97ebdcb1312395",
       "style": "IPY_MODEL_198ec7b9150644ba8d2ba9d9ba2c5148"
      }
     },
     "c31ee21f17524a0899c2e9e24eba8486": {
      "model_module": "@jupyter-widgets/controls",
      "model_module_version": "1.4.0",
      "model_name": "IntSliderModel",
      "state": {
       "description": "x",
       "layout": "IPY_MODEL_7160032bc31d449e94896ba2957e15f3",
       "max": 30,
       "min": -10,
       "style": "IPY_MODEL_4dbf8f657694484db127461b8944ac4e",
       "value": 10
      }
     },
     "c34a38797d774dd8874442fede13873a": {
      "model_module": "@jupyter-widgets/base",
      "model_module_version": "1.1.0",
      "model_name": "LayoutModel",
      "state": {}
     },
     "c4d1225a56754a54b50fa93e3980b38a": {
      "model_module": "@jupyter-widgets/controls",
      "model_module_version": "1.4.0",
      "model_name": "VBoxModel",
      "state": {
       "_dom_classes": [
        "widget-interact"
       ],
       "children": [
        "IPY_MODEL_c31ee21f17524a0899c2e9e24eba8486",
        "IPY_MODEL_8f585ee5d6ac4473b1d13a5dfe38ba4a"
       ],
       "layout": "IPY_MODEL_f39737212c574fff85fd23e11c718bf3"
      }
     },
     "c666449c953b4e9f9cd54f66f75d7269": {
      "model_module": "@jupyter-widgets/output",
      "model_module_version": "1.0.0",
      "model_name": "OutputModel",
      "state": {
       "layout": "IPY_MODEL_1bdea818a8dd43cbaa6d9bab288b78fa",
       "outputs": [
        {
         "data": {
          "text/plain": "'apples'"
         },
         "metadata": {},
         "output_type": "display_data"
        }
       ]
      }
     },
     "c6f222a7167447ec9ca93290a1c96a40": {
      "model_module": "@jupyter-widgets/controls",
      "model_module_version": "1.4.0",
      "model_name": "SliderStyleModel",
      "state": {
       "description_width": ""
      }
     },
     "c6f7d10328ce40e6a72f754da78e9734": {
      "model_module": "@jupyter-widgets/base",
      "model_module_version": "1.1.0",
      "model_name": "LayoutModel",
      "state": {}
     },
     "c806bd5b0c3041c0b38f59cf53b42144": {
      "model_module": "@jupyter-widgets/output",
      "model_module_version": "1.0.0",
      "model_name": "OutputModel",
      "state": {
       "layout": "IPY_MODEL_da142600dede46f7bc26976165f42142",
       "outputs": [
        {
         "name": "stdout",
         "output_type": "stream",
         "text": "100000 [0, 1, 2, 3, 11, 22, 101, 111, 121, 202, 212, 1001, 1111, 2002, 10001, 10101, 10201, 11011, 11111, 11211, 20002, 20102]\n"
        }
       ]
      }
     },
     "c85d2fa28ecf49c3b4786bd15790a64a": {
      "model_module": "@jupyter-widgets/base",
      "model_module_version": "1.1.0",
      "model_name": "LayoutModel",
      "state": {}
     },
     "c879067a9aa544f7a4518f1aafab2c6a": {
      "model_module": "@jupyter-widgets/base",
      "model_module_version": "1.1.0",
      "model_name": "LayoutModel",
      "state": {}
     },
     "c92c4ad5e1944240bc70b76228895690": {
      "model_module": "@jupyter-widgets/base",
      "model_module_version": "1.1.0",
      "model_name": "LayoutModel",
      "state": {}
     },
     "ca32ae2961354694bfb56c867b485397": {
      "model_module": "@jupyter-widgets/controls",
      "model_module_version": "1.4.0",
      "model_name": "SliderStyleModel",
      "state": {
       "description_width": ""
      }
     },
     "ca579cf2d6fa423e8b0c01f001a9cb41": {
      "model_module": "@jupyter-widgets/output",
      "model_module_version": "1.0.0",
      "model_name": "OutputModel",
      "state": {
       "layout": "IPY_MODEL_44a5005003cf4707932afc268a311656",
       "outputs": [
        {
         "name": "stdout",
         "output_type": "stream",
         "text": "0.0 5.0\n"
        }
       ]
      }
     },
     "caeff6c6e28b4e6bb08a96ce112de9d4": {
      "model_module": "@jupyter-widgets/base",
      "model_module_version": "1.1.0",
      "model_name": "LayoutModel",
      "state": {}
     },
     "cb02d590e2a24a339ce5b4bc6bbf03ef": {
      "model_module": "@jupyter-widgets/base",
      "model_module_version": "1.1.0",
      "model_name": "LayoutModel",
      "state": {}
     },
     "cc2f9a0ccee44646aaa6eb4b2877b2c3": {
      "model_module": "@jupyter-widgets/controls",
      "model_module_version": "1.4.0",
      "model_name": "VBoxModel",
      "state": {
       "_dom_classes": [
        "widget-interact"
       ],
       "children": [
        "IPY_MODEL_0b6b1af2bebf43bc8f756feebfd5a9bd",
        "IPY_MODEL_d0bdf6d2fb7647b0bf6cc858da55a3ff",
        "IPY_MODEL_69361f023a2749aab45869b136e0fb17"
       ],
       "layout": "IPY_MODEL_7316fdff39e04815833ef4947fee383d"
      }
     },
     "cd9df478fc9745bda1a3e291e467fa73": {
      "model_module": "@jupyter-widgets/controls",
      "model_module_version": "1.4.0",
      "model_name": "HBoxModel",
      "state": {
       "children": [
        "IPY_MODEL_ffb3c03d22994d4eac5132b72351d57b",
        "IPY_MODEL_d18caf1f35394938b1e9d91994a047fa",
        "IPY_MODEL_e075b1152e294fd38d838c3a333cca6d"
       ],
       "layout": "IPY_MODEL_1c4e17ab4e1c427cb043fcdba1f29ed2"
      }
     },
     "cf2575a6f5134b308d55faadcc598239": {
      "model_module": "@jupyter-widgets/controls",
      "model_module_version": "1.4.0",
      "model_name": "FloatSliderModel",
      "state": {
       "description": "x",
       "layout": "IPY_MODEL_9169b11493f54bf1adf293f432f16149",
       "max": 10,
       "step": 0.1,
       "style": "IPY_MODEL_0945d9ba1db242f7996cd93de82707b0",
       "value": 5
      }
     },
     "cf5aaa2d5b0847b3864a940a8009c291": {
      "model_module": "@jupyter-widgets/controls",
      "model_module_version": "1.4.0",
      "model_name": "FloatSliderModel",
      "state": {
       "description": "b",
       "layout": "IPY_MODEL_e941a4ad85d8474a8872aaeebf14b684",
       "max": 3,
       "min": -3,
       "step": 0.5,
       "style": "IPY_MODEL_0594a48a01524ecfb03b75430870ff01"
      }
     },
     "cfbe54fefdb44343a95023cfa476dac9": {
      "model_module": "@jupyter-widgets/controls",
      "model_module_version": "1.4.0",
      "model_name": "SliderStyleModel",
      "state": {
       "description_width": ""
      }
     },
     "cff1ee5cb71c467682dbcd85c59ee387": {
      "model_module": "@jupyter-widgets/base",
      "model_module_version": "1.1.0",
      "model_name": "LayoutModel",
      "state": {}
     },
     "cff2120225f34fcabd81b22e5c10409c": {
      "model_module": "@jupyter-widgets/controls",
      "model_module_version": "1.4.0",
      "model_name": "VBoxModel",
      "state": {
       "_dom_classes": [
        "widget-interact"
       ],
       "children": [
        "IPY_MODEL_853a93ceeb3140c5a252ff5a1e56b96d",
        "IPY_MODEL_60be07c4a40841e2b6a85e36bd93e0f0",
        "IPY_MODEL_ca579cf2d6fa423e8b0c01f001a9cb41"
       ],
       "layout": "IPY_MODEL_442d774e53624f9b85ca6801864a10b4"
      }
     },
     "d082545ab61c476fbd11d0e4a86d9ece": {
      "model_module": "@jupyter-widgets/base",
      "model_module_version": "1.1.0",
      "model_name": "LayoutModel",
      "state": {}
     },
     "d09cb60b683f45e297626038567a074e": {
      "model_module": "@jupyter-widgets/controls",
      "model_module_version": "1.4.0",
      "model_name": "VBoxModel",
      "state": {
       "_dom_classes": [
        "widget-interact"
       ],
       "children": [
        "IPY_MODEL_e678482b92c044f3b5b24e61a8b3c5bd",
        "IPY_MODEL_c666449c953b4e9f9cd54f66f75d7269"
       ],
       "layout": "IPY_MODEL_c879067a9aa544f7a4518f1aafab2c6a"
      }
     },
     "d0bdf6d2fb7647b0bf6cc858da55a3ff": {
      "model_module": "@jupyter-widgets/controls",
      "model_module_version": "1.4.0",
      "model_name": "FloatSliderModel",
      "state": {
       "description": "y",
       "layout": "IPY_MODEL_8d1b1d5c3f45420d90a48f2611f07144",
       "max": 3,
       "min": -1,
       "step": 0.1,
       "style": "IPY_MODEL_9bfa79e9fa0d447da3c162a38545582a",
       "value": 1
      }
     },
     "d0d66c4182ad4fe687e3388819f8de3e": {
      "model_module": "@jupyter-widgets/controls",
      "model_module_version": "1.4.0",
      "model_name": "SliderStyleModel",
      "state": {
       "description_width": ""
      }
     },
     "d1841751618b4f64a5d8aff7437d9146": {
      "model_module": "@jupyter-widgets/base",
      "model_module_version": "1.1.0",
      "model_name": "LayoutModel",
      "state": {}
     },
     "d18caf1f35394938b1e9d91994a047fa": {
      "model_module": "@jupyter-widgets/controls",
      "model_module_version": "1.4.0",
      "model_name": "IntSliderModel",
      "state": {
       "layout": "IPY_MODEL_caeff6c6e28b4e6bb08a96ce112de9d4",
       "style": "IPY_MODEL_01bf1a39bf26433a9734c0d0a3fb1ea7"
      }
     },
     "d1b68543684b4119a2be3076732ca200": {
      "model_module": "@jupyter-widgets/base",
      "model_module_version": "1.1.0",
      "model_name": "LayoutModel",
      "state": {}
     },
     "d2074ce69c7949b6a33b7ac5f333bc8b": {
      "model_module": "@jupyter-widgets/controls",
      "model_module_version": "1.4.0",
      "model_name": "VBoxModel",
      "state": {
       "_dom_classes": [
        "widget-interact"
       ],
       "children": [
        "IPY_MODEL_027fdc4bd5074e66adfbb6732874ef49",
        "IPY_MODEL_cf5aaa2d5b0847b3864a940a8009c291",
        "IPY_MODEL_50bf5db6aa694760b3d2ac80d03ac4bb"
       ],
       "layout": "IPY_MODEL_0958092831da4984b8ea57cec45d84c0"
      }
     },
     "d24e5412fe314b0bbcae4b1b1b13a37d": {
      "model_module": "@jupyter-widgets/output",
      "model_module_version": "1.0.0",
      "model_name": "OutputModel",
      "state": {
       "layout": "IPY_MODEL_24b23d4021b944a7a66d653aa197c6e0",
       "outputs": [
        {
         "data": {
          "text/plain": "5.5"
         },
         "metadata": {},
         "output_type": "display_data"
        }
       ]
      }
     },
     "d38ecb1814784d69a206c6dbf149a91a": {
      "model_module": "@jupyter-widgets/base",
      "model_module_version": "1.1.0",
      "model_name": "LayoutModel",
      "state": {}
     },
     "d4a58e3db7db44e6aa8805d139578ca2": {
      "model_module": "@jupyter-widgets/base",
      "model_module_version": "1.1.0",
      "model_name": "LayoutModel",
      "state": {}
     },
     "d4bd03cf1f0a4a01a4f5ed7e251f77e4": {
      "model_module": "@jupyter-widgets/base",
      "model_module_version": "1.1.0",
      "model_name": "LayoutModel",
      "state": {}
     },
     "d4c26ee816c04fcbb3e3369a47670386": {
      "model_module": "@jupyter-widgets/base",
      "model_module_version": "1.1.0",
      "model_name": "LayoutModel",
      "state": {}
     },
     "d52426a518434cf78cf4f42f9d49d824": {
      "model_module": "@jupyter-widgets/controls",
      "model_module_version": "1.4.0",
      "model_name": "HBoxModel",
      "state": {
       "children": [
        "IPY_MODEL_a061662c53e84615ab22e00f4c6caec1",
        "IPY_MODEL_87b6569339334be58b858807b040f7cc",
        "IPY_MODEL_3e724742919144a08a2c9c88a170cd26"
       ],
       "layout": "IPY_MODEL_f2af6ee6395e4f6ca1391848f0bc2059"
      }
     },
     "d708c16ad4e645a5bedad7c85a666544": {
      "model_module": "@jupyter-widgets/controls",
      "model_module_version": "1.4.0",
      "model_name": "FloatSliderModel",
      "state": {
       "description": "x",
       "layout": "IPY_MODEL_950683eaca0e4eb0bf5d8dc3c1413435",
       "max": 10,
       "step": 0.05,
       "style": "IPY_MODEL_18cbb06d65eb4a16908365899cb0aba3"
      }
     },
     "d81de40ebef544a19781c32197b01f57": {
      "model_module": "@jupyter-widgets/controls",
      "model_module_version": "1.4.0",
      "model_name": "SliderStyleModel",
      "state": {
       "description_width": ""
      }
     },
     "d81e4389c79d4208bf378ae04d2e688b": {
      "model_module": "@jupyter-widgets/controls",
      "model_module_version": "1.4.0",
      "model_name": "IntSliderModel",
      "state": {
       "description": "b",
       "layout": "IPY_MODEL_095ee59539354749ab8e28dd9c18cf9a",
       "max": 60,
       "min": -20,
       "style": "IPY_MODEL_525209fdbe0a4b86b145ff2c3ba991cd",
       "value": 20
      }
     },
     "d829e71d520f45c2babd61343c8c3403": {
      "model_module": "@jupyter-widgets/controls",
      "model_module_version": "1.4.0",
      "model_name": "VBoxModel",
      "state": {
       "_dom_classes": [
        "widget-interact"
       ],
       "children": [
        "IPY_MODEL_9204c17374944ccb81ed6edd080f62a8",
        "IPY_MODEL_c806bd5b0c3041c0b38f59cf53b42144"
       ],
       "layout": "IPY_MODEL_b1f9e0d181bf46d8baea0a962bedaf6a"
      }
     },
     "d865aff4d8e14b9aaaa566f29f943d12": {
      "model_module": "@jupyter-widgets/base",
      "model_module_version": "1.1.0",
      "model_name": "LayoutModel",
      "state": {}
     },
     "da05afc850d9472fb2f0fcf7b03dcbea": {
      "model_module": "@jupyter-widgets/controls",
      "model_module_version": "1.4.0",
      "model_name": "SliderStyleModel",
      "state": {
       "description_width": ""
      }
     },
     "da142600dede46f7bc26976165f42142": {
      "model_module": "@jupyter-widgets/base",
      "model_module_version": "1.1.0",
      "model_name": "LayoutModel",
      "state": {}
     },
     "da65e9a78acd451fac28aa9da10e9229": {
      "model_module": "@jupyter-widgets/base",
      "model_module_version": "1.1.0",
      "model_name": "LayoutModel",
      "state": {}
     },
     "db7d7fab789b40faa0f44d9d489ebda1": {
      "model_module": "@jupyter-widgets/base",
      "model_module_version": "1.1.0",
      "model_name": "LayoutModel",
      "state": {}
     },
     "dc4b7256d928401e8988986349c281b5": {
      "model_module": "@jupyter-widgets/base",
      "model_module_version": "1.1.0",
      "model_name": "LayoutModel",
      "state": {}
     },
     "dc5e6dbaaa0a4a3380c8140720430d2e": {
      "model_module": "@jupyter-widgets/base",
      "model_module_version": "1.1.0",
      "model_name": "LayoutModel",
      "state": {}
     },
     "de09bf16808749f7960dae91bd70a1a3": {
      "model_module": "@jupyter-widgets/base",
      "model_module_version": "1.1.0",
      "model_name": "LayoutModel",
      "state": {}
     },
     "dedf8f0f1c5849468f08fe290a287377": {
      "model_module": "@jupyter-widgets/controls",
      "model_module_version": "1.4.0",
      "model_name": "DropdownModel",
      "state": {
       "_options_labels": [
        "one",
        "two"
       ],
       "description": "x",
       "index": 0,
       "layout": "IPY_MODEL_dc4b7256d928401e8988986349c281b5",
       "style": "IPY_MODEL_688d7d0b4ac84837979d027de4f1c200"
      }
     },
     "df69181f8f38429cbe012a8e4ca894c6": {
      "model_module": "@jupyter-widgets/controls",
      "model_module_version": "1.4.0",
      "model_name": "FloatSliderModel",
      "state": {
       "description": "x",
       "layout": "IPY_MODEL_2cd495b8dfba40358c7e1a57d1c19549",
       "max": 10,
       "step": 0.01,
       "style": "IPY_MODEL_85161524c16e4836a488ad9a577dd9ee",
       "value": 5
      }
     },
     "df697556bcef495f84485aca04873670": {
      "model_module": "@jupyter-widgets/base",
      "model_module_version": "1.1.0",
      "model_name": "LayoutModel",
      "state": {}
     },
     "dfabddc6056b4a1bb233ae996956108a": {
      "model_module": "@jupyter-widgets/base",
      "model_module_version": "1.1.0",
      "model_name": "LayoutModel",
      "state": {}
     },
     "e06cf4d00b984cd89b460ab13321db49": {
      "model_module": "@jupyter-widgets/controls",
      "model_module_version": "1.4.0",
      "model_name": "SliderStyleModel",
      "state": {
       "description_width": ""
      }
     },
     "e075b1152e294fd38d838c3a333cca6d": {
      "model_module": "@jupyter-widgets/controls",
      "model_module_version": "1.4.0",
      "model_name": "IntSliderModel",
      "state": {
       "layout": "IPY_MODEL_87c33f3da654486387892ab6bb7409f6",
       "style": "IPY_MODEL_ca32ae2961354694bfb56c867b485397"
      }
     },
     "e10eb4630aee47699d6870f9d69653b6": {
      "model_module": "@jupyter-widgets/base",
      "model_module_version": "1.1.0",
      "model_name": "LayoutModel",
      "state": {}
     },
     "e47d8ed3d8b64c33b7be6d6fbb5c8043": {
      "model_module": "@jupyter-widgets/controls",
      "model_module_version": "1.4.0",
      "model_name": "CheckboxModel",
      "state": {
       "description": "x",
       "disabled": false,
       "layout": "IPY_MODEL_983cd3aa2dae439b9a2c451b63cfa372",
       "style": "IPY_MODEL_7d9f82e664c143e0b45a9df5ed8ce416",
       "value": true
      }
     },
     "e566dc46f0d444fd9b7de92929228c75": {
      "model_module": "@jupyter-widgets/controls",
      "model_module_version": "1.4.0",
      "model_name": "SliderStyleModel",
      "state": {
       "description_width": ""
      }
     },
     "e678482b92c044f3b5b24e61a8b3c5bd": {
      "model_module": "@jupyter-widgets/controls",
      "model_module_version": "1.4.0",
      "model_name": "DropdownModel",
      "state": {
       "_options_labels": [
        "apples",
        "oranges"
       ],
       "description": "x",
       "index": 0,
       "layout": "IPY_MODEL_7685a1ab44f344b98a06dcbf1c352b33",
       "style": "IPY_MODEL_3892e4ccf3804360b20fd8fb9f79483f"
      }
     },
     "e6e3abd3ef084d7e8a86f101db541446": {
      "model_module": "@jupyter-widgets/controls",
      "model_module_version": "1.4.0",
      "model_name": "SliderStyleModel",
      "state": {
       "description_width": ""
      }
     },
     "e941a4ad85d8474a8872aaeebf14b684": {
      "model_module": "@jupyter-widgets/base",
      "model_module_version": "1.1.0",
      "model_name": "LayoutModel",
      "state": {}
     },
     "e9eea41420094fceb5a022da44ba2f3a": {
      "model_module": "@jupyter-widgets/output",
      "model_module_version": "1.0.0",
      "model_name": "OutputModel",
      "state": {
       "layout": "IPY_MODEL_576fad54af3b4d4bbf998cb092468bcc",
       "outputs": [
        {
         "data": {
          "text/plain": "True"
         },
         "metadata": {},
         "output_type": "display_data"
        }
       ]
      }
     },
     "ea54de5f9937488cb8664170ee85adbb": {
      "model_module": "@jupyter-widgets/base",
      "model_module_version": "1.1.0",
      "model_name": "LayoutModel",
      "state": {}
     },
     "eb6bea597030412eb752a7092beaf6d1": {
      "model_module": "@jupyter-widgets/output",
      "model_module_version": "1.0.0",
      "model_name": "OutputModel",
      "state": {
       "layout": "IPY_MODEL_d4bd03cf1f0a4a01a4f5ed7e251f77e4",
       "outputs": [
        {
         "data": {
          "text/plain": "2"
         },
         "metadata": {},
         "output_type": "display_data"
        }
       ]
      }
     },
     "ecb567d1db1c4676a924ebbb2de0d6c8": {
      "model_module": "@jupyter-widgets/base",
      "model_module_version": "1.1.0",
      "model_name": "LayoutModel",
      "state": {}
     },
     "ed612e0669e44a629579767d337e48cf": {
      "model_module": "@jupyter-widgets/controls",
      "model_module_version": "1.4.0",
      "model_name": "SliderStyleModel",
      "state": {
       "description_width": ""
      }
     },
     "ede2e80beee94c598d75418817d733b4": {
      "model_module": "@jupyter-widgets/controls",
      "model_module_version": "1.4.0",
      "model_name": "VBoxModel",
      "state": {
       "_dom_classes": [
        "widget-interact"
       ],
       "children": [
        "IPY_MODEL_df69181f8f38429cbe012a8e4ca894c6",
        "IPY_MODEL_06e90021ca01419c89be5685aaabc2a7"
       ],
       "layout": "IPY_MODEL_47aa608972ba4ebb8ec7e3554f2b7ca8"
      }
     },
     "ede64d1b44dd46d0a790f16d9901fcfb": {
      "model_module": "@jupyter-widgets/base",
      "model_module_version": "1.1.0",
      "model_name": "LayoutModel",
      "state": {}
     },
     "ee693b598fe748a0b28887ac0c74fbf5": {
      "model_module": "@jupyter-widgets/base",
      "model_module_version": "1.1.0",
      "model_name": "LayoutModel",
      "state": {}
     },
     "eed3960b15e24c7184551e100df18e29": {
      "model_module": "@jupyter-widgets/base",
      "model_module_version": "1.1.0",
      "model_name": "LayoutModel",
      "state": {}
     },
     "efa6dff08d4042cfa4cad4ea2cd9b0d3": {
      "model_module": "@jupyter-widgets/output",
      "model_module_version": "1.0.0",
      "model_name": "OutputModel",
      "state": {
       "layout": "IPY_MODEL_d1b68543684b4119a2be3076732ca200",
       "outputs": [
        {
         "data": {
          "text/plain": "True"
         },
         "metadata": {},
         "output_type": "display_data"
        }
       ]
      }
     },
     "f017034bad844811a5e630e1ab8a8374": {
      "model_module": "@jupyter-widgets/controls",
      "model_module_version": "1.4.0",
      "model_name": "TextModel",
      "state": {
       "description": "x",
       "layout": "IPY_MODEL_5419845e6fa2435b93c1a6f87c18ee5c",
       "style": "IPY_MODEL_75fdd3aae3aa499bab56a631be096389",
       "value": "Hi there!"
      }
     },
     "f033f0e3edcf43ccb1a2acd6d425f76b": {
      "model_module": "@jupyter-widgets/controls",
      "model_module_version": "1.4.0",
      "model_name": "VBoxModel",
      "state": {
       "_dom_classes": [
        "widget-interact"
       ],
       "children": [
        "IPY_MODEL_fc0ac8c971d84732aa5f5ea820588ec3",
        "IPY_MODEL_7b9939a164ec4fd696a024e553a24273"
       ],
       "layout": "IPY_MODEL_934beb95bef145d6b97c248dc615544d"
      }
     },
     "f05ea4c0431d497594c95fe7ea6a1c62": {
      "model_module": "@jupyter-widgets/controls",
      "model_module_version": "1.4.0",
      "model_name": "SliderStyleModel",
      "state": {
       "description_width": ""
      }
     },
     "f0c2430c49964174b2b98c396ab47f8e": {
      "model_module": "@jupyter-widgets/base",
      "model_module_version": "1.1.0",
      "model_name": "LayoutModel",
      "state": {}
     },
     "f1100fa9023b4a94b04fd8806cf233f4": {
      "model_module": "@jupyter-widgets/controls",
      "model_module_version": "1.4.0",
      "model_name": "IntSliderModel",
      "state": {
       "layout": "IPY_MODEL_977b088fd70d40359207eb02dbf582cc",
       "style": "IPY_MODEL_6e51d1f35be043259224d7044c086bfd"
      }
     },
     "f13e3a632d434d6d9c213c394081e6a8": {
      "model_module": "@jupyter-widgets/base",
      "model_module_version": "1.1.0",
      "model_name": "LayoutModel",
      "state": {}
     },
     "f1569b30fba34dbda38fb0e3e45fe5da": {
      "model_module": "@jupyter-widgets/output",
      "model_module_version": "1.0.0",
      "model_name": "OutputModel",
      "state": {
       "layout": "IPY_MODEL_c2f91454820c41058b0916f4d5e09931",
       "outputs": [
        {
         "data": {
          "image/png": "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\n",
          "text/plain": "<Figure size 432x288 with 1 Axes>"
         },
         "metadata": {
          "needs_background": "light"
         },
         "output_type": "display_data"
        }
       ]
      }
     },
     "f1688f748fe44bc3956d8b4c6da2989a": {
      "model_module": "@jupyter-widgets/base",
      "model_module_version": "1.1.0",
      "model_name": "LayoutModel",
      "state": {}
     },
     "f214d6b566414689b109bcaf9ed02d67": {
      "model_module": "@jupyter-widgets/base",
      "model_module_version": "1.1.0",
      "model_name": "LayoutModel",
      "state": {}
     },
     "f2af6ee6395e4f6ca1391848f0bc2059": {
      "model_module": "@jupyter-widgets/base",
      "model_module_version": "1.1.0",
      "model_name": "LayoutModel",
      "state": {}
     },
     "f2e4c20a04574f24925881a53099a302": {
      "model_module": "@jupyter-widgets/base",
      "model_module_version": "1.1.0",
      "model_name": "LayoutModel",
      "state": {}
     },
     "f39737212c574fff85fd23e11c718bf3": {
      "model_module": "@jupyter-widgets/base",
      "model_module_version": "1.1.0",
      "model_name": "LayoutModel",
      "state": {}
     },
     "f4360071d1004580bf5408bf785e1c9d": {
      "model_module": "@jupyter-widgets/controls",
      "model_module_version": "1.4.0",
      "model_name": "VBoxModel",
      "state": {
       "_dom_classes": [
        "widget-interact"
       ],
       "children": [
        "IPY_MODEL_bab43214a622472ea72d93065f73d2d2",
        "IPY_MODEL_7606fe77ccab4bc6afd865978bc7e5be"
       ],
       "layout": "IPY_MODEL_a267f58ff8324debabccb0279bf2a287"
      }
     },
     "f5296e817f674bd5bdaa5a7b8bd29ca9": {
      "model_module": "@jupyter-widgets/controls",
      "model_module_version": "1.4.0",
      "model_name": "SliderStyleModel",
      "state": {
       "description_width": ""
      }
     },
     "f558da4bd74747df81d36c9a44e28df3": {
      "model_module": "@jupyter-widgets/controls",
      "model_module_version": "1.4.0",
      "model_name": "DescriptionStyleModel",
      "state": {
       "description_width": ""
      }
     },
     "f5f267b9582e4bdbb80f5e5313b94e8f": {
      "model_module": "@jupyter-widgets/base",
      "model_module_version": "1.1.0",
      "model_name": "LayoutModel",
      "state": {}
     },
     "f60a4790a75d47b1ba6c6a675ea2e36b": {
      "model_module": "@jupyter-widgets/controls",
      "model_module_version": "1.4.0",
      "model_name": "IntSliderModel",
      "state": {
       "description": "p",
       "layout": "IPY_MODEL_25382077986c42c68b02a22931922636",
       "max": 15,
       "min": -5,
       "style": "IPY_MODEL_09ad3046bcec4f739c1aec28f8bb8596",
       "value": 5
      }
     },
     "f66e2484398441d29868e1b00d491c5d": {
      "model_module": "@jupyter-widgets/controls",
      "model_module_version": "1.4.0",
      "model_name": "ButtonModel",
      "state": {
       "description": "Run Interact",
       "layout": "IPY_MODEL_95e8d18ca86d408a99f6fbc95a96edfe",
       "style": "IPY_MODEL_1071d6ed008d4d31b50eb45324e3268a"
      }
     },
     "f7aa92f05c1b4b85b0ac310426f58d7c": {
      "model_module": "@jupyter-widgets/base",
      "model_module_version": "1.1.0",
      "model_name": "LayoutModel",
      "state": {}
     },
     "f8127d990ffc4db4874ac1a9472177c0": {
      "model_module": "@jupyter-widgets/controls",
      "model_module_version": "1.4.0",
      "model_name": "FloatSliderModel",
      "state": {
       "description": "x",
       "layout": "IPY_MODEL_d4a58e3db7db44e6aa8805d139578ca2",
       "max": 20,
       "step": 0.5,
       "style": "IPY_MODEL_c6f222a7167447ec9ca93290a1c96a40",
       "value": 5.5
      }
     },
     "f8d77c653f4f4719b1071872033e862a": {
      "model_module": "@jupyter-widgets/controls",
      "model_module_version": "1.4.0",
      "model_name": "IntSliderModel",
      "state": {
       "description": "x",
       "layout": "IPY_MODEL_0915bed033034002ac2481442b52dfc2",
       "max": 30,
       "min": -10,
       "style": "IPY_MODEL_bd889a0f1bd74b859f8940863b54fe9e",
       "value": 10
      }
     },
     "f8f53a5d93ea4866a46b0ff106fca80c": {
      "model_module": "@jupyter-widgets/controls",
      "model_module_version": "1.4.0",
      "model_name": "FloatSliderModel",
      "state": {
       "continuous_update": false,
       "description": "i",
       "layout": "IPY_MODEL_adb6797e127b47e29a348f69e2387165",
       "max": 10000000,
       "min": 100000,
       "step": 100000,
       "style": "IPY_MODEL_19a38ad4e60f4e7ca1290008f58ebd40",
       "value": 100000
      }
     },
     "fc0ac8c971d84732aa5f5ea820588ec3": {
      "model_module": "@jupyter-widgets/controls",
      "model_module_version": "1.4.0",
      "model_name": "IntSliderModel",
      "state": {
       "description": "x",
       "layout": "IPY_MODEL_de09bf16808749f7960dae91bd70a1a3",
       "max": 30,
       "min": -10,
       "style": "IPY_MODEL_640e6be17c28412e843a168b0aa558b6",
       "value": 10
      }
     },
     "fd767d0532654a2abbbf19cb575bf0a9": {
      "model_module": "@jupyter-widgets/controls",
      "model_module_version": "1.4.0",
      "model_name": "FloatSliderModel",
      "state": {
       "description": "y",
       "layout": "IPY_MODEL_4c52785e0a6346579b52fbdc7d900e2f",
       "max": 10,
       "min": 0.5,
       "step": 0.05,
       "style": "IPY_MODEL_d0d66c4182ad4fe687e3388819f8de3e",
       "value": 5
      }
     },
     "fdf8aaaccd0448f59a409b2e91cd822f": {
      "model_module": "@jupyter-widgets/controls",
      "model_module_version": "1.4.0",
      "model_name": "SliderStyleModel",
      "state": {
       "description_width": ""
      }
     },
     "fe6b93347ea94de5b43d514f9236f84a": {
      "model_module": "@jupyter-widgets/controls",
      "model_module_version": "1.4.0",
      "model_name": "VBoxModel",
      "state": {
       "_dom_classes": [
        "widget-interact"
       ],
       "children": [
        "IPY_MODEL_a4a2b5d61adf493390fd1d836ba8b50d",
        "IPY_MODEL_5900a8b485984804b49fc3e1723beeb2"
       ],
       "layout": "IPY_MODEL_da65e9a78acd451fac28aa9da10e9229"
      }
     },
     "ffb3c03d22994d4eac5132b72351d57b": {
      "model_module": "@jupyter-widgets/controls",
      "model_module_version": "1.4.0",
      "model_name": "IntSliderModel",
      "state": {
       "layout": "IPY_MODEL_80da7e7f1c144043bcf5fcc60af65e77",
       "style": "IPY_MODEL_f5296e817f674bd5bdaa5a7b8bd29ca9"
      }
     }
    },
    "version_major": 2,
    "version_minor": 0
   }
  }
 },
 "nbformat": 4,
 "nbformat_minor": 1
}
