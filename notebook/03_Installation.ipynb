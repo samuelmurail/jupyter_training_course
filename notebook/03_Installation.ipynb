{
 "cells": [
  {
   "cell_type": "code",
   "execution_count": 3,
   "metadata": {
    "slideshow": {
     "slide_type": "notes"
    }
   },
   "outputs": [
    {
     "data": {
      "text/html": [
       "<style> \n",
       "\n",
       "code {background-color : lightgrey !important;} \n",
       "\n",
       ".CodeMirror {\n",
       "    width: 100vw;\n",
       "}\n",
       "\n",
       ".rendered_html {\n",
       "  font-size:0.8em;\n",
       "  line-height: 90%; \n",
       "}\n",
       ".rendered_html table, .rendered_html th, .rendered_html tr, .rendered_html td {\n",
       "     font-size: 100%;\n",
       "}\n",
       "\n",
       "\n",
       "\n",
       "</style>\n",
       "\n",
       "<!-- To use only for presentation :\n",
       ".container {\n",
       "    width: 99% !important;\n",
       "}\n",
       ">"
      ],
      "text/plain": [
       "<IPython.core.display.HTML object>"
      ]
     },
     "metadata": {},
     "output_type": "display_data"
    }
   ],
   "source": [
    "%%HTML\n",
    "<style> \n",
    "\n",
    "code {background-color : lightgrey !important;} \n",
    "\n",
    ".CodeMirror {\n",
    "    width: 100vw;\n",
    "}\n",
    "\n",
    ".rendered_html {\n",
    "  font-size:0.8em;\n",
    "  line-height: 90%; \n",
    "}\n",
    ".rendered_html table, .rendered_html th, .rendered_html tr, .rendered_html td {\n",
    "     font-size: 100%;\n",
    "}\n",
    "\n",
    "\n",
    "\n",
    "</style>\n",
    "\n",
    "<!-- To use only for presentation :\n",
    ".container {\n",
    "    width: 99% !important;\n",
    "}\n",
    ">"
   ]
  },
  {
   "cell_type": "code",
   "execution_count": 2,
   "metadata": {
    "slideshow": {
     "slide_type": "notes"
    }
   },
   "outputs": [
    {
     "data": {
      "text/html": [
       "<!-- Not content, but for better presentation styles -->\n",
       "<style>\n",
       ".rise-enabled .rendered_html table.dataframe {\n",
       "    font-size: 16px;\n",
       "}\n",
       ".rendered_html code {\n",
       "    background: #EFEFEF;\n",
       "    border: 1px solid #CCC;\n",
       "    padding: 1px 5px;\n",
       "    border-radius: 1px;\n",
       "}\n",
       ".rise-enabled .fa-times-circle:before,\n",
       ".rise-enabled .fa-question:before,\n",
       ".rise-enabled aside.controls {\n",
       "    opacity: 0.1;\n",
       "}\n",
       ".rise-enabled a,\n",
       ".rise-enabled a:active,\n",
       ".rise-enabled a:hover,\n",
       ".rise-enabled a:visited,\n",
       ".rise-enabled :link {\n",
       "    text-decoration: none;\n",
       "    color: #A68910;\n",
       "}\n",
       "</style>"
      ],
      "text/plain": [
       "<IPython.core.display.HTML object>"
      ]
     },
     "metadata": {},
     "output_type": "display_data"
    }
   ],
   "source": [
    "%%HTML\n",
    "<!-- Not content, but for better presentation styles -->\n",
    "<style>\n",
    ".rise-enabled .rendered_html table.dataframe {\n",
    "    font-size: 16px;\n",
    "}\n",
    ".rendered_html code {\n",
    "    background: #EFEFEF;\n",
    "    border: 1px solid #CCC;\n",
    "    padding: 1px 5px;\n",
    "    border-radius: 1px;\n",
    "}\n",
    ".rise-enabled .fa-times-circle:before,\n",
    ".rise-enabled .fa-question:before,\n",
    ".rise-enabled aside.controls {\n",
    "    opacity: 0.1;\n",
    "}\n",
    ".rise-enabled a,\n",
    ".rise-enabled a:active,\n",
    ".rise-enabled a:hover,\n",
    ".rise-enabled a:visited,\n",
    ".rise-enabled :link {\n",
    "    text-decoration: none;\n",
    "    color: #A68910;\n",
    "}\n",
    "</style>"
   ]
  },
  {
   "cell_type": "markdown",
   "metadata": {},
   "source": [
    "(Exercise: IJulia, IPerl, Fortran ?)\n",
    "https://github.com/ipython-books/cookbook-2nd-code/blob/master/chapter05_hpc/12_julia.ipynb\n",
    "https://github.com/JuliaLang/IJulia.jl\n",
    "https://nbviewer.jupyter.org/github/zmughal/zmughal-iperl-notebooks/blob/master/IPerl-demos/20150209_IPerl_display_demo.ipynb\n",
    "https://pypi.org/project/jupyter-fortran-kernel/#files\n",
    "(Exercise: install from Docker)\n",
    "https://hub.docker.com/r/jupyterhub/jupyterhub/\n",
    "\n",
    "\n",
    "Installing Jupyter (or not)\n",
    "Zero installation (server-client)\n",
    "Local installation:\n",
    "\t- Pip (--user)\n",
    "\t- Conda environment\n",
    "\t   What can be harder:\n",
    "\t\t- Extra stuff (kernels, widgets)\n",
    "\t\t- Config, JupyterHub (see below)\n",
    "\t\t- Conda: Stability issues: https://github.com/conda/conda/issues/7690\n",
    "\t\t- Conda: compilers.\n",
    "R needs Fortran and does not find the right library\n",
    "R plots look weird!\n",
    "gcc needs to be on the command line, and Cython/cffi can't find it\n",
    "\t- Docker\n",
    "https://github.com/Paperspace/jupyter-docker-stacks/tree/master/scipy-notebook\n",
    "Jupyter configuration file\n",
    "\tDefault work well for single local user (not web)\n",
    "\tFor most of you, talk to you system admin\n",
    "Jupyter notebook vs JupyterHub\n",
    "https://jupyterhub.readthedocs.io/en/stable/quickstart-docker.html\n"
   ]
  }
 ],
 "metadata": {
  "celltoolbar": "Slideshow",
  "kernelspec": {
   "display_name": "Python 3",
   "language": "python",
   "name": "python3"
  },
  "language_info": {
   "codemirror_mode": {
    "name": "ipython",
    "version": 3
   },
   "file_extension": ".py",
   "mimetype": "text/x-python",
   "name": "python",
   "nbconvert_exporter": "python",
   "pygments_lexer": "ipython3",
   "version": "3.6.7"
  }
 },
 "nbformat": 4,
 "nbformat_minor": 2
}
