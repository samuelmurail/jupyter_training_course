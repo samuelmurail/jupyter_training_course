{
 "cells": [
  {
   "cell_type": "markdown",
   "metadata": {},
   "source": [
    "## Imports"
   ]
  },
  {
   "cell_type": "code",
   "execution_count": 1,
   "metadata": {},
   "outputs": [],
   "source": [
    "import numpy as np\n",
    "import pandas as pd\n",
    "import matplotlib"
   ]
  },
  {
   "cell_type": "markdown",
   "metadata": {},
   "source": [
    "## Notebook customisation"
   ]
  },
  {
   "cell_type": "code",
   "execution_count": 2,
   "metadata": {},
   "outputs": [],
   "source": [
    "# Change default size of plots\n",
    "matplotlib.rcParams['figure.figsize'] = (10.0, 5.0)\n",
    "%matplotlib inline\n",
    "%config InlineBackend.figure_format = 'retina'"
   ]
  },
  {
   "cell_type": "markdown",
   "metadata": {
    "slideshow": {
     "slide_type": "slide"
    }
   },
   "source": [
    "# Numpy"
   ]
  },
  {
   "cell_type": "markdown",
   "metadata": {
    "slideshow": {
     "slide_type": "slide"
    }
   },
   "source": [
    "## NumPy Basics\n",
    "\n",
    "Numpy from _Numerical Python_ is the fundamental package for scientific computing with Python. A lot of package are using _Numpy_'s object like pandas. \n",
    "\n",
    "Features according to [Numpy website](https://www.numpy.org/):\n",
    "- a powerful N-dimensional array object\n",
    "- sophisticated (broadcasting) functions\n",
    "- tools for integrating C/C++ and Fortran code\n",
    "- useful linear algebra, Fourier transform, and random number capabilities\n",
    "\n",
    "By convention most people use this command to import _Numpy_:\n",
    "\n",
    "```python\n",
    "import numpy as np\n",
    "```"
   ]
  },
  {
   "cell_type": "markdown",
   "metadata": {
    "slideshow": {
     "slide_type": "slide"
    }
   },
   "source": [
    "## Numpy array"
   ]
  },
  {
   "cell_type": "code",
   "execution_count": 3,
   "metadata": {
    "slideshow": {
     "slide_type": "fragment"
    }
   },
   "outputs": [
    {
     "data": {
      "text/plain": [
       "array([[ 8. ,  4.5, 10. , 50. ],\n",
       "       [25. , 65. , 20.3, 89. ]])"
      ]
     },
     "execution_count": 3,
     "metadata": {},
     "output_type": "execute_result"
    }
   ],
   "source": [
    "data = [[8, 4.5, 10, 50],\n",
    "        [25., 65, 20.3, 89]]\n",
    "\n",
    "data_np = np.array(data)\n",
    "data_np"
   ]
  },
  {
   "cell_type": "code",
   "execution_count": 4,
   "metadata": {
    "slideshow": {
     "slide_type": "fragment"
    }
   },
   "outputs": [
    {
     "data": {
      "text/plain": [
       "2"
      ]
     },
     "execution_count": 4,
     "metadata": {},
     "output_type": "execute_result"
    }
   ],
   "source": [
    "data_np.ndim"
   ]
  },
  {
   "cell_type": "code",
   "execution_count": 5,
   "metadata": {
    "slideshow": {
     "slide_type": "fragment"
    }
   },
   "outputs": [
    {
     "data": {
      "text/plain": [
       "(2, 4)"
      ]
     },
     "execution_count": 5,
     "metadata": {},
     "output_type": "execute_result"
    }
   ],
   "source": [
    "data_np.shape"
   ]
  },
  {
   "cell_type": "code",
   "execution_count": 6,
   "metadata": {
    "slideshow": {
     "slide_type": "fragment"
    }
   },
   "outputs": [
    {
     "data": {
      "text/plain": [
       "dtype('float64')"
      ]
     },
     "execution_count": 6,
     "metadata": {},
     "output_type": "execute_result"
    }
   ],
   "source": [
    "data_np.dtype"
   ]
  },
  {
   "cell_type": "markdown",
   "metadata": {
    "slideshow": {
     "slide_type": "slide"
    }
   },
   "source": [
    "## Numpy array (2)\n",
    "\n",
    "Numpy array can be created from an existing list with `np.array()`. Other function are:\n",
    "- `np.arange()` same as range() but "
   ]
  },
  {
   "cell_type": "code",
   "execution_count": 9,
   "metadata": {
    "slideshow": {
     "slide_type": "fragment"
    }
   },
   "outputs": [],
   "source": [
    "a=np.arange(4, 10, 0.2)"
   ]
  },
  {
   "cell_type": "code",
   "execution_count": 10,
   "metadata": {},
   "outputs": [
    {
     "data": {
      "text/plain": [
       "(30,)"
      ]
     },
     "execution_count": 10,
     "metadata": {},
     "output_type": "execute_result"
    }
   ],
   "source": [
    "a.shape"
   ]
  },
  {
   "cell_type": "markdown",
   "metadata": {
    "slideshow": {
     "slide_type": "fragment"
    }
   },
   "source": [
    "- `np.ones()`, `np.zeros()` and `np.empty()` to create np array with respectively, 1, 0 or just allocate memory.   "
   ]
  },
  {
   "cell_type": "markdown",
   "metadata": {
    "slideshow": {
     "slide_type": "slide"
    }
   },
   "source": [
    "## Numpy array (3)\n",
    "\n",
    "The newaxis expression is used to increase the dimension"
   ]
  },
  {
   "cell_type": "code",
   "execution_count": 13,
   "metadata": {},
   "outputs": [
    {
     "data": {
      "text/plain": [
       "array([[ 0],\n",
       "       [10],\n",
       "       [20],\n",
       "       [30],\n",
       "       [40],\n",
       "       [50]])"
      ]
     },
     "execution_count": 13,
     "metadata": {},
     "output_type": "execute_result"
    }
   ],
   "source": [
    "a = np.arange(0, 51, 10)\n",
    "b = np.arange(0, 51, 10)[:,np.newaxis]\n",
    "b"
   ]
  },
  {
   "cell_type": "code",
   "execution_count": 14,
   "metadata": {},
   "outputs": [
    {
     "data": {
      "text/plain": [
       "array([0, 1, 2, 3, 4, 5])"
      ]
     },
     "execution_count": 14,
     "metadata": {},
     "output_type": "execute_result"
    }
   ],
   "source": [
    "np.arange(6)"
   ]
  },
  {
   "cell_type": "code",
   "execution_count": 8,
   "metadata": {
    "slideshow": {
     "slide_type": "fragment"
    }
   },
   "outputs": [
    {
     "data": {
      "text/plain": [
       "array([[ 0,  1,  2,  3,  4,  5],\n",
       "       [10, 11, 12, 13, 14, 15],\n",
       "       [20, 21, 22, 23, 24, 25],\n",
       "       [30, 31, 32, 33, 34, 35],\n",
       "       [40, 41, 42, 43, 44, 45],\n",
       "       [50, 51, 52, 53, 54, 55]])"
      ]
     },
     "execution_count": 8,
     "metadata": {},
     "output_type": "execute_result"
    }
   ],
   "source": [
    "np.arange(0, 51, 10)[:,np.newaxis] + np.arange(6)"
   ]
  },
  {
   "cell_type": "markdown",
   "metadata": {
    "slideshow": {
     "slide_type": "fragment"
    }
   },
   "source": [
    "<img src=\"pictures/numpy_indexing.png\" alt=\"Drawing\" style=\"float:center; width: 70%;\"/>\n",
    "\n",
    "<sup>source: http://scipy-lectures.org/intro/numpy/array_object.html</sup>"
   ]
  },
  {
   "cell_type": "markdown",
   "metadata": {
    "slideshow": {
     "slide_type": "slide"
    }
   },
   "source": [
    "## Numpy array (4)\n",
    "\n",
    "You can pass as argument the type of your array using the keyword `dtype`:\n",
    "- int8 ... int64, integers 8-bit to 64-bit\n",
    "- float16 ... float128, floating point from half precision to extended precision\n",
    "- complex64 ... complex256, complex numbers\n",
    "- bool, boolean type\n",
    "- object, string_, unicode_\n",
    "\n",
    "Note that in opposition to python list, numpy cannot mix different type of variable in the same array."
   ]
  },
  {
   "cell_type": "code",
   "execution_count": 69,
   "metadata": {
    "slideshow": {
     "slide_type": "fragment"
    }
   },
   "outputs": [
    {
     "data": {
      "text/plain": [
       "array([[1., 1., 1., 1., 1.],\n",
       "       [1., 1., 1., 1., 1.]], dtype=float32)"
      ]
     },
     "execution_count": 69,
     "metadata": {},
     "output_type": "execute_result"
    }
   ],
   "source": [
    "np.ones((2, 5), dtype=np.float32) # Standart single precision = float32"
   ]
  },
  {
   "cell_type": "markdown",
   "metadata": {
    "slideshow": {
     "slide_type": "slide"
    }
   },
   "source": [
    "## Linear Algebra"
   ]
  },
  {
   "cell_type": "code",
   "execution_count": 15,
   "metadata": {
    "slideshow": {
     "slide_type": "fragment"
    }
   },
   "outputs": [],
   "source": [
    "a = np.array([[1, 2, 3], [3, 4, 6.7], [5, 9.0, 5]])\n",
    "b = a.transpose()"
   ]
  },
  {
   "cell_type": "code",
   "execution_count": 16,
   "metadata": {
    "slideshow": {
     "slide_type": "fragment"
    }
   },
   "outputs": [
    {
     "data": {
      "text/plain": [
       "array([[-2.27683616,  1.04519774,  0.39548023],\n",
       "       [ 0.96045198, -0.56497175,  0.05649718],\n",
       "       [ 0.07909605,  0.1299435 , -0.11299435]])"
      ]
     },
     "execution_count": 16,
     "metadata": {},
     "output_type": "execute_result"
    }
   ],
   "source": [
    "np.linalg.inv(b)"
   ]
  },
  {
   "cell_type": "code",
   "execution_count": 35,
   "metadata": {
    "slideshow": {
     "slide_type": "fragment"
    }
   },
   "outputs": [
    {
     "data": {
      "text/plain": [
       "array([[ 4.64713306, 16.41449131, 19.24232856],\n",
       "       [ 7.49005688, 13.01884916,  8.13688624],\n",
       "       [10.31539264, 17.63964764,  9.81692078]])"
      ]
     },
     "execution_count": 35,
     "metadata": {},
     "output_type": "execute_result"
    }
   ],
   "source": [
    "b = np.random.rand(3, 3) * 20\n",
    "b"
   ]
  },
  {
   "cell_type": "code",
   "execution_count": 38,
   "metadata": {
    "slideshow": {
     "slide_type": "fragment"
    }
   },
   "outputs": [
    {
     "data": {
      "text/plain": [
       "array([[ 50.57342473,  95.37113254,  64.96686337],\n",
       "       [113.01475737, 219.50450973, 156.04789985],\n",
       "       [142.22314041, 287.44033717, 218.52822287]])"
      ]
     },
     "execution_count": 38,
     "metadata": {},
     "output_type": "execute_result"
    }
   ],
   "source": [
    "a @ c # Numpt>1.1 and python>3.5 otherwise use np.dot(a, b)\n",
    "#UNCLEAR"
   ]
  },
  {
   "cell_type": "markdown",
   "metadata": {
    "slideshow": {
     "slide_type": "slide"
    }
   },
   "source": [
    "## Numpy is fast !!\n",
    "\n",
    "Let's create a random list of 1 Million points and do the additon:"
   ]
  },
  {
   "cell_type": "code",
   "execution_count": 16,
   "metadata": {
    "scrolled": true,
    "slideshow": {
     "slide_type": "fragment"
    }
   },
   "outputs": [
    {
     "name": "stdout",
     "output_type": "stream",
     "text": [
      "76 ms ± 501 µs per loop (mean ± std. dev. of 7 runs, 10 loops each)\n"
     ]
    }
   ],
   "source": [
    "import random\n",
    "N = 1000000\n",
    "a = [random.random() for i in range(N)]\n",
    "b = [random.random() for i in range(N)]\n",
    "\n",
    "%timeit [a[i] + b[i] for i in range(N)]"
   ]
  },
  {
   "cell_type": "markdown",
   "metadata": {
    "slideshow": {
     "slide_type": "fragment"
    }
   },
   "source": [
    "And now with numpy :"
   ]
  },
  {
   "cell_type": "code",
   "execution_count": 19,
   "metadata": {
    "slideshow": {
     "slide_type": "fragment"
    }
   },
   "outputs": [
    {
     "name": "stdout",
     "output_type": "stream",
     "text": [
      "657 µs ± 5.06 µs per loop (mean ± std. dev. of 7 runs, 1000 loops each)\n"
     ]
    }
   ],
   "source": [
    "a_np = np.array(a)\n",
    "b_np = np.array(b)\n",
    "\n",
    "%timeit a_np + b_np"
   ]
  },
  {
   "cell_type": "markdown",
   "metadata": {
    "slideshow": {
     "slide_type": "slide"
    }
   },
   "source": [
    "## Numpy is fast !! (2)\n",
    "\n",
    "With numpy the operation is ~100 time faster. Let's have a look on buildin function like `sum()` and `np.sum()`:"
   ]
  },
  {
   "cell_type": "code",
   "execution_count": 20,
   "metadata": {
    "slideshow": {
     "slide_type": "fragment"
    }
   },
   "outputs": [
    {
     "name": "stdout",
     "output_type": "stream",
     "text": [
      "3.05 ms ± 16.2 µs per loop (mean ± std. dev. of 7 runs, 100 loops each)\n"
     ]
    }
   ],
   "source": [
    "%timeit sum_a = sum(a)"
   ]
  },
  {
   "cell_type": "code",
   "execution_count": 21,
   "metadata": {
    "slideshow": {
     "slide_type": "fragment"
    }
   },
   "outputs": [
    {
     "name": "stdout",
     "output_type": "stream",
     "text": [
      "371 µs ± 4.09 µs per loop (mean ± std. dev. of 7 runs, 1000 loops each)\n"
     ]
    }
   ],
   "source": [
    "%timeit sum_a = np.sum(a_np)"
   ]
  },
  {
   "cell_type": "markdown",
   "metadata": {
    "slideshow": {
     "slide_type": "fragment"
    }
   },
   "source": [
    "~10 time faster."
   ]
  },
  {
   "cell_type": "markdown",
   "metadata": {
    "slideshow": {
     "slide_type": "slide"
    }
   },
   "source": [
    "# Pandas"
   ]
  },
  {
   "cell_type": "markdown",
   "metadata": {
    "slideshow": {
     "slide_type": "slide"
    }
   },
   "source": [
    "## Pandas\n",
    "\n",
    "Like _Numpy_, _Pandas_ contains data structure and data manipulation tools, however _Panda_ can deal with heterogenous data while adopting _Numpy_'s array-based computing. \n",
    "\n",
    "By convention most people use this command to import pandas:\n",
    "\n",
    "```python\n",
    "import pandas as pd\n",
    "```\n",
    "\n",
    "_Pandas_ contains two important data structures $Series$ and $DataFrame$.\n"
   ]
  },
  {
   "cell_type": "markdown",
   "metadata": {
    "slideshow": {
     "slide_type": "slide"
    }
   },
   "source": [
    "## Pandas _Series_\n",
    "\n",
    "_Series_ are a one-dimention array objects. They contains sequence of values that can be associated to data labels or _index_."
   ]
  },
  {
   "cell_type": "code",
   "execution_count": 4,
   "metadata": {
    "slideshow": {
     "slide_type": "fragment"
    }
   },
   "outputs": [
    {
     "data": {
      "text/plain": [
       "a    0\n",
       "b    1\n",
       "c    2\n",
       "d    3\n",
       "e    4\n",
       "dtype: int64"
      ]
     },
     "execution_count": 4,
     "metadata": {},
     "output_type": "execute_result"
    }
   ],
   "source": [
    "test_serie = pd.Series(range(5), ['a', 'b', 'c', 'd', 'e'])\n",
    "test_serie"
   ]
  },
  {
   "cell_type": "code",
   "execution_count": 5,
   "metadata": {
    "slideshow": {
     "slide_type": "fragment"
    }
   },
   "outputs": [
    {
     "data": {
      "text/plain": [
       "4"
      ]
     },
     "execution_count": 5,
     "metadata": {},
     "output_type": "execute_result"
    }
   ],
   "source": [
    "test_serie.e "
   ]
  },
  {
   "cell_type": "code",
   "execution_count": 8,
   "metadata": {
    "slideshow": {
     "slide_type": "fragment"
    }
   },
   "outputs": [
    {
     "data": {
      "text/plain": [
       "4"
      ]
     },
     "execution_count": 8,
     "metadata": {},
     "output_type": "execute_result"
    }
   ],
   "source": [
    "test_serie['e']"
   ]
  },
  {
   "cell_type": "code",
   "execution_count": 7,
   "metadata": {
    "slideshow": {
     "slide_type": "fragment"
    }
   },
   "outputs": [
    {
     "data": {
      "text/plain": [
       "4"
      ]
     },
     "execution_count": 7,
     "metadata": {},
     "output_type": "execute_result"
    }
   ],
   "source": [
    "test_serie[4]"
   ]
  },
  {
   "cell_type": "markdown",
   "metadata": {
    "slideshow": {
     "slide_type": "slide"
    }
   },
   "source": [
    "## Operation on series"
   ]
  },
  {
   "cell_type": "code",
   "execution_count": 82,
   "metadata": {
    "slideshow": {
     "slide_type": "fragment"
    }
   },
   "outputs": [
    {
     "data": {
      "text/plain": [
       "a     1.5\n",
       "b    11.5\n",
       "c    21.5\n",
       "d    31.5\n",
       "e    41.5\n",
       "dtype: float64"
      ]
     },
     "execution_count": 82,
     "metadata": {},
     "output_type": "execute_result"
    }
   ],
   "source": [
    "(test_serie * 10) + 1.5"
   ]
  },
  {
   "cell_type": "code",
   "execution_count": 83,
   "metadata": {
    "slideshow": {
     "slide_type": "fragment"
    }
   },
   "outputs": [],
   "source": [
    "test2_serie = pd.Series(range(5), ['b', 'c', 'd', 'e', 'f'])"
   ]
  },
  {
   "cell_type": "code",
   "execution_count": 84,
   "metadata": {
    "slideshow": {
     "slide_type": "fragment"
    }
   },
   "outputs": [
    {
     "data": {
      "text/plain": [
       "a    NaN\n",
       "b    1.0\n",
       "c    3.0\n",
       "d    5.0\n",
       "e    7.0\n",
       "f    NaN\n",
       "dtype: float64"
      ]
     },
     "execution_count": 84,
     "metadata": {},
     "output_type": "execute_result"
    }
   ],
   "source": [
    "test_serie + test2_serie"
   ]
  },
  {
   "cell_type": "markdown",
   "metadata": {
    "slideshow": {
     "slide_type": "slide"
    }
   },
   "source": [
    "## Select Data"
   ]
  },
  {
   "cell_type": "code",
   "execution_count": 89,
   "metadata": {
    "slideshow": {
     "slide_type": "fragment"
    }
   },
   "outputs": [
    {
     "data": {
      "text/plain": [
       "a    False\n",
       "b    False\n",
       "c    False\n",
       "d     True\n",
       "e     True\n",
       "dtype: bool"
      ]
     },
     "execution_count": 89,
     "metadata": {},
     "output_type": "execute_result"
    }
   ],
   "source": [
    "test_serie*10 > 20"
   ]
  },
  {
   "cell_type": "code",
   "execution_count": 90,
   "metadata": {},
   "outputs": [
    {
     "data": {
      "text/plain": [
       "d    3\n",
       "e    4\n",
       "dtype: int64"
      ]
     },
     "execution_count": 90,
     "metadata": {},
     "output_type": "execute_result"
    }
   ],
   "source": [
    "test_serie[test_serie*10 > 20]"
   ]
  },
  {
   "cell_type": "markdown",
   "metadata": {
    "slideshow": {
     "slide_type": "slide"
    }
   },
   "source": [
    "## Pandas _DataFrame_\n",
    "\n",
    "_DataFrame_ represent table of data with heterogenous column type (int, float, bool,  string). \n",
    "_DataFrame_ can also be considered as an ordered dictionnay of _Series_ sharing the same index."
   ]
  },
  {
   "cell_type": "code",
   "execution_count": 123,
   "metadata": {
    "slideshow": {
     "slide_type": "fragment"
    }
   },
   "outputs": [],
   "source": [
    "student_grad = pd.DataFrame({'gender': ['M', 'F', 'M', 'M', 'F', 'F'],\n",
    "                             'math': [random.random()*20 for _ in range(6)],\n",
    "                             'biology': [random.random()*20 for _ in range(6)],\n",
    "                             'french': [random.random()*20 for _ in range(6)],\n",
    "                             'history': [random.random()*20 for _ in range(6)],\n",
    "                             'physics': [random.random()*20 for _ in range(6)]},\n",
    "                            index=['Anders', 'Olga', 'Peter', 'Icham', 'Nathalie', 'Aiko'])"
   ]
  },
  {
   "cell_type": "code",
   "execution_count": 124,
   "metadata": {
    "slideshow": {
     "slide_type": "fragment"
    }
   },
   "outputs": [
    {
     "data": {
      "text/html": [
       "<div>\n",
       "<style scoped>\n",
       "    .dataframe tbody tr th:only-of-type {\n",
       "        vertical-align: middle;\n",
       "    }\n",
       "\n",
       "    .dataframe tbody tr th {\n",
       "        vertical-align: top;\n",
       "    }\n",
       "\n",
       "    .dataframe thead th {\n",
       "        text-align: right;\n",
       "    }\n",
       "</style>\n",
       "<table border=\"1\" class=\"dataframe\">\n",
       "  <thead>\n",
       "    <tr style=\"text-align: right;\">\n",
       "      <th></th>\n",
       "      <th>gender</th>\n",
       "      <th>math</th>\n",
       "      <th>biology</th>\n",
       "      <th>french</th>\n",
       "      <th>history</th>\n",
       "      <th>physics</th>\n",
       "    </tr>\n",
       "  </thead>\n",
       "  <tbody>\n",
       "    <tr>\n",
       "      <th>Anders</th>\n",
       "      <td>M</td>\n",
       "      <td>12.451162</td>\n",
       "      <td>19.535397</td>\n",
       "      <td>3.794617</td>\n",
       "      <td>1.853126</td>\n",
       "      <td>10.813565</td>\n",
       "    </tr>\n",
       "    <tr>\n",
       "      <th>Olga</th>\n",
       "      <td>F</td>\n",
       "      <td>12.333553</td>\n",
       "      <td>18.508612</td>\n",
       "      <td>11.287596</td>\n",
       "      <td>8.019036</td>\n",
       "      <td>6.158078</td>\n",
       "    </tr>\n",
       "    <tr>\n",
       "      <th>Peter</th>\n",
       "      <td>M</td>\n",
       "      <td>1.920123</td>\n",
       "      <td>3.154818</td>\n",
       "      <td>9.765983</td>\n",
       "      <td>5.487378</td>\n",
       "      <td>19.576605</td>\n",
       "    </tr>\n",
       "    <tr>\n",
       "      <th>Icham</th>\n",
       "      <td>M</td>\n",
       "      <td>13.363628</td>\n",
       "      <td>4.968228</td>\n",
       "      <td>15.345407</td>\n",
       "      <td>7.137415</td>\n",
       "      <td>1.727489</td>\n",
       "    </tr>\n",
       "    <tr>\n",
       "      <th>Nathalie</th>\n",
       "      <td>F</td>\n",
       "      <td>6.934926</td>\n",
       "      <td>3.526261</td>\n",
       "      <td>19.092621</td>\n",
       "      <td>18.342093</td>\n",
       "      <td>7.406070</td>\n",
       "    </tr>\n",
       "    <tr>\n",
       "      <th>Aiko</th>\n",
       "      <td>F</td>\n",
       "      <td>16.807241</td>\n",
       "      <td>14.337433</td>\n",
       "      <td>8.894549</td>\n",
       "      <td>16.052968</td>\n",
       "      <td>1.700058</td>\n",
       "    </tr>\n",
       "  </tbody>\n",
       "</table>\n",
       "</div>"
      ],
      "text/plain": [
       "         gender       math    biology     french    history    physics\n",
       "Anders        M  12.451162  19.535397   3.794617   1.853126  10.813565\n",
       "Olga          F  12.333553  18.508612  11.287596   8.019036   6.158078\n",
       "Peter         M   1.920123   3.154818   9.765983   5.487378  19.576605\n",
       "Icham         M  13.363628   4.968228  15.345407   7.137415   1.727489\n",
       "Nathalie      F   6.934926   3.526261  19.092621  18.342093   7.406070\n",
       "Aiko          F  16.807241  14.337433   8.894549  16.052968   1.700058"
      ]
     },
     "execution_count": 124,
     "metadata": {},
     "output_type": "execute_result"
    }
   ],
   "source": [
    "student_grad"
   ]
  },
  {
   "cell_type": "markdown",
   "metadata": {
    "slideshow": {
     "slide_type": "slide"
    }
   },
   "source": [
    "## Data analysis"
   ]
  },
  {
   "cell_type": "code",
   "execution_count": 131,
   "metadata": {},
   "outputs": [
    {
     "data": {
      "text/plain": [
       "gender           F\n",
       "math       12.3336\n",
       "biology    18.5086\n",
       "french     11.2876\n",
       "history    8.01904\n",
       "physics    6.15808\n",
       "mean       11.2614\n",
       "Name: Olga, dtype: object"
      ]
     },
     "execution_count": 131,
     "metadata": {},
     "output_type": "execute_result"
    }
   ],
   "source": [
    "student_grad.loc['Olga']"
   ]
  },
  {
   "cell_type": "code",
   "execution_count": 132,
   "metadata": {
    "slideshow": {
     "slide_type": "fragment"
    }
   },
   "outputs": [
    {
     "data": {
      "text/html": [
       "<div>\n",
       "<style scoped>\n",
       "    .dataframe tbody tr th:only-of-type {\n",
       "        vertical-align: middle;\n",
       "    }\n",
       "\n",
       "    .dataframe tbody tr th {\n",
       "        vertical-align: top;\n",
       "    }\n",
       "\n",
       "    .dataframe thead th {\n",
       "        text-align: right;\n",
       "    }\n",
       "</style>\n",
       "<table border=\"1\" class=\"dataframe\">\n",
       "  <thead>\n",
       "    <tr style=\"text-align: right;\">\n",
       "      <th></th>\n",
       "      <th>gender</th>\n",
       "      <th>math</th>\n",
       "      <th>biology</th>\n",
       "      <th>french</th>\n",
       "      <th>history</th>\n",
       "      <th>physics</th>\n",
       "      <th>mean</th>\n",
       "    </tr>\n",
       "  </thead>\n",
       "  <tbody>\n",
       "    <tr>\n",
       "      <th>Anders</th>\n",
       "      <td>M</td>\n",
       "      <td>12.451162</td>\n",
       "      <td>19.535397</td>\n",
       "      <td>3.794617</td>\n",
       "      <td>1.853126</td>\n",
       "      <td>10.813565</td>\n",
       "      <td>9.689573</td>\n",
       "    </tr>\n",
       "    <tr>\n",
       "      <th>Olga</th>\n",
       "      <td>F</td>\n",
       "      <td>12.333553</td>\n",
       "      <td>18.508612</td>\n",
       "      <td>11.287596</td>\n",
       "      <td>8.019036</td>\n",
       "      <td>6.158078</td>\n",
       "      <td>11.261375</td>\n",
       "    </tr>\n",
       "    <tr>\n",
       "      <th>Peter</th>\n",
       "      <td>M</td>\n",
       "      <td>1.920123</td>\n",
       "      <td>3.154818</td>\n",
       "      <td>9.765983</td>\n",
       "      <td>5.487378</td>\n",
       "      <td>19.576605</td>\n",
       "      <td>7.980981</td>\n",
       "    </tr>\n",
       "    <tr>\n",
       "      <th>Icham</th>\n",
       "      <td>M</td>\n",
       "      <td>13.363628</td>\n",
       "      <td>4.968228</td>\n",
       "      <td>15.345407</td>\n",
       "      <td>7.137415</td>\n",
       "      <td>1.727489</td>\n",
       "      <td>8.508434</td>\n",
       "    </tr>\n",
       "    <tr>\n",
       "      <th>Nathalie</th>\n",
       "      <td>F</td>\n",
       "      <td>6.934926</td>\n",
       "      <td>3.526261</td>\n",
       "      <td>19.092621</td>\n",
       "      <td>18.342093</td>\n",
       "      <td>7.406070</td>\n",
       "      <td>11.060394</td>\n",
       "    </tr>\n",
       "    <tr>\n",
       "      <th>Aiko</th>\n",
       "      <td>F</td>\n",
       "      <td>16.807241</td>\n",
       "      <td>14.337433</td>\n",
       "      <td>8.894549</td>\n",
       "      <td>16.052968</td>\n",
       "      <td>1.700058</td>\n",
       "      <td>11.558450</td>\n",
       "    </tr>\n",
       "  </tbody>\n",
       "</table>\n",
       "</div>"
      ],
      "text/plain": [
       "         gender       math    biology     french    history    physics  \\\n",
       "Anders        M  12.451162  19.535397   3.794617   1.853126  10.813565   \n",
       "Olga          F  12.333553  18.508612  11.287596   8.019036   6.158078   \n",
       "Peter         M   1.920123   3.154818   9.765983   5.487378  19.576605   \n",
       "Icham         M  13.363628   4.968228  15.345407   7.137415   1.727489   \n",
       "Nathalie      F   6.934926   3.526261  19.092621  18.342093   7.406070   \n",
       "Aiko          F  16.807241  14.337433   8.894549  16.052968   1.700058   \n",
       "\n",
       "               mean  \n",
       "Anders     9.689573  \n",
       "Olga      11.261375  \n",
       "Peter      7.980981  \n",
       "Icham      8.508434  \n",
       "Nathalie  11.060394  \n",
       "Aiko      11.558450  "
      ]
     },
     "execution_count": 132,
     "metadata": {},
     "output_type": "execute_result"
    }
   ],
   "source": [
    "student_grad['mean'] = student_grad.mean(axis=1)\n",
    "student_grad"
   ]
  },
  {
   "cell_type": "markdown",
   "metadata": {
    "slideshow": {
     "slide_type": "slide"
    }
   },
   "source": [
    "## Merge Data"
   ]
  },
  {
   "cell_type": "code",
   "execution_count": 163,
   "metadata": {
    "slideshow": {
     "slide_type": "fragment"
    }
   },
   "outputs": [],
   "source": [
    "student_grad_2 = pd.DataFrame({'english': [random.random()*20 for _ in range(5)]},\n",
    "                              index=['Olga', 'Peter', 'Icham', 'Nathalie', 'Aiko'])"
   ]
  },
  {
   "cell_type": "code",
   "execution_count": 164,
   "metadata": {
    "slideshow": {
     "slide_type": "fragment"
    }
   },
   "outputs": [
    {
     "data": {
      "text/html": [
       "<div>\n",
       "<style scoped>\n",
       "    .dataframe tbody tr th:only-of-type {\n",
       "        vertical-align: middle;\n",
       "    }\n",
       "\n",
       "    .dataframe tbody tr th {\n",
       "        vertical-align: top;\n",
       "    }\n",
       "\n",
       "    .dataframe thead th {\n",
       "        text-align: right;\n",
       "    }\n",
       "</style>\n",
       "<table border=\"1\" class=\"dataframe\">\n",
       "  <thead>\n",
       "    <tr style=\"text-align: right;\">\n",
       "      <th></th>\n",
       "      <th>gender</th>\n",
       "      <th>math</th>\n",
       "      <th>biology</th>\n",
       "      <th>french</th>\n",
       "      <th>history</th>\n",
       "      <th>physics</th>\n",
       "      <th>mean</th>\n",
       "      <th>english</th>\n",
       "    </tr>\n",
       "  </thead>\n",
       "  <tbody>\n",
       "    <tr>\n",
       "      <th>Anders</th>\n",
       "      <td>M</td>\n",
       "      <td>12.451162</td>\n",
       "      <td>19.535397</td>\n",
       "      <td>3.794617</td>\n",
       "      <td>1.853126</td>\n",
       "      <td>10.813565</td>\n",
       "      <td>9.689573</td>\n",
       "      <td>NaN</td>\n",
       "    </tr>\n",
       "    <tr>\n",
       "      <th>Olga</th>\n",
       "      <td>F</td>\n",
       "      <td>12.333553</td>\n",
       "      <td>18.508612</td>\n",
       "      <td>11.287596</td>\n",
       "      <td>8.019036</td>\n",
       "      <td>6.158078</td>\n",
       "      <td>11.261375</td>\n",
       "      <td>16.415284</td>\n",
       "    </tr>\n",
       "    <tr>\n",
       "      <th>Peter</th>\n",
       "      <td>M</td>\n",
       "      <td>1.920123</td>\n",
       "      <td>3.154818</td>\n",
       "      <td>9.765983</td>\n",
       "      <td>5.487378</td>\n",
       "      <td>19.576605</td>\n",
       "      <td>7.980981</td>\n",
       "      <td>19.158013</td>\n",
       "    </tr>\n",
       "    <tr>\n",
       "      <th>Icham</th>\n",
       "      <td>M</td>\n",
       "      <td>13.363628</td>\n",
       "      <td>4.968228</td>\n",
       "      <td>15.345407</td>\n",
       "      <td>7.137415</td>\n",
       "      <td>1.727489</td>\n",
       "      <td>8.508434</td>\n",
       "      <td>16.285414</td>\n",
       "    </tr>\n",
       "    <tr>\n",
       "      <th>Nathalie</th>\n",
       "      <td>F</td>\n",
       "      <td>6.934926</td>\n",
       "      <td>3.526261</td>\n",
       "      <td>19.092621</td>\n",
       "      <td>18.342093</td>\n",
       "      <td>7.406070</td>\n",
       "      <td>11.060394</td>\n",
       "      <td>13.372065</td>\n",
       "    </tr>\n",
       "    <tr>\n",
       "      <th>Aiko</th>\n",
       "      <td>F</td>\n",
       "      <td>16.807241</td>\n",
       "      <td>14.337433</td>\n",
       "      <td>8.894549</td>\n",
       "      <td>16.052968</td>\n",
       "      <td>1.700058</td>\n",
       "      <td>11.558450</td>\n",
       "      <td>19.413025</td>\n",
       "    </tr>\n",
       "  </tbody>\n",
       "</table>\n",
       "</div>"
      ],
      "text/plain": [
       "         gender       math    biology     french    history    physics  \\\n",
       "Anders        M  12.451162  19.535397   3.794617   1.853126  10.813565   \n",
       "Olga          F  12.333553  18.508612  11.287596   8.019036   6.158078   \n",
       "Peter         M   1.920123   3.154818   9.765983   5.487378  19.576605   \n",
       "Icham         M  13.363628   4.968228  15.345407   7.137415   1.727489   \n",
       "Nathalie      F   6.934926   3.526261  19.092621  18.342093   7.406070   \n",
       "Aiko          F  16.807241  14.337433   8.894549  16.052968   1.700058   \n",
       "\n",
       "               mean    english  \n",
       "Anders     9.689573        NaN  \n",
       "Olga      11.261375  16.415284  \n",
       "Peter      7.980981  19.158013  \n",
       "Icham      8.508434  16.285414  \n",
       "Nathalie  11.060394  13.372065  \n",
       "Aiko      11.558450  19.413025  "
      ]
     },
     "execution_count": 164,
     "metadata": {},
     "output_type": "execute_result"
    }
   ],
   "source": [
    "all_grad = pd.concat([student_grad,student_grad_2], axis=1, sort=False)\n",
    "all_grad"
   ]
  },
  {
   "cell_type": "markdown",
   "metadata": {
    "slideshow": {
     "slide_type": "slide"
    }
   },
   "source": [
    "## Filter Data"
   ]
  },
  {
   "cell_type": "code",
   "execution_count": 165,
   "metadata": {
    "slideshow": {
     "slide_type": "fragment"
    }
   },
   "outputs": [
    {
     "data": {
      "text/html": [
       "<div>\n",
       "<style scoped>\n",
       "    .dataframe tbody tr th:only-of-type {\n",
       "        vertical-align: middle;\n",
       "    }\n",
       "\n",
       "    .dataframe tbody tr th {\n",
       "        vertical-align: top;\n",
       "    }\n",
       "\n",
       "    .dataframe thead th {\n",
       "        text-align: right;\n",
       "    }\n",
       "</style>\n",
       "<table border=\"1\" class=\"dataframe\">\n",
       "  <thead>\n",
       "    <tr style=\"text-align: right;\">\n",
       "      <th></th>\n",
       "      <th>gender</th>\n",
       "      <th>math</th>\n",
       "      <th>biology</th>\n",
       "      <th>french</th>\n",
       "      <th>history</th>\n",
       "      <th>physics</th>\n",
       "      <th>mean</th>\n",
       "      <th>english</th>\n",
       "    </tr>\n",
       "  </thead>\n",
       "  <tbody>\n",
       "    <tr>\n",
       "      <th>Anders</th>\n",
       "      <td>False</td>\n",
       "      <td>False</td>\n",
       "      <td>False</td>\n",
       "      <td>False</td>\n",
       "      <td>False</td>\n",
       "      <td>False</td>\n",
       "      <td>False</td>\n",
       "      <td>True</td>\n",
       "    </tr>\n",
       "    <tr>\n",
       "      <th>Olga</th>\n",
       "      <td>False</td>\n",
       "      <td>False</td>\n",
       "      <td>False</td>\n",
       "      <td>False</td>\n",
       "      <td>False</td>\n",
       "      <td>False</td>\n",
       "      <td>False</td>\n",
       "      <td>False</td>\n",
       "    </tr>\n",
       "    <tr>\n",
       "      <th>Peter</th>\n",
       "      <td>False</td>\n",
       "      <td>False</td>\n",
       "      <td>False</td>\n",
       "      <td>False</td>\n",
       "      <td>False</td>\n",
       "      <td>False</td>\n",
       "      <td>False</td>\n",
       "      <td>False</td>\n",
       "    </tr>\n",
       "    <tr>\n",
       "      <th>Icham</th>\n",
       "      <td>False</td>\n",
       "      <td>False</td>\n",
       "      <td>False</td>\n",
       "      <td>False</td>\n",
       "      <td>False</td>\n",
       "      <td>False</td>\n",
       "      <td>False</td>\n",
       "      <td>False</td>\n",
       "    </tr>\n",
       "    <tr>\n",
       "      <th>Nathalie</th>\n",
       "      <td>False</td>\n",
       "      <td>False</td>\n",
       "      <td>False</td>\n",
       "      <td>False</td>\n",
       "      <td>False</td>\n",
       "      <td>False</td>\n",
       "      <td>False</td>\n",
       "      <td>False</td>\n",
       "    </tr>\n",
       "    <tr>\n",
       "      <th>Aiko</th>\n",
       "      <td>False</td>\n",
       "      <td>False</td>\n",
       "      <td>False</td>\n",
       "      <td>False</td>\n",
       "      <td>False</td>\n",
       "      <td>False</td>\n",
       "      <td>False</td>\n",
       "      <td>False</td>\n",
       "    </tr>\n",
       "  </tbody>\n",
       "</table>\n",
       "</div>"
      ],
      "text/plain": [
       "          gender   math  biology  french  history  physics   mean  english\n",
       "Anders     False  False    False   False    False    False  False     True\n",
       "Olga       False  False    False   False    False    False  False    False\n",
       "Peter      False  False    False   False    False    False  False    False\n",
       "Icham      False  False    False   False    False    False  False    False\n",
       "Nathalie   False  False    False   False    False    False  False    False\n",
       "Aiko       False  False    False   False    False    False  False    False"
      ]
     },
     "execution_count": 165,
     "metadata": {},
     "output_type": "execute_result"
    }
   ],
   "source": [
    "all_grad.isna()"
   ]
  },
  {
   "cell_type": "code",
   "execution_count": 210,
   "metadata": {
    "slideshow": {
     "slide_type": "fragment"
    }
   },
   "outputs": [
    {
     "data": {
      "text/html": [
       "<div>\n",
       "<style scoped>\n",
       "    .dataframe tbody tr th:only-of-type {\n",
       "        vertical-align: middle;\n",
       "    }\n",
       "\n",
       "    .dataframe tbody tr th {\n",
       "        vertical-align: top;\n",
       "    }\n",
       "\n",
       "    .dataframe thead th {\n",
       "        text-align: right;\n",
       "    }\n",
       "</style>\n",
       "<table border=\"1\" class=\"dataframe\">\n",
       "  <thead>\n",
       "    <tr style=\"text-align: right;\">\n",
       "      <th></th>\n",
       "      <th>gender</th>\n",
       "      <th>math</th>\n",
       "      <th>biology</th>\n",
       "      <th>french</th>\n",
       "      <th>history</th>\n",
       "      <th>physics</th>\n",
       "      <th>mean</th>\n",
       "      <th>english</th>\n",
       "    </tr>\n",
       "  </thead>\n",
       "  <tbody>\n",
       "    <tr>\n",
       "      <th>Anders</th>\n",
       "      <td>True</td>\n",
       "      <td>True</td>\n",
       "      <td>True</td>\n",
       "      <td>False</td>\n",
       "      <td>False</td>\n",
       "      <td>True</td>\n",
       "      <td>False</td>\n",
       "      <td>False</td>\n",
       "    </tr>\n",
       "    <tr>\n",
       "      <th>Olga</th>\n",
       "      <td>True</td>\n",
       "      <td>True</td>\n",
       "      <td>True</td>\n",
       "      <td>True</td>\n",
       "      <td>False</td>\n",
       "      <td>False</td>\n",
       "      <td>True</td>\n",
       "      <td>True</td>\n",
       "    </tr>\n",
       "    <tr>\n",
       "      <th>Peter</th>\n",
       "      <td>True</td>\n",
       "      <td>False</td>\n",
       "      <td>False</td>\n",
       "      <td>False</td>\n",
       "      <td>False</td>\n",
       "      <td>True</td>\n",
       "      <td>False</td>\n",
       "      <td>True</td>\n",
       "    </tr>\n",
       "    <tr>\n",
       "      <th>Icham</th>\n",
       "      <td>True</td>\n",
       "      <td>True</td>\n",
       "      <td>False</td>\n",
       "      <td>True</td>\n",
       "      <td>False</td>\n",
       "      <td>False</td>\n",
       "      <td>False</td>\n",
       "      <td>True</td>\n",
       "    </tr>\n",
       "    <tr>\n",
       "      <th>Nathalie</th>\n",
       "      <td>True</td>\n",
       "      <td>False</td>\n",
       "      <td>False</td>\n",
       "      <td>True</td>\n",
       "      <td>True</td>\n",
       "      <td>False</td>\n",
       "      <td>True</td>\n",
       "      <td>True</td>\n",
       "    </tr>\n",
       "    <tr>\n",
       "      <th>Aiko</th>\n",
       "      <td>True</td>\n",
       "      <td>True</td>\n",
       "      <td>True</td>\n",
       "      <td>False</td>\n",
       "      <td>True</td>\n",
       "      <td>False</td>\n",
       "      <td>True</td>\n",
       "      <td>True</td>\n",
       "    </tr>\n",
       "  </tbody>\n",
       "</table>\n",
       "</div>"
      ],
      "text/plain": [
       "          gender   math  biology  french  history  physics   mean  english\n",
       "Anders      True   True     True   False    False     True  False    False\n",
       "Olga        True   True     True    True    False    False   True     True\n",
       "Peter       True  False    False   False    False     True  False     True\n",
       "Icham       True   True    False    True    False    False  False     True\n",
       "Nathalie    True  False    False    True     True    False   True     True\n",
       "Aiko        True   True     True   False     True    False   True     True"
      ]
     },
     "execution_count": 210,
     "metadata": {},
     "output_type": "execute_result"
    }
   ],
   "source": [
    "all_grad > 10"
   ]
  },
  {
   "cell_type": "markdown",
   "metadata": {
    "slideshow": {
     "slide_type": "slide"
    }
   },
   "source": [
    "## Data frame instance and function"
   ]
  },
  {
   "cell_type": "code",
   "execution_count": 167,
   "metadata": {
    "slideshow": {
     "slide_type": "fragment"
    }
   },
   "outputs": [
    {
     "data": {
      "text/plain": [
       "Index(['gender', 'math', 'biology', 'french', 'history', 'physics', 'mean',\n",
       "       'english'],\n",
       "      dtype='object')"
      ]
     },
     "execution_count": 167,
     "metadata": {},
     "output_type": "execute_result"
    }
   ],
   "source": [
    "all_grad.columns"
   ]
  },
  {
   "cell_type": "code",
   "execution_count": 169,
   "metadata": {
    "slideshow": {
     "slide_type": "fragment"
    }
   },
   "outputs": [
    {
     "data": {
      "text/plain": [
       "Index(['Anders', 'Olga', 'Peter', 'Icham', 'Nathalie', 'Aiko'], dtype='object')"
      ]
     },
     "execution_count": 169,
     "metadata": {},
     "output_type": "execute_result"
    }
   ],
   "source": [
    "all_grad.index"
   ]
  },
  {
   "cell_type": "code",
   "execution_count": 168,
   "metadata": {
    "slideshow": {
     "slide_type": "fragment"
    }
   },
   "outputs": [
    {
     "data": {
      "text/plain": [
       "Anders       9.689573\n",
       "Olga        12.120360\n",
       "Peter        9.843820\n",
       "Icham        9.804597\n",
       "Nathalie    11.445673\n",
       "Aiko        12.867545\n",
       "dtype: float64"
      ]
     },
     "execution_count": 168,
     "metadata": {},
     "output_type": "execute_result"
    }
   ],
   "source": [
    "# UNCLEAR\n",
    "# Ah, drop is to not account for the mean column? Explain here\n",
    "all_grad.drop(columns='mean').mean(axis=1)"
   ]
  },
  {
   "cell_type": "markdown",
   "metadata": {
    "slideshow": {
     "slide_type": "slide"
    }
   },
   "source": [
    "## Data frame selection\n",
    "\n",
    "Don't forget the brackets when combining conditions:"
   ]
  },
  {
   "cell_type": "code",
   "execution_count": 176,
   "metadata": {
    "slideshow": {
     "slide_type": "fragment"
    }
   },
   "outputs": [
    {
     "data": {
      "text/html": [
       "<div>\n",
       "<style scoped>\n",
       "    .dataframe tbody tr th:only-of-type {\n",
       "        vertical-align: middle;\n",
       "    }\n",
       "\n",
       "    .dataframe tbody tr th {\n",
       "        vertical-align: top;\n",
       "    }\n",
       "\n",
       "    .dataframe thead th {\n",
       "        text-align: right;\n",
       "    }\n",
       "</style>\n",
       "<table border=\"1\" class=\"dataframe\">\n",
       "  <thead>\n",
       "    <tr style=\"text-align: right;\">\n",
       "      <th></th>\n",
       "      <th>gender</th>\n",
       "      <th>math</th>\n",
       "      <th>biology</th>\n",
       "      <th>french</th>\n",
       "      <th>history</th>\n",
       "      <th>physics</th>\n",
       "      <th>mean</th>\n",
       "      <th>english</th>\n",
       "    </tr>\n",
       "  </thead>\n",
       "  <tbody>\n",
       "    <tr>\n",
       "      <th>Olga</th>\n",
       "      <td>F</td>\n",
       "      <td>12.333553</td>\n",
       "      <td>18.508612</td>\n",
       "      <td>11.287596</td>\n",
       "      <td>8.019036</td>\n",
       "      <td>6.158078</td>\n",
       "      <td>11.261375</td>\n",
       "      <td>16.415284</td>\n",
       "    </tr>\n",
       "    <tr>\n",
       "      <th>Icham</th>\n",
       "      <td>M</td>\n",
       "      <td>13.363628</td>\n",
       "      <td>4.968228</td>\n",
       "      <td>15.345407</td>\n",
       "      <td>7.137415</td>\n",
       "      <td>1.727489</td>\n",
       "      <td>8.508434</td>\n",
       "      <td>16.285414</td>\n",
       "    </tr>\n",
       "  </tbody>\n",
       "</table>\n",
       "</div>"
      ],
      "text/plain": [
       "      gender       math    biology     french   history   physics       mean  \\\n",
       "Olga       F  12.333553  18.508612  11.287596  8.019036  6.158078  11.261375   \n",
       "Icham      M  13.363628   4.968228  15.345407  7.137415  1.727489   8.508434   \n",
       "\n",
       "         english  \n",
       "Olga   16.415284  \n",
       "Icham  16.285414  "
      ]
     },
     "execution_count": 176,
     "metadata": {},
     "output_type": "execute_result"
    }
   ],
   "source": [
    "all_grad[ (all_grad['math'] > 10) & (all_grad['french'] > 10)]"
   ]
  },
  {
   "cell_type": "code",
   "execution_count": 181,
   "metadata": {
    "slideshow": {
     "slide_type": "fragment"
    }
   },
   "outputs": [
    {
     "data": {
      "text/html": [
       "<div>\n",
       "<style scoped>\n",
       "    .dataframe tbody tr th:only-of-type {\n",
       "        vertical-align: middle;\n",
       "    }\n",
       "\n",
       "    .dataframe tbody tr th {\n",
       "        vertical-align: top;\n",
       "    }\n",
       "\n",
       "    .dataframe thead th {\n",
       "        text-align: right;\n",
       "    }\n",
       "</style>\n",
       "<table border=\"1\" class=\"dataframe\">\n",
       "  <thead>\n",
       "    <tr style=\"text-align: right;\">\n",
       "      <th></th>\n",
       "      <th>math</th>\n",
       "      <th>biology</th>\n",
       "    </tr>\n",
       "  </thead>\n",
       "  <tbody>\n",
       "    <tr>\n",
       "      <th>Olga</th>\n",
       "      <td>12.333553</td>\n",
       "      <td>18.508612</td>\n",
       "    </tr>\n",
       "  </tbody>\n",
       "</table>\n",
       "</div>"
      ],
      "text/plain": [
       "           math    biology\n",
       "Olga  12.333553  18.508612"
      ]
     },
     "execution_count": 181,
     "metadata": {},
     "output_type": "execute_result"
    }
   ],
   "source": [
    "all_grad.loc[['Olga'], ['math', 'biology']]"
   ]
  },
  {
   "cell_type": "code",
   "execution_count": 183,
   "metadata": {
    "slideshow": {
     "slide_type": "fragment"
    }
   },
   "outputs": [
    {
     "data": {
      "text/plain": [
       "math       12.3336\n",
       "biology    18.5086\n",
       "Name: Olga, dtype: object"
      ]
     },
     "execution_count": 183,
     "metadata": {},
     "output_type": "execute_result"
    }
   ],
   "source": [
    "all_grad.iloc[1, [1, 2]]"
   ]
  },
  {
   "cell_type": "markdown",
   "metadata": {
    "slideshow": {
     "slide_type": "slide"
    }
   },
   "source": [
    "## Function Application and mapping\n",
    "\n",
    "Let's say that you want to compute the gap between the worst and best grad, you can define your one function and apply it to every column, or line:"
   ]
  },
  {
   "cell_type": "code",
   "execution_count": 189,
   "metadata": {
    "slideshow": {
     "slide_type": "fragment"
    }
   },
   "outputs": [
    {
     "data": {
      "text/plain": [
       "math       14.887118\n",
       "biology    16.380578\n",
       "french     15.298004\n",
       "history    16.488967\n",
       "physics    17.876547\n",
       "mean        3.577468\n",
       "english     6.040960\n",
       "dtype: float64"
      ]
     },
     "execution_count": 189,
     "metadata": {},
     "output_type": "execute_result"
    }
   ],
   "source": [
    "gap_f = lambda x: x.max() - x.min()\n",
    "all_grad.drop(columns=['gender']).apply(gap_f)"
   ]
  },
  {
   "cell_type": "code",
   "execution_count": 190,
   "metadata": {},
   "outputs": [
    {
     "data": {
      "text/plain": [
       "Anders      17.682271\n",
       "Olga        12.350534\n",
       "Peter       17.656482\n",
       "Icham       14.557925\n",
       "Nathalie    15.566360\n",
       "Aiko        17.712967\n",
       "dtype: float64"
      ]
     },
     "execution_count": 190,
     "metadata": {},
     "output_type": "execute_result"
    }
   ],
   "source": [
    "all_grad.drop(columns=['gender']).apply(gap_f, axis='columns')"
   ]
  },
  {
   "cell_type": "markdown",
   "metadata": {
    "slideshow": {
     "slide_type": "slide"
    }
   },
   "source": [
    "## Sorting and counting\n",
    "\n",
    "You want to get the ranking of student base on their mean grade:"
   ]
  },
  {
   "cell_type": "code",
   "execution_count": 193,
   "metadata": {
    "slideshow": {
     "slide_type": "fragment"
    }
   },
   "outputs": [
    {
     "data": {
      "text/html": [
       "<div>\n",
       "<style scoped>\n",
       "    .dataframe tbody tr th:only-of-type {\n",
       "        vertical-align: middle;\n",
       "    }\n",
       "\n",
       "    .dataframe tbody tr th {\n",
       "        vertical-align: top;\n",
       "    }\n",
       "\n",
       "    .dataframe thead th {\n",
       "        text-align: right;\n",
       "    }\n",
       "</style>\n",
       "<table border=\"1\" class=\"dataframe\">\n",
       "  <thead>\n",
       "    <tr style=\"text-align: right;\">\n",
       "      <th></th>\n",
       "      <th>gender</th>\n",
       "      <th>math</th>\n",
       "      <th>biology</th>\n",
       "      <th>french</th>\n",
       "      <th>history</th>\n",
       "      <th>physics</th>\n",
       "      <th>mean</th>\n",
       "      <th>english</th>\n",
       "    </tr>\n",
       "  </thead>\n",
       "  <tbody>\n",
       "    <tr>\n",
       "      <th>Aiko</th>\n",
       "      <td>F</td>\n",
       "      <td>16.807241</td>\n",
       "      <td>14.337433</td>\n",
       "      <td>8.894549</td>\n",
       "      <td>16.052968</td>\n",
       "      <td>1.700058</td>\n",
       "      <td>11.558450</td>\n",
       "      <td>19.413025</td>\n",
       "    </tr>\n",
       "    <tr>\n",
       "      <th>Olga</th>\n",
       "      <td>F</td>\n",
       "      <td>12.333553</td>\n",
       "      <td>18.508612</td>\n",
       "      <td>11.287596</td>\n",
       "      <td>8.019036</td>\n",
       "      <td>6.158078</td>\n",
       "      <td>11.261375</td>\n",
       "      <td>16.415284</td>\n",
       "    </tr>\n",
       "    <tr>\n",
       "      <th>Nathalie</th>\n",
       "      <td>F</td>\n",
       "      <td>6.934926</td>\n",
       "      <td>3.526261</td>\n",
       "      <td>19.092621</td>\n",
       "      <td>18.342093</td>\n",
       "      <td>7.406070</td>\n",
       "      <td>11.060394</td>\n",
       "      <td>13.372065</td>\n",
       "    </tr>\n",
       "    <tr>\n",
       "      <th>Anders</th>\n",
       "      <td>M</td>\n",
       "      <td>12.451162</td>\n",
       "      <td>19.535397</td>\n",
       "      <td>3.794617</td>\n",
       "      <td>1.853126</td>\n",
       "      <td>10.813565</td>\n",
       "      <td>9.689573</td>\n",
       "      <td>NaN</td>\n",
       "    </tr>\n",
       "    <tr>\n",
       "      <th>Icham</th>\n",
       "      <td>M</td>\n",
       "      <td>13.363628</td>\n",
       "      <td>4.968228</td>\n",
       "      <td>15.345407</td>\n",
       "      <td>7.137415</td>\n",
       "      <td>1.727489</td>\n",
       "      <td>8.508434</td>\n",
       "      <td>16.285414</td>\n",
       "    </tr>\n",
       "    <tr>\n",
       "      <th>Peter</th>\n",
       "      <td>M</td>\n",
       "      <td>1.920123</td>\n",
       "      <td>3.154818</td>\n",
       "      <td>9.765983</td>\n",
       "      <td>5.487378</td>\n",
       "      <td>19.576605</td>\n",
       "      <td>7.980981</td>\n",
       "      <td>19.158013</td>\n",
       "    </tr>\n",
       "  </tbody>\n",
       "</table>\n",
       "</div>"
      ],
      "text/plain": [
       "         gender       math    biology     french    history    physics  \\\n",
       "Aiko          F  16.807241  14.337433   8.894549  16.052968   1.700058   \n",
       "Olga          F  12.333553  18.508612  11.287596   8.019036   6.158078   \n",
       "Nathalie      F   6.934926   3.526261  19.092621  18.342093   7.406070   \n",
       "Anders        M  12.451162  19.535397   3.794617   1.853126  10.813565   \n",
       "Icham         M  13.363628   4.968228  15.345407   7.137415   1.727489   \n",
       "Peter         M   1.920123   3.154818   9.765983   5.487378  19.576605   \n",
       "\n",
       "               mean    english  \n",
       "Aiko      11.558450  19.413025  \n",
       "Olga      11.261375  16.415284  \n",
       "Nathalie  11.060394  13.372065  \n",
       "Anders     9.689573        NaN  \n",
       "Icham      8.508434  16.285414  \n",
       "Peter      7.980981  19.158013  "
      ]
     },
     "execution_count": 193,
     "metadata": {},
     "output_type": "execute_result"
    }
   ],
   "source": [
    "all_grad.sort_values(by='mean', ascending=False)"
   ]
  },
  {
   "cell_type": "markdown",
   "metadata": {
    "slideshow": {
     "slide_type": "fragment"
    }
   },
   "source": [
    "Number of course validated:"
   ]
  },
  {
   "cell_type": "code",
   "execution_count": 204,
   "metadata": {
    "slideshow": {
     "slide_type": "fragment"
    }
   },
   "outputs": [
    {
     "data": {
      "text/plain": [
       "Anders      3\n",
       "Olga        4\n",
       "Peter       2\n",
       "Icham       3\n",
       "Nathalie    3\n",
       "Aiko        4\n",
       "dtype: int64"
      ]
     },
     "execution_count": 204,
     "metadata": {},
     "output_type": "execute_result"
    }
   ],
   "source": [
    "(all_grad.drop(columns=['gender', 'mean']) > 10).sum(axis=1)"
   ]
  },
  {
   "cell_type": "markdown",
   "metadata": {
    "slideshow": {
     "slide_type": "slide"
    }
   },
   "source": [
    "## GroupBy \n",
    "\n",
    "The `groupby()` mechanics has been integrated similarly as in `R`. It will split a `DataFrame` into groups based on one or more _keys_ to then apply any statistics."
   ]
  },
  {
   "cell_type": "code",
   "execution_count": 209,
   "metadata": {
    "slideshow": {
     "slide_type": "fragment"
    }
   },
   "outputs": [
    {
     "data": {
      "text/html": [
       "<div>\n",
       "<style scoped>\n",
       "    .dataframe tbody tr th:only-of-type {\n",
       "        vertical-align: middle;\n",
       "    }\n",
       "\n",
       "    .dataframe tbody tr th {\n",
       "        vertical-align: top;\n",
       "    }\n",
       "\n",
       "    .dataframe thead th {\n",
       "        text-align: right;\n",
       "    }\n",
       "</style>\n",
       "<table border=\"1\" class=\"dataframe\">\n",
       "  <thead>\n",
       "    <tr style=\"text-align: right;\">\n",
       "      <th></th>\n",
       "      <th>math</th>\n",
       "      <th>biology</th>\n",
       "      <th>french</th>\n",
       "      <th>history</th>\n",
       "      <th>physics</th>\n",
       "      <th>mean</th>\n",
       "      <th>english</th>\n",
       "    </tr>\n",
       "    <tr>\n",
       "      <th>gender</th>\n",
       "      <th></th>\n",
       "      <th></th>\n",
       "      <th></th>\n",
       "      <th></th>\n",
       "      <th></th>\n",
       "      <th></th>\n",
       "      <th></th>\n",
       "    </tr>\n",
       "  </thead>\n",
       "  <tbody>\n",
       "    <tr>\n",
       "      <th>F</th>\n",
       "      <td>12.025240</td>\n",
       "      <td>12.124102</td>\n",
       "      <td>13.091588</td>\n",
       "      <td>14.138032</td>\n",
       "      <td>5.088068</td>\n",
       "      <td>11.293406</td>\n",
       "      <td>16.400125</td>\n",
       "    </tr>\n",
       "    <tr>\n",
       "      <th>M</th>\n",
       "      <td>9.244971</td>\n",
       "      <td>9.219481</td>\n",
       "      <td>9.635336</td>\n",
       "      <td>4.825973</td>\n",
       "      <td>10.705886</td>\n",
       "      <td>8.726329</td>\n",
       "      <td>17.721713</td>\n",
       "    </tr>\n",
       "  </tbody>\n",
       "</table>\n",
       "</div>"
      ],
      "text/plain": [
       "             math    biology     french    history    physics       mean  \\\n",
       "gender                                                                     \n",
       "F       12.025240  12.124102  13.091588  14.138032   5.088068  11.293406   \n",
       "M        9.244971   9.219481   9.635336   4.825973  10.705886   8.726329   \n",
       "\n",
       "          english  \n",
       "gender             \n",
       "F       16.400125  \n",
       "M       17.721713  "
      ]
     },
     "execution_count": 209,
     "metadata": {},
     "output_type": "execute_result"
    }
   ],
   "source": [
    "all_grad.groupby(all_grad['gender']).mean()"
   ]
  },
  {
   "cell_type": "markdown",
   "metadata": {
    "slideshow": {
     "slide_type": "slide"
    }
   },
   "source": [
    "## Visualising dataset"
   ]
  },
  {
   "cell_type": "code",
   "execution_count": 18,
   "metadata": {
    "slideshow": {
     "slide_type": "fragment"
    }
   },
   "outputs": [
    {
     "data": {
      "text/html": [
       "<div>\n",
       "<style scoped>\n",
       "    .dataframe tbody tr th:only-of-type {\n",
       "        vertical-align: middle;\n",
       "    }\n",
       "\n",
       "    .dataframe tbody tr th {\n",
       "        vertical-align: top;\n",
       "    }\n",
       "\n",
       "    .dataframe thead th {\n",
       "        text-align: right;\n",
       "    }\n",
       "</style>\n",
       "<table border=\"1\" class=\"dataframe\">\n",
       "  <thead>\n",
       "    <tr style=\"text-align: right;\">\n",
       "      <th></th>\n",
       "      <th>sepal_length</th>\n",
       "      <th>sepal_width</th>\n",
       "      <th>petal_length</th>\n",
       "      <th>petal_width</th>\n",
       "      <th>species</th>\n",
       "    </tr>\n",
       "  </thead>\n",
       "  <tbody>\n",
       "    <tr>\n",
       "      <th>0</th>\n",
       "      <td>5.1</td>\n",
       "      <td>3.5</td>\n",
       "      <td>1.4</td>\n",
       "      <td>0.2</td>\n",
       "      <td>setosa</td>\n",
       "    </tr>\n",
       "    <tr>\n",
       "      <th>1</th>\n",
       "      <td>4.9</td>\n",
       "      <td>3.0</td>\n",
       "      <td>1.4</td>\n",
       "      <td>0.2</td>\n",
       "      <td>setosa</td>\n",
       "    </tr>\n",
       "    <tr>\n",
       "      <th>2</th>\n",
       "      <td>4.7</td>\n",
       "      <td>3.2</td>\n",
       "      <td>1.3</td>\n",
       "      <td>0.2</td>\n",
       "      <td>setosa</td>\n",
       "    </tr>\n",
       "    <tr>\n",
       "      <th>3</th>\n",
       "      <td>4.6</td>\n",
       "      <td>3.1</td>\n",
       "      <td>1.5</td>\n",
       "      <td>0.2</td>\n",
       "      <td>setosa</td>\n",
       "    </tr>\n",
       "    <tr>\n",
       "      <th>4</th>\n",
       "      <td>5.0</td>\n",
       "      <td>3.6</td>\n",
       "      <td>1.4</td>\n",
       "      <td>0.2</td>\n",
       "      <td>setosa</td>\n",
       "    </tr>\n",
       "    <tr>\n",
       "      <th>5</th>\n",
       "      <td>5.4</td>\n",
       "      <td>3.9</td>\n",
       "      <td>1.7</td>\n",
       "      <td>0.4</td>\n",
       "      <td>setosa</td>\n",
       "    </tr>\n",
       "    <tr>\n",
       "      <th>6</th>\n",
       "      <td>4.6</td>\n",
       "      <td>3.4</td>\n",
       "      <td>1.4</td>\n",
       "      <td>0.3</td>\n",
       "      <td>setosa</td>\n",
       "    </tr>\n",
       "    <tr>\n",
       "      <th>7</th>\n",
       "      <td>5.0</td>\n",
       "      <td>3.4</td>\n",
       "      <td>1.5</td>\n",
       "      <td>0.2</td>\n",
       "      <td>setosa</td>\n",
       "    </tr>\n",
       "    <tr>\n",
       "      <th>8</th>\n",
       "      <td>4.4</td>\n",
       "      <td>2.9</td>\n",
       "      <td>1.4</td>\n",
       "      <td>0.2</td>\n",
       "      <td>setosa</td>\n",
       "    </tr>\n",
       "    <tr>\n",
       "      <th>9</th>\n",
       "      <td>4.9</td>\n",
       "      <td>3.1</td>\n",
       "      <td>1.5</td>\n",
       "      <td>0.1</td>\n",
       "      <td>setosa</td>\n",
       "    </tr>\n",
       "    <tr>\n",
       "      <th>10</th>\n",
       "      <td>5.4</td>\n",
       "      <td>3.7</td>\n",
       "      <td>1.5</td>\n",
       "      <td>0.2</td>\n",
       "      <td>setosa</td>\n",
       "    </tr>\n",
       "    <tr>\n",
       "      <th>11</th>\n",
       "      <td>4.8</td>\n",
       "      <td>3.4</td>\n",
       "      <td>1.6</td>\n",
       "      <td>0.2</td>\n",
       "      <td>setosa</td>\n",
       "    </tr>\n",
       "    <tr>\n",
       "      <th>12</th>\n",
       "      <td>4.8</td>\n",
       "      <td>3.0</td>\n",
       "      <td>1.4</td>\n",
       "      <td>0.1</td>\n",
       "      <td>setosa</td>\n",
       "    </tr>\n",
       "    <tr>\n",
       "      <th>13</th>\n",
       "      <td>4.3</td>\n",
       "      <td>3.0</td>\n",
       "      <td>1.1</td>\n",
       "      <td>0.1</td>\n",
       "      <td>setosa</td>\n",
       "    </tr>\n",
       "    <tr>\n",
       "      <th>14</th>\n",
       "      <td>5.8</td>\n",
       "      <td>4.0</td>\n",
       "      <td>1.2</td>\n",
       "      <td>0.2</td>\n",
       "      <td>setosa</td>\n",
       "    </tr>\n",
       "    <tr>\n",
       "      <th>15</th>\n",
       "      <td>5.7</td>\n",
       "      <td>4.4</td>\n",
       "      <td>1.5</td>\n",
       "      <td>0.4</td>\n",
       "      <td>setosa</td>\n",
       "    </tr>\n",
       "    <tr>\n",
       "      <th>16</th>\n",
       "      <td>5.4</td>\n",
       "      <td>3.9</td>\n",
       "      <td>1.3</td>\n",
       "      <td>0.4</td>\n",
       "      <td>setosa</td>\n",
       "    </tr>\n",
       "    <tr>\n",
       "      <th>17</th>\n",
       "      <td>5.1</td>\n",
       "      <td>3.5</td>\n",
       "      <td>1.4</td>\n",
       "      <td>0.3</td>\n",
       "      <td>setosa</td>\n",
       "    </tr>\n",
       "    <tr>\n",
       "      <th>18</th>\n",
       "      <td>5.7</td>\n",
       "      <td>3.8</td>\n",
       "      <td>1.7</td>\n",
       "      <td>0.3</td>\n",
       "      <td>setosa</td>\n",
       "    </tr>\n",
       "    <tr>\n",
       "      <th>19</th>\n",
       "      <td>5.1</td>\n",
       "      <td>3.8</td>\n",
       "      <td>1.5</td>\n",
       "      <td>0.3</td>\n",
       "      <td>setosa</td>\n",
       "    </tr>\n",
       "    <tr>\n",
       "      <th>20</th>\n",
       "      <td>5.4</td>\n",
       "      <td>3.4</td>\n",
       "      <td>1.7</td>\n",
       "      <td>0.2</td>\n",
       "      <td>setosa</td>\n",
       "    </tr>\n",
       "    <tr>\n",
       "      <th>21</th>\n",
       "      <td>5.1</td>\n",
       "      <td>3.7</td>\n",
       "      <td>1.5</td>\n",
       "      <td>0.4</td>\n",
       "      <td>setosa</td>\n",
       "    </tr>\n",
       "    <tr>\n",
       "      <th>22</th>\n",
       "      <td>4.6</td>\n",
       "      <td>3.6</td>\n",
       "      <td>1.0</td>\n",
       "      <td>0.2</td>\n",
       "      <td>setosa</td>\n",
       "    </tr>\n",
       "    <tr>\n",
       "      <th>23</th>\n",
       "      <td>5.1</td>\n",
       "      <td>3.3</td>\n",
       "      <td>1.7</td>\n",
       "      <td>0.5</td>\n",
       "      <td>setosa</td>\n",
       "    </tr>\n",
       "    <tr>\n",
       "      <th>24</th>\n",
       "      <td>4.8</td>\n",
       "      <td>3.4</td>\n",
       "      <td>1.9</td>\n",
       "      <td>0.2</td>\n",
       "      <td>setosa</td>\n",
       "    </tr>\n",
       "    <tr>\n",
       "      <th>25</th>\n",
       "      <td>5.0</td>\n",
       "      <td>3.0</td>\n",
       "      <td>1.6</td>\n",
       "      <td>0.2</td>\n",
       "      <td>setosa</td>\n",
       "    </tr>\n",
       "    <tr>\n",
       "      <th>26</th>\n",
       "      <td>5.0</td>\n",
       "      <td>3.4</td>\n",
       "      <td>1.6</td>\n",
       "      <td>0.4</td>\n",
       "      <td>setosa</td>\n",
       "    </tr>\n",
       "    <tr>\n",
       "      <th>27</th>\n",
       "      <td>5.2</td>\n",
       "      <td>3.5</td>\n",
       "      <td>1.5</td>\n",
       "      <td>0.2</td>\n",
       "      <td>setosa</td>\n",
       "    </tr>\n",
       "    <tr>\n",
       "      <th>28</th>\n",
       "      <td>5.2</td>\n",
       "      <td>3.4</td>\n",
       "      <td>1.4</td>\n",
       "      <td>0.2</td>\n",
       "      <td>setosa</td>\n",
       "    </tr>\n",
       "    <tr>\n",
       "      <th>29</th>\n",
       "      <td>4.7</td>\n",
       "      <td>3.2</td>\n",
       "      <td>1.6</td>\n",
       "      <td>0.2</td>\n",
       "      <td>setosa</td>\n",
       "    </tr>\n",
       "    <tr>\n",
       "      <th>...</th>\n",
       "      <td>...</td>\n",
       "      <td>...</td>\n",
       "      <td>...</td>\n",
       "      <td>...</td>\n",
       "      <td>...</td>\n",
       "    </tr>\n",
       "    <tr>\n",
       "      <th>120</th>\n",
       "      <td>6.9</td>\n",
       "      <td>3.2</td>\n",
       "      <td>5.7</td>\n",
       "      <td>2.3</td>\n",
       "      <td>virginica</td>\n",
       "    </tr>\n",
       "    <tr>\n",
       "      <th>121</th>\n",
       "      <td>5.6</td>\n",
       "      <td>2.8</td>\n",
       "      <td>4.9</td>\n",
       "      <td>2.0</td>\n",
       "      <td>virginica</td>\n",
       "    </tr>\n",
       "    <tr>\n",
       "      <th>122</th>\n",
       "      <td>7.7</td>\n",
       "      <td>2.8</td>\n",
       "      <td>6.7</td>\n",
       "      <td>2.0</td>\n",
       "      <td>virginica</td>\n",
       "    </tr>\n",
       "    <tr>\n",
       "      <th>123</th>\n",
       "      <td>6.3</td>\n",
       "      <td>2.7</td>\n",
       "      <td>4.9</td>\n",
       "      <td>1.8</td>\n",
       "      <td>virginica</td>\n",
       "    </tr>\n",
       "    <tr>\n",
       "      <th>124</th>\n",
       "      <td>6.7</td>\n",
       "      <td>3.3</td>\n",
       "      <td>5.7</td>\n",
       "      <td>2.1</td>\n",
       "      <td>virginica</td>\n",
       "    </tr>\n",
       "    <tr>\n",
       "      <th>125</th>\n",
       "      <td>7.2</td>\n",
       "      <td>3.2</td>\n",
       "      <td>6.0</td>\n",
       "      <td>1.8</td>\n",
       "      <td>virginica</td>\n",
       "    </tr>\n",
       "    <tr>\n",
       "      <th>126</th>\n",
       "      <td>6.2</td>\n",
       "      <td>2.8</td>\n",
       "      <td>4.8</td>\n",
       "      <td>1.8</td>\n",
       "      <td>virginica</td>\n",
       "    </tr>\n",
       "    <tr>\n",
       "      <th>127</th>\n",
       "      <td>6.1</td>\n",
       "      <td>3.0</td>\n",
       "      <td>4.9</td>\n",
       "      <td>1.8</td>\n",
       "      <td>virginica</td>\n",
       "    </tr>\n",
       "    <tr>\n",
       "      <th>128</th>\n",
       "      <td>6.4</td>\n",
       "      <td>2.8</td>\n",
       "      <td>5.6</td>\n",
       "      <td>2.1</td>\n",
       "      <td>virginica</td>\n",
       "    </tr>\n",
       "    <tr>\n",
       "      <th>129</th>\n",
       "      <td>7.2</td>\n",
       "      <td>3.0</td>\n",
       "      <td>5.8</td>\n",
       "      <td>1.6</td>\n",
       "      <td>virginica</td>\n",
       "    </tr>\n",
       "    <tr>\n",
       "      <th>130</th>\n",
       "      <td>7.4</td>\n",
       "      <td>2.8</td>\n",
       "      <td>6.1</td>\n",
       "      <td>1.9</td>\n",
       "      <td>virginica</td>\n",
       "    </tr>\n",
       "    <tr>\n",
       "      <th>131</th>\n",
       "      <td>7.9</td>\n",
       "      <td>3.8</td>\n",
       "      <td>6.4</td>\n",
       "      <td>2.0</td>\n",
       "      <td>virginica</td>\n",
       "    </tr>\n",
       "    <tr>\n",
       "      <th>132</th>\n",
       "      <td>6.4</td>\n",
       "      <td>2.8</td>\n",
       "      <td>5.6</td>\n",
       "      <td>2.2</td>\n",
       "      <td>virginica</td>\n",
       "    </tr>\n",
       "    <tr>\n",
       "      <th>133</th>\n",
       "      <td>6.3</td>\n",
       "      <td>2.8</td>\n",
       "      <td>5.1</td>\n",
       "      <td>1.5</td>\n",
       "      <td>virginica</td>\n",
       "    </tr>\n",
       "    <tr>\n",
       "      <th>134</th>\n",
       "      <td>6.1</td>\n",
       "      <td>2.6</td>\n",
       "      <td>5.6</td>\n",
       "      <td>1.4</td>\n",
       "      <td>virginica</td>\n",
       "    </tr>\n",
       "    <tr>\n",
       "      <th>135</th>\n",
       "      <td>7.7</td>\n",
       "      <td>3.0</td>\n",
       "      <td>6.1</td>\n",
       "      <td>2.3</td>\n",
       "      <td>virginica</td>\n",
       "    </tr>\n",
       "    <tr>\n",
       "      <th>136</th>\n",
       "      <td>6.3</td>\n",
       "      <td>3.4</td>\n",
       "      <td>5.6</td>\n",
       "      <td>2.4</td>\n",
       "      <td>virginica</td>\n",
       "    </tr>\n",
       "    <tr>\n",
       "      <th>137</th>\n",
       "      <td>6.4</td>\n",
       "      <td>3.1</td>\n",
       "      <td>5.5</td>\n",
       "      <td>1.8</td>\n",
       "      <td>virginica</td>\n",
       "    </tr>\n",
       "    <tr>\n",
       "      <th>138</th>\n",
       "      <td>6.0</td>\n",
       "      <td>3.0</td>\n",
       "      <td>4.8</td>\n",
       "      <td>1.8</td>\n",
       "      <td>virginica</td>\n",
       "    </tr>\n",
       "    <tr>\n",
       "      <th>139</th>\n",
       "      <td>6.9</td>\n",
       "      <td>3.1</td>\n",
       "      <td>5.4</td>\n",
       "      <td>2.1</td>\n",
       "      <td>virginica</td>\n",
       "    </tr>\n",
       "    <tr>\n",
       "      <th>140</th>\n",
       "      <td>6.7</td>\n",
       "      <td>3.1</td>\n",
       "      <td>5.6</td>\n",
       "      <td>2.4</td>\n",
       "      <td>virginica</td>\n",
       "    </tr>\n",
       "    <tr>\n",
       "      <th>141</th>\n",
       "      <td>6.9</td>\n",
       "      <td>3.1</td>\n",
       "      <td>5.1</td>\n",
       "      <td>2.3</td>\n",
       "      <td>virginica</td>\n",
       "    </tr>\n",
       "    <tr>\n",
       "      <th>142</th>\n",
       "      <td>5.8</td>\n",
       "      <td>2.7</td>\n",
       "      <td>5.1</td>\n",
       "      <td>1.9</td>\n",
       "      <td>virginica</td>\n",
       "    </tr>\n",
       "    <tr>\n",
       "      <th>143</th>\n",
       "      <td>6.8</td>\n",
       "      <td>3.2</td>\n",
       "      <td>5.9</td>\n",
       "      <td>2.3</td>\n",
       "      <td>virginica</td>\n",
       "    </tr>\n",
       "    <tr>\n",
       "      <th>144</th>\n",
       "      <td>6.7</td>\n",
       "      <td>3.3</td>\n",
       "      <td>5.7</td>\n",
       "      <td>2.5</td>\n",
       "      <td>virginica</td>\n",
       "    </tr>\n",
       "    <tr>\n",
       "      <th>145</th>\n",
       "      <td>6.7</td>\n",
       "      <td>3.0</td>\n",
       "      <td>5.2</td>\n",
       "      <td>2.3</td>\n",
       "      <td>virginica</td>\n",
       "    </tr>\n",
       "    <tr>\n",
       "      <th>146</th>\n",
       "      <td>6.3</td>\n",
       "      <td>2.5</td>\n",
       "      <td>5.0</td>\n",
       "      <td>1.9</td>\n",
       "      <td>virginica</td>\n",
       "    </tr>\n",
       "    <tr>\n",
       "      <th>147</th>\n",
       "      <td>6.5</td>\n",
       "      <td>3.0</td>\n",
       "      <td>5.2</td>\n",
       "      <td>2.0</td>\n",
       "      <td>virginica</td>\n",
       "    </tr>\n",
       "    <tr>\n",
       "      <th>148</th>\n",
       "      <td>6.2</td>\n",
       "      <td>3.4</td>\n",
       "      <td>5.4</td>\n",
       "      <td>2.3</td>\n",
       "      <td>virginica</td>\n",
       "    </tr>\n",
       "    <tr>\n",
       "      <th>149</th>\n",
       "      <td>5.9</td>\n",
       "      <td>3.0</td>\n",
       "      <td>5.1</td>\n",
       "      <td>1.8</td>\n",
       "      <td>virginica</td>\n",
       "    </tr>\n",
       "  </tbody>\n",
       "</table>\n",
       "<p>150 rows × 5 columns</p>\n",
       "</div>"
      ],
      "text/plain": [
       "     sepal_length  sepal_width  petal_length  petal_width    species\n",
       "0             5.1          3.5           1.4          0.2     setosa\n",
       "1             4.9          3.0           1.4          0.2     setosa\n",
       "2             4.7          3.2           1.3          0.2     setosa\n",
       "3             4.6          3.1           1.5          0.2     setosa\n",
       "4             5.0          3.6           1.4          0.2     setosa\n",
       "5             5.4          3.9           1.7          0.4     setosa\n",
       "6             4.6          3.4           1.4          0.3     setosa\n",
       "7             5.0          3.4           1.5          0.2     setosa\n",
       "8             4.4          2.9           1.4          0.2     setosa\n",
       "9             4.9          3.1           1.5          0.1     setosa\n",
       "10            5.4          3.7           1.5          0.2     setosa\n",
       "11            4.8          3.4           1.6          0.2     setosa\n",
       "12            4.8          3.0           1.4          0.1     setosa\n",
       "13            4.3          3.0           1.1          0.1     setosa\n",
       "14            5.8          4.0           1.2          0.2     setosa\n",
       "15            5.7          4.4           1.5          0.4     setosa\n",
       "16            5.4          3.9           1.3          0.4     setosa\n",
       "17            5.1          3.5           1.4          0.3     setosa\n",
       "18            5.7          3.8           1.7          0.3     setosa\n",
       "19            5.1          3.8           1.5          0.3     setosa\n",
       "20            5.4          3.4           1.7          0.2     setosa\n",
       "21            5.1          3.7           1.5          0.4     setosa\n",
       "22            4.6          3.6           1.0          0.2     setosa\n",
       "23            5.1          3.3           1.7          0.5     setosa\n",
       "24            4.8          3.4           1.9          0.2     setosa\n",
       "25            5.0          3.0           1.6          0.2     setosa\n",
       "26            5.0          3.4           1.6          0.4     setosa\n",
       "27            5.2          3.5           1.5          0.2     setosa\n",
       "28            5.2          3.4           1.4          0.2     setosa\n",
       "29            4.7          3.2           1.6          0.2     setosa\n",
       "..            ...          ...           ...          ...        ...\n",
       "120           6.9          3.2           5.7          2.3  virginica\n",
       "121           5.6          2.8           4.9          2.0  virginica\n",
       "122           7.7          2.8           6.7          2.0  virginica\n",
       "123           6.3          2.7           4.9          1.8  virginica\n",
       "124           6.7          3.3           5.7          2.1  virginica\n",
       "125           7.2          3.2           6.0          1.8  virginica\n",
       "126           6.2          2.8           4.8          1.8  virginica\n",
       "127           6.1          3.0           4.9          1.8  virginica\n",
       "128           6.4          2.8           5.6          2.1  virginica\n",
       "129           7.2          3.0           5.8          1.6  virginica\n",
       "130           7.4          2.8           6.1          1.9  virginica\n",
       "131           7.9          3.8           6.4          2.0  virginica\n",
       "132           6.4          2.8           5.6          2.2  virginica\n",
       "133           6.3          2.8           5.1          1.5  virginica\n",
       "134           6.1          2.6           5.6          1.4  virginica\n",
       "135           7.7          3.0           6.1          2.3  virginica\n",
       "136           6.3          3.4           5.6          2.4  virginica\n",
       "137           6.4          3.1           5.5          1.8  virginica\n",
       "138           6.0          3.0           4.8          1.8  virginica\n",
       "139           6.9          3.1           5.4          2.1  virginica\n",
       "140           6.7          3.1           5.6          2.4  virginica\n",
       "141           6.9          3.1           5.1          2.3  virginica\n",
       "142           5.8          2.7           5.1          1.9  virginica\n",
       "143           6.8          3.2           5.9          2.3  virginica\n",
       "144           6.7          3.3           5.7          2.5  virginica\n",
       "145           6.7          3.0           5.2          2.3  virginica\n",
       "146           6.3          2.5           5.0          1.9  virginica\n",
       "147           6.5          3.0           5.2          2.0  virginica\n",
       "148           6.2          3.4           5.4          2.3  virginica\n",
       "149           5.9          3.0           5.1          1.8  virginica\n",
       "\n",
       "[150 rows x 5 columns]"
      ]
     },
     "execution_count": 18,
     "metadata": {},
     "output_type": "execute_result"
    }
   ],
   "source": [
    "import seaborn as sns\n",
    "iris = sns.load_dataset('iris')\n",
    "iris"
   ]
  },
  {
   "cell_type": "code",
   "execution_count": 226,
   "metadata": {
    "scrolled": true,
    "slideshow": {
     "slide_type": "fragment"
    }
   },
   "outputs": [
    {
     "data": {
      "text/html": [
       "<div>\n",
       "<style scoped>\n",
       "    .dataframe tbody tr th:only-of-type {\n",
       "        vertical-align: middle;\n",
       "    }\n",
       "\n",
       "    .dataframe tbody tr th {\n",
       "        vertical-align: top;\n",
       "    }\n",
       "\n",
       "    .dataframe thead th {\n",
       "        text-align: right;\n",
       "    }\n",
       "</style>\n",
       "<table border=\"1\" class=\"dataframe\">\n",
       "  <thead>\n",
       "    <tr style=\"text-align: right;\">\n",
       "      <th></th>\n",
       "      <th>sepal_length</th>\n",
       "      <th>sepal_width</th>\n",
       "      <th>petal_length</th>\n",
       "      <th>petal_width</th>\n",
       "      <th>species</th>\n",
       "    </tr>\n",
       "  </thead>\n",
       "  <tbody>\n",
       "    <tr>\n",
       "      <th>0</th>\n",
       "      <td>5.1</td>\n",
       "      <td>3.5</td>\n",
       "      <td>1.4</td>\n",
       "      <td>0.2</td>\n",
       "      <td>setosa</td>\n",
       "    </tr>\n",
       "    <tr>\n",
       "      <th>1</th>\n",
       "      <td>4.9</td>\n",
       "      <td>3.0</td>\n",
       "      <td>1.4</td>\n",
       "      <td>0.2</td>\n",
       "      <td>setosa</td>\n",
       "    </tr>\n",
       "  </tbody>\n",
       "</table>\n",
       "</div>"
      ],
      "text/plain": [
       "   sepal_length  sepal_width  petal_length  petal_width species\n",
       "0           5.1          3.5           1.4          0.2  setosa\n",
       "1           4.9          3.0           1.4          0.2  setosa"
      ]
     },
     "execution_count": 226,
     "metadata": {},
     "output_type": "execute_result"
    }
   ],
   "source": [
    "# print 2 first lines\n",
    "iris.head(2)"
   ]
  },
  {
   "cell_type": "code",
   "execution_count": 225,
   "metadata": {
    "scrolled": true,
    "slideshow": {
     "slide_type": "fragment"
    }
   },
   "outputs": [
    {
     "data": {
      "text/html": [
       "<div>\n",
       "<style scoped>\n",
       "    .dataframe tbody tr th:only-of-type {\n",
       "        vertical-align: middle;\n",
       "    }\n",
       "\n",
       "    .dataframe tbody tr th {\n",
       "        vertical-align: top;\n",
       "    }\n",
       "\n",
       "    .dataframe thead th {\n",
       "        text-align: right;\n",
       "    }\n",
       "</style>\n",
       "<table border=\"1\" class=\"dataframe\">\n",
       "  <thead>\n",
       "    <tr style=\"text-align: right;\">\n",
       "      <th></th>\n",
       "      <th>sepal_length</th>\n",
       "      <th>sepal_width</th>\n",
       "      <th>petal_length</th>\n",
       "      <th>petal_width</th>\n",
       "      <th>species</th>\n",
       "    </tr>\n",
       "  </thead>\n",
       "  <tbody>\n",
       "    <tr>\n",
       "      <th>148</th>\n",
       "      <td>6.2</td>\n",
       "      <td>3.4</td>\n",
       "      <td>5.4</td>\n",
       "      <td>2.3</td>\n",
       "      <td>virginica</td>\n",
       "    </tr>\n",
       "    <tr>\n",
       "      <th>149</th>\n",
       "      <td>5.9</td>\n",
       "      <td>3.0</td>\n",
       "      <td>5.1</td>\n",
       "      <td>1.8</td>\n",
       "      <td>virginica</td>\n",
       "    </tr>\n",
       "  </tbody>\n",
       "</table>\n",
       "</div>"
      ],
      "text/plain": [
       "     sepal_length  sepal_width  petal_length  petal_width    species\n",
       "148           6.2          3.4           5.4          2.3  virginica\n",
       "149           5.9          3.0           5.1          1.8  virginica"
      ]
     },
     "execution_count": 225,
     "metadata": {},
     "output_type": "execute_result"
    }
   ],
   "source": [
    "# print 2 last lines\n",
    "iris.tail(2)"
   ]
  },
  {
   "cell_type": "markdown",
   "metadata": {
    "slideshow": {
     "slide_type": "slide"
    }
   },
   "source": [
    "## [Qgrid](https://github.com/quantopian/qgrid)\n",
    "\n",
    "_\"Qgrid is a Jupyter notebook widget which uses SlickGrid to render pandas DataFrames within a Jupyter notebook. This allows you to explore your DataFrames with intuitive scrolling, sorting, and filtering controls, as well as edit your DataFrames by double clicking cells.\"_"
   ]
  },
  {
   "cell_type": "code",
   "execution_count": 19,
   "metadata": {
    "slideshow": {
     "slide_type": "fragment"
    }
   },
   "outputs": [
    {
     "data": {
      "application/vnd.jupyter.widget-view+json": {
       "model_id": "886aca0913804ff988d9d5f13943ba36",
       "version_major": 2,
       "version_minor": 0
      },
      "text/plain": [
       "QgridWidget(grid_options={'fullWidthRows': True, 'syncColumnCellResize': True, 'forceFitColumns': True, 'defau…"
      ]
     },
     "metadata": {},
     "output_type": "display_data"
    }
   ],
   "source": [
    "import qgrid\n",
    "qgrid_widget = qgrid.show_grid(iris, show_toolbar=True, grid_options={'maxVisibleRows':5})\n",
    "qgrid_widget"
   ]
  },
  {
   "cell_type": "code",
   "execution_count": null,
   "metadata": {
    "slideshow": {
     "slide_type": "slide"
    }
   },
   "outputs": [],
   "source": []
  },
  {
   "cell_type": "markdown",
   "metadata": {
    "slideshow": {
     "slide_type": "slide"
    }
   },
   "source": [
    "## Idée d'exo:"
   ]
  },
  {
   "cell_type": "code",
   "execution_count": null,
   "metadata": {},
   "outputs": [],
   "source": []
  },
  {
   "cell_type": "code",
   "execution_count": 20,
   "metadata": {},
   "outputs": [
    {
     "name": "stdout",
     "output_type": "stream",
     "text": [
      "         Sequence   Année   Tour  Département  Commune  Code canton  \\\n",
      "count  263.000000   263.0  263.0        263.0    263.0   263.000000   \n",
      "mean   132.000000  2019.0    1.0         31.0    555.0    19.319392   \n",
      "std     76.065761     0.0    0.0          0.0      0.0     3.131453   \n",
      "min      1.000000  2019.0    1.0         31.0    555.0    15.000000   \n",
      "25%     66.500000  2019.0    1.0         31.0    555.0    17.000000   \n",
      "50%    132.000000  2019.0    1.0         31.0    555.0    19.000000   \n",
      "75%    197.500000  2019.0    1.0         31.0    555.0    22.000000   \n",
      "max    263.000000  2019.0    1.0         31.0    555.0    25.000000   \n",
      "\n",
      "       Code circonscription  Nombre d'inscrits  Nombre d'abstentions  \\\n",
      "count            263.000000         263.000000            263.000000   \n",
      "mean               3.623574         923.281369            439.615970   \n",
      "std                2.551555         188.675568            115.579229   \n",
      "min                1.000000          68.000000             48.000000   \n",
      "25%                2.000000         858.000000            373.000000   \n",
      "50%                3.000000         947.000000            423.000000   \n",
      "75%                4.000000        1033.000000            495.000000   \n",
      "max                9.000000        1626.000000            997.000000   \n",
      "\n",
      "       Nombre de votants  ...  Nombre de voix Liste 30  Code dépôt Liste 31  \\\n",
      "count         263.000000  ...               263.000000                263.0   \n",
      "mean          483.665399  ...               101.212928                  9.0   \n",
      "std           131.858016  ...                40.947745                  0.0   \n",
      "min            14.000000  ...                 0.000000                  9.0   \n",
      "25%           432.000000  ...                79.500000                  9.0   \n",
      "50%           513.000000  ...               105.000000                  9.0   \n",
      "75%           571.500000  ...               129.000000                  9.0   \n",
      "max           707.000000  ...               185.000000                  9.0   \n",
      "\n",
      "       Nombre de voix Liste 31  Code dépôt Liste 32  Nombre de voix Liste 32  \\\n",
      "count               263.000000                263.0               263.000000   \n",
      "mean                  7.205323                  2.0                 0.623574   \n",
      "std                   3.574140                  0.0                 0.894713   \n",
      "min                   0.000000                  2.0                 0.000000   \n",
      "25%                   5.000000                  2.0                 0.000000   \n",
      "50%                   7.000000                  2.0                 0.000000   \n",
      "75%                   9.000000                  2.0                 1.000000   \n",
      "max                  19.000000                  2.0                 5.000000   \n",
      "\n",
      "       Code dépôt Liste 33  Nombre de voix Liste 33  Code dépôt Liste 34  \\\n",
      "count                263.0               263.000000                263.0   \n",
      "mean                  26.0                 0.011407                 34.0   \n",
      "std                    0.0                 0.106394                  0.0   \n",
      "min                   26.0                 0.000000                 34.0   \n",
      "25%                   26.0                 0.000000                 34.0   \n",
      "50%                   26.0                 0.000000                 34.0   \n",
      "75%                   26.0                 0.000000                 34.0   \n",
      "max                   26.0                 1.000000                 34.0   \n",
      "\n",
      "       Nombre de voix Liste 34  Procurations  \n",
      "count               263.000000    256.000000  \n",
      "mean                  0.258555     14.949219  \n",
      "std                   0.829831      8.731359  \n",
      "min                   0.000000      0.000000  \n",
      "25%                   0.000000      8.000000  \n",
      "50%                   0.000000     14.500000  \n",
      "75%                   0.000000     21.000000  \n",
      "max                   6.000000     41.000000  \n",
      "\n",
      "[8 rows x 84 columns]\n"
     ]
    }
   ],
   "source": [
    "import io\n",
    "import requests\n",
    "\n",
    "#https://www.data.gouv.fr/fr/datasets/elections-europeennes-2019-resultats/#_\n",
    "\n",
    "url = \"https://www.data.gouv.fr/fr/datasets/r/da21a51c-ac5d-41a0-9b43-5dc2f814f21a\"\n",
    "s = requests.get(url).content\n",
    "ds = pd.read_csv(io.StringIO(s.decode('utf-8')), sep=';')\n",
    "print(ds.describe())\n"
   ]
  },
  {
   "cell_type": "code",
   "execution_count": 43,
   "metadata": {},
   "outputs": [
    {
     "data": {
      "text/html": [
       "<div>\n",
       "<style scoped>\n",
       "    .dataframe tbody tr th:only-of-type {\n",
       "        vertical-align: middle;\n",
       "    }\n",
       "\n",
       "    .dataframe tbody tr th {\n",
       "        vertical-align: top;\n",
       "    }\n",
       "\n",
       "    .dataframe thead th {\n",
       "        text-align: right;\n",
       "    }\n",
       "</style>\n",
       "<table border=\"1\" class=\"dataframe\">\n",
       "  <thead>\n",
       "    <tr style=\"text-align: right;\">\n",
       "      <th></th>\n",
       "      <th>Sequence</th>\n",
       "      <th>Type</th>\n",
       "      <th>Année</th>\n",
       "      <th>Tour</th>\n",
       "      <th>Département</th>\n",
       "      <th>Commune</th>\n",
       "      <th>Numéro du bureau</th>\n",
       "      <th>Code canton</th>\n",
       "      <th>Code circonscription</th>\n",
       "      <th>Indicatif</th>\n",
       "      <th>...</th>\n",
       "      <th>Nombre de voix Liste 30</th>\n",
       "      <th>Code dépôt Liste 31</th>\n",
       "      <th>Nombre de voix Liste 31</th>\n",
       "      <th>Code dépôt Liste 32</th>\n",
       "      <th>Nombre de voix Liste 32</th>\n",
       "      <th>Code dépôt Liste 33</th>\n",
       "      <th>Nombre de voix Liste 33</th>\n",
       "      <th>Code dépôt Liste 34</th>\n",
       "      <th>Nombre de voix Liste 34</th>\n",
       "      <th>Procurations</th>\n",
       "    </tr>\n",
       "  </thead>\n",
       "  <tbody>\n",
       "    <tr>\n",
       "      <th>0</th>\n",
       "      <td>12</td>\n",
       "      <td>ER</td>\n",
       "      <td>2019</td>\n",
       "      <td>1</td>\n",
       "      <td>31</td>\n",
       "      <td>555</td>\n",
       "      <td>0012</td>\n",
       "      <td>17</td>\n",
       "      <td>1</td>\n",
       "      <td>I</td>\n",
       "      <td>...</td>\n",
       "      <td>132</td>\n",
       "      <td>9</td>\n",
       "      <td>4</td>\n",
       "      <td>2</td>\n",
       "      <td>1</td>\n",
       "      <td>26</td>\n",
       "      <td>0</td>\n",
       "      <td>34</td>\n",
       "      <td>0</td>\n",
       "      <td>35.0</td>\n",
       "    </tr>\n",
       "    <tr>\n",
       "      <th>1</th>\n",
       "      <td>20</td>\n",
       "      <td>ER</td>\n",
       "      <td>2019</td>\n",
       "      <td>1</td>\n",
       "      <td>31</td>\n",
       "      <td>555</td>\n",
       "      <td>0020</td>\n",
       "      <td>17</td>\n",
       "      <td>2</td>\n",
       "      <td>I</td>\n",
       "      <td>...</td>\n",
       "      <td>133</td>\n",
       "      <td>9</td>\n",
       "      <td>6</td>\n",
       "      <td>2</td>\n",
       "      <td>0</td>\n",
       "      <td>26</td>\n",
       "      <td>0</td>\n",
       "      <td>34</td>\n",
       "      <td>0</td>\n",
       "      <td>14.0</td>\n",
       "    </tr>\n",
       "    <tr>\n",
       "      <th>2</th>\n",
       "      <td>27</td>\n",
       "      <td>ER</td>\n",
       "      <td>2019</td>\n",
       "      <td>1</td>\n",
       "      <td>31</td>\n",
       "      <td>555</td>\n",
       "      <td>0027</td>\n",
       "      <td>17</td>\n",
       "      <td>2</td>\n",
       "      <td>I</td>\n",
       "      <td>...</td>\n",
       "      <td>183</td>\n",
       "      <td>9</td>\n",
       "      <td>6</td>\n",
       "      <td>2</td>\n",
       "      <td>0</td>\n",
       "      <td>26</td>\n",
       "      <td>0</td>\n",
       "      <td>34</td>\n",
       "      <td>0</td>\n",
       "      <td>23.0</td>\n",
       "    </tr>\n",
       "    <tr>\n",
       "      <th>3</th>\n",
       "      <td>28</td>\n",
       "      <td>ER</td>\n",
       "      <td>2019</td>\n",
       "      <td>1</td>\n",
       "      <td>31</td>\n",
       "      <td>555</td>\n",
       "      <td>0028</td>\n",
       "      <td>17</td>\n",
       "      <td>2</td>\n",
       "      <td>I</td>\n",
       "      <td>...</td>\n",
       "      <td>104</td>\n",
       "      <td>9</td>\n",
       "      <td>10</td>\n",
       "      <td>2</td>\n",
       "      <td>1</td>\n",
       "      <td>26</td>\n",
       "      <td>0</td>\n",
       "      <td>34</td>\n",
       "      <td>0</td>\n",
       "      <td>15.0</td>\n",
       "    </tr>\n",
       "    <tr>\n",
       "      <th>4</th>\n",
       "      <td>29</td>\n",
       "      <td>ER</td>\n",
       "      <td>2019</td>\n",
       "      <td>1</td>\n",
       "      <td>31</td>\n",
       "      <td>555</td>\n",
       "      <td>0029</td>\n",
       "      <td>17</td>\n",
       "      <td>2</td>\n",
       "      <td>I</td>\n",
       "      <td>...</td>\n",
       "      <td>123</td>\n",
       "      <td>9</td>\n",
       "      <td>10</td>\n",
       "      <td>2</td>\n",
       "      <td>2</td>\n",
       "      <td>26</td>\n",
       "      <td>0</td>\n",
       "      <td>34</td>\n",
       "      <td>0</td>\n",
       "      <td>15.0</td>\n",
       "    </tr>\n",
       "  </tbody>\n",
       "</table>\n",
       "<p>5 rows × 87 columns</p>\n",
       "</div>"
      ],
      "text/plain": [
       "   Sequence Type  Année  Tour  Département  Commune Numéro du bureau  \\\n",
       "0        12   ER   2019     1           31      555             0012   \n",
       "1        20   ER   2019     1           31      555             0020   \n",
       "2        27   ER   2019     1           31      555             0027   \n",
       "3        28   ER   2019     1           31      555             0028   \n",
       "4        29   ER   2019     1           31      555             0029   \n",
       "\n",
       "   Code canton  Code circonscription Indicatif  ...  Nombre de voix Liste 30  \\\n",
       "0           17                     1         I  ...                      132   \n",
       "1           17                     2         I  ...                      133   \n",
       "2           17                     2         I  ...                      183   \n",
       "3           17                     2         I  ...                      104   \n",
       "4           17                     2         I  ...                      123   \n",
       "\n",
       "   Code dépôt Liste 31  Nombre de voix Liste 31  Code dépôt Liste 32  \\\n",
       "0                    9                        4                    2   \n",
       "1                    9                        6                    2   \n",
       "2                    9                        6                    2   \n",
       "3                    9                       10                    2   \n",
       "4                    9                       10                    2   \n",
       "\n",
       "   Nombre de voix Liste 32  Code dépôt Liste 33  Nombre de voix Liste 33  \\\n",
       "0                        1                   26                        0   \n",
       "1                        0                   26                        0   \n",
       "2                        0                   26                        0   \n",
       "3                        1                   26                        0   \n",
       "4                        2                   26                        0   \n",
       "\n",
       "   Code dépôt Liste 34  Nombre de voix Liste 34  Procurations  \n",
       "0                   34                        0          35.0  \n",
       "1                   34                        0          14.0  \n",
       "2                   34                        0          23.0  \n",
       "3                   34                        0          15.0  \n",
       "4                   34                        0          15.0  \n",
       "\n",
       "[5 rows x 87 columns]"
      ]
     },
     "execution_count": 43,
     "metadata": {},
     "output_type": "execute_result"
    }
   ],
   "source": [
    "ds.head()"
   ]
  },
  {
   "cell_type": "code",
   "execution_count": null,
   "metadata": {},
   "outputs": [],
   "source": [
    "# http://www.pygal.org/en/stable/documentation/types/maps/pygal_maps_fr.html"
   ]
  }
 ],
 "metadata": {
  "celltoolbar": "Diaporama",
  "kernelspec": {
   "display_name": "Python 3",
   "language": "python",
   "name": "python3"
  },
  "language_info": {
   "codemirror_mode": {
    "name": "ipython",
    "version": 3
   },
   "file_extension": ".py",
   "mimetype": "text/x-python",
   "name": "python",
   "nbconvert_exporter": "python",
   "pygments_lexer": "ipython3",
   "version": "3.6.7"
  }
 },
 "nbformat": 4,
 "nbformat_minor": 2
}
