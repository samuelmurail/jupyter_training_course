{
 "cells": [
  {
   "cell_type": "markdown",
   "metadata": {},
   "source": [
    "## Open Exercise 2: visualization, interactivity, installation\n",
    "\n",
    "*~120 minutes*\n",
    "\n",
    "**You can choose one or more of the following:**\n",
    "\n",
    "A. Choose one or two of the plotting libraries in notebook 02. \n",
    "Look up their documentation, and make the plot in notebook 02 as beautiful as possible.\n",
    "\n",
    "B. Apply the visualization to your own data.\n",
    "\n",
    "C. Combine visualization and interactivity\n",
    "\n",
    "D. Create a new notebook and do all your visualization in R. The \"shiny\" package can do interactivity.\n",
    "\n",
    "E. Install Jupyter on your own laptop, and do some of the installation exercises mentioned in the notebooks. \n",
    "\n",
    "If you don't like any of the options, you could start with B. of Open Exercise 4.\n"
   ]
  }
 ],
 "metadata": {
  "celltoolbar": "Slideshow",
  "kernelspec": {
   "display_name": "Python 3",
   "language": "python",
   "name": "python3"
  },
  "language_info": {
   "codemirror_mode": {
    "name": "ipython",
    "version": 3
   },
   "file_extension": ".py",
   "mimetype": "text/x-python",
   "name": "python",
   "nbconvert_exporter": "python",
   "pygments_lexer": "ipython3",
   "version": "3.6.7"
  }
 },
 "nbformat": 4,
 "nbformat_minor": 2
}
