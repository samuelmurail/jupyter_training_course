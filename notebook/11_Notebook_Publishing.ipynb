{
 "cells": [
  {
   "cell_type": "code",
   "execution_count": 3,
   "metadata": {
    "slideshow": {
     "slide_type": "notes"
    }
   },
   "outputs": [
    {
     "data": {
      "text/html": [
       "<style> \n",
       "\n",
       "code {background-color : lightgrey !important;} \n",
       "\n",
       ".CodeMirror {\n",
       "    width: 100vw;\n",
       "}\n",
       "\n",
       ".rendered_html {\n",
       "  font-size:0.8em;\n",
       "  line-height: 90%; \n",
       "}\n",
       ".rendered_html table, .rendered_html th, .rendered_html tr, .rendered_html td {\n",
       "     font-size: 100%;\n",
       "}\n",
       "\n",
       "\n",
       "\n",
       "</style>\n",
       "\n",
       "<!-- To use only for presentation :\n",
       ".container {\n",
       "    width: 99% !important;\n",
       "}\n",
       ">"
      ],
      "text/plain": [
       "<IPython.core.display.HTML object>"
      ]
     },
     "metadata": {},
     "output_type": "display_data"
    }
   ],
   "source": [
    "%%HTML\n",
    "<style> \n",
    "\n",
    "code {background-color : lightgrey !important;} \n",
    "\n",
    ".CodeMirror {\n",
    "    width: 100vw;\n",
    "}\n",
    "\n",
    ".rendered_html {\n",
    "  font-size:0.8em;\n",
    "  line-height: 90%; \n",
    "}\n",
    ".rendered_html table, .rendered_html th, .rendered_html tr, .rendered_html td {\n",
    "     font-size: 100%;\n",
    "}\n",
    "\n",
    "\n",
    "\n",
    "</style>\n",
    "\n",
    "<!-- To use only for presentation :\n",
    ".container {\n",
    "    width: 99% !important;\n",
    "}\n",
    ">"
   ]
  },
  {
   "cell_type": "code",
   "execution_count": 2,
   "metadata": {
    "slideshow": {
     "slide_type": "notes"
    }
   },
   "outputs": [
    {
     "data": {
      "text/html": [
       "<!-- Not content, but for better presentation styles -->\n",
       "<style>\n",
       ".rise-enabled .rendered_html table.dataframe {\n",
       "    font-size: 16px;\n",
       "}\n",
       ".rendered_html code {\n",
       "    background: #EFEFEF;\n",
       "    border: 1px solid #CCC;\n",
       "    padding: 1px 5px;\n",
       "    border-radius: 1px;\n",
       "}\n",
       ".rise-enabled .fa-times-circle:before,\n",
       ".rise-enabled .fa-question:before,\n",
       ".rise-enabled aside.controls {\n",
       "    opacity: 0.1;\n",
       "}\n",
       ".rise-enabled a,\n",
       ".rise-enabled a:active,\n",
       ".rise-enabled a:hover,\n",
       ".rise-enabled a:visited,\n",
       ".rise-enabled :link {\n",
       "    text-decoration: none;\n",
       "    color: #A68910;\n",
       "}\n",
       "</style>"
      ],
      "text/plain": [
       "<IPython.core.display.HTML object>"
      ]
     },
     "metadata": {},
     "output_type": "display_data"
    }
   ],
   "source": [
    "%%HTML\n",
    "<!-- Not content, but for better presentation styles -->\n",
    "<style>\n",
    ".rise-enabled .rendered_html table.dataframe {\n",
    "    font-size: 16px;\n",
    "}\n",
    ".rendered_html code {\n",
    "    background: #EFEFEF;\n",
    "    border: 1px solid #CCC;\n",
    "    padding: 1px 5px;\n",
    "    border-radius: 1px;\n",
    "}\n",
    ".rise-enabled .fa-times-circle:before,\n",
    ".rise-enabled .fa-question:before,\n",
    ".rise-enabled aside.controls {\n",
    "    opacity: 0.1;\n",
    "}\n",
    ".rise-enabled a,\n",
    ".rise-enabled a:active,\n",
    ".rise-enabled a:hover,\n",
    ".rise-enabled a:visited,\n",
    ".rise-enabled :link {\n",
    "    text-decoration: none;\n",
    "    color: #A68910;\n",
    "}\n",
    "</style>"
   ]
  },
  {
   "cell_type": "markdown",
   "metadata": {},
   "source": [
    "11.  Notebooks as scientific publications.\n",
    "https://github.com/jupyter/jupyter/wiki/A-gallery-of-interesting-Jupyter-Notebooks\n",
    "\n",
    "- Examples of Jupyter notebooks in existing research publications.\n",
    "\t- Explanation of the FAIR principles.\n",
    "- Scientific data repositories \n",
    "\t- GitHub and nbview\t\n",
    "\thttps://nbviewer.jupyter.org/github/parente/nbestimate/blob/master/estimate.ipynb\n",
    "\t- Docker, repo2docker, binder\n"
   ]
  }
 ],
 "metadata": {
  "celltoolbar": "Slideshow",
  "kernelspec": {
   "display_name": "Python 3",
   "language": "python",
   "name": "python3"
  },
  "language_info": {
   "codemirror_mode": {
    "name": "ipython",
    "version": 3
   },
   "file_extension": ".py",
   "mimetype": "text/x-python",
   "name": "python",
   "nbconvert_exporter": "python",
   "pygments_lexer": "ipython3",
   "version": "3.6.7"
  }
 },
 "nbformat": 4,
 "nbformat_minor": 2
}
