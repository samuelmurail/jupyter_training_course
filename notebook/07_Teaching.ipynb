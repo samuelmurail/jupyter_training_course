{
 "cells": [
  {
   "cell_type": "markdown",
   "metadata": {},
   "source": [
    "[![Binder](https://mybinder.org/badge_logo.svg)](https://mybinder.org/v2/gh/samuelmurail/jupyter_training_course/master?filepath=notebook/07_Teaching.ipynb)\n",
    "\n",
    "# Teaching with Jupyter <sub>(https://jupyter4edu.github.io/jupyter-edu-book)</sub>\n",
    "\n",
    "__Course Benefits:__\n",
    "- Conversations with data\n",
    "- encourages student participation\n",
    "- bringing concepts to life  \n",
    "    \"connect numerical simulations to widgets and relevant plots\"_  \n",
    "- _\"Exit Ticket\"_ or live feedback\n",
    "- research-based guidance   \n",
    "    \"teaching novice programmers to use computation in the context of their subject matter\"_  \n",
    "- Publishing a data narrative as a demonstration of industry ability"
   ]
  },
  {
   "cell_type": "markdown",
   "metadata": {},
   "source": [
    "# Teaching with Jupyter (2)\n",
    "\n",
    "__Student Benefits:__\n",
    "- Computational thinking  \n",
    "    _\"Even if a notebook is designed to be consumed passively, the exposure to code helps show students how to do something—and that they can do it themselves\"_\n",
    "- Active Learning  \n",
    "    _\"This allows students to focus on the content and concepts, rather than just note-taking.\"_\n",
    "    \n",
    "__Instructor Benefits:__\n",
    "-  variety of levels and formats\n",
    "- route to active learning methods\n",
    "- Internshipt Laboratory Notebook\n",
    "- [nbgrader](https://github.com/jupyter/nbgrader) _\"A system for assigning and grading Jupyter notebooks.\"_"
   ]
  },
  {
   "cell_type": "markdown",
   "metadata": {},
   "source": [
    "## _\"Exit ticket\"_ (Source [https://jupyter4edu.github.io/jupyter-edu-book](https://jupyter4edu.github.io/jupyter-edu-book/why-we-use-jupyter-notebooks.html#increasing-understanding))\n",
    "\n",
    "The idea of a “ticket to leave” is an excellent way to end a class or lab. Briefly, it is just a survey that you give the students (see figure). \n",
    "- Give the instructor some feedback on the students’ understanding, as a whole\n",
    "- Provide time and opportunity for students to review and synthesize today’s materials\n",
    "- Allow the students to apply their recent knowledge to a novel problem\n",
    "- An additional instance to learn the materials\n",
    "\n",
    "<img src=\"https://jupyter4edu.github.io/jupyter-edu-book/images/activity-magic-instructor.png\" alt=\"Activity Magic\" style=\"float:center; height: 80%;\">\n"
   ]
  },
  {
   "cell_type": "markdown",
   "metadata": {},
   "source": [
    "## [Activity magic](https://jupyter.brynmawr.edu/services/public/dblank/Activity%20Magic.ipynb)\n",
    "\n",
    "Works with Jupyter Hub\n",
    "\n",
    "**Install:**\n",
    "\n",
    "```bash\n",
    "conda install ipyparallel metakernel\n",
    "pip install calysto\n",
    "```"
   ]
  },
  {
   "cell_type": "code",
   "execution_count": 1,
   "metadata": {},
   "outputs": [],
   "source": [
    "from metakernel import register_ipython_magics\n",
    "register_ipython_magics()\n",
    "%matplotlib inline"
   ]
  },
  {
   "cell_type": "code",
   "execution_count": 2,
   "metadata": {},
   "outputs": [
    {
     "data": {
      "application/vnd.jupyter.widget-view+json": {
       "model_id": "e39992f26dfe4b4eaee3668df44e606d",
       "version_major": 2,
       "version_minor": 0
      },
      "text/plain": [
       "VBox(children=(HBox(children=(VBox(children=(HTML(value='<p><b>Question ID</b>: 1</p>'), HTML(value='<h1>Which…"
      ]
     },
     "metadata": {},
     "output_type": "display_data"
    }
   ],
   "source": [
    "%%activity activity1\n",
    "\n",
    "{\"activity\": \"poll\",\n",
    " \"instructors\": [\"murail\", \"smurail\"],\n",
    " \"items\": [\n",
    "      {\"id\": \"1\", \n",
    "       \"question\":  \"\"\"Which of the following will print \"Hello\" 5 times without errors?\"\"\", \n",
    "       \"type\": \"multiple choice\",\n",
    "       \"options\": [\n",
    "\"\"\"<pre style=\"width: 600px\">\n",
    "for (int i=0; i < 5; i++) {\n",
    "    println(\"Hello\");\n",
    "}\n",
    "</pre>\"\"\",\n",
    "\"\"\"<pre style=\"width: 600px\">\n",
    "println(\"Hello\");\n",
    "println(\"Hello\");\n",
    "println(\"Hello\");\n",
    "println(\"Hello\");\n",
    "println(\"Hello\");\n",
    "</pre>\"\"\",\n",
    "\"\"\"<pre style=\"width: 600px\">\n",
    "int i = 0;\n",
    "while (i < 5) {\n",
    "    println(\"Hello\");\n",
    "    i++;\n",
    "}\n",
    "</pre>\"\"\",\n",
    "        \"All of the above\",\n",
    "        \"None of the above\",\n",
    "    ]},\n",
    "        \n",
    "    {\"id\": \"2\", \n",
    "     \"question\":    \"\"\"Which of the following is a function definition?\"\"\", \n",
    "     \"type\": \"multiple choice\",\n",
    "     \"options\":    [\n",
    "\"\"\"<pre style=\"width: 600px\">\n",
    "void draw() {\n",
    "}\n",
    "</pre>\"\"\",\n",
    "\"\"\"<pre style=\"width: 600px\">\n",
    "rect(10, 10, 50, 50);\n",
    "</pre>\"\"\",\n",
    "\"\"\"<pre style=\"width: 600px\">\n",
    "drawBunny(mouseX, mouseY, 50, 100);\n",
    "</pre>\"\"\",\n",
    "        \"All of the above\",\n",
    "        \"None of the above\",\n",
    "        ]},\n",
    "      {\"id\": \"3\", \n",
    "       \"question\":     \"\"\"Which of the following has parameters?\"\"\", \n",
    "       \"type\": \"multiple choice\",\n",
    "       \"options\":     [\n",
    "\"\"\"<pre style=\"width: 600px\">\n",
    "void draw() {\n",
    "}\n",
    "</pre>\"\"\",\n",
    "\"\"\"<pre style=\"width: 600px\">\n",
    "void drawRect(float x, float y, float w, float h) {\n",
    "    rect(x, y, w, h);\n",
    "}\n",
    "</pre>\"\"\",\n",
    "\"\"\"<pre style=\"width: 600px\">\n",
    "void drawBunny() {\n",
    "    rect(10, 20, 100, 150);\n",
    "}\n",
    "</pre>\"\"\",\n",
    "        \"All of the above\",\n",
    "        \"None of the above\",\n",
    "        ]},\n",
    "     {\"id\": \"4\", \n",
    "      \"question\":  \"\"\"Which of the following is a function call?\"\"\", \n",
    "      \"type\": \"multiple choice\",\n",
    "      \"options\": [\n",
    "\"\"\"<pre style=\"width: 600px\">\n",
    "void draw() {\n",
    "}\n",
    "</pre>\"\"\",\n",
    "\"\"\"<pre style=\"width: 600px\">\n",
    "rect(10, 10, 50, 50);\n",
    "</pre>\"\"\",\n",
    "\"\"\"<pre style=\"width: 600px\">\n",
    "drawBunny(mouseX, mouseY, 50, 100);\n",
    "</pre>\"\"\",\n",
    "        \"2 and 3\",\n",
    "        \"None of the above\",\n",
    "        ]},\n",
    "    ]\n",
    "}\n",
    "\n"
   ]
  },
  {
   "cell_type": "code",
   "execution_count": 3,
   "metadata": {},
   "outputs": [
    {
     "data": {
      "application/vnd.jupyter.widget-view+json": {
       "model_id": "21a914f350fe4f1a9f6237c0442974dd",
       "version_major": 2,
       "version_minor": 0
      },
      "text/plain": [
       "VBox(children=(HBox(children=(VBox(children=(HTML(value='<p><b>Question ID</b>: 1</p>'), HTML(value='<h1>Which…"
      ]
     },
     "metadata": {},
     "output_type": "display_data"
    }
   ],
   "source": [
    "%activity activity1\n"
   ]
  },
  {
   "cell_type": "markdown",
   "metadata": {
    "slideshow": {
     "slide_type": "notes"
    }
   },
   "source": [
    "https://data.berkeley.edu/news/coursefuture\n",
    "\n",
    "https://www.inferentialthinking.com/chapters/intro.html"
   ]
  },
  {
   "cell_type": "markdown",
   "metadata": {
    "slideshow": {
     "slide_type": "slide"
    }
   },
   "source": [
    "## [Mybinder](https://mybinder.org/)\n",
    "    \n",
    "Just give a link to your github repository and will build a docker with all dependencies.\n",
    "<img src=\"pictures/mybinder.png\" alt=\"Mybinder\" style=\"float:center; height: 60%;\">\n",
    "\n"
   ]
  },
  {
   "cell_type": "code",
   "execution_count": null,
   "metadata": {},
   "outputs": [],
   "source": []
  }
 ],
 "metadata": {
  "celltoolbar": "Slideshow",
  "kernelspec": {
   "display_name": "Python 3",
   "language": "python",
   "name": "python3"
  },
  "language_info": {
   "codemirror_mode": {
    "name": "ipython",
    "version": 3
   },
   "file_extension": ".py",
   "mimetype": "text/x-python",
   "name": "python",
   "nbconvert_exporter": "python",
   "pygments_lexer": "ipython3",
   "version": "3.7.3"
  }
 },
 "nbformat": 4,
 "nbformat_minor": 2
}
