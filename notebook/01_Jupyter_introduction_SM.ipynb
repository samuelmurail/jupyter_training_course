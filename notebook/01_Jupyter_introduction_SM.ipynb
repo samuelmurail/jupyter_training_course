{
 "cells": [
  {
   "cell_type": "markdown",
   "metadata": {
    "slideshow": {
     "slide_type": "slide"
    }
   },
   "source": [
    "# Jupyter Notebook Introduction\n",
    "**Samuel Murail & Sjoerd de Vries**  \n",
    "\n",
    "*Paris - 5,6 June*\n",
    "\n",
    "<img src=\"https://jupyter.org/assets/main-logo.svg\" alt=\"Drawing\" style=\"float:right; width: 300px;\"/>"
   ]
  },
  {
   "cell_type": "code",
   "execution_count": 18,
   "metadata": {
    "slideshow": {
     "slide_type": "fragment"
    }
   },
   "outputs": [
    {
     "name": "stdout",
     "output_type": "stream",
     "text": [
      "Hello ?\n"
     ]
    }
   ],
   "source": [
    "print(\"Hello ?\")"
   ]
  },
  {
   "cell_type": "code",
   "execution_count": null,
   "metadata": {},
   "outputs": [],
   "source": []
  },
  {
   "cell_type": "code",
   "execution_count": 19,
   "metadata": {
    "slideshow": {
     "slide_type": "notes"
    }
   },
   "outputs": [
    {
     "data": {
      "text/html": [
       "<style> code {background-color : lightgrey !important;} </style>\n"
      ],
      "text/plain": [
       "<IPython.core.display.HTML object>"
      ]
     },
     "metadata": {},
     "output_type": "display_data"
    }
   ],
   "source": [
    "%%HTML\n",
    "<style> code {background-color : lightgrey !important;} </style>"
   ]
  },
  {
   "cell_type": "markdown",
   "metadata": {
    "slideshow": {
     "slide_type": "notes"
    }
   },
   "source": [
    "### Why a Notebook ?\n",
    "\n",
    "Restart a project few month or years later:\n",
    "- What have I done ?\n",
    "- How have I done ?\n",
    "- Why have I done it this way ?\n",
    "\n",
    "A notebook will:\n",
    "- Keep track record of data production, analysis \n",
    "- Method implementation\n",
    "- References"
   ]
  },
  {
   "cell_type": "markdown",
   "metadata": {
    "slideshow": {
     "slide_type": "notes"
    }
   },
   "source": [
    "### Markdown image insertion:\n",
    "![Jupyter](https://jupyter.org/assets/main-logo.svg)\n"
   ]
  },
  {
   "cell_type": "markdown",
   "metadata": {
    "slideshow": {
     "slide_type": "notes"
    }
   },
   "source": [
    "## Install and run Jupyter slides: \n",
    "\n",
    "\n",
    "    conda install -n mdaenv -c conda-forge rise\n",
    "    jupyter nbconvert Jupyter_basics.ipynb --to slides --post serve\n"
   ]
  },
  {
   "cell_type": "markdown",
   "metadata": {
    "slideshow": {
     "slide_type": "slide"
    }
   },
   "source": [
    "## Jupyter notebook\n",
    "\n",
    "### Features\n",
    "- extend console based approach through web based applications (*Firefox, Chrome, Safari, ...*)\n",
    "- Contains both code and rich text elements\n",
    "    - Code can be *Julia, Python or R* and many other (*bash, Ruby, Javascript, ...*)\n",
    "    - Rich text elements can include figures, videos, equations, LateX, html, Markdown ...\n",
    "\n",
    "### Usages\n",
    "- Interactive Data processing (Data Analysis and Visualisation)\n",
    "- Laboratory notebook\n",
    "- Reproducible Data Analysis with record track of all steps\n",
    "- Book/Article writing\n",
    "- Slideshow \n",
    "- Documentation with examples"
   ]
  },
  {
   "cell_type": "markdown",
   "metadata": {
    "slideshow": {
     "slide_type": "slide"
    }
   },
   "source": [
    "## Installing jupyter\n",
    "\n",
    "1. Needs a browser (FireFox, Chrome, ...)\n",
    "2. Install [Anaconda](https://www.anaconda.com/download)\n",
    "\n",
    "    - Alternative using pip:\n",
    "```bash\n",
    "pip3 install --upgrade pip\n",
    "pip3 install jupyter\n",
    "```\n",
    "## Adding R kernel: \n",
    "\n",
    "<img src=\"https://www.r-project.org/Rlogo.png\" alt=\"Drawing\" style=\"float:right; width: 200px;\"/>\n",
    "\n",
    "```bash\n",
    "conda install -c r r-essentials\n",
    "```\n",
    "\n",
    "## Getting started\n",
    "\n",
    "```bash\n",
    "jupyter notebook\n",
    "```"
   ]
  },
  {
   "cell_type": "markdown",
   "metadata": {},
   "source": [
    "Possibility to use LaTeX in Markown cells.\n",
    "\n",
    "The following text `$$RMSD(v,w)=\\sqrt{\\frac{1}{n} \\sum_{i=1}^n || v_i-w_i||^2}$$` gives :\n",
    "- $$RMSD(v,w)=\\sqrt{\\frac{1}{n} \\sum_{i=1}^n || v_i-w_i||^2}$$"
   ]
  },
  {
   "cell_type": "markdown",
   "metadata": {
    "slideshow": {
     "slide_type": "slide"
    }
   },
   "source": [
    "## Conclusion\n",
    "\n",
    "Notebook project after few months or years, easy answer to key questions:\n",
    "- What have I done ?\n",
    "- How have I done ?\n",
    "- Why have I done it this way ?\n",
    "\n",
    "A notebook will:\n",
    "- Keep track record of data production, analysis and visualisation\n",
    "- Method implementation\n",
    "- References ..."
   ]
  },
  {
   "cell_type": "markdown",
   "metadata": {
    "slideshow": {
     "slide_type": "slide"
    }
   },
   "source": [
    "### Bibliography\n",
    "\n",
    "* [Teaching and Learning with Jupyter](https://jupyter4edu.github.io/jupyter-edu-book/)\n",
    "* [Books with Jupyter and Jekyll](https://jupyter.org/jupyter-book/intro.html)\n",
    "\n",
    "* [IPython Cookbook](https://ipython-books.github.io/)\n"
   ]
  },
  {
   "cell_type": "code",
   "execution_count": null,
   "metadata": {},
   "outputs": [],
   "source": []
  }
 ],
 "metadata": {
  "celltoolbar": "Slideshow",
  "kernelspec": {
   "display_name": "Python 3",
   "language": "python",
   "name": "python3"
  },
  "language_info": {
   "codemirror_mode": {
    "name": "ipython",
    "version": 3
   },
   "file_extension": ".py",
   "mimetype": "text/x-python",
   "name": "python",
   "nbconvert_exporter": "python",
   "pygments_lexer": "ipython3",
   "version": "3.6.8"
  }
 },
 "nbformat": 4,
 "nbformat_minor": 2
}
