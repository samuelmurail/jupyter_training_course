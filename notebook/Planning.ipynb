{
 "cells": [
  {
   "cell_type": "markdown",
   "metadata": {},
   "source": [
    "# Course Planning:\n",
    "\n",
    "## *Day 1*\n",
    "\n",
    "### [Introduction to Jupyter](01_Jupyter_introduction.ipynb)\n",
    "\n",
    "* Jupyter presentation, pros and cons of interactive computing\n",
    "    - Introduction to Jupyter \n",
    "    - Interactive computing\n",
    "* How Jupyter works, kernels with different language\n",
    "* Browser interface and kernel execution\n",
    "* Examples of Jupyter notebooks (Python, R, C++, Fortran), integration with command line and %magicommands\n",
    "* Installation with conda\n",
    "* Notebook excecution, cells and commands\n",
    "\n",
    "\n",
    "### Integrating Jupyter into your daily research (practical session)\n",
    "\n",
    "- Practical integration of Jupyter with existing computational tools. Participants are encouraged to bring their own scripts, programs and data.\n",
    "- Rapid generation of simple plots.\n",
    "- Integration of multiple programming languages and markdown within the same notebook.\n",
    "\n",
    "\n",
    "## *Day 2*\n",
    "\n",
    "### Jupyter and interactive data analysis\n",
    "\n",
    "* Interactive data analysis using scientific Python libraries (Numpy, Scipy, pandas).\n",
    "* [Visualization and plotting libraries](03_interactive_data_analysis.ipynb) (matplotlib, vega-lite, nglview, ggplot, networkx).\n",
    "* Interactive widgets to control the analysis and visualization in real-time.\n",
    "\n",
    "### Jupyter for publishing and teaching\n",
    "- Explanation of the FAIR principles.\n",
    "- Using notebooks as scientific publications.\n",
    "- Running Jupyter from anywhere, using just a browser.\n",
    "- Examples of Jupyter notebooks in existing research publications.\n",
    "- Demonstration of the use of Jupyter in teaching.\n",
    "\n",
    "### Reproducible and collaborative science (practical session)"
   ]
  }
 ],
 "metadata": {
  "kernelspec": {
   "display_name": "Python 3",
   "language": "python",
   "name": "python3"
  },
  "language_info": {
   "codemirror_mode": {
    "name": "ipython",
    "version": 3
   },
   "file_extension": ".py",
   "mimetype": "text/x-python",
   "name": "python",
   "nbconvert_exporter": "python",
   "pygments_lexer": "ipython3",
   "version": "3.6.8"
  }
 },
 "nbformat": 4,
 "nbformat_minor": 2
}
