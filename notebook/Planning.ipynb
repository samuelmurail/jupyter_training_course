{
 "cells": [
  {
   "cell_type": "markdown",
   "metadata": {},
   "source": [
    "# Course Planning\n",
    "\n",
    "## *Day 1*\n",
    "\n",
    "\n",
    "### 09.30 - 12.00 \n",
    "\n",
    "0. Introduction of the participants\n",
    "\n",
    "1. Introduction to Jupyter\n",
    "\n",
    "2. Practical introduction to the course. Open exercise 1: exploring Jupyter\n",
    "\n",
    "### 13.00 - 17.30\n",
    "\n",
    "3. Installation\n",
    "4. Visualization\n",
    "5. Interactivity\n",
    "6. Open exercise 2: visualization, interactivity, installation\n",
    "\n",
    "## *Day 2*\n",
    "\n",
    "### 9.30 – 13.00\n",
    "\n",
    "7. Data analysis (numpy, pandas)\n",
    "\n",
    "8. Data analysis exercise\n",
    "\n",
    "9. Algorithm optimization\n",
    "\n",
    "10. Open exercise 3: data analysis, optimization\n",
    "\n",
    "### 14.00 - 17.00\n",
    "\n",
    "11. Notebooks as scientific publications.\n",
    "\n",
    "12. Teaching\n",
    "\n",
    "13. Open exercise 4: publishing, teaching\n"
   ]
  }
 ],
 "metadata": {
  "kernelspec": {
   "display_name": "Python 3",
   "language": "python",
   "name": "python3"
  },
  "language_info": {
   "codemirror_mode": {
    "name": "ipython",
    "version": 3
   },
   "file_extension": ".py",
   "mimetype": "text/x-python",
   "name": "python",
   "nbconvert_exporter": "python",
   "pygments_lexer": "ipython3",
   "version": "3.6.7"
  }
 },
 "nbformat": 4,
 "nbformat_minor": 2
}
