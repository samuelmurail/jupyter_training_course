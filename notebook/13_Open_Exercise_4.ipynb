{
 "cells": [
  {
   "cell_type": "markdown",
   "metadata": {},
   "source": [
    "##  Open Exercise 4: publishing, teaching\n",
    "\n",
    "*~60 minutes*\n",
    "\n",
    "**You can choose one or more of the following:**\n",
    "\n",
    "\n",
    "A. Make a notebook from your own data, publish the result on GitHub, and try to run it using mybinder.org. \n",
    "\n",
    "B. Reproduce the results of an existing scientific notebook, publish the result on GitHub, and try to run it using mybinder.org. \n",
    "\n",
    "C. Adapt the teaching example to create your own Activity Magic"
   ]
  }
 ],
 "metadata": {
  "celltoolbar": "Slideshow",
  "kernelspec": {
   "display_name": "Python 3",
   "language": "python",
   "name": "python3"
  },
  "language_info": {
   "codemirror_mode": {
    "name": "ipython",
    "version": 3
   },
   "file_extension": ".py",
   "mimetype": "text/x-python",
   "name": "python",
   "nbconvert_exporter": "python",
   "pygments_lexer": "ipython3",
   "version": "3.6.7"
  }
 },
 "nbformat": 4,
 "nbformat_minor": 2
}
