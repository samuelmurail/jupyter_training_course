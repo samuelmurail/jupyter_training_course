{
 "cells": [
  {
   "cell_type": "code",
   "execution_count": 17,
   "metadata": {
    "slideshow": {
     "slide_type": "notes"
    }
   },
   "outputs": [
    {
     "data": {
      "text/html": [
       "<style> \n",
       "\n",
       "code {background-color : lightgrey !important;} \n",
       "\n",
       ".CodeMirror {\n",
       "    width: 100vw;\n",
       "}\n",
       "\n",
       ".rendered_html {\n",
       "  font-size:0.8em;\n",
       "  line-height: 90%; \n",
       "}\n",
       ".rendered_html table, .rendered_html th, .rendered_html tr, .rendered_html td {\n",
       "     font-size: 100%;\n",
       "}\n",
       "\n",
       "\n",
       "\n",
       "</style>\n",
       "\n",
       "<!-- To use only for presentation :\n",
       ".container {\n",
       "    width: 99% !important;\n",
       "}\n",
       ">\n"
      ],
      "text/plain": [
       "<IPython.core.display.HTML object>"
      ]
     },
     "metadata": {},
     "output_type": "display_data"
    }
   ],
   "source": [
    "%%HTML\n",
    "<style> \n",
    "\n",
    "code {background-color : lightgrey !important;} \n",
    "\n",
    ".CodeMirror {\n",
    "    width: 100vw;\n",
    "}\n",
    "\n",
    ".rendered_html {\n",
    "  font-size:0.8em;\n",
    "  line-height: 90%; \n",
    "}\n",
    ".rendered_html table, .rendered_html th, .rendered_html tr, .rendered_html td {\n",
    "     font-size: 100%;\n",
    "}\n",
    "\n",
    "\n",
    "\n",
    "</style>\n",
    "\n",
    "<!-- To use only for presentation :\n",
    ".container {\n",
    "    width: 99% !important;\n",
    "}\n",
    ">"
   ]
  },
  {
   "cell_type": "code",
   "execution_count": 18,
   "metadata": {
    "slideshow": {
     "slide_type": "notes"
    }
   },
   "outputs": [
    {
     "data": {
      "text/html": [
       "<!-- Not content, but for better presentation styles -->\n",
       "<style>\n",
       ".rise-enabled .rendered_html table.dataframe {\n",
       "    font-size: 16px;\n",
       "}\n",
       ".rendered_html code {\n",
       "    background: #EFEFEF;\n",
       "    border: 1px solid #CCC;\n",
       "    padding: 1px 5px;\n",
       "    border-radius: 1px;\n",
       "}\n",
       ".rise-enabled .fa-times-circle:before,\n",
       ".rise-enabled .fa-question:before,\n",
       ".rise-enabled aside.controls {\n",
       "    opacity: 0.1;\n",
       "}\n",
       ".rise-enabled a,\n",
       ".rise-enabled a:active,\n",
       ".rise-enabled a:hover,\n",
       ".rise-enabled a:visited,\n",
       ".rise-enabled :link {\n",
       "    text-decoration: none;\n",
       "    color: #A68910;\n",
       "}\n",
       "</style>\n"
      ],
      "text/plain": [
       "<IPython.core.display.HTML object>"
      ]
     },
     "metadata": {},
     "output_type": "display_data"
    }
   ],
   "source": [
    "%%HTML\n",
    "<!-- Not content, but for better presentation styles -->\n",
    "<style>\n",
    ".rise-enabled .rendered_html table.dataframe {\n",
    "    font-size: 16px;\n",
    "}\n",
    ".rendered_html code {\n",
    "    background: #EFEFEF;\n",
    "    border: 1px solid #CCC;\n",
    "    padding: 1px 5px;\n",
    "    border-radius: 1px;\n",
    "}\n",
    ".rise-enabled .fa-times-circle:before,\n",
    ".rise-enabled .fa-question:before,\n",
    ".rise-enabled aside.controls {\n",
    "    opacity: 0.1;\n",
    "}\n",
    ".rise-enabled a,\n",
    ".rise-enabled a:active,\n",
    ".rise-enabled a:hover,\n",
    ".rise-enabled a:visited,\n",
    ".rise-enabled :link {\n",
    "    text-decoration: none;\n",
    "    color: #A68910;\n",
    "}\n",
    "</style>"
   ]
  },
  {
   "cell_type": "markdown",
   "metadata": {
    "slideshow": {
     "slide_type": "slide"
    }
   },
   "source": [
    "# Jupyter Notebook<img src=\"https://jupyter.org/assets/main-logo.svg\" alt=\"Drawing\" style=\"float:right; width: 300px;\"/>\n",
    "**Samuel Murail & Sjoerd de Vries**  \n",
    "\n",
    "***RPBS*** Ressource Parisienne en Bioinformatique Structurale  \n",
    "\n",
    "<sup><sub>__CMPLI__ INSERM ERL U1133</sub></sup>  \n",
    "<sup><sub>__BFA__ CNRS UMR 8251  </sub></sup>  \n",
    "<sup><sub>Université Paris Diderot  </sub></sup>  \n",
    "\n",
    "\n",
    "\n",
    "\n",
    "\n",
    "\n",
    "*Paris - 5,6 June*"
   ]
  },
  {
   "cell_type": "markdown",
   "metadata": {
    "slideshow": {
     "slide_type": "slide"
    }
   },
   "source": [
    "## About us:\n",
    "\n",
    "\n",
    "* __Samuel Murail__<img src=\"pictures/samuel_picture.jpg\" alt=\"My test image\" style=\"float:right; width: 15%;\">\n",
    "\n",
    "    - Assistant Professor at Paris Diderot University\n",
    "    - Molecular Dynamic simulation\n",
    "    - Expertise in scripting (tcl, R, bash)\n",
    "    - Python Newbie (less than 2 years)\n",
    "    - Analysis of MD trajectories using **Jupyter Notebook**\n",
    "\n",
    "* __Sjoerd de Vries__<img src=\"pictures/sjoerd_picture.png\" alt=\"My test image\" style=\"float:right; width: 20%;\">\n",
    "    - Research Ingenior at INSERM\n",
    "    - Docking ...\n",
    "    - Expertise\n",
    "    - Jupyter Notebook use with "
   ]
  },
  {
   "cell_type": "markdown",
   "metadata": {
    "slideshow": {
     "slide_type": "slide"
    }
   },
   "source": [
    "## RPBS"
   ]
  },
  {
   "cell_type": "code",
   "execution_count": 3,
   "metadata": {
    "slideshow": {
     "slide_type": "notes"
    }
   },
   "outputs": [],
   "source": [
    "from IPython.display import display, HTML"
   ]
  },
  {
   "cell_type": "code",
   "execution_count": 4,
   "metadata": {
    "slideshow": {
     "slide_type": "fragment"
    }
   },
   "outputs": [
    {
     "name": "stderr",
     "output_type": "stream",
     "text": [
      "/home/murail/miniconda3/envs/mdaenv/lib/python3.6/site-packages/IPython/core/display.py:689: UserWarning: Consider using IPython.display.IFrame instead\n",
      "  warnings.warn(\"Consider using IPython.display.IFrame instead\")\n"
     ]
    },
    {
     "data": {
      "text/html": [
       "<iframe src=http://bioserv.rpbs.univ-paris-diderot.fr/index.html width=900 height=600></iframe>"
      ],
      "text/plain": [
       "<IPython.core.display.HTML object>"
      ]
     },
     "execution_count": 4,
     "metadata": {},
     "output_type": "execute_result"
    }
   ],
   "source": [
    "HTML('<iframe src=http://bioserv.rpbs.univ-paris-diderot.fr/index.html width=900 height=600></iframe>')"
   ]
  },
  {
   "cell_type": "markdown",
   "metadata": {
    "slideshow": {
     "slide_type": "slide"
    }
   },
   "source": [
    "## Introduction to Jupyter"
   ]
  },
  {
   "cell_type": "markdown",
   "metadata": {
    "slideshow": {
     "slide_type": "slide"
    }
   },
   "source": [
    "## Before Jupyter, the Ipython project\n",
    "\n",
    "__Ipython project__ (2001, F. Pérez): \n",
    "* interactive Python interpreter \n",
    "* *execute-explore* workflow instead of *edit-compile-run* workflow\n",
    "* easy access to os operation and filesystem\n",
    "\n",
    "```bash\n",
    "＄ ipython\n",
    "Python 3.6.8 |Anaconda, Inc.| (default, Dec 30 2018, 01:22:34) \n",
    "Type 'copyright', 'credits' or 'license' for more information\n",
    "IPython 7.2.0 -- An enhanced Interactive Python. Type '?' for help.\n",
    "\n",
    "In [1]: year = 2019                                                             \n",
    "\n",
    "In [2]: year                                                                    \n",
    "Out[2]: 2019\n",
    "\n",
    "In [3]: ls ~/Documents                                                          \n",
    "Benchmark/  Books/  Code/  conda_build/  Docker/  Oral/  Software/  tmp/\n",
    "```"
   ]
  },
  {
   "cell_type": "markdown",
   "metadata": {
    "slideshow": {
     "slide_type": "slide"
    }
   },
   "source": [
    "## Ipython project\n",
    "\n",
    "- Tab Completion \n",
    "- Introspection (?):  \n",
    "\n",
    "```python\n",
    "In [9]: r = [10, 20, '40']                                                      \n",
    "\n",
    "In [10]: r?                                                                     \n",
    "Type:        list\n",
    "String form: [10, 20, '40']\n",
    "Length:      3\n",
    "Docstring:  \n",
    "list() -> new empty list\n",
    "list(iterable) -> new list initialized from iterable's items\n",
    "```"
   ]
  },
  {
   "cell_type": "markdown",
   "metadata": {
    "slideshow": {
     "slide_type": "slide"
    }
   },
   "source": [
    "## Keyboards shortcuts\n",
    "\n",
    "Most of them are common to `bash` and text editors like `emacs`, \n",
    "\n",
    "Keyboard shortcut | Description\n",
    "------------------|------------\n",
    "Ctrl-P or up-arrow | Search backward in command history for commands starting with currently entered text\n",
    "Ctrl-N or down-arrow | Search forward in command history for commands starting with currently entered text\n",
    "Ctrl-R | Readline-style reverse history search (partial matching)\n",
    "Ctrl-Shift-V | Paste text from clipboard\n",
    "Ctrl-C | Interrupt currently executing code\n",
    "Ctrl-A | Move cursor to beginning of line\n",
    "Ctrl-E | Move cursor to end of line\n",
    "Ctrl-K | Delete text from cursor until end of line\n",
    "Ctrl-U | Discard all text on current line\n",
    "Ctrl-F | Move cursor forward one character\n",
    "Ctrl-B | Move cursor back one character\n",
    "Ctrl-L | Clear screen"
   ]
  },
  {
   "cell_type": "markdown",
   "metadata": {
    "slideshow": {
     "slide_type": "slide"
    }
   },
   "source": [
    "## Magic commands\n",
    "\n",
    "- Os commands:\n",
    "    * `%cd`, `%pwd`, `%mv`, `%set_env` ...  \n",
    "    \n",
    "- Documentation\n",
    "    * `%pfile` Get the docstring of a library or object\n",
    "\n",
    "- Debugging:\n",
    "    * `%pdb`, `%debug`\n",
    "\n",
    "- Excecute python script and notebook\n",
    "    * `%run`\n",
    "    \n",
    "- Optimize code:\n",
    "    * `%timeit` to obtain the cpu time of a command\n",
    "\n",
    "* `%magic` to have a complete list of magic commands"
   ]
  },
  {
   "cell_type": "markdown",
   "metadata": {
    "slideshow": {
     "slide_type": "slide"
    }
   },
   "source": [
    "## Magic commands (2)\n",
    "\n",
    "Few example:"
   ]
  },
  {
   "cell_type": "code",
   "execution_count": 15,
   "metadata": {
    "slideshow": {
     "slide_type": "fragment"
    }
   },
   "outputs": [
    {
     "name": "stdout",
     "output_type": "stream",
     "text": [
      "Hi, this is bash.\n"
     ]
    }
   ],
   "source": [
    "%%bash\n",
    "echo 'Hi, this is bash.'"
   ]
  },
  {
   "cell_type": "code",
   "execution_count": 25,
   "metadata": {
    "slideshow": {
     "slide_type": "fragment"
    }
   },
   "outputs": [
    {
     "name": "stdout",
     "output_type": "stream",
     "text": [
      "Overwriting hello_world.py\n"
     ]
    }
   ],
   "source": [
    "%%writefile hello_world.py\n",
    "#!/usr/bin/env python3\n",
    "print(\"Hello World !\")"
   ]
  },
  {
   "cell_type": "code",
   "execution_count": 26,
   "metadata": {
    "slideshow": {
     "slide_type": "fragment"
    }
   },
   "outputs": [
    {
     "name": "stdout",
     "output_type": "stream",
     "text": [
      "Hello World !\n"
     ]
    }
   ],
   "source": [
    "%run hello_world.py\n"
   ]
  },
  {
   "cell_type": "code",
   "execution_count": null,
   "metadata": {},
   "outputs": [],
   "source": [
    "# Reload modules if you have installes new module:\n",
    "\n",
    "%load_ext autoreload\n",
    "%autoreload 2"
   ]
  },
  {
   "cell_type": "markdown",
   "metadata": {
    "slideshow": {
     "slide_type": "slide"
    }
   },
   "source": [
    "## the Jupyter project\n",
    "\n",
    "__Jupyter project__ (2014): \n",
    "* IPython web notebook became the __Jupyter Notebook__\n",
    "* Jupyter use iPython 3.0 kernel which is the last common version of iPython and Jupyter"
   ]
  },
  {
   "cell_type": "markdown",
   "metadata": {
    "slideshow": {
     "slide_type": "slide"
    }
   },
   "source": [
    "### Why a Notebook ?\n",
    "\n",
    "Restart a project few month or years later:\n",
    "- What have I done ?\n",
    "- How have I done ?\n",
    "- Why have I done it this way ?\n",
    "\n",
    "A notebook will:\n",
    "- Keep track record of data production, analysis \n",
    "- Method implementation\n",
    "- References"
   ]
  },
  {
   "cell_type": "markdown",
   "metadata": {
    "slideshow": {
     "slide_type": "slide"
    }
   },
   "source": [
    "## Jupyter notebook\n",
    "\n",
    "### Features\n",
    "- extend console based approach through web based applications (*Firefox, Chrome, Safari, ...*)\n",
    "- Contains both code and rich text elements\n",
    "    - Code can be *Julia, Python or R* and many other (*bash, Ruby, Javascript, ...*)\n",
    "    - Rich text elements can include figures, videos, equations, LateX, html, Markdown ...\n",
    "\n"
   ]
  },
  {
   "cell_type": "markdown",
   "metadata": {
    "slideshow": {
     "slide_type": "slide"
    }
   },
   "source": [
    "## Jupyter notebook (2)\n",
    "### Usages\n",
    "- Interactive Data processing (Data Analysis and Visualisation)\n",
    "- Laboratory notebook\n",
    "- Reproducible Data Analysis with record track of all steps\n",
    "- Book/Article writing\n",
    "- Slideshow \n",
    "- Documentation with examples"
   ]
  },
  {
   "cell_type": "markdown",
   "metadata": {
    "slideshow": {
     "slide_type": "slide"
    }
   },
   "source": [
    "## Interactive Programming"
   ]
  },
  {
   "cell_type": "markdown",
   "metadata": {
    "slideshow": {
     "slide_type": "notes"
    }
   },
   "source": [
    "### Markdown image insertion:\n",
    "![Jupyter](https://jupyter.org/assets/main-logo.svg)\n"
   ]
  },
  {
   "cell_type": "markdown",
   "metadata": {
    "slideshow": {
     "slide_type": "notes"
    }
   },
   "source": [
    "## Install and run Jupyter slides: \n",
    "\n",
    "\n",
    "    conda install -n mdaenv -c conda-forge rise\n",
    "    jupyter nbconvert Jupyter_basics.ipynb --to slides --post serve\n"
   ]
  },
  {
   "cell_type": "markdown",
   "metadata": {
    "slideshow": {
     "slide_type": "slide"
    }
   },
   "source": [
    "## Installing jupyter\n",
    "\n",
    "1. The [Anaconda distribution](https://www.anaconda.com/distribution/) size is around 2 GB, two versions are available with python 2.7 and 3.7.\n",
    "It containts a number of preinstalled librarires: <img src=\"pictures/anaconda.png\" alt=\"Anaconda dependencies\" style=\"float:right; width: 40%;\">\n",
    "    * matplotlib\n",
    "    * pandas\n",
    "    * ...\n",
    "\n",
    "2. The [Miniconda distribution](https://docs.conda.io/en/latest/miniconda.html) size is around 150 MB (python 2.7 or 3.7). You then need to install few library:\n",
    "```bash\n",
    "＄ conda install matplotlib pandas numpy seaborn scikit-learn\n",
    "```\n",
    "\n",
    "\n",
    "3. Alternative using pip without conda:\n",
    "```bash\n",
    "＄ pip3 install --upgrade pip\n",
    "＄ pip3 install jupyter\n",
    "```"
   ]
  },
  {
   "cell_type": "markdown",
   "metadata": {
    "slideshow": {
     "slide_type": "slide"
    }
   },
   "source": [
    "## Conda\n",
    "\n",
    "Conda enable creation of working environmnents that allow to work with specific versions of package.\n",
    "\n",
    "Create a conda environment with python 3.7: \n",
    "\n",
    "```bash\n",
    "＄ conda create -n gromacs_py_env python=3.7\n",
    "```\n",
    "\n",
    "Add condas channels to find library and software:  \n",
    "\n",
    "```bash\n",
    "＄ conda config --add channels conda-forge\n",
    "＄ conda config --add channels bioconda\n",
    "＄ conda config --add channels samuel.murail\n",
    "```\n",
    "\n",
    "Install package into your environment:  \n",
    "\n",
    "```bash\n",
    "＄ conda install -n gromacs_py_env gromacs_py\n",
    "```\n",
    "\n"
   ]
  },
  {
   "cell_type": "markdown",
   "metadata": {
    "slideshow": {
     "slide_type": "slide"
    }
   },
   "source": [
    "## Conda (2)\n",
    "\n",
    "\n",
    "You can then use the installed library, note that the beginning of the prompt indicate the name of your environment between brackest `(gromacs_py_env)`:\n",
    "\n",
    "```bash\n",
    "＄ conda activate gromacs_py_env\n",
    "(gromacs_py_env) ＄ pytest --pyargs gromacs_py\n",
    "(gromacs_py_env) ＄ conda deactivate\n",
    "＄ # no more in gromacs_py_env\n",
    "```\n",
    "\n",
    "Check your enviromnent list :\n",
    "```bash\n",
    "＄ conda env list\n",
    "# conda environments:\n",
    "#\n",
    "base                  *  /Users/smurail/miniconda3\n",
    "gromacs_py_env           /Users/smurail/miniconda3/envs/gromacs_py_env\n",
    "```\n",
    "\n"
   ]
  },
  {
   "cell_type": "markdown",
   "metadata": {
    "slideshow": {
     "slide_type": "slide"
    }
   },
   "source": [
    "## Conda (3)\n",
    "\n",
    "\n",
    "You can check easily the package installer:  \n",
    "\n",
    "```bash\n",
    "＄ conda list -n gromacs_py_env\n",
    "# packages in environment at /Users/smurail/miniconda3/envs/gromacs_py_env:\n",
    "#\n",
    "# Name                    Version                   Build  Channel\n",
    "bzip2                     1.0.6             h1de35cc_1002    conda-forge\n",
    "ca-certificates           2019.3.9             hecc5488_0    conda-forge\n",
    "certifi                   2019.3.9                 py37_0    conda-forge\n",
    "...\n",
    "wheel                     0.33.4                   py37_0    conda-forge\n",
    "xz                        5.2.4             h1de35cc_1001    conda-forge\n",
    "zlib                      1.2.11            h1de35cc_1004    conda-forge\n",
    "```\n",
    "\n",
    "And remove the created environment :\n",
    "\n",
    "```bash\n",
    "＄ conda env remove -n gromacs_py_env\n",
    "```\n"
   ]
  },
  {
   "cell_type": "markdown",
   "metadata": {
    "slideshow": {
     "slide_type": "notes"
    }
   },
   "source": [
    "## Exercices idea:\n",
    "\n",
    "1. Create a conda env. based on python 3.5 named ``tmp`` and including the following libraries:\n",
    "    * numpy\n",
    "    * matplotlib\n",
    "\n",
    "\n",
    "2. In this new env. compute the cross product using ``np.cross()`` of vector $n=(0.5, 1.5)$ and $v=(2.5, 0.5)$.\n",
    "3. print the path of matplotlib libraries using the library attribute ``__file__``.\n",
    "4. Finally delete the environmnent."
   ]
  },
  {
   "cell_type": "code",
   "execution_count": 5,
   "metadata": {
    "slideshow": {
     "slide_type": "notes"
    }
   },
   "outputs": [
    {
     "name": "stdout",
     "output_type": "stream",
     "text": [
      "/home/murail/miniconda3/envs/mdaenv/lib/python3.6/site-packages/matplotlib/__init__.py\n"
     ]
    }
   ],
   "source": [
    "import numpy as np\n",
    "import matplotlib\n",
    "\n",
    "a = np.array([4, 5.1])\n",
    "b = np.array([10.1, 5.1])\n",
    "np.cross(a, b)\n",
    "\n",
    "print(matplotlib.__file__)"
   ]
  },
  {
   "cell_type": "markdown",
   "metadata": {
    "slideshow": {
     "slide_type": "slide"
    }
   },
   "source": [
    "## Launching Jupyter\n",
    "\n",
    "In a bash terminal type:\n",
    "\n",
    "```bash\n",
    "＄ jupyter notebook\n",
    "```\n",
    "<img src=\"pictures/Screenshot_jupyter_home.png\" alt=\"Jupyter Home\" style=\"float:right; width: 100%;\">\n"
   ]
  },
  {
   "cell_type": "markdown",
   "metadata": {
    "slideshow": {
     "slide_type": "slide"
    }
   },
   "source": [
    "## Create a Notebook\n",
    "\n",
    "Select ``New`` and choose your kernel.\n",
    "\n",
    "<img src=\"pictures/Screenshot_notebook_head.png\" alt=\"Jupyter Home\" style=\"float:right; width: 100%;\">\n"
   ]
  },
  {
   "cell_type": "markdown",
   "metadata": {
    "slideshow": {
     "slide_type": "slide"
    }
   },
   "source": [
    "## Adding R kernel: \n",
    "\n",
    "<img src=\"https://www.r-project.org/Rlogo.png\" alt=\"Drawing\" style=\"float:right; width: 200px;\"/>\n",
    "\n",
    "Choose the `-c r` channel to have the last version of R\n",
    "\n",
    "```bash\n",
    "conda install -c r r-essentials rpy2 simplegeneric\n",
    "```\n",
    "\n",
    "## Getting started\n",
    "\n",
    "```bash\n",
    "jupyter notebook\n",
    "```"
   ]
  },
  {
   "cell_type": "markdown",
   "metadata": {},
   "source": [
    "Possibility to use LaTeX in Markown cells.\n",
    "\n",
    "The following text `$$RMSD(v,w)=\\sqrt{\\frac{1}{n} \\sum_{i=1}^n || v_i-w_i||^2}$$` gives :\n",
    "- $$RMSD(v,w)=\\sqrt{\\frac{1}{n} \\sum_{i=1}^n || v_i-w_i||^2}$$"
   ]
  },
  {
   "cell_type": "markdown",
   "metadata": {
    "slideshow": {
     "slide_type": "slide"
    }
   },
   "source": [
    "## Conclusion\n",
    "\n",
    "Notebook project after few months or years, easy answer to key questions:\n",
    "- What have I done ?\n",
    "- How have I done ?\n",
    "- Why have I done it this way ?\n",
    "\n",
    "A notebook will:\n",
    "- Keep track record of data production, analysis and visualisation\n",
    "- Method implementation\n",
    "- References ..."
   ]
  },
  {
   "cell_type": "markdown",
   "metadata": {
    "slideshow": {
     "slide_type": "slide"
    }
   },
   "source": [
    "### Bibliography\n",
    "\n",
    "* [Teaching and Learning with Jupyter](https://jupyter4edu.github.io/jupyter-edu-book/)\n",
    "* [Books with Jupyter and Jekyll](https://jupyter.org/jupyter-book/intro.html)\n",
    "\n",
    "* [IPython Cookbook](https://ipython-books.github.io/)\n",
    "\n",
    "* [Jupyter Cheat Sheet](https://www.edureka.co/blog/cheatsheets/Jupyter-Notebook-Cheat-Sheet)\n",
    "* [Github Markdown Cheat Sheet](https://guides.github.com/pdfs/markdown-cheatsheet-online.pdf)\n",
    "\n",
    "\n"
   ]
  },
  {
   "cell_type": "markdown",
   "metadata": {},
   "source": [
    "## Test\n",
    "\n",
    "\n",
    "### *Color code*\n",
    "***\n",
    "<font color=blue> \n",
    "## test\n",
    "</font>  \n",
    "***\n"
   ]
  },
  {
   "cell_type": "code",
   "execution_count": 19,
   "metadata": {},
   "outputs": [
    {
     "ename": "ModuleNotFoundError",
     "evalue": "No module named 'ipyleaflet'",
     "output_type": "error",
     "traceback": [
      "\u001b[0;31m---------------------------------------------------------------------------\u001b[0m",
      "\u001b[0;31mModuleNotFoundError\u001b[0m                       Traceback (most recent call last)",
      "\u001b[0;32m<ipython-input-19-5b76d01d2466>\u001b[0m in \u001b[0;36m<module>\u001b[0;34m\u001b[0m\n\u001b[0;32m----> 1\u001b[0;31m \u001b[0;32mfrom\u001b[0m \u001b[0mipyleaflet\u001b[0m \u001b[0;32mimport\u001b[0m \u001b[0mMap\u001b[0m\u001b[0;34m\u001b[0m\u001b[0;34m\u001b[0m\u001b[0m\n\u001b[0m\u001b[1;32m      2\u001b[0m \u001b[0;34m\u001b[0m\u001b[0m\n\u001b[1;32m      3\u001b[0m \u001b[0mMap\u001b[0m\u001b[0;34m(\u001b[0m\u001b[0mcenter\u001b[0m\u001b[0;34m=\u001b[0m\u001b[0;34m[\u001b[0m\u001b[0;36m34.6252978589571\u001b[0m\u001b[0;34m,\u001b[0m \u001b[0;34m-\u001b[0m\u001b[0;36m77.34580993652344\u001b[0m\u001b[0;34m]\u001b[0m\u001b[0;34m,\u001b[0m \u001b[0mzoom\u001b[0m\u001b[0;34m=\u001b[0m\u001b[0;36m10\u001b[0m\u001b[0;34m)\u001b[0m\u001b[0;34m\u001b[0m\u001b[0;34m\u001b[0m\u001b[0m\n",
      "\u001b[0;31mModuleNotFoundError\u001b[0m: No module named 'ipyleaflet'"
     ]
    }
   ],
   "source": [
    "from ipyleaflet import Map\n",
    "\n",
    "Map(center=[34.6252978589571, -77.34580993652344], zoom=10)"
   ]
  },
  {
   "cell_type": "code",
   "execution_count": null,
   "metadata": {},
   "outputs": [],
   "source": []
  }
 ],
 "metadata": {
  "celltoolbar": "Slideshow",
  "kernelspec": {
   "display_name": "Python 3",
   "language": "python",
   "name": "python3"
  },
  "language_info": {
   "codemirror_mode": {
    "name": "ipython",
    "version": 3
   },
   "file_extension": ".py",
   "mimetype": "text/x-python",
   "name": "python",
   "nbconvert_exporter": "python",
   "pygments_lexer": "ipython3",
   "version": "3.7.3"
  }
 },
 "nbformat": 4,
 "nbformat_minor": 2
}
