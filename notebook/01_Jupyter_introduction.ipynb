{
 "cells": [
  {
   "cell_type": "code",
   "execution_count": 1,
   "metadata": {
    "slideshow": {
     "slide_type": "notes"
    }
   },
   "outputs": [
    {
     "data": {
      "text/html": [
       "<style> \n",
       "\n",
       "code {background-color : lightgrey !important;} \n",
       "\n",
       ".CodeMirror {\n",
       "    width: 100vw;\n",
       "}\n",
       "\n",
       ".rendered_html {\n",
       "  font-size:0.8em;\n",
       "  line-height: 90%; \n",
       "}\n",
       ".rendered_html table, .rendered_html th, .rendered_html tr, .rendered_html td {\n",
       "     font-size: 100%;\n",
       "}\n",
       "\n",
       "\n",
       "\n",
       "</style>\n",
       "\n",
       "<!-- To use only for presentation :\n",
       ".container {\n",
       "    width: 99% !important;\n",
       "}\n",
       ">\n"
      ],
      "text/plain": [
       "<IPython.core.display.HTML object>"
      ]
     },
     "metadata": {},
     "output_type": "display_data"
    }
   ],
   "source": [
    "%%HTML\n",
    "<style> \n",
    "\n",
    "code {background-color : lightgrey !important;} \n",
    "\n",
    ".CodeMirror {\n",
    "    width: 100vw;\n",
    "}\n",
    "\n",
    ".rendered_html {\n",
    "  font-size:0.8em;\n",
    "  line-height: 90%; \n",
    "}\n",
    ".rendered_html table, .rendered_html th, .rendered_html tr, .rendered_html td {\n",
    "     font-size: 100%;\n",
    "}\n",
    "\n",
    "\n",
    "\n",
    "</style>\n",
    "\n",
    "<!-- To use only for presentation :\n",
    ".container {\n",
    "    width: 99% !important;\n",
    "}\n",
    ">"
   ]
  },
  {
   "cell_type": "code",
   "execution_count": 2,
   "metadata": {
    "slideshow": {
     "slide_type": "notes"
    }
   },
   "outputs": [
    {
     "data": {
      "text/html": [
       "<!-- Not content, but for better presentation styles -->\n",
       "<style>\n",
       ".rise-enabled .rendered_html table.dataframe {\n",
       "    font-size: 16px;\n",
       "}\n",
       ".rendered_html code {\n",
       "    background: #EFEFEF;\n",
       "    border: 1px solid #CCC;\n",
       "    padding: 1px 5px;\n",
       "    border-radius: 1px;\n",
       "}\n",
       ".rise-enabled .fa-times-circle:before,\n",
       ".rise-enabled .fa-question:before,\n",
       ".rise-enabled aside.controls {\n",
       "    opacity: 0.1;\n",
       "}\n",
       ".rise-enabled a,\n",
       ".rise-enabled a:active,\n",
       ".rise-enabled a:hover,\n",
       ".rise-enabled a:visited,\n",
       ".rise-enabled :link {\n",
       "    text-decoration: none;\n",
       "    color: #A68910;\n",
       "}\n",
       "</style>\n"
      ],
      "text/plain": [
       "<IPython.core.display.HTML object>"
      ]
     },
     "metadata": {},
     "output_type": "display_data"
    }
   ],
   "source": [
    "%%HTML\n",
    "<!-- Not content, but for better presentation styles -->\n",
    "<style>\n",
    ".rise-enabled .rendered_html table.dataframe {\n",
    "    font-size: 16px;\n",
    "}\n",
    ".rendered_html code {\n",
    "    background: #EFEFEF;\n",
    "    border: 1px solid #CCC;\n",
    "    padding: 1px 5px;\n",
    "    border-radius: 1px;\n",
    "}\n",
    ".rise-enabled .fa-times-circle:before,\n",
    ".rise-enabled .fa-question:before,\n",
    ".rise-enabled aside.controls {\n",
    "    opacity: 0.1;\n",
    "}\n",
    ".rise-enabled a,\n",
    ".rise-enabled a:active,\n",
    ".rise-enabled a:hover,\n",
    ".rise-enabled a:visited,\n",
    ".rise-enabled :link {\n",
    "    text-decoration: none;\n",
    "    color: #A68910;\n",
    "}\n",
    "</style>"
   ]
  },
  {
   "cell_type": "markdown",
   "metadata": {
    "slideshow": {
     "slide_type": "slide"
    }
   },
   "source": [
    "# Jupyter Notebook<img src=\"https://jupyter.org/assets/main-logo.svg\" alt=\"Drawing\" style=\"float:right; width: 300px;\"/>\n",
    "**Samuel Murail & Sjoerd de Vries**  \n",
    "\n",
    "***RPBS*** Ressource Parisienne en Bioinformatique Structurale  \n",
    "\n",
    "<sup><sub>__CMPLI__ INSERM ERL U1133</sub></sup>  \n",
    "<sup><sub>__BFA__ CNRS UMR 8251  </sub></sup>  \n",
    "<sup><sub>Université Paris Diderot  </sub></sup>  \n",
    "\n",
    "\n",
    "\n",
    "\n",
    "\n",
    "\n",
    "*Paris - 5,6 June*"
   ]
  },
  {
   "cell_type": "markdown",
   "metadata": {
    "slideshow": {
     "slide_type": "slide"
    }
   },
   "source": [
    "## About us:\n",
    "\n",
    "\n",
    "* __Samuel Murail__<img src=\"pictures/samuel_picture.jpg\" alt=\"My test image\" style=\"float:right; width: 15%;\">\n",
    "\n",
    "    - Assistant Professor at Paris Diderot University\n",
    "    - Molecular Dynamics simulation\n",
    "    - Expertise in scripting (tcl, R, bash)\n",
    "    - Python Newbie (less than 2 years)\n",
    "    - Analysis of MD trajectories using **Jupyter Notebook**\n",
    "\n",
    "* __Sjoerd de Vries__<img src=\"pictures/sjoerd_picture.png\" alt=\"My test image\" style=\"float:right; width: 20%;\">\n",
    "    - Research Engineer at INSERM\n",
    "    - Protein-protein docking, protein-peptide docking, interface prediction, web servers\n",
    "    - Expertise in programming (Python, C/C++, CUDA)\n",
    "    - Using **Jupyter Notebook** for web servers, reproducible science"
   ]
  },
  {
   "cell_type": "markdown",
   "metadata": {
    "slideshow": {
     "slide_type": "slide"
    }
   },
   "source": [
    "## RPBS"
   ]
  },
  {
   "cell_type": "code",
   "execution_count": 3,
   "metadata": {
    "slideshow": {
     "slide_type": "notes"
    }
   },
   "outputs": [],
   "source": [
    "from IPython.display import display, HTML"
   ]
  },
  {
   "cell_type": "code",
   "execution_count": 4,
   "metadata": {
    "slideshow": {
     "slide_type": "fragment"
    }
   },
   "outputs": [
    {
     "name": "stderr",
     "output_type": "stream",
     "text": [
      "/opt/conda/lib/python3.6/site-packages/IPython/core/display.py:689: UserWarning: Consider using IPython.display.IFrame instead\n",
      "  warnings.warn(\"Consider using IPython.display.IFrame instead\")\n"
     ]
    },
    {
     "data": {
      "text/html": [
       "<iframe src=https://bioserv.rpbs.univ-paris-diderot.fr/index.html width=900 height=600></iframe>"
      ],
      "text/plain": [
       "<IPython.core.display.HTML object>"
      ]
     },
     "execution_count": 4,
     "metadata": {},
     "output_type": "execute_result"
    }
   ],
   "source": [
    "HTML('<iframe src=https://bioserv.rpbs.univ-paris-diderot.fr/index.html width=900 height=600></iframe>')"
   ]
  },
  {
   "cell_type": "markdown",
   "metadata": {
    "slideshow": {
     "slide_type": "slide"
    }
   },
   "source": [
    "## Introduction to Jupyter"
   ]
  },
  {
   "cell_type": "markdown",
   "metadata": {
    "slideshow": {
     "slide_type": "slide"
    }
   },
   "source": [
    "## Before Jupyter, the IPython project\n",
    "\n",
    "__Ipython project__ (2001, F. Pérez)**[1]**: \n",
    "* interactive Python interpreter \n",
    "* *execute-explore* workflow instead of *edit-compile-run* workflow\n",
    "* easy access to os operation and filesystem\n",
    "\n",
    "**[1]** Fernando Pérez, Brian E. Granger, IPython: *A System for Interactive Scientific Computing*, Computing in Science and Engineering, vol. 9, no. 3, pp. 21-29, May/June 2007, doi:10.1109/MCSE.2007.53. URL: https://ipython.org"
   ]
  },
  {
   "cell_type": "markdown",
   "metadata": {
    "slideshow": {
     "slide_type": "slide"
    }
   },
   "source": [
    "## IPython project\n",
    "\n",
    "```bash\n",
    "＄ ipython\n",
    "Python 3.6.8 |Anaconda, Inc.| (default, Dec 30 2018, 01:22:34) \n",
    "Type 'copyright', 'credits' or 'license' for more information\n",
    "IPython 7.2.0 -- An enhanced Interactive Python. Type '?' for help.\n",
    "\n",
    "In [1]: year = 2019                                                             \n",
    "\n",
    "In [2]: year                                                                    \n",
    "Out[2]: 2019\n",
    "\n",
    "In [3]: ls ~/Documents                                                          \n",
    "Benchmark/  Books/  Code/  conda_build/  Docker/  Oral/  Software/  tmp/\n",
    "```"
   ]
  },
  {
   "cell_type": "markdown",
   "metadata": {
    "slideshow": {
     "slide_type": "slide"
    }
   },
   "source": [
    "## IPython project\n",
    "\n",
    "- Tab Completion \n",
    "- Introspection (?):  \n",
    "\n",
    "```python\n",
    "In [9]: r = [10, 20, '40']                                                      \n",
    "\n",
    "In [10]: r?                                                                     \n",
    "Type:        list\n",
    "String form: [10, 20, '40']\n",
    "Length:      3\n",
    "Docstring:  \n",
    "list() -> new empty list\n",
    "list(iterable) -> new list initialized from iterable's items\n",
    "```"
   ]
  },
  {
   "cell_type": "markdown",
   "metadata": {
    "slideshow": {
     "slide_type": "slide"
    }
   },
   "source": [
    "## Keyboard shortcuts\n",
    "\n",
    "Most of them are common to `bash` and text editors like `emacs`, \n",
    "\n",
    "Keyboard shortcut | Description\n",
    "------------------|------------\n",
    "Ctrl-P or up-arrow | Search backward in command history for commands starting with currently entered text\n",
    "Ctrl-N or down-arrow | Search forward in command history for commands starting with currently entered text\n",
    "Ctrl-R | Readline-style reverse history search (partial matching)\n",
    "Ctrl-Shift-V | Paste text from clipboard\n",
    "Ctrl-C | Interrupt currently executing code\n",
    "Ctrl-A | Move cursor to beginning of line\n",
    "Ctrl-E | Move cursor to end of line\n",
    "Ctrl-K | Delete text from cursor until end of line\n",
    "Ctrl-U | Discard all text on current line\n",
    "Ctrl-F | Move cursor forward one character\n",
    "Ctrl-B | Move cursor back one character\n",
    "Ctrl-L | Clear screen"
   ]
  },
  {
   "cell_type": "markdown",
   "metadata": {
    "slideshow": {
     "slide_type": "slide"
    }
   },
   "source": [
    "## Magic commands\n",
    "\n",
    "- Os commands:\n",
    "    * `%cd`, `%pwd`, `%mv`, `%set_env` ...  \n",
    "    \n",
    "- Documentation\n",
    "    * `%pfile` Get the docstring of a library or object\n",
    "\n",
    "- Debugging:\n",
    "    * `%pdb`, `%debug`\n",
    "\n",
    "- Excecute python script and notebook\n",
    "    * `%run`\n",
    "    \n",
    "- Optimize code:\n",
    "    * `%timeit` to obtain the cpu time of a command\n",
    "\n",
    "* `%magic` to have a complete list of magic commands"
   ]
  },
  {
   "cell_type": "markdown",
   "metadata": {
    "slideshow": {
     "slide_type": "slide"
    }
   },
   "source": [
    "## Magic commands (2)\n",
    "\n",
    "Few example:"
   ]
  },
  {
   "cell_type": "code",
   "execution_count": 5,
   "metadata": {
    "slideshow": {
     "slide_type": "fragment"
    }
   },
   "outputs": [
    {
     "name": "stdout",
     "output_type": "stream",
     "text": [
      "Hi, this is bash.\n"
     ]
    }
   ],
   "source": [
    "%%bash\n",
    "echo 'Hi, this is bash.'"
   ]
  },
  {
   "cell_type": "code",
   "execution_count": 6,
   "metadata": {
    "slideshow": {
     "slide_type": "fragment"
    }
   },
   "outputs": [
    {
     "name": "stdout",
     "output_type": "stream",
     "text": [
      "Writing hello_world.py\n"
     ]
    }
   ],
   "source": [
    "%%writefile hello_world.py\n",
    "#!/usr/bin/env python3\n",
    "print(\"Hello World !\")"
   ]
  },
  {
   "cell_type": "code",
   "execution_count": 7,
   "metadata": {
    "slideshow": {
     "slide_type": "fragment"
    }
   },
   "outputs": [
    {
     "name": "stdout",
     "output_type": "stream",
     "text": [
      "Hello World !\n"
     ]
    }
   ],
   "source": [
    "%run hello_world.py\n"
   ]
  },
  {
   "cell_type": "code",
   "execution_count": 8,
   "metadata": {
    "slideshow": {
     "slide_type": "notes"
    }
   },
   "outputs": [],
   "source": [
    "%load_ext autoreload\n",
    "%autoreload 2"
   ]
  },
  {
   "cell_type": "markdown",
   "metadata": {
    "slideshow": {
     "slide_type": "slide"
    }
   },
   "source": [
    "## Magic commands (3)  \n",
    "\n",
    "``` python\n",
    "# Reload modules if you have installed new module:\n",
    "%load_ext autoreload\n",
    "%autoreload 2\n",
    "```\n",
    "\n",
    "### version information module installation\n",
    "#### This is only necessary if you run Jupyter on your own laptop\n",
    "``` bash\n",
    "conda install -c conda-forge version_information\n",
    "```"
   ]
  },
  {
   "cell_type": "code",
   "execution_count": 9,
   "metadata": {
    "slideshow": {
     "slide_type": "fragment"
    }
   },
   "outputs": [
    {
     "data": {
      "application/json": {
       "Software versions": [
        {
         "module": "Python",
         "version": "3.6.7 64bit [GCC 7.3.0]"
        },
        {
         "module": "IPython",
         "version": "7.5.0"
        },
        {
         "module": "OS",
         "version": "Linux 4.15.0 50 generic x86_64 with debian buster sid"
        },
        {
         "module": "numpy",
         "version": "1.16.4"
        },
        {
         "module": "scipy",
         "version": "1.3.0"
        },
        {
         "module": "pandas",
         "version": "0.24.2"
        },
        {
         "module": "matplotlib",
         "version": "3.1.0"
        }
       ]
      },
      "text/html": [
       "<table><tr><th>Software</th><th>Version</th></tr><tr><td>Python</td><td>3.6.7 64bit [GCC 7.3.0]</td></tr><tr><td>IPython</td><td>7.5.0</td></tr><tr><td>OS</td><td>Linux 4.15.0 50 generic x86_64 with debian buster sid</td></tr><tr><td>numpy</td><td>1.16.4</td></tr><tr><td>scipy</td><td>1.3.0</td></tr><tr><td>pandas</td><td>0.24.2</td></tr><tr><td>matplotlib</td><td>3.1.0</td></tr><tr><td colspan='2'>Mon Jun 03 06:59:30 2019 UTC</td></tr></table>"
      ],
      "text/latex": [
       "\\begin{tabular}{|l|l|}\\hline\n",
       "{\\bf Software} & {\\bf Version} \\\\ \\hline\\hline\n",
       "Python & 3.6.7 64bit [GCC 7.3.0] \\\\ \\hline\n",
       "IPython & 7.5.0 \\\\ \\hline\n",
       "OS & Linux 4.15.0 50 generic x86\\_64 with debian buster sid \\\\ \\hline\n",
       "numpy & 1.16.4 \\\\ \\hline\n",
       "scipy & 1.3.0 \\\\ \\hline\n",
       "pandas & 0.24.2 \\\\ \\hline\n",
       "matplotlib & 3.1.0 \\\\ \\hline\n",
       "\\hline \\multicolumn{2}{|l|}{Mon Jun 03 06:59:30 2019 UTC} \\\\ \\hline\n",
       "\\end{tabular}\n"
      ],
      "text/plain": [
       "Software versions\n",
       "Python 3.6.7 64bit [GCC 7.3.0]\n",
       "IPython 7.5.0\n",
       "OS Linux 4.15.0 50 generic x86_64 with debian buster sid\n",
       "numpy 1.16.4\n",
       "scipy 1.3.0\n",
       "pandas 0.24.2\n",
       "matplotlib 3.1.0\n",
       "Mon Jun 03 06:59:30 2019 UTC"
      ]
     },
     "execution_count": 9,
     "metadata": {},
     "output_type": "execute_result"
    }
   ],
   "source": [
    "%load_ext version_information\n",
    "%version_information numpy, scipy, pandas, matplotlib"
   ]
  },
  {
   "cell_type": "markdown",
   "metadata": {
    "slideshow": {
     "slide_type": "slide"
    }
   },
   "source": [
    "## the Jupyter project\n",
    "\n",
    "__Jupyter project__ (2014): \n",
    "* IPython web notebook became the __Jupyter Notebook__\n",
    "* iPython 3.0 kernel is the last monolytic version.\n",
    "* iPython is still a dependency of Jupyter\n",
    "* iPython version 7.5"
   ]
  },
  {
   "cell_type": "markdown",
   "metadata": {
    "slideshow": {
     "slide_type": "slide"
    }
   },
   "source": [
    "## the Jupyter project\n",
    "\n",
    "<img src=\"pictures/ipython_jupyter_kernel.png\" alt=\"Jupyter Kernel\" style=\"float:center; height: 80%;\">"
   ]
  },
  {
   "cell_type": "markdown",
   "metadata": {
    "slideshow": {
     "slide_type": "slide"
    }
   },
   "source": [
    "### Why a Notebook ?\n",
    "\n",
    "Restart a project few month or years later:\n",
    "- What have I done ?\n",
    "- How have I done ?\n",
    "- Why have I done it this way ?\n",
    "\n",
    "A notebook will:\n",
    "- Keep track record of data production, analysis \n",
    "- Method implementation\n",
    "- References"
   ]
  },
  {
   "cell_type": "markdown",
   "metadata": {
    "slideshow": {
     "slide_type": "slide"
    }
   },
   "source": [
    "## Jupyter notebook\n",
    "\n",
    "### Features\n",
    "- extend console based approach through web based applications (*Firefox, Chrome, Safari, ...*)\n",
    "- Contains both code and rich text elements\n",
    "    - Code can be *Julia, Python or R* and many other (*bash, Ruby, Javascript, ...*)\n",
    "    - Rich text elements can include figures, videos, equations, LateX, html, Markdown ...\n",
    "\n"
   ]
  },
  {
   "cell_type": "markdown",
   "metadata": {
    "slideshow": {
     "slide_type": "slide"
    }
   },
   "source": [
    "## Jupyter notebook (2)  \n",
    "\n",
    "### Uses\n",
    "- Interactive Data processing (Data Analysis and Visualisation)\n",
    "- Laboratory notebook\n",
    "- Reproducible Data Analysis with record track of all steps\n",
    "- Book/Article writing\n",
    "- Slideshow \n",
    "- Documentation with examples"
   ]
  },
  {
   "cell_type": "markdown",
   "metadata": {
    "slideshow": {
     "slide_type": "slide"
    }
   },
   "source": [
    "## Jupyter notebook (3)  \n",
    "\n",
    "- High number of kernels:\n",
    "    * python\n",
    "    * R\n",
    "    * Julia\n",
    "    * Tcl\n",
    "    * MATLAB\n",
    "\n",
    "Here is the complete [list](https://github.com/jupyter/jupyter/wiki/Jupyter-kernels) "
   ]
  },
  {
   "cell_type": "markdown",
   "metadata": {
    "slideshow": {
     "slide_type": "slide"
    }
   },
   "source": [
    "## Notebook example\n",
    "\n",
    "<img src=\"pictures/example_notebook_1.png\" alt=\"Notebook example\" style=\"float:center; height: 80%;\">\n",
    "\n"
   ]
  },
  {
   "cell_type": "markdown",
   "metadata": {
    "slideshow": {
     "slide_type": "slide"
    }
   },
   "source": [
    "## Notebook visualisation:\n",
    "\n",
    "Use [Nbviewer](https://nbviewer.jupyter.org/) with any `.ipynb` link.\n",
    "Like the present course : \n",
    "- samuelmurail/jupyter_training_course"
   ]
  },
  {
   "cell_type": "code",
   "execution_count": 10,
   "metadata": {
    "slideshow": {
     "slide_type": "fragment"
    }
   },
   "outputs": [
    {
     "name": "stderr",
     "output_type": "stream",
     "text": [
      "/opt/conda/lib/python3.6/site-packages/IPython/core/display.py:689: UserWarning: Consider using IPython.display.IFrame instead\n",
      "  warnings.warn(\"Consider using IPython.display.IFrame instead\")\n"
     ]
    },
    {
     "data": {
      "text/html": [
       "<iframe src=https://nbviewer.jupyter.org/ width=900 height=600></iframe>"
      ],
      "text/plain": [
       "<IPython.core.display.HTML object>"
      ]
     },
     "execution_count": 10,
     "metadata": {},
     "output_type": "execute_result"
    }
   ],
   "source": [
    "HTML('<iframe src=https://nbviewer.jupyter.org/ width=900 height=600></iframe>')"
   ]
  },
  {
   "cell_type": "markdown",
   "metadata": {
    "slideshow": {
     "slide_type": "slide"
    }
   },
   "source": [
    "## Installing Jupyter\n",
    "\n",
    "#### This is only necessary if you run Jupyter on your own laptop\n",
    "\n",
    "1. The [Anaconda distribution](https://www.anaconda.com/distribution/) size is around 2 GB, two versions are available with python 2.7 and 3.7.\n",
    "It contains a number of preinstalled libraries: <img src=\"pictures/anaconda.png\" alt=\"Anaconda dependencies\" style=\"float:right; width: 40%;\">\n",
    "    * matplotlib\n",
    "    * pandas\n",
    "    * ...\n",
    "\n",
    "2. The [Miniconda distribution](https://docs.conda.io/en/latest/miniconda.html) size is around 150 MB (python 2.7 or 3.7). You then need to install a few libraries:\n",
    "```bash\n",
    "＄ conda install matplotlib pandas numpy seaborn scikit-learn\n",
    "```\n",
    "\n",
    "\n",
    "3. Alternative using pip without conda:\n",
    "```bash\n",
    "＄ pip3 install --upgrade pip\n",
    "＄ pip3 install jupyter\n",
    "```"
   ]
  },
  {
   "cell_type": "markdown",
   "metadata": {
    "slideshow": {
     "slide_type": "slide"
    }
   },
   "source": [
    "## Conda\n",
    "\n",
    "#### (This is only necessary if you run Jupyter on your own laptop)\n",
    "\n",
    "Conda enables the creation of working environments that allow to work with specific versions of packages.\n",
    "\n",
    "Create a conda environment with python 3.7: \n",
    "\n",
    "```bash\n",
    "＄ conda create -n gromacs_py_env python=3.7\n",
    "```\n",
    "\n",
    "Add condas channels to find library and software:  \n",
    "\n",
    "```bash\n",
    "＄ conda config --add channels conda-forge\n",
    "＄ conda config --add channels bioconda\n",
    "＄ conda config --add channels samuel.murail\n",
    "```\n",
    "\n",
    "Install package into your environment:  \n",
    "\n",
    "```bash\n",
    "＄ conda install -n gromacs_py_env gromacs_py\n",
    "```\n",
    "\n"
   ]
  },
  {
   "cell_type": "markdown",
   "metadata": {
    "slideshow": {
     "slide_type": "slide"
    }
   },
   "source": [
    "## Conda (2)\n",
    "\n",
    "\n",
    "#### (This is only necessary if you run Jupyter on your own laptop)\n",
    "\n",
    "You can then use the installed library, note that the beginning of the prompt indicates the name of your environment between brackett `(gromacs_py_env)`:\n",
    "\n",
    "```bash\n",
    "＄ conda activate gromacs_py_env\n",
    "(gromacs_py_env) ＄ pytest --pyargs gromacs_py\n",
    "(gromacs_py_env) ＄ conda deactivate\n",
    "＄ # no more in gromacs_py_env\n",
    "```\n",
    "\n",
    "Check your enviromnent list :\n",
    "```bash\n",
    "＄ conda env list\n",
    "# conda environments:\n",
    "#\n",
    "base                  *  /Users/smurail/miniconda3\n",
    "gromacs_py_env           /Users/smurail/miniconda3/envs/gromacs_py_env\n",
    "```\n",
    "\n"
   ]
  },
  {
   "cell_type": "markdown",
   "metadata": {
    "slideshow": {
     "slide_type": "slide"
    }
   },
   "source": [
    "## Conda (3)\n",
    "\n",
    "#### (This is only necessary if you run Jupyter on your own laptop)\n",
    "\n",
    "You can check easily the package installer:  \n",
    "\n",
    "```bash\n",
    "＄ conda list -n gromacs_py_env\n",
    "# packages in environment at /Users/smurail/miniconda3/envs/gromacs_py_env:\n",
    "#\n",
    "# Name                    Version                   Build  Channel\n",
    "bzip2                     1.0.6             h1de35cc_1002    conda-forge\n",
    "ca-certificates           2019.3.9             hecc5488_0    conda-forge\n",
    "certifi                   2019.3.9                 py37_0    conda-forge\n",
    "...\n",
    "wheel                     0.33.4                   py37_0    conda-forge\n",
    "xz                        5.2.4             h1de35cc_1001    conda-forge\n",
    "zlib                      1.2.11            h1de35cc_1004    conda-forge\n",
    "```\n",
    "\n",
    "And remove the created environment :\n",
    "\n",
    "```bash\n",
    "＄ conda env remove -n gromacs_py_env\n",
    "```\n"
   ]
  },
  {
   "cell_type": "code",
   "execution_count": 25,
   "metadata": {
    "slideshow": {
     "slide_type": "notes"
    }
   },
   "outputs": [
    {
     "name": "stdout",
     "output_type": "stream",
     "text": [
      "/home/murail/miniconda3/envs/mdaenv/lib/python3.6/site-packages/matplotlib/__init__.py\n"
     ]
    }
   ],
   "source": [
    "import numpy as np\n",
    "import matplotlib\n",
    "\n",
    "a = np.array([4, 5.1])\n",
    "b = np.array([10.1, 5.1])\n",
    "np.cross(a, b)\n",
    "\n",
    "print(matplotlib.__file__)"
   ]
  },
  {
   "cell_type": "markdown",
   "metadata": {
    "slideshow": {
     "slide_type": "slide"
    }
   },
   "source": [
    "## Interactive Programming"
   ]
  },
  {
   "cell_type": "markdown",
   "metadata": {
    "slideshow": {
     "slide_type": "slide"
    }
   },
   "source": [
    "## Launching Jupyter\n",
    "\n",
    "#### (This is only necessary if you run Jupyter on your own laptop)\n",
    "\n",
    "In a bash terminal type:\n",
    "\n",
    "```bash\n",
    "＄ jupyter notebook\n",
    "```\n",
    "<img src=\"pictures/Screenshot_jupyter_home.png\" alt=\"Jupyter Home\" style=\"float:right; width: 100%;\">\n"
   ]
  },
  {
   "cell_type": "markdown",
   "metadata": {
    "slideshow": {
     "slide_type": "slide"
    }
   },
   "source": [
    "## Create a Notebook\n",
    "\n",
    "Select ``New`` and choose your kernel.\n",
    "\n",
    "<img src=\"pictures/Screenshot_notebook_head.png\" alt=\"Jupyter Home\" style=\"float:right; width: 100%;\">\n"
   ]
  },
  {
   "cell_type": "markdown",
   "metadata": {
    "slideshow": {
     "slide_type": "slide"
    }
   },
   "source": [
    "## Jupyter commands and Shortcuts\n",
    "\n"
   ]
  },
  {
   "cell_type": "markdown",
   "metadata": {
    "slideshow": {
     "slide_type": "slide"
    }
   },
   "source": [
    "## Adding R kernel: \n",
    "\n",
    "#### (This is only necessary if you run Jupyter on your own laptop)\n",
    "\n",
    "<img src=\"https://www.r-project.org/Rlogo.png\" alt=\"Drawing\" style=\"float:right; width: 200px;\"/>\n",
    "\n",
    "Choose the `-c r` channel to have the last version of R\n",
    "\n",
    "```bash\n",
    "conda install -c r r-essentials rpy2 simplegeneric tzlocal\n",
    "```\n",
    "\n",
    "## Getting started\n",
    "\n",
    "```bash\n",
    "jupyter notebook\n",
    "```"
   ]
  },
  {
   "cell_type": "markdown",
   "metadata": {
    "slideshow": {
     "slide_type": "slide"
    }
   },
   "source": [
    "Possibility to use LaTeX in Markown cells.\n",
    "\n",
    "The following text `$$RMSD(v,w)=\\sqrt{\\frac{1}{n} \\sum_{i=1}^n || v_i-w_i||^2}$$` gives :\n",
    "- $$RMSD(v,w)=\\sqrt{\\frac{1}{n} \\sum_{i=1}^n || v_i-w_i||^2}$$"
   ]
  },
  {
   "cell_type": "markdown",
   "metadata": {
    "slideshow": {
     "slide_type": "slide"
    }
   },
   "source": [
    "## Conclusion\n",
    "\n",
    "Notebook project after few months or years, easy answer to key questions:\n",
    "- What have I done ?\n",
    "- How have I done ?\n",
    "- Why have I done it this way ?\n",
    "\n",
    "A notebook will:\n",
    "- Keep track record of data production, analysis and visualisation\n",
    "- Method implementation\n",
    "- References ..."
   ]
  },
  {
   "cell_type": "markdown",
   "metadata": {
    "slideshow": {
     "slide_type": "slide"
    }
   },
   "source": [
    "### Bibliography\n",
    "\n",
    "* [Teaching and Learning with Jupyter](https://jupyter4edu.github.io/jupyter-edu-book/)\n",
    "* [Books with Jupyter and Jekyll](https://jupyter.org/jupyter-book/intro.html)\n",
    "\n",
    "* [IPython Cookbook](https://ipython-books.github.io/)\n",
    "\n",
    "* [Jupyter Cheat Sheet](https://www.edureka.co/blog/cheatsheets/Jupyter-Notebook-Cheat-Sheet)\n",
    "* [Github Markdown Cheat Sheet](https://guides.github.com/pdfs/markdown-cheatsheet-online.pdf)\n",
    "* [Installing Jupyter on Android](https://www.leouieda.com/blog/scipy-on-android.html)\n",
    "\n",
    "\n"
   ]
  },
  {
   "cell_type": "markdown",
   "metadata": {},
   "source": [
    "## Test\n",
    "\n",
    "\n",
    "### *Color code*\n",
    "***\n",
    "<font color=blue> \n",
    "## test\n",
    "</font>  \n",
    "***\n"
   ]
  },
  {
   "cell_type": "code",
   "execution_count": 11,
   "metadata": {},
   "outputs": [
    {
     "data": {
      "application/vnd.jupyter.widget-view+json": {
       "model_id": "ebf7de8fdc0e4358a29c2caa11e95814",
       "version_major": 2,
       "version_minor": 0
      },
      "text/plain": [
       "Map(basemap={'url': 'https://{s}.tile.openstreetmap.org/{z}/{x}/{y}.png', 'max_zoom': 19, 'attribution': 'Map …"
      ]
     },
     "metadata": {},
     "output_type": "display_data"
    }
   ],
   "source": [
    "from ipyleaflet import Map\n",
    "\n",
    "Map(center=[34.6252978589571, -77.34580993652344], zoom=10)"
   ]
  },
  {
   "cell_type": "markdown",
   "metadata": {
    "slideshow": {
     "slide_type": "notes"
    }
   },
   "source": [
    "## Exercices idea:\n",
    "\n",
    "1. Create a conda env. based on python 3.5 named ``tmp`` and including the following libraries:\n",
    "    * numpy\n",
    "    * matplotlib\n",
    "\n",
    "\n",
    "2. In this new env. compute the cross product using ``np.cross()`` of vector $n=(0.5, 1.5)$ and $v=(2.5, 0.5)$.\n",
    "3. print the path of matplotlib libraries using the library attribute ``__file__``.\n",
    "4. Finally delete the environmnent."
   ]
  },
  {
   "cell_type": "markdown",
   "metadata": {
    "slideshow": {
     "slide_type": "notes"
    }
   },
   "source": [
    "### Markdown image insertion:\n",
    "![Jupyter](https://jupyter.org/assets/main-logo.svg)\n"
   ]
  },
  {
   "cell_type": "markdown",
   "metadata": {
    "slideshow": {
     "slide_type": "notes"
    }
   },
   "source": [
    "## Install and run Jupyter slides: \n",
    "\n",
    "#### (This is only necessary if you run Jupyter on your own laptop)\n",
    "\n",
    "    jupyter nbconvert 01_Jupyter_introduction.ipynb --to slides --post serve\n"
   ]
  },
  {
   "cell_type": "code",
   "execution_count": null,
   "metadata": {},
   "outputs": [],
   "source": []
  }
 ],
 "metadata": {
  "celltoolbar": "Diaporama",
  "kernelspec": {
   "display_name": "Python 3",
   "language": "python",
   "name": "python3"
  },
  "language_info": {
   "codemirror_mode": {
    "name": "ipython",
    "version": 3
   },
   "file_extension": ".py",
   "mimetype": "text/x-python",
   "name": "python",
   "nbconvert_exporter": "python",
   "pygments_lexer": "ipython3",
   "version": "3.6.7"
  },
  "widgets": {
   "application/vnd.jupyter.widget-state+json": {
    "state": {
     "2364354899794e428bca1e20b0cca294": {
      "model_module": "jupyter-leaflet",
      "model_module_version": "~0.10.2",
      "model_name": "LeafletTileLayerModel",
      "state": {
       "_model_module_version": "~0.10.2",
       "_view_count": null,
       "_view_module_version": "~0.10.2",
       "base": true,
       "max_zoom": 19,
       "min_zoom": 1,
       "options": [
        "attribution",
        "detect_retina",
        "max_zoom",
        "min_zoom",
        "tile_size"
       ]
      }
     },
     "52e07275a8704097bd0e3b9eabc76b1d": {
      "model_module": "@jupyter-widgets/base",
      "model_module_version": "1.1.0",
      "model_name": "LayoutModel",
      "state": {}
     },
     "8ff911445d8748439266dac7a8920daa": {
      "model_module": "jupyter-leaflet",
      "model_module_version": "~0.10.2",
      "model_name": "LeafletMapStyleModel",
      "state": {
       "_model_module_version": "~0.10.2",
       "_view_count": null,
       "_view_module": "@jupyter-widgets/base",
       "_view_module_version": "1.1.0",
       "_view_name": "StyleView",
       "cursor": "grab"
      }
     },
     "94ee8f5e7d1943d297358ea8b8186de3": {
      "model_module": "jupyter-leaflet",
      "model_module_version": "~0.10.2",
      "model_name": "LeafletMapStyleModel",
      "state": {
       "_model_module_version": "~0.10.2",
       "_view_count": null,
       "_view_module": "@jupyter-widgets/base",
       "_view_module_version": "1.1.0",
       "_view_name": "StyleView",
       "cursor": "grab"
      }
     },
     "dd3068814a914869a389bb9fba727e43": {
      "model_module": "jupyter-leaflet",
      "model_module_version": "~0.10.2",
      "model_name": "LeafletMapStyleModel",
      "state": {
       "_model_module_version": "~0.10.2",
       "_view_count": null,
       "_view_module": "@jupyter-widgets/base",
       "_view_module_version": "1.1.0",
       "_view_name": "StyleView",
       "cursor": "move"
      }
     },
     "ebf7de8fdc0e4358a29c2caa11e95814": {
      "model_module": "jupyter-leaflet",
      "model_module_version": "~0.10.2",
      "model_name": "LeafletMapModel",
      "state": {
       "_dom_classes": [],
       "_model_module_version": "~0.10.2",
       "_view_count": null,
       "_view_module_version": "~0.10.2",
       "basemap": {
        "attribution": "Map data (c) <a href=\"https://openstreetmap.org\">OpenStreetMap</a> contributors",
        "max_zoom": 19,
        "url": "https://{s}.tile.openstreetmap.org/{z}/{x}/{y}.png"
       },
       "center": [
        34.6252978589571,
        -77.34580993652344
       ],
       "default_style": "IPY_MODEL_8ff911445d8748439266dac7a8920daa",
       "dragging_style": "IPY_MODEL_dd3068814a914869a389bb9fba727e43",
       "east": -76.68457031250001,
       "fullscreen": false,
       "interpolation": "bilinear",
       "layers": [
        "IPY_MODEL_2364354899794e428bca1e20b0cca294"
       ],
       "layout": "IPY_MODEL_52e07275a8704097bd0e3b9eabc76b1d",
       "modisdate": "yesterday",
       "north": 34.85100201839405,
       "options": [
        "attribution_control",
        "basemap",
        "bounce_at_zoom_limits",
        "box_zoom",
        "center",
        "close_popup_on_click",
        "double_click_zoom",
        "dragging",
        "fullscreen",
        "inertia",
        "inertia_deceleration",
        "inertia_max_speed",
        "interpolation",
        "keyboard",
        "keyboard_pan_offset",
        "keyboard_zoom_offset",
        "max_zoom",
        "min_zoom",
        "scroll_wheel_zoom",
        "tap",
        "tap_tolerance",
        "touch_zoom",
        "world_copy_jump",
        "zoom",
        "zoom_animation_threshold",
        "zoom_control",
        "zoom_start"
       ],
       "south": 34.39897808891371,
       "style": "IPY_MODEL_94ee8f5e7d1943d297358ea8b8186de3",
       "west": -78.00704956054689,
       "zoom": 10
      }
     }
    },
    "version_major": 2,
    "version_minor": 0
   }
  }
 },
 "nbformat": 4,
 "nbformat_minor": 2
}
