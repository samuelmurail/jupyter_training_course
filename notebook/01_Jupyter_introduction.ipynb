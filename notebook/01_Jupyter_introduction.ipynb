{
 "cells": [
  {
   "cell_type": "code",
   "execution_count": 4,
   "metadata": {
    "slideshow": {
     "slide_type": "notes"
    }
   },
   "outputs": [
    {
     "data": {
      "text/html": [
       "<style> \n",
       "\n",
       "code {background-color : lightgrey !important;} \n",
       "\n",
       ".CodeMirror {\n",
       "    width: 100vw;\n",
       "}\n",
       "\n",
       ".rendered_html {\n",
       "  font-size:0.8em;\n",
       "}\n",
       ".rendered_html table, .rendered_html th, .rendered_html tr, .rendered_html td {\n",
       "     font-size: 100%;\n",
       "}\n",
       "\n",
       "</style>\n",
       "\n",
       "<!-- To use only for presentation :\n",
       ".container {\n",
       "    width: 99% !important;\n",
       "}\n",
       ">\n"
      ],
      "text/plain": [
       "<IPython.core.display.HTML object>"
      ]
     },
     "metadata": {},
     "output_type": "display_data"
    }
   ],
   "source": [
    "%%HTML\n",
    "<style> \n",
    "\n",
    "code {background-color : lightgrey !important;} \n",
    "\n",
    ".CodeMirror {\n",
    "    width: 100vw;\n",
    "}\n",
    "\n",
    ".rendered_html {\n",
    "  font-size:0.8em;\n",
    "}\n",
    ".rendered_html table, .rendered_html th, .rendered_html tr, .rendered_html td {\n",
    "     font-size: 100%;\n",
    "}\n",
    "\n",
    "</style>\n",
    "\n",
    "<!-- To use only for presentation :\n",
    ".container {\n",
    "    width: 99% !important;\n",
    "}\n",
    ">"
   ]
  },
  {
   "cell_type": "code",
   "execution_count": 2,
   "metadata": {
    "slideshow": {
     "slide_type": "notes"
    }
   },
   "outputs": [
    {
     "data": {
      "text/html": [
       "<!-- Not content, but for better presentation styles -->\n",
       "<style>\n",
       ".rise-enabled .rendered_html table.dataframe {\n",
       "    font-size: 16px;\n",
       "}\n",
       ".rendered_html code {\n",
       "    background: #EFEFEF;\n",
       "    border: 1px solid #CCC;\n",
       "    padding: 1px 5px;\n",
       "    border-radius: 1px;\n",
       "}\n",
       ".rise-enabled .fa-times-circle:before,\n",
       ".rise-enabled .fa-question:before,\n",
       ".rise-enabled aside.controls {\n",
       "    opacity: 0.1;\n",
       "}\n",
       ".rise-enabled a,\n",
       ".rise-enabled a:active,\n",
       ".rise-enabled a:hover,\n",
       ".rise-enabled a:visited,\n",
       ".rise-enabled :link {\n",
       "    text-decoration: none;\n",
       "    color: #A68910;\n",
       "}\n",
       "</style>\n"
      ],
      "text/plain": [
       "<IPython.core.display.HTML object>"
      ]
     },
     "metadata": {},
     "output_type": "display_data"
    }
   ],
   "source": [
    "%%HTML\n",
    "<!-- Not content, but for better presentation styles -->\n",
    "<style>\n",
    ".rise-enabled .rendered_html table.dataframe {\n",
    "    font-size: 16px;\n",
    "}\n",
    ".rendered_html code {\n",
    "    background: #EFEFEF;\n",
    "    border: 1px solid #CCC;\n",
    "    padding: 1px 5px;\n",
    "    border-radius: 1px;\n",
    "}\n",
    ".rise-enabled .fa-times-circle:before,\n",
    ".rise-enabled .fa-question:before,\n",
    ".rise-enabled aside.controls {\n",
    "    opacity: 0.1;\n",
    "}\n",
    ".rise-enabled a,\n",
    ".rise-enabled a:active,\n",
    ".rise-enabled a:hover,\n",
    ".rise-enabled a:visited,\n",
    ".rise-enabled :link {\n",
    "    text-decoration: none;\n",
    "    color: #A68910;\n",
    "}\n",
    "</style>"
   ]
  },
  {
   "cell_type": "markdown",
   "metadata": {
    "slideshow": {
     "slide_type": "slide"
    }
   },
   "source": [
    "# Jupyter Notebook<img src=\"https://jupyter.org/assets/main-logo.svg\" alt=\"Drawing\" style=\"float:right; width: 300px;\"/>\n",
    "**Samuel Murail & Sjoerd de Vries**  \n",
    "\n",
    "***RPBS*** Ressource Parisienne en Bioinformatique Structurale  \n",
    "\n",
    "<sub>__CMPLI__ INSERM ERL U1133  </sub>  \n",
    "<sub>__BFA__ CNRS UMR 8251  </sub>  \n",
    "<sub>Université Paris Diderot  </sub>\n",
    "\n",
    "\n",
    "\n",
    "\n",
    "\n",
    "\n",
    "*Paris - 5,6 June*"
   ]
  },
  {
   "cell_type": "markdown",
   "metadata": {
    "slideshow": {
     "slide_type": "slide"
    }
   },
   "source": [
    "## About us:\n",
    "\n",
    "\n",
    "* __Samuel Murail__<img src=\"pictures/samuel_picture.jpg\" alt=\"My test image\" style=\"float:right; width: 15%;\">\n",
    "\n",
    "    - Assistant Professor at Paris Diderot University\n",
    "    - Molecular Dynamic simulation\n",
    "    - Expertise in scripting (tcl, R, bash)\n",
    "    - Python Newbie (less than 2 years)\n",
    "    - Analysis of MD trajectories using **Jupyter Notebook**\n",
    "\n",
    "* __Sjoerd de Vries__<img src=\"pictures/sjoerd_picture.png\" alt=\"My test image\" style=\"float:right; width: 20%;\">\n",
    "    - Research Ingenior at INSERM\n",
    "    - Docking ...\n",
    "    - Expertise\n",
    "    - Jupyter Notebook use with "
   ]
  },
  {
   "cell_type": "markdown",
   "metadata": {
    "slideshow": {
     "slide_type": "slide"
    }
   },
   "source": [
    "## RPBS"
   ]
  },
  {
   "cell_type": "code",
   "execution_count": 5,
   "metadata": {
    "slideshow": {
     "slide_type": "notes"
    }
   },
   "outputs": [],
   "source": [
    "from IPython.display import display, HTML"
   ]
  },
  {
   "cell_type": "code",
   "execution_count": 7,
   "metadata": {
    "slideshow": {
     "slide_type": "fragment"
    }
   },
   "outputs": [
    {
     "data": {
      "text/html": [
       "<iframe src=http://bioserv.rpbs.univ-paris-diderot.fr/index.html width=900 height=600></iframe>"
      ],
      "text/plain": [
       "<IPython.core.display.HTML object>"
      ]
     },
     "execution_count": 7,
     "metadata": {},
     "output_type": "execute_result"
    }
   ],
   "source": [
    "HTML('<iframe src=http://bioserv.rpbs.univ-paris-diderot.fr/index.html width=900 height=600></iframe>')"
   ]
  },
  {
   "cell_type": "markdown",
   "metadata": {
    "slideshow": {
     "slide_type": "slide"
    }
   },
   "source": [
    "## Introduction to Jupyter"
   ]
  },
  {
   "cell_type": "markdown",
   "metadata": {
    "slideshow": {
     "slide_type": "slide"
    }
   },
   "source": [
    "### Why a Notebook ?\n",
    "\n",
    "Restart a project few month or years later:\n",
    "- What have I done ?\n",
    "- How have I done ?\n",
    "- Why have I done it this way ?\n",
    "\n",
    "A notebook will:\n",
    "- Keep track record of data production, analysis \n",
    "- Method implementation\n",
    "- References"
   ]
  },
  {
   "cell_type": "markdown",
   "metadata": {
    "slideshow": {
     "slide_type": "slide"
    }
   },
   "source": [
    "## Jupyter notebook\n",
    "\n",
    "### Features\n",
    "- extend console based approach through web based applications (*Firefox, Chrome, Safari, ...*)\n",
    "- Contains both code and rich text elements\n",
    "    - Code can be *Julia, Python or R* and many other (*bash, Ruby, Javascript, ...*)\n",
    "    - Rich text elements can include figures, videos, equations, LateX, html, Markdown ...\n",
    "\n",
    "### Usages\n",
    "- Interactive Data processing (Data Analysis and Visualisation)\n",
    "- Laboratory notebook\n",
    "- Reproducible Data Analysis with record track of all steps\n",
    "- Book/Article writing\n",
    "- Slideshow \n",
    "- Documentation with examples"
   ]
  },
  {
   "cell_type": "markdown",
   "metadata": {
    "slideshow": {
     "slide_type": "slide"
    }
   },
   "source": [
    "## Interactive Programming"
   ]
  },
  {
   "cell_type": "markdown",
   "metadata": {
    "slideshow": {
     "slide_type": "notes"
    }
   },
   "source": [
    "### Markdown image insertion:\n",
    "![Jupyter](https://jupyter.org/assets/main-logo.svg)\n"
   ]
  },
  {
   "cell_type": "markdown",
   "metadata": {
    "slideshow": {
     "slide_type": "notes"
    }
   },
   "source": [
    "## Install and run Jupyter slides: \n",
    "\n",
    "\n",
    "    conda install -n mdaenv -c conda-forge rise\n",
    "    jupyter nbconvert Jupyter_basics.ipynb --to slides --post serve\n"
   ]
  },
  {
   "cell_type": "markdown",
   "metadata": {
    "slideshow": {
     "slide_type": "slide"
    }
   },
   "source": [
    "## Installing jupyter\n",
    "\n",
    "1. The [Anaconda distribution](https://www.anaconda.com/distribution/) size is around 2 GB, two versions are available with python 2.7 and 3.7.\n",
    "It containts a number of preinstalled librarires: <img src=\"pictures/anaconda.png\" alt=\"Anaconda dependencies\" style=\"float:right; width: 40%;\">\n",
    "    * matplotlib\n",
    "    * pandas\n",
    "    * ...\n",
    "\n",
    "2. The [Miniconda distribution](https://docs.conda.io/en/latest/miniconda.html) size is around 150 MB (python 2.7 or 3.7). You then need to install few library:\n",
    "```bash\n",
    "＄ conda install matplotlib pandas numpy seaborn \n",
    "```\n",
    "\n",
    "\n",
    "3. Alternative using pip without conda:\n",
    "```bash\n",
    "＄ pip3 install --upgrade pip\n",
    "＄ pip3 install jupyter\n",
    "```"
   ]
  },
  {
   "cell_type": "markdown",
   "metadata": {
    "slideshow": {
     "slide_type": "slide"
    }
   },
   "source": [
    "## Conda\n",
    "\n",
    "Conda enable creation of working environmnents that allow to work with specific versions of package.\n",
    "\n",
    "Create a conda environment with python 3.7: \n",
    "\n",
    "```bash\n",
    "＄ conda create -n gromacs_py_env python=3.7\n",
    "```\n",
    "\n",
    "Add condas channels to find library and software:  \n",
    "\n",
    "```bash\n",
    "＄ conda config --add channels conda-forge\n",
    "＄ conda config --add channels bioconda\n",
    "＄ conda config --add channels samuel.murail\n",
    "```\n",
    "\n",
    "Install package into your environment:  \n",
    "\n",
    "```bash\n",
    "＄ conda install -n gromacs_py_env gromacs_py\n",
    "```\n",
    "\n"
   ]
  },
  {
   "cell_type": "markdown",
   "metadata": {
    "slideshow": {
     "slide_type": "slide"
    }
   },
   "source": [
    "## Conda (2)\n",
    "\n",
    "\n",
    "You can then use the installed library, note that the beginning of the prompt indicate the name of your environment between brackest `(gromacs_py_env)`:\n",
    "\n",
    "```bash\n",
    "＄ conda activate gromacs_py_env\n",
    "(gromacs_py_env) ＄ pytest --pyargs gromacs_py\n",
    "(gromacs_py_env) ＄ conda deactivate\n",
    "＄ # no more in gromacs_py_env\n",
    "```\n",
    "\n",
    "Check your enviromnent list :\n",
    "```bash\n",
    "＄ conda env list\n",
    "# conda environments:\n",
    "#\n",
    "base                  *  /Users/smurail/miniconda3\n",
    "gromacs_py_env           /Users/smurail/miniconda3/envs/gromacs_py_env\n",
    "```\n",
    "\n"
   ]
  },
  {
   "cell_type": "markdown",
   "metadata": {
    "slideshow": {
     "slide_type": "slide"
    }
   },
   "source": [
    "## Conda (3)\n",
    "\n",
    "\n",
    "You can check easily the package installer:  \n",
    "\n",
    "```bash\n",
    "＄ conda list -n gromacs_py_env\n",
    "# packages in environment at /Users/smurail/miniconda3/envs/gromacs_py_env:\n",
    "#\n",
    "# Name                    Version                   Build  Channel\n",
    "bzip2                     1.0.6             h1de35cc_1002    conda-forge\n",
    "ca-certificates           2019.3.9             hecc5488_0    conda-forge\n",
    "certifi                   2019.3.9                 py37_0    conda-forge\n",
    "...\n",
    "wheel                     0.33.4                   py37_0    conda-forge\n",
    "xz                        5.2.4             h1de35cc_1001    conda-forge\n",
    "zlib                      1.2.11            h1de35cc_1004    conda-forge\n",
    "```\n",
    "\n",
    "And remove the created environment :\n",
    "\n",
    "```bash\n",
    "＄ conda env remove -n gromacs_py_env\n",
    "```\n"
   ]
  },
  {
   "cell_type": "markdown",
   "metadata": {
    "slideshow": {
     "slide_type": "notes"
    }
   },
   "source": [
    "## Exercices idea:\n",
    "\n",
    "1. Create a conda env. based on python 3.5 named ``tmp`` and including the following libraries:\n",
    "    * numpy\n",
    "    * matplotlib\n",
    "\n",
    "\n",
    "2. In this new env. compute the cross product using ``np.cross()`` of vector $n=(0.5, 1.5)$ and $v=(2.5, 0.5)$.\n",
    "3. print the path of matplotlib libraries using the library attribute ``__file__``.\n",
    "4. Finally delete the environmnent."
   ]
  },
  {
   "cell_type": "code",
   "execution_count": 8,
   "metadata": {
    "slideshow": {
     "slide_type": "notes"
    }
   },
   "outputs": [
    {
     "name": "stdout",
     "output_type": "stream",
     "text": [
      "/Users/smurail/miniconda3/lib/python3.7/site-packages/matplotlib/__init__.py\n"
     ]
    }
   ],
   "source": [
    "import numpy as np\n",
    "import matplotlib\n",
    "\n",
    "a = np.array([4, 5.1])\n",
    "b = np.array([10.1, 5.1])\n",
    "np.cross(a, b)\n",
    "\n",
    "print(matplotlib.__file__)"
   ]
  },
  {
   "cell_type": "markdown",
   "metadata": {
    "slideshow": {
     "slide_type": "slide"
    }
   },
   "source": [
    "## Launching Jupyter\n",
    "\n",
    "In a bash terminal type:\n",
    "\n",
    "```bash\n",
    "＄ jupyter notebook\n",
    "```\n",
    "<img src=\"pictures/Screenshot_jupyter_home.png\" alt=\"Jupyter Home\" style=\"float:right; width: 100%;\">\n"
   ]
  },
  {
   "cell_type": "markdown",
   "metadata": {
    "slideshow": {
     "slide_type": "slide"
    }
   },
   "source": [
    "## Create a Notebook\n",
    "\n",
    "Select ``New`` and choose your kernel.\n",
    "\n",
    "<img src=\"pictures/Screenshot_notebook_head.png\" alt=\"Jupyter Home\" style=\"float:right; width: 100%;\">\n"
   ]
  },
  {
   "cell_type": "markdown",
   "metadata": {
    "slideshow": {
     "slide_type": "slide"
    }
   },
   "source": [
    "## Adding R kernel: \n",
    "\n",
    "<img src=\"https://www.r-project.org/Rlogo.png\" alt=\"Drawing\" style=\"float:right; width: 200px;\"/>\n",
    "\n",
    "```bash\n",
    "conda install -c r r-essentials\n",
    "```\n",
    "\n",
    "## Getting started\n",
    "\n",
    "```bash\n",
    "jupyter notebook\n",
    "```"
   ]
  },
  {
   "cell_type": "markdown",
   "metadata": {},
   "source": [
    "Possibility to use LaTeX in Markown cells.\n",
    "\n",
    "The following text `$$RMSD(v,w)=\\sqrt{\\frac{1}{n} \\sum_{i=1}^n || v_i-w_i||^2}$$` gives :\n",
    "- $$RMSD(v,w)=\\sqrt{\\frac{1}{n} \\sum_{i=1}^n || v_i-w_i||^2}$$"
   ]
  },
  {
   "cell_type": "markdown",
   "metadata": {
    "slideshow": {
     "slide_type": "slide"
    }
   },
   "source": [
    "## Conclusion\n",
    "\n",
    "Notebook project after few months or years, easy answer to key questions:\n",
    "- What have I done ?\n",
    "- How have I done ?\n",
    "- Why have I done it this way ?\n",
    "\n",
    "A notebook will:\n",
    "- Keep track record of data production, analysis and visualisation\n",
    "- Method implementation\n",
    "- References ..."
   ]
  },
  {
   "cell_type": "markdown",
   "metadata": {
    "slideshow": {
     "slide_type": "slide"
    }
   },
   "source": [
    "### Bibliography\n",
    "\n",
    "* [Teaching and Learning with Jupyter](https://jupyter4edu.github.io/jupyter-edu-book/)\n",
    "* [Books with Jupyter and Jekyll](https://jupyter.org/jupyter-book/intro.html)\n",
    "\n",
    "* [IPython Cookbook](https://ipython-books.github.io/)\n",
    "\n",
    "* [Jupyter Cheat Sheet](https://www.edureka.co/blog/cheatsheets/Jupyter-Notebook-Cheat-Sheet)\n",
    "* [Github Markdown Cheat Sheet](https://guides.github.com/pdfs/markdown-cheatsheet-online.pdf)\n",
    "\n",
    "\n"
   ]
  },
  {
   "cell_type": "code",
   "execution_count": null,
   "metadata": {},
   "outputs": [],
   "source": []
  }
 ],
 "metadata": {
  "celltoolbar": "Diaporama",
  "kernelspec": {
   "display_name": "Python 3",
   "language": "python",
   "name": "python3"
  },
  "language_info": {
   "codemirror_mode": {
    "name": "ipython",
    "version": 3
   },
   "file_extension": ".py",
   "mimetype": "text/x-python",
   "name": "python",
   "nbconvert_exporter": "python",
   "pygments_lexer": "ipython3",
   "version": "3.7.3"
  }
 },
 "nbformat": 4,
 "nbformat_minor": 2
}
