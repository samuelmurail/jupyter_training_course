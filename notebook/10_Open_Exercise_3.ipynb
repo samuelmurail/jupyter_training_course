{
 "cells": [
  {
   "cell_type": "markdown",
   "metadata": {},
   "source": [
    "##  Open Exercise 3: data analysis, optimization\n",
    "\n",
    "*~120 minutes*\n",
    "\n",
    "**You can choose one or more of the following:**\n",
    "\n",
    "\n",
    "A. Apply data analysis and/or optimization on your own datasets and/or algorithms.\n",
    "\n",
    "B. Study the [cffi documentation](https://cffi.readthedocs.io/en/latest/), and get the C code in the optimization notebook working. Alternatively, if you installed Jupyter on your own laptop, you can try to get the GPU routines working.\n",
    "\n",
    "If you don't like any of the options, you could start with Open Exercise 4."
   ]
  }
 ],
 "metadata": {
  "celltoolbar": "Slideshow",
  "kernelspec": {
   "display_name": "Python 3",
   "language": "python",
   "name": "python3"
  },
  "language_info": {
   "codemirror_mode": {
    "name": "ipython",
    "version": 3
   },
   "file_extension": ".py",
   "mimetype": "text/x-python",
   "name": "python",
   "nbconvert_exporter": "python",
   "pygments_lexer": "ipython3",
   "version": "3.6.7"
  }
 },
 "nbformat": 4,
 "nbformat_minor": 2
}
