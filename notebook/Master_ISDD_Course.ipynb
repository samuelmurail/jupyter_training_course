{
 "cells": [
  {
   "cell_type": "code",
   "execution_count": 1,
   "metadata": {
    "slideshow": {
     "slide_type": "skip"
    }
   },
   "outputs": [
    {
     "data": {
      "text/html": [
       "<!-- Not content, but for better presentation styles -->\n",
       "<style>\n",
       "\n",
       ".rise-enabled .rendered_html table.dataframe {\n",
       "    font-size: 16px;\n",
       "}\n",
       "\n",
       ".rendered_html code {\n",
       "    background: #EFEFEF;\n",
       "    border: 1px solid #CCC;\n",
       "    padding: 1px 5px;\n",
       "    border-radius: 1px;\n",
       "}\n",
       "\n",
       ".rise-enabled .fa-times-circle:before,\n",
       ".rise-enabled .fa-question:before,\n",
       ".rise-enabled aside.controls {\n",
       "    opacity: 0.1;\n",
       "}\n",
       "\n",
       ".rise-enabled a,\n",
       ".rise-enabled a:active,\n",
       ".rise-enabled a:hover,\n",
       ".rise-enabled a:visited,\n",
       ".rise-enabled :link {\n",
       "    text-decoration: none;\n",
       "    color: #A68910;\n",
       "}\n",
       "    \n",
       "code {background-color : lightgrey !important;} \n",
       "\n",
       ".CodeMirror {\n",
       "    width: 100vw;\n",
       "}\n",
       "\n",
       ".rendered_html {\n",
       "  font-size:0.8em;\n",
       "  line-height: 90%; \n",
       "}\n",
       "\n",
       ".rendered_html table, .rendered_html th, .rendered_html tr, .rendered_html td {\n",
       "     font-size: 100%;\n",
       "}\n",
       "\n",
       "<!-- To use only for presentation :\n",
       ".container {\n",
       "    width: 99% !important;\n",
       "} -->\n",
       "\n",
       "</style>\n"
      ],
      "text/plain": [
       "<IPython.core.display.HTML object>"
      ]
     },
     "metadata": {},
     "output_type": "display_data"
    }
   ],
   "source": [
    "%%HTML\n",
    "<!-- Not content, but for better presentation styles -->\n",
    "<style>\n",
    "\n",
    ".rise-enabled .rendered_html table.dataframe {\n",
    "    font-size: 16px;\n",
    "}\n",
    "\n",
    ".rendered_html code {\n",
    "    background: #EFEFEF;\n",
    "    border: 1px solid #CCC;\n",
    "    padding: 1px 5px;\n",
    "    border-radius: 1px;\n",
    "}\n",
    "\n",
    ".rise-enabled .fa-times-circle:before,\n",
    ".rise-enabled .fa-question:before,\n",
    ".rise-enabled aside.controls {\n",
    "    opacity: 0.1;\n",
    "}\n",
    "\n",
    ".rise-enabled a,\n",
    ".rise-enabled a:active,\n",
    ".rise-enabled a:hover,\n",
    ".rise-enabled a:visited,\n",
    ".rise-enabled :link {\n",
    "    text-decoration: none;\n",
    "    color: #A68910;\n",
    "}\n",
    "    \n",
    "code {background-color : lightgrey !important;} \n",
    "\n",
    ".CodeMirror {\n",
    "    width: 100vw;\n",
    "}\n",
    "\n",
    ".rendered_html {\n",
    "  font-size:0.8em;\n",
    "  line-height: 90%; \n",
    "}\n",
    "\n",
    ".rendered_html table, .rendered_html th, .rendered_html tr, .rendered_html td {\n",
    "     font-size: 100%;\n",
    "}\n",
    "\n",
    "<!-- To use only for presentation :\n",
    ".container {\n",
    "    width: 99% !important;\n",
    "} -->\n",
    "\n",
    "</style>"
   ]
  },
  {
   "cell_type": "markdown",
   "metadata": {
    "slideshow": {
     "slide_type": "slide"
    }
   },
   "source": [
    "# Jupyter Notebook\n",
    "\n",
    "<img src=\"https://jupyter.org/assets/main-logo.svg\" alt=\"Drawing\" style=\"float:right; width: 300px;\"/>\n",
    "\n",
    "**Samuel Murail**  \n",
    "\n",
    "<sup><sub>__CMPLI__ INSERM ERL U1133</sub></sup>  \n",
    "<sup><sub>__BFA__ CNRS UMR 8251  </sub></sup>  \n",
    "<sup><sub>Université de Paris  </sub></sup>  \n",
    "\n",
    "\n",
    "\n",
    "\n",
    "*Paris - 24,25 Septembre 2019*"
   ]
  },
  {
   "cell_type": "code",
   "execution_count": 2,
   "metadata": {},
   "outputs": [
    {
     "name": "stdout",
     "output_type": "stream",
     "text": [
      "Hello\n"
     ]
    }
   ],
   "source": [
    "print('Hello')"
   ]
  },
  {
   "cell_type": "markdown",
   "metadata": {
    "slideshow": {
     "slide_type": "slide"
    }
   },
   "source": [
    "## Before Jupyter, the IPython project\n",
    "\n",
    "__Ipython project__ (2001, F. Pérez)**[1]**: \n",
    "* interactive Python interpreter \n",
    "* *execute-explore* workflow instead of *edit-compile-run* workflow\n",
    "* easy access to os operation and filesystem\n",
    "\n",
    "**[1]** Fernando Pérez, Brian E. Granger, IPython: *A System for Interactive Scientific Computing*, Computing in Science and Engineering, vol. 9, no. 3, pp. 21-29, May/June 2007, doi:10.1109/MCSE.2007.53. URL: https://ipython.org"
   ]
  },
  {
   "cell_type": "markdown",
   "metadata": {
    "slideshow": {
     "slide_type": "slide"
    }
   },
   "source": [
    "## IPython project\n",
    "\n",
    "```bash\n",
    "＄ ipython\n",
    "Python 3.6.8 |Anaconda, Inc.| (default, Dec 30 2018, 01:22:34) \n",
    "Type 'copyright', 'credits' or 'license' for more information\n",
    "IPython 7.2.0 -- An enhanced Interactive Python. Type '?' for help.\n",
    "\n",
    "In [1]: year = 2019                                                             \n",
    "\n",
    "In [2]: year                                                                    \n",
    "Out[2]: 2019\n",
    "\n",
    "In [3]: ls ~/Documents                                                          \n",
    "Benchmark/  Books/  Code/  conda_build/  Docker/  Oral/  Software/  tmp/\n",
    "```\n"
   ]
  },
  {
   "cell_type": "markdown",
   "metadata": {
    "slideshow": {
     "slide_type": "slide"
    }
   },
   "source": [
    "## IPython project\n",
    "\n",
    "- Tab Completion \n",
    "- Introspection (?):  \n",
    "\n",
    "```python\n",
    "In [9]: r = [10, 20, '40']                                                      \n",
    "\n",
    "In [10]: r?                                                                     \n",
    "Type:        list\n",
    "String form: [10, 20, '40']\n",
    "Length:      3\n",
    "Docstring:  \n",
    "list() -> new empty list\n",
    "list(iterable) -> new list initialized from iterable's items\n",
    "```"
   ]
  },
  {
   "cell_type": "markdown",
   "metadata": {
    "slideshow": {
     "slide_type": "slide"
    }
   },
   "source": [
    "## Keyboard shortcuts\n",
    "\n",
    "Most of them are common to `bash` and text editors like `emacs`, \n",
    "\n",
    "Keyboard shortcut | Description\n",
    "------------------|------------\n",
    "<kbd>Ctrl</kbd>+P or <kbd>&uarr;</kbd> | Search backward in command history for commands starting with currently entered text\n",
    "<kbd>Ctrl</kbd>+N or <kbd>&darr;</kbd> | Search forward in command history for commands starting with currently entered text\n",
    "<kbd>Ctrl</kbd>+R | Readline-style reverse history search (partial matching)\n",
    "<kbd>Ctrl</kbd>+<kbd>Shift</kbd>+V | Paste text from clipboard\n",
    "<kbd>Ctrl</kbd>+C | Interrupt currently executing code\n",
    "<kbd>Ctrl</kbd>+A | Move cursor to beginning of line\n",
    "<kbd>Ctrl</kbd>+E | Move cursor to end of line\n",
    "<kbd>Ctrl</kbd>+K | Delete text from cursor until end of line\n",
    "<kbd>Ctrl</kbd>+U | Discard all text on current line\n",
    "<kbd>Ctrl</kbd>+F | Move cursor forward one character\n",
    "<kbd>Ctrl</kbd>+B | Move cursor back one character\n",
    "<kbd>Ctrl</kbd>+L | Clear screen"
   ]
  },
  {
   "cell_type": "markdown",
   "metadata": {
    "slideshow": {
     "slide_type": "slide"
    }
   },
   "source": [
    "## Magic commands\n",
    "\n",
    "- Os commands:\n",
    "    * `%cd`, `%pwd`, `%mv`, `%set_env` ...  \n",
    "    \n",
    "- Documentation\n",
    "    * `%pfile` Get the docstring of a library or object\n",
    "\n",
    "- Debugging:\n",
    "    * `%pdb`, `%debug`\n",
    "\n",
    "- Excecute python script and notebook\n",
    "    * `%run`\n",
    "    \n",
    "- Optimize code:\n",
    "    * `%timeit` to obtain the cpu time of a command\n",
    "\n",
    "* `%magic` to have a complete list of magic commands"
   ]
  },
  {
   "cell_type": "markdown",
   "metadata": {
    "slideshow": {
     "slide_type": "slide"
    }
   },
   "source": [
    "## Magic commands (2)\n",
    "\n",
    "Few example:"
   ]
  },
  {
   "cell_type": "code",
   "execution_count": 3,
   "metadata": {
    "slideshow": {
     "slide_type": "fragment"
    }
   },
   "outputs": [
    {
     "name": "stdout",
     "output_type": "stream",
     "text": [
      "Hi, this is bash.\n"
     ]
    }
   ],
   "source": [
    "%%bash\n",
    "echo 'Hi, this is bash.'"
   ]
  },
  {
   "cell_type": "code",
   "execution_count": 4,
   "metadata": {
    "slideshow": {
     "slide_type": "fragment"
    }
   },
   "outputs": [
    {
     "name": "stdout",
     "output_type": "stream",
     "text": [
      "Overwriting hello_world.py\n"
     ]
    }
   ],
   "source": [
    "%%writefile hello_world.py\n",
    "#!/usr/bin/env python3\n",
    "print(\"Hello World !\")"
   ]
  },
  {
   "cell_type": "code",
   "execution_count": 5,
   "metadata": {
    "slideshow": {
     "slide_type": "fragment"
    }
   },
   "outputs": [
    {
     "name": "stdout",
     "output_type": "stream",
     "text": [
      "Hello World !\n"
     ]
    }
   ],
   "source": [
    "%run hello_world.py\n"
   ]
  },
  {
   "cell_type": "code",
   "execution_count": 6,
   "metadata": {
    "slideshow": {
     "slide_type": "notes"
    }
   },
   "outputs": [],
   "source": [
    "%load_ext autoreload\n",
    "%autoreload 2"
   ]
  },
  {
   "cell_type": "markdown",
   "metadata": {
    "slideshow": {
     "slide_type": "slide"
    }
   },
   "source": [
    "## the Jupyter project\n",
    "\n",
    "__Jupyter project__ (2014): \n",
    "* IPython web notebook became the __Jupyter Notebook__\n",
    "* iPython 3.0 kernel is the last monolytic version.\n",
    "* iPython is still a dependency of Jupyter\n",
    "* iPython version 7.5"
   ]
  },
  {
   "cell_type": "markdown",
   "metadata": {
    "slideshow": {
     "slide_type": "slide"
    }
   },
   "source": [
    "## the Jupyter project\n",
    "\n",
    "<img src=\"pictures/ipython_jupyter_kernel.png\" alt=\"Jupyter Kernel\" style=\"float:center; height: 80%;\">"
   ]
  },
  {
   "cell_type": "markdown",
   "metadata": {
    "slideshow": {
     "slide_type": "slide"
    }
   },
   "source": [
    "### Why a Notebook ?\n",
    "\n",
    "Restart a project few month or years later:\n",
    "- What have I done ?\n",
    "- How have I done ?\n",
    "- Why have I done it this way ?\n",
    "\n",
    "A notebook will:\n",
    "- Keep track record of data production, analysis \n",
    "- Method implementation\n",
    "- References"
   ]
  },
  {
   "cell_type": "markdown",
   "metadata": {
    "slideshow": {
     "slide_type": "slide"
    }
   },
   "source": [
    "## Jupyter notebook\n",
    "\n",
    "### Features\n",
    "- extend console based approach through web based applications (*Firefox, Chrome, Safari, ...*)\n",
    "- Contains both code and rich text elements\n",
    "    - Code can be *Julia, Python or R* and many other (*bash, Ruby, Javascript, ...*)\n",
    "    - Rich text elements can include figures, videos, equations, LateX, html, Markdown ...\n",
    "\n"
   ]
  },
  {
   "cell_type": "markdown",
   "metadata": {
    "slideshow": {
     "slide_type": "slide"
    }
   },
   "source": [
    "## Jupyter notebook (2)  \n",
    "\n",
    "### Uses\n",
    "- Interactive Data processing (Data Analysis and Visualisation)\n",
    "- Laboratory notebook\n",
    "- Reproducible Data Analysis with record track of all steps\n",
    "- Book/Article writing\n",
    "- Slideshow \n",
    "- Documentation with examples"
   ]
  },
  {
   "cell_type": "markdown",
   "metadata": {
    "slideshow": {
     "slide_type": "slide"
    }
   },
   "source": [
    "## Jupyter notebook (3)  \n",
    "\n",
    "- High number of kernels:\n",
    "    * python\n",
    "    * R\n",
    "    * Julia\n",
    "    * Tcl\n",
    "    * MATLAB\n",
    "\n",
    "Here is the complete [list](https://github.com/jupyter/jupyter/wiki/Jupyter-kernels) "
   ]
  },
  {
   "cell_type": "markdown",
   "metadata": {
    "slideshow": {
     "slide_type": "slide"
    }
   },
   "source": [
    "## Notebook example\n",
    "\n",
    "<img src=\"pictures/example_notebook_1.png\" alt=\"Notebook example\" style=\"float:center; height: 80%;\">\n",
    "\n"
   ]
  },
  {
   "cell_type": "markdown",
   "metadata": {
    "slideshow": {
     "slide_type": "slide"
    }
   },
   "source": [
    "# Installing Jupyter\n",
    "\n",
    "#### This is only necessary if you run Jupyter on your own laptop\n",
    "\n",
    "1. The [Anaconda distribution](https://www.anaconda.com/distribution/) size is around 2 GB, two versions are available with python 2.7 and 3.7.\n",
    "It contains a number of preinstalled libraries: <img src=\"pictures/anaconda.png\" alt=\"Anaconda dependencies\" style=\"float:right; width: 40%;\">\n",
    "    * matplotlib\n",
    "    * pandas\n",
    "    * ...\n",
    "\n",
    "2. The [Miniconda distribution](https://docs.conda.io/en/latest/miniconda.html) size is around 150 MB (python 2.7 or 3.7). You then need to install a few libraries:\n",
    "```bash\n",
    "＄ conda install matplotlib pandas numpy seaborn scikit-learn jupyter\n",
    "```\n",
    "\n",
    "\n",
    "3. Alternative using pip without conda:\n",
    "```bash\n",
    "＄ pip3 install --upgrade pip\n",
    "＄ pip3 install jupyter\n",
    "```"
   ]
  },
  {
   "cell_type": "markdown",
   "metadata": {
    "slideshow": {
     "slide_type": "slide"
    }
   },
   "source": [
    "## Conda\n",
    "\n",
    "#### (This is only necessary if you run Jupyter on your own laptop)\n",
    "\n",
    "Conda enables the creation of working environments that allow to work with specific versions of packages.\n",
    "\n",
    "Create a conda environment with python 3.7: \n",
    "\n",
    "```bash\n",
    "＄ conda create -n gromacs_py_env python=3.7\n",
    "```\n",
    "\n",
    "Add condas channels to find library and software:  \n",
    "\n",
    "```bash\n",
    "＄ conda config --add channels conda-forge\n",
    "＄ conda config --add channels bioconda\n",
    "＄ conda config --add channels samuel.murail\n",
    "```\n",
    "\n",
    "Install package into your environment:  \n",
    "\n",
    "```bash\n",
    "＄ conda install -n gromacs_py_env gromacs_py\n",
    "```\n",
    "\n"
   ]
  },
  {
   "cell_type": "markdown",
   "metadata": {
    "slideshow": {
     "slide_type": "slide"
    }
   },
   "source": [
    "## Conda (2)\n",
    "\n",
    "\n",
    "#### (This is only necessary if you run Jupyter on your own laptop)\n",
    "\n",
    "You can then use the installed library, note that the beginning of the prompt indicates the name of your environment between brackett `(gromacs_py_env)`:\n",
    "\n",
    "```bash\n",
    "＄ conda activate gromacs_py_env\n",
    "(gromacs_py_env) ＄ pytest --pyargs gromacs_py\n",
    "(gromacs_py_env) ＄ conda deactivate\n",
    "＄ # no more in gromacs_py_env\n",
    "```\n",
    "\n",
    "Check your enviromnent list :\n",
    "```bash\n",
    "＄ conda env list\n",
    "# conda environments:\n",
    "#\n",
    "base                  *  /Users/smurail/miniconda3\n",
    "gromacs_py_env           /Users/smurail/miniconda3/envs/gromacs_py_env\n",
    "```\n",
    "\n"
   ]
  },
  {
   "cell_type": "markdown",
   "metadata": {
    "slideshow": {
     "slide_type": "slide"
    }
   },
   "source": [
    "## Conda (3)\n",
    "\n",
    "#### (This is only necessary if you run Jupyter on your own laptop)\n",
    "\n",
    "You can check easily the package installer:  \n",
    "\n",
    "```bash\n",
    "＄ conda list -n gromacs_py_env\n",
    "# packages in environment at /Users/smurail/miniconda3/envs/gromacs_py_env:\n",
    "#\n",
    "# Name                    Version                   Build  Channel\n",
    "bzip2                     1.0.6             h1de35cc_1002    conda-forge\n",
    "ca-certificates           2019.3.9             hecc5488_0    conda-forge\n",
    "certifi                   2019.3.9                 py37_0    conda-forge\n",
    "...\n",
    "wheel                     0.33.4                   py37_0    conda-forge\n",
    "xz                        5.2.4             h1de35cc_1001    conda-forge\n",
    "zlib                      1.2.11            h1de35cc_1004    conda-forge\n",
    "```\n",
    "\n",
    "And remove the created environment :\n",
    "\n",
    "```bash\n",
    "＄ conda env remove -n gromacs_py_env\n",
    "```\n"
   ]
  },
  {
   "cell_type": "markdown",
   "metadata": {
    "slideshow": {
     "slide_type": "slide"
    }
   },
   "source": [
    "# Interactive Programming"
   ]
  },
  {
   "cell_type": "markdown",
   "metadata": {
    "slideshow": {
     "slide_type": "slide"
    }
   },
   "source": [
    "## Launching Jupyter\n",
    "\n",
    "In a bash terminal type:\n",
    "\n",
    "```bash\n",
    "＄ conda activate smurail-jupyter-2019\n",
    "＄ jupyter notebook\n",
    "```\n",
    "<img src=\"pictures/Screenshot_jupyter_home.png\" alt=\"Jupyter Home\" style=\"float:right; width: 100%;\">\n"
   ]
  },
  {
   "cell_type": "markdown",
   "metadata": {
    "slideshow": {
     "slide_type": "slide"
    }
   },
   "source": [
    "## Create a Notebook\n",
    "\n",
    "Select ``New`` and choose your kernel.\n",
    "\n",
    "<img src=\"pictures/Screenshot_notebook_head.png\" alt=\"Jupyter Home\" style=\"float:right; width: 100%;\">\n"
   ]
  },
  {
   "cell_type": "markdown",
   "metadata": {
    "slideshow": {
     "slide_type": "slide"
    }
   },
   "source": [
    "## Jupyter commands and Shortcuts\n",
    "\n",
    "Here are some of the most usefull commands:\n",
    "\n",
    "__Command mode (<kbd>esc</kbd> to enable)__\n",
    "\n",
    "keyboard shortcuts  | Effect\n",
    "--------------------|-------\n",
    "<kbd>enter</kbd>    | Enter edit mode\n",
    "<kbd>M</kbd>        | Markdown cell\n",
    "<kbd>C</kbd>        | Code cell\n",
    "<kbd>R</kbd>        | Raw cell\n",
    "<kbd>&uarr;</kbd>    | Select cell above\n",
    "<kbd>&darr;</kbd>    | Select cell below\n",
    "<kbd>C</kbd>    | copy cell\n",
    "<kbd>X</kbd>    | cut cell\n",
    "...                 | ...    "
   ]
  },
  {
   "cell_type": "markdown",
   "metadata": {
    "slideshow": {
     "slide_type": "slide"
    }
   },
   "source": [
    "## Jupyter commands and Shortcuts (2)\n",
    "  \n",
    "__Edit mode (<kbd>enter</kbd> to enable)__\n",
    "\n",
    "keyboard shortcuts  | Effect\n",
    "--------------------|-------\n",
    "<kbd>Ctrl</kbd>+<kbd>enter</kbd> | Run cell\n",
    "<kbd>shift</kbd>+<kbd>enter</kbd> | Run cell, select bellow\n",
    "<kbd>Alt</kbd>+<kbd>enter</kbd> | Run cell, insert bellow\n",
    "<kbd>Ctrl</kbd>+<kbd>Shift</kbd>+<kbd>-</kbd> | split cell\n",
    "...                 | ...    \n",
    "\n",
    "__*Magic Mouse Cursor* for column editing or other:__\n",
    "\n",
    "<kbd>Alt</kbd> + Mouse cursor"
   ]
  },
  {
   "cell_type": "markdown",
   "metadata": {
    "slideshow": {
     "slide_type": "slide"
    }
   },
   "source": [
    "# Markdown\n",
    "\n",
    "Markdown is a lightweight markup language with plain text formatting syntax which enable:\n",
    "> \"to write using an easy-to-read and easy-to-write plain text format, optionally convert it to structurally valid XHTML (or HTML)\"\n",
    "\n",
    "Used for Readme text and some forum text formating, as github.\n",
    "\n"
   ]
  },
  {
   "cell_type": "markdown",
   "metadata": {
    "slideshow": {
     "slide_type": "slide"
    }
   },
   "source": [
    "# Markdown (2)\n",
    "\n",
    "```\n",
    "# Heading 1\n",
    "## Heading 2\n",
    "### Heading 3\n",
    "...\n",
    "```\n",
    "\n",
    "will result in :\n",
    "\n",
    "---\n",
    "# Heading 1\n",
    "## Heading 2\n",
    "### Heading 3\n",
    "---"
   ]
  },
  {
   "cell_type": "markdown",
   "metadata": {
    "slideshow": {
     "slide_type": "slide"
    }
   },
   "source": [
    "# Markdown (3)\n",
    "\n",
    "```\n",
    "Paragraphs are separated\n",
    "by a blank line.\n",
    "\n",
    "Two spaces at the end of a line  \n",
    "produces a line break.\n",
    "\n",
    "Text attributes _italic_, \n",
    "**bold**, `monospace`. \n",
    "\n",
    "Bullet list:\n",
    "\n",
    "  * apples\n",
    "  * oranges\n",
    "  * pears\n",
    "  * sub-Numbered list:\n",
    "    1. lather\n",
    "    2. rinse\n",
    "    3. repeat\n",
    "\n",
    "An [example](http://example.com).\n",
    "\n",
    "\n",
    "> Markdown uses email-style > characters for blockquoting.\n",
    "\n",
    "Inline <abbr title=\"Hypertext Markup Language\">HTML</abbr> is supported.\n",
    "\n",
    "![Image](pictures/anaconda.png \"icon\")\n",
    "```\n",
    "\n",
    "\n",
    "Source: [Wikipedia](https://en.wikipedia.org/wiki/Markdown)"
   ]
  },
  {
   "cell_type": "markdown",
   "metadata": {
    "slideshow": {
     "slide_type": "slide"
    }
   },
   "source": [
    "# Markdown (4)\n",
    "\n",
    "Paragraphs are separated\n",
    "by a blank line.\n",
    "\n",
    "Two spaces at the end of a line  \n",
    "produces a line break.\n",
    "\n",
    "Text attributes _italic_, \n",
    "**bold**, `monospace`. \n",
    "\n",
    "Bullet list:\n",
    "\n",
    "  * apples\n",
    "  * oranges\n",
    "  * pears\n",
    "  * sub-Numbered list:\n",
    "    1. lather\n",
    "    2. rinse\n",
    "    3. repeat\n",
    "\n",
    "An [example](http://example.com).\n",
    "\n",
    "\n",
    "> Markdown uses email-style > characters for blockquoting.\n",
    "\n",
    "Inline <abbr title=\"Hypertext Markup Language\">HTML</abbr> is supported.\n",
    "\n",
    "Source: [Wikipedia](https://en.wikipedia.org/wiki/Markdown)\n",
    "\n",
    "![Image](pictures/anaconda.png)\n"
   ]
  },
  {
   "cell_type": "markdown",
   "metadata": {
    "slideshow": {
     "slide_type": "slide"
    }
   },
   "source": [
    "# Markdown (5)\n",
    "\n",
    "\n",
    "Possibility to use LaTeX in Markown cells.\n",
    "\n",
    "The following text `$$RMSD(v,w)=\\sqrt{\\frac{1}{n} \\sum_{i=1}^n || v_i-w_i||^2}$$` gives :\n",
    "- $$RMSD(v,w)=\\sqrt{\\frac{1}{n} \\sum_{i=1}^n || v_i-w_i||^2}$$"
   ]
  },
  {
   "cell_type": "markdown",
   "metadata": {},
   "source": [
    "## Markdown (6)\n",
    "\n",
    "**Table:**\n",
    "\n",
    "```\n",
    "test 1 | test 2 | test 3\n",
    "-------|--------|-------\n",
    "4      |    10  |  46\n",
    "```\n",
    "\n",
    "test 1 | test 2 | test 3\n",
    "-------|--------|-------\n",
    "4      |    10  |  46"
   ]
  },
  {
   "cell_type": "markdown",
   "metadata": {
    "slideshow": {
     "slide_type": "slide"
    }
   },
   "source": [
    "# Simple Widget Introduction \n",
    "**Sjoerd de Vries, RPBS**\n",
    "\n",
    "Adapted from the ipywidgets documentation:\n",
    "\n",
    "**- [Widget basics](https://ipywidgets.readthedocs.io/en/stable/examples/Widget%20Basics.html)**\n",
    "\n",
    "**- [Using Interact](https://ipywidgets.readthedocs.io/en/stable/examples/Using%20Interact.html)**\n",
    "\n"
   ]
  },
  {
   "cell_type": "markdown",
   "metadata": {
    "slideshow": {
     "slide_type": "slide"
    }
   },
   "source": [
    "## What are widgets?"
   ]
  },
  {
   "cell_type": "markdown",
   "metadata": {
    "slideshow": {
     "slide_type": "-"
    }
   },
   "source": [
    "Widgets are eventful python objects that have a representation in the browser, often as a control like a slider, textbox, etc."
   ]
  },
  {
   "cell_type": "markdown",
   "metadata": {
    "slideshow": {
     "slide_type": "slide"
    }
   },
   "source": [
    "## What can they be used for?"
   ]
  },
  {
   "cell_type": "markdown",
   "metadata": {
    "slideshow": {
     "slide_type": "-"
    }
   },
   "source": [
    "You can use widgets to build **interactive GUIs** (Graphic User Interface) for your notebooks.  \n",
    "You can also use widgets to **synchronize stateful and stateless information** between Python and JavaScript."
   ]
  },
  {
   "cell_type": "markdown",
   "metadata": {
    "slideshow": {
     "slide_type": "slide"
    }
   },
   "source": [
    "## Using widgets  "
   ]
  },
  {
   "cell_type": "markdown",
   "metadata": {
    "slideshow": {
     "slide_type": "-"
    }
   },
   "source": [
    "To use the widget framework, you need to import `ipywidgets`."
   ]
  },
  {
   "cell_type": "code",
   "execution_count": 7,
   "metadata": {
    "slideshow": {
     "slide_type": "-"
    }
   },
   "outputs": [],
   "source": [
    "import ipywidgets as widgets"
   ]
  },
  {
   "cell_type": "markdown",
   "metadata": {
    "slideshow": {
     "slide_type": "-"
    }
   },
   "source": [
    "### repr"
   ]
  },
  {
   "cell_type": "markdown",
   "metadata": {
    "slideshow": {
     "slide_type": "-"
    }
   },
   "source": [
    "Widgets have their own display `repr` which allows them to be displayed using IPython's display framework.  Constructing and returning an `IntSlider` automatically displays the widget (as seen below).  Widgets are displayed inside the output area below the code cell. Clearing cell output will also remove the widget."
   ]
  },
  {
   "cell_type": "code",
   "execution_count": 8,
   "metadata": {
    "scrolled": true,
    "slideshow": {
     "slide_type": "-"
    }
   },
   "outputs": [
    {
     "data": {
      "application/vnd.jupyter.widget-view+json": {
       "model_id": "0b1aef0552fd483083ef7f795dd37650",
       "version_major": 2,
       "version_minor": 0
      },
      "text/plain": [
       "IntSlider(value=0)"
      ]
     },
     "metadata": {},
     "output_type": "display_data"
    }
   ],
   "source": [
    "widgets.IntSlider()"
   ]
  },
  {
   "cell_type": "markdown",
   "metadata": {
    "slideshow": {
     "slide_type": "slide"
    }
   },
   "source": [
    "### display()"
   ]
  },
  {
   "cell_type": "markdown",
   "metadata": {},
   "source": [
    "You can also explicitly display the widget using `display(...)`."
   ]
  },
  {
   "cell_type": "code",
   "execution_count": 9,
   "metadata": {},
   "outputs": [
    {
     "data": {
      "application/vnd.jupyter.widget-view+json": {
       "model_id": "",
       "version_major": 2,
       "version_minor": 0
      },
      "text/plain": [
       "IntSlider(value=0)"
      ]
     },
     "metadata": {},
     "output_type": "display_data"
    }
   ],
   "source": [
    "from IPython.display import display\n",
    "w = widgets.IntSlider()\n",
    "display(w)"
   ]
  },
  {
   "cell_type": "markdown",
   "metadata": {
    "slideshow": {
     "slide_type": "-"
    }
   },
   "source": [
    "### Multiple display() calls"
   ]
  },
  {
   "cell_type": "markdown",
   "metadata": {},
   "source": [
    "If you display the same widget twice, the displayed instances in the front-end will remain in sync with each other.  Try dragging the slider below and watch the slider above."
   ]
  },
  {
   "cell_type": "code",
   "execution_count": 10,
   "metadata": {
    "scrolled": true
   },
   "outputs": [
    {
     "data": {
      "application/vnd.jupyter.widget-view+json": {
       "model_id": "",
       "version_major": 2,
       "version_minor": 0
      },
      "text/plain": [
       "IntSlider(value=0)"
      ]
     },
     "metadata": {},
     "output_type": "display_data"
    }
   ],
   "source": [
    "display(w)"
   ]
  },
  {
   "cell_type": "markdown",
   "metadata": {
    "slideshow": {
     "slide_type": "slide"
    }
   },
   "source": [
    "## Why does displaying the same widget twice work?"
   ]
  },
  {
   "cell_type": "markdown",
   "metadata": {
    "slideshow": {
     "slide_type": "-"
    }
   },
   "source": [
    "Widgets are represented in the back-end by a single object.  Each time a widget is displayed, a new representation of that same object is created in the front-end.  These representations are called views.\n",
    "<img src=\"pictures/WidgetModelView.png\">"
   ]
  },
  {
   "cell_type": "markdown",
   "metadata": {
    "slideshow": {
     "slide_type": "slide"
    }
   },
   "source": [
    "### Closing widgets"
   ]
  },
  {
   "cell_type": "markdown",
   "metadata": {},
   "source": [
    "You can close a widget by calling its `close()` method."
   ]
  },
  {
   "cell_type": "code",
   "execution_count": 11,
   "metadata": {},
   "outputs": [
    {
     "data": {
      "application/vnd.jupyter.widget-view+json": {
       "model_id": "",
       "version_major": 2,
       "version_minor": 0
      },
      "text/plain": [
       "IntSlider(value=0)"
      ]
     },
     "metadata": {},
     "output_type": "display_data"
    }
   ],
   "source": [
    "display(w)"
   ]
  },
  {
   "cell_type": "code",
   "execution_count": 12,
   "metadata": {},
   "outputs": [],
   "source": [
    "w.close()"
   ]
  },
  {
   "cell_type": "markdown",
   "metadata": {
    "slideshow": {
     "slide_type": "slide"
    }
   },
   "source": [
    "## Widget properties"
   ]
  },
  {
   "cell_type": "markdown",
   "metadata": {
    "slideshow": {
     "slide_type": "-"
    }
   },
   "source": [
    "All of the IPython widgets share a similar naming scheme.  To read the value of a widget, you can query its `value` property."
   ]
  },
  {
   "cell_type": "code",
   "execution_count": 13,
   "metadata": {},
   "outputs": [
    {
     "data": {
      "application/vnd.jupyter.widget-view+json": {
       "model_id": "1e279738678c4413a86359a23ede4ced",
       "version_major": 2,
       "version_minor": 0
      },
      "text/plain": [
       "IntSlider(value=0)"
      ]
     },
     "metadata": {},
     "output_type": "display_data"
    }
   ],
   "source": [
    "w = widgets.IntSlider()\n",
    "display(w)"
   ]
  },
  {
   "cell_type": "code",
   "execution_count": 14,
   "metadata": {},
   "outputs": [
    {
     "data": {
      "text/plain": [
       "0"
      ]
     },
     "execution_count": 14,
     "metadata": {},
     "output_type": "execute_result"
    }
   ],
   "source": [
    "w.value"
   ]
  },
  {
   "cell_type": "markdown",
   "metadata": {},
   "source": [
    "Similarly, to set a widget's value, you can set its `value` property."
   ]
  },
  {
   "cell_type": "code",
   "execution_count": 15,
   "metadata": {},
   "outputs": [],
   "source": [
    "w.value = 100"
   ]
  },
  {
   "cell_type": "markdown",
   "metadata": {
    "slideshow": {
     "slide_type": "slide"
    }
   },
   "source": [
    "### Keys"
   ]
  },
  {
   "cell_type": "markdown",
   "metadata": {},
   "source": [
    "In addition to `value`, most widgets share `keys`, `description`, and `disabled`.  To see the entire list of synchronized, stateful properties of any specific widget, you can query the `keys` property."
   ]
  },
  {
   "cell_type": "code",
   "execution_count": 16,
   "metadata": {},
   "outputs": [
    {
     "data": {
      "text/plain": [
       "['_dom_classes',\n",
       " '_model_module',\n",
       " '_model_module_version',\n",
       " '_model_name',\n",
       " '_view_count',\n",
       " '_view_module',\n",
       " '_view_module_version',\n",
       " '_view_name',\n",
       " 'continuous_update',\n",
       " 'description',\n",
       " 'description_tooltip',\n",
       " 'disabled',\n",
       " 'layout',\n",
       " 'max',\n",
       " 'min',\n",
       " 'orientation',\n",
       " 'readout',\n",
       " 'readout_format',\n",
       " 'step',\n",
       " 'style',\n",
       " 'value']"
      ]
     },
     "execution_count": 16,
     "metadata": {},
     "output_type": "execute_result"
    }
   ],
   "source": [
    "w.keys"
   ]
  },
  {
   "cell_type": "markdown",
   "metadata": {
    "slideshow": {
     "slide_type": "slide"
    }
   },
   "source": [
    "### Shorthand for setting the initial values of widget properties"
   ]
  },
  {
   "cell_type": "markdown",
   "metadata": {
    "slideshow": {
     "slide_type": "-"
    }
   },
   "source": [
    "While creating a widget, you can set some or all of the initial values of that widget by defining them as keyword arguments in the widget's constructor (as seen below)."
   ]
  },
  {
   "cell_type": "code",
   "execution_count": 17,
   "metadata": {},
   "outputs": [
    {
     "data": {
      "application/vnd.jupyter.widget-view+json": {
       "model_id": "1d0b85e579134b5991d6ce04c2d98665",
       "version_major": 2,
       "version_minor": 0
      },
      "text/plain": [
       "Text(value='Hello World!', disabled=True)"
      ]
     },
     "metadata": {},
     "output_type": "display_data"
    }
   ],
   "source": [
    "widgets.Text(value='Hello World!', disabled=True)"
   ]
  },
  {
   "cell_type": "markdown",
   "metadata": {
    "slideshow": {
     "slide_type": "slide"
    }
   },
   "source": [
    "# Using Interact"
   ]
  },
  {
   "cell_type": "markdown",
   "metadata": {},
   "source": [
    "The `interact` function (`ipywidgets.interact`) automatically creates user interface (UI) controls for exploring code and data interactively. It is the easiest way to get started using IPython's widgets."
   ]
  },
  {
   "cell_type": "code",
   "execution_count": 18,
   "metadata": {},
   "outputs": [],
   "source": [
    "from __future__ import print_function\n",
    "from ipywidgets import interact, interactive, fixed, interact_manual\n",
    "import ipywidgets as widgets"
   ]
  },
  {
   "cell_type": "markdown",
   "metadata": {
    "slideshow": {
     "slide_type": "slide"
    }
   },
   "source": [
    "## Basic `interact`"
   ]
  },
  {
   "cell_type": "markdown",
   "metadata": {},
   "source": [
    "At the most basic level, `interact` autogenerates UI controls for function arguments, and then calls the function with those arguments when you manipulate the controls interactively. To use `interact`, you need to define a function that you want to explore. Here is a function that prints its only argument `x`."
   ]
  },
  {
   "cell_type": "code",
   "execution_count": 19,
   "metadata": {},
   "outputs": [],
   "source": [
    "def f(x):\n",
    "    return x"
   ]
  },
  {
   "cell_type": "markdown",
   "metadata": {},
   "source": [
    "When you pass this function as the first argument to `interact` along with an integer keyword argument (`x=10`), a slider is generated and bound to the function parameter."
   ]
  },
  {
   "cell_type": "code",
   "execution_count": 20,
   "metadata": {},
   "outputs": [
    {
     "data": {
      "application/vnd.jupyter.widget-view+json": {
       "model_id": "b7715d4f2f734e3bb557f2161a556cc2",
       "version_major": 2,
       "version_minor": 0
      },
      "text/plain": [
       "interactive(children=(IntSlider(value=10, description='x', max=30, min=-10), Output()), _dom_classes=('widget-…"
      ]
     },
     "metadata": {},
     "output_type": "display_data"
    }
   ],
   "source": [
    "interact(f, x=10);"
   ]
  },
  {
   "cell_type": "markdown",
   "metadata": {
    "slideshow": {
     "slide_type": "slide"
    }
   },
   "source": [
    "When you move the slider, the function is called, which prints the current value of `x`.\n",
    "\n",
    "If you pass `True` or `False`, `interact` will generate a checkbox:"
   ]
  },
  {
   "cell_type": "code",
   "execution_count": 21,
   "metadata": {},
   "outputs": [
    {
     "data": {
      "application/vnd.jupyter.widget-view+json": {
       "model_id": "fc40a5d79f444fa8b3a692ccdcb08389",
       "version_major": 2,
       "version_minor": 0
      },
      "text/plain": [
       "interactive(children=(Checkbox(value=True, description='x'), Output()), _dom_classes=('widget-interact',))"
      ]
     },
     "metadata": {},
     "output_type": "display_data"
    }
   ],
   "source": [
    "interact(f, x=True);"
   ]
  },
  {
   "cell_type": "markdown",
   "metadata": {},
   "source": [
    "If you pass a string, `interact` will generate a text area."
   ]
  },
  {
   "cell_type": "code",
   "execution_count": 22,
   "metadata": {},
   "outputs": [
    {
     "data": {
      "application/vnd.jupyter.widget-view+json": {
       "model_id": "fe9fdf8782454861810f83091c4cb0b8",
       "version_major": 2,
       "version_minor": 0
      },
      "text/plain": [
       "interactive(children=(Text(value='Hi there!', description='x'), Output()), _dom_classes=('widget-interact',))"
      ]
     },
     "metadata": {},
     "output_type": "display_data"
    }
   ],
   "source": [
    "interact(f, x='Hi there!');"
   ]
  },
  {
   "cell_type": "markdown",
   "metadata": {
    "slideshow": {
     "slide_type": "slide"
    }
   },
   "source": [
    "`interact` can also be used as a decorator. This allows you to define a function and interact with it in a single shot. As this example shows, `interact` also works with functions that have multiple arguments."
   ]
  },
  {
   "cell_type": "code",
   "execution_count": 23,
   "metadata": {},
   "outputs": [
    {
     "data": {
      "application/vnd.jupyter.widget-view+json": {
       "model_id": "f82701e0600648e7bde5fe507c47c5b9",
       "version_major": 2,
       "version_minor": 0
      },
      "text/plain": [
       "interactive(children=(Checkbox(value=True, description='x'), FloatSlider(value=1.0, description='y', max=3.0, …"
      ]
     },
     "metadata": {},
     "output_type": "display_data"
    }
   ],
   "source": [
    "@interact(x=True, y=1.0)\n",
    "def g(x, y):\n",
    "    return (x, y)"
   ]
  },
  {
   "cell_type": "markdown",
   "metadata": {
    "slideshow": {
     "slide_type": "slide"
    }
   },
   "source": [
    "## Observe widget"
   ]
  },
  {
   "cell_type": "code",
   "execution_count": 49,
   "metadata": {},
   "outputs": [
    {
     "data": {
      "application/vnd.jupyter.widget-view+json": {
       "model_id": "404470bed7b74f5f975b179b7de52999",
       "version_major": 2,
       "version_minor": 0
      },
      "text/plain": [
       "Output()"
      ]
     },
     "metadata": {},
     "output_type": "display_data"
    }
   ],
   "source": [
    "output = widgets.Output()\n",
    "display(output)"
   ]
  },
  {
   "cell_type": "code",
   "execution_count": 50,
   "metadata": {},
   "outputs": [
    {
     "data": {
      "application/vnd.jupyter.widget-view+json": {
       "model_id": "63ccafa73e924b4aae37cc9bd7eb1704",
       "version_major": 2,
       "version_minor": 0
      },
      "text/plain": [
       "Checkbox(value=True, description='Yes or No')"
      ]
     },
     "metadata": {},
     "output_type": "display_data"
    }
   ],
   "source": [
    "yes_widget = widgets.Checkbox(value=True, description='Yes or No')\n",
    "display(yes_widget)"
   ]
  },
  {
   "cell_type": "code",
   "execution_count": 52,
   "metadata": {},
   "outputs": [],
   "source": [
    "def update_yes(change):\n",
    "    #output.clear_output(wait=True)\n",
    "    with output:\n",
    "        print('It was {}, and now is is {}'.format(change['old'], change['new']))\n",
    "\n",
    "yes_widget.observe(update_yes, \"value\")"
   ]
  },
  {
   "cell_type": "markdown",
   "metadata": {
    "slideshow": {
     "slide_type": "slide"
    }
   },
   "source": [
    "# Numpy"
   ]
  },
  {
   "cell_type": "markdown",
   "metadata": {
    "slideshow": {
     "slide_type": "slide"
    }
   },
   "source": [
    "## NumPy Basics\n",
    "\n",
    "Numpy from _Numerical Python_ is the fundamental package for scientific computing with Python. A lot of package are using _Numpy_'s object like _Pandas_ and _Scipy_. \n",
    "\n",
    "Features according to [Numpy website](https://www.numpy.org/):\n",
    "- a powerful N-dimensional array object\n",
    "- sophisticated (broadcasting) functions\n",
    "- tools for integrating C/C++ and Fortran code\n",
    "- useful linear algebra, Fourier transform, and random number capabilities\n",
    "\n",
    "By convention most people use this command to import _Numpy_:\n",
    "\n",
    "```python\n",
    "import numpy as np\n",
    "```"
   ]
  },
  {
   "cell_type": "markdown",
   "metadata": {
    "slideshow": {
     "slide_type": "slide"
    }
   },
   "source": [
    "## NumPy Basics (2)\n",
    "\n",
    "Classical Python list can be considered as a dynamic list of pointer :  \n",
    "$ [O_{x}, O_{y}, O_{z}, ...]$  \n",
    "\n",
    "Pointer are the adress of the object which can be of any types:  \n",
    "$ O_{x} \\Rightarrow \"Hello World!\" $  \n",
    "$ O_{y} \\Rightarrow 3.789056 $  \n",
    "$ O_{z} \\Rightarrow 3 $    \n",
    "\n",
    "Each access to the value of a list element takes ~ 10 ns, this is fast but when doing operation on list elements, the type of each object has to be checked for every operation. \n",
    "\n",
    "Using numpy, an array doesn't contain the adresses of objects but the values itself. As the numpy array contains only one type of object (int16, float32, ...), all numpy operations are faster (No need to check value type or errors).\n"
   ]
  },
  {
   "cell_type": "code",
   "execution_count": 24,
   "metadata": {
    "slideshow": {
     "slide_type": "notes"
    }
   },
   "outputs": [
    {
     "name": "stdout",
     "output_type": "stream",
     "text": [
      "38.7 ns ± 0.584 ns per loop (mean ± std. dev. of 7 runs, 10000000 loops each)\n",
      "142 ns ± 8.44 ns per loop (mean ± std. dev. of 7 runs, 10000000 loops each)\n",
      "51.2 ms ± 3.6 ms per loop (mean ± std. dev. of 7 runs, 10 loops each)\n"
     ]
    },
    {
     "name": "stderr",
     "output_type": "stream",
     "text": [
      "/Users/smurail/opt/miniconda3/envs/docking/lib/python3.8/site-packages/numpy/core/_methods.py:38: RuntimeWarning: overflow encountered in reduce\n",
      "  return umr_sum(a, axis, dtype, out, keepdims, initial, where)\n"
     ]
    },
    {
     "name": "stdout",
     "output_type": "stream",
     "text": [
      "24 ms ± 5.48 ms per loop (mean ± std. dev. of 7 runs, 100 loops each)\n"
     ]
    }
   ],
   "source": [
    "import random\n",
    "import numpy as np\n",
    "N = 10000000\n",
    "\n",
    "a = [random.random() for i in range(N)]\n",
    "a_np = np.array(a, dtype=np.float16)\n",
    "\n",
    "%timeit a[-1]\n",
    "%timeit a_np[-1]\n",
    "\n",
    "%timeit sum(a)\n",
    "%timeit a_np.sum()"
   ]
  },
  {
   "cell_type": "markdown",
   "metadata": {
    "slideshow": {
     "slide_type": "slide"
    }
   },
   "source": [
    "## Numpy array"
   ]
  },
  {
   "cell_type": "code",
   "execution_count": 25,
   "metadata": {
    "slideshow": {
     "slide_type": "fragment"
    }
   },
   "outputs": [
    {
     "data": {
      "text/plain": [
       "array([[ 8. ,  4.5, 10. , 50. ],\n",
       "       [25. , 65. , 20.3, 89. ]])"
      ]
     },
     "execution_count": 25,
     "metadata": {},
     "output_type": "execute_result"
    }
   ],
   "source": [
    "data = [[8, 4.5, 10, 50],\n",
    "        [25., 65, 20.3, 89]]\n",
    "\n",
    "data_np = np.array(data)\n",
    "data_np"
   ]
  },
  {
   "cell_type": "code",
   "execution_count": 26,
   "metadata": {
    "slideshow": {
     "slide_type": "fragment"
    }
   },
   "outputs": [
    {
     "data": {
      "text/plain": [
       "2"
      ]
     },
     "execution_count": 26,
     "metadata": {},
     "output_type": "execute_result"
    }
   ],
   "source": [
    "data_np.ndim"
   ]
  },
  {
   "cell_type": "code",
   "execution_count": 27,
   "metadata": {
    "slideshow": {
     "slide_type": "fragment"
    }
   },
   "outputs": [
    {
     "data": {
      "text/plain": [
       "(2, 4)"
      ]
     },
     "execution_count": 27,
     "metadata": {},
     "output_type": "execute_result"
    }
   ],
   "source": [
    "data_np.shape"
   ]
  },
  {
   "cell_type": "code",
   "execution_count": 28,
   "metadata": {
    "slideshow": {
     "slide_type": "fragment"
    }
   },
   "outputs": [
    {
     "data": {
      "text/plain": [
       "dtype('float64')"
      ]
     },
     "execution_count": 28,
     "metadata": {},
     "output_type": "execute_result"
    }
   ],
   "source": [
    "data_np.dtype"
   ]
  },
  {
   "cell_type": "markdown",
   "metadata": {
    "slideshow": {
     "slide_type": "slide"
    }
   },
   "source": [
    "## Numpy array (2)\n",
    "\n",
    "Numpy array can be created from an existing list with `np.array()`. Other functions are:\n",
    "- `np.arange()` same as range() but "
   ]
  },
  {
   "cell_type": "code",
   "execution_count": 29,
   "metadata": {
    "slideshow": {
     "slide_type": "fragment"
    }
   },
   "outputs": [],
   "source": [
    "a=np.arange(4, 10, 0.2)"
   ]
  },
  {
   "cell_type": "code",
   "execution_count": 30,
   "metadata": {},
   "outputs": [
    {
     "data": {
      "text/plain": [
       "(30,)"
      ]
     },
     "execution_count": 30,
     "metadata": {},
     "output_type": "execute_result"
    }
   ],
   "source": [
    "a.shape"
   ]
  },
  {
   "cell_type": "markdown",
   "metadata": {
    "slideshow": {
     "slide_type": "fragment"
    }
   },
   "source": [
    "- `np.ones()`, `np.zeros()` and `np.empty()` to create np array with respectively, 1, 0 or just allocate memory.   "
   ]
  },
  {
   "cell_type": "markdown",
   "metadata": {
    "slideshow": {
     "slide_type": "slide"
    }
   },
   "source": [
    "## Numpy array (3)\n",
    "\n",
    "The newaxis expression is used to increase the dimension"
   ]
  },
  {
   "cell_type": "code",
   "execution_count": 31,
   "metadata": {},
   "outputs": [
    {
     "data": {
      "text/plain": [
       "array([[ 0],\n",
       "       [10],\n",
       "       [20],\n",
       "       [30],\n",
       "       [40],\n",
       "       [50]])"
      ]
     },
     "execution_count": 31,
     "metadata": {},
     "output_type": "execute_result"
    }
   ],
   "source": [
    "a = np.arange(0, 51, 10)\n",
    "b = np.arange(0, 51, 10)[:,np.newaxis]\n",
    "b"
   ]
  },
  {
   "cell_type": "code",
   "execution_count": 32,
   "metadata": {},
   "outputs": [
    {
     "data": {
      "text/plain": [
       "array([0, 1, 2, 3, 4, 5])"
      ]
     },
     "execution_count": 32,
     "metadata": {},
     "output_type": "execute_result"
    }
   ],
   "source": [
    "np.arange(6)"
   ]
  },
  {
   "cell_type": "code",
   "execution_count": 33,
   "metadata": {
    "slideshow": {
     "slide_type": "fragment"
    }
   },
   "outputs": [
    {
     "data": {
      "text/plain": [
       "array([[ 0,  1,  2,  3,  4,  5],\n",
       "       [10, 11, 12, 13, 14, 15],\n",
       "       [20, 21, 22, 23, 24, 25],\n",
       "       [30, 31, 32, 33, 34, 35],\n",
       "       [40, 41, 42, 43, 44, 45],\n",
       "       [50, 51, 52, 53, 54, 55]])"
      ]
     },
     "execution_count": 33,
     "metadata": {},
     "output_type": "execute_result"
    }
   ],
   "source": [
    "np.arange(0, 51, 10)[:,np.newaxis] + np.arange(6)"
   ]
  },
  {
   "cell_type": "markdown",
   "metadata": {
    "slideshow": {
     "slide_type": "slide"
    }
   },
   "source": [
    "<img src=\"pictures/numpy_indexing.png\" alt=\"Drawing\" style=\"float:center; width: 70%;\"/>\n",
    "\n",
    "<sup>source: http://scipy-lectures.org/intro/numpy/array_object.html</sup>"
   ]
  },
  {
   "cell_type": "markdown",
   "metadata": {
    "slideshow": {
     "slide_type": "slide"
    }
   },
   "source": [
    "## Numpy array (4)\n",
    "\n",
    "You can pass as argument the type of your array using the keyword `dtype`:\n",
    "- int8 ... int64, integers 8-bit to 64-bit\n",
    "- float16 ... float128, floating point from half precision to extended precision\n",
    "- complex64 ... complex256, complex numbers\n",
    "- bool, boolean type\n",
    "- object, string_, unicode_\n",
    "\n",
    "Note that in opposition to python list, numpy cannot mix different types of variable in the same array."
   ]
  },
  {
   "cell_type": "code",
   "execution_count": 34,
   "metadata": {
    "slideshow": {
     "slide_type": "fragment"
    }
   },
   "outputs": [
    {
     "data": {
      "text/plain": [
       "array([[1., 1., 1., 1., 1.],\n",
       "       [1., 1., 1., 1., 1.]], dtype=float32)"
      ]
     },
     "execution_count": 34,
     "metadata": {},
     "output_type": "execute_result"
    }
   ],
   "source": [
    "np.ones((2, 5), dtype=np.float32) # Standard single precision = float32"
   ]
  },
  {
   "cell_type": "markdown",
   "metadata": {
    "slideshow": {
     "slide_type": "slide"
    }
   },
   "source": [
    "## Linear Algebra"
   ]
  },
  {
   "cell_type": "code",
   "execution_count": 35,
   "metadata": {
    "slideshow": {
     "slide_type": "fragment"
    }
   },
   "outputs": [],
   "source": [
    "a = np.array([[1, 2, 3], [3, 4, 6.7], [5, 9.0, 5]])\n",
    "b = a.transpose()"
   ]
  },
  {
   "cell_type": "code",
   "execution_count": 36,
   "metadata": {
    "slideshow": {
     "slide_type": "fragment"
    }
   },
   "outputs": [
    {
     "data": {
      "text/plain": [
       "array([[-2.27683616,  1.04519774,  0.39548023],\n",
       "       [ 0.96045198, -0.56497175,  0.05649718],\n",
       "       [ 0.07909605,  0.1299435 , -0.11299435]])"
      ]
     },
     "execution_count": 36,
     "metadata": {},
     "output_type": "execute_result"
    }
   ],
   "source": [
    "# compute a' such as a*a' = identity matrix\n",
    "np.linalg.inv(b)"
   ]
  },
  {
   "cell_type": "code",
   "execution_count": 37,
   "metadata": {
    "slideshow": {
     "slide_type": "fragment"
    }
   },
   "outputs": [
    {
     "data": {
      "text/plain": [
       "array([[ 2.86949089, 15.25531479,  8.06372864],\n",
       "       [17.91505216,  5.4537177 ,  0.19236834],\n",
       "       [13.19528999, 18.74776708, 19.05465208]])"
      ]
     },
     "execution_count": 37,
     "metadata": {},
     "output_type": "execute_result"
    }
   ],
   "source": [
    "b = np.random.rand(3, 3) * 20\n",
    "b"
   ]
  },
  {
   "cell_type": "code",
   "execution_count": 38,
   "metadata": {
    "slideshow": {
     "slide_type": "fragment"
    }
   },
   "outputs": [
    {
     "data": {
      "text/plain": [
       "array([[ 78.28546518,  82.40605146,  65.61242157],\n",
       "       [168.67712424, 193.19085466, 152.62682823],\n",
       "       [241.55937385, 219.09886874, 137.32321866]])"
      ]
     },
     "execution_count": 38,
     "metadata": {},
     "output_type": "execute_result"
    }
   ],
   "source": [
    "# Matrix multiplication can be done with @, but only for Numpy > 1.1 and Python > 3.5\n",
    "a @ b\n",
    "# Else, use \"np.dot(a,b)\""
   ]
  },
  {
   "cell_type": "markdown",
   "metadata": {
    "slideshow": {
     "slide_type": "slide"
    }
   },
   "source": [
    "## Numpy is fast !!\n",
    "\n",
    "Let's create a random list of 1 Million points and do the addition:"
   ]
  },
  {
   "cell_type": "code",
   "execution_count": 39,
   "metadata": {
    "scrolled": true,
    "slideshow": {
     "slide_type": "fragment"
    }
   },
   "outputs": [
    {
     "name": "stdout",
     "output_type": "stream",
     "text": [
      "191 ms ± 42.7 ms per loop (mean ± std. dev. of 7 runs, 10 loops each)\n"
     ]
    }
   ],
   "source": [
    "import random\n",
    "N = 1000000\n",
    "a = [random.random() for i in range(N)]\n",
    "b = [random.random() for i in range(N)]\n",
    "\n",
    "%timeit [a[i] + b[i] for i in range(N)]"
   ]
  },
  {
   "cell_type": "markdown",
   "metadata": {
    "slideshow": {
     "slide_type": "fragment"
    }
   },
   "source": [
    "And now with numpy :"
   ]
  },
  {
   "cell_type": "code",
   "execution_count": 40,
   "metadata": {
    "slideshow": {
     "slide_type": "fragment"
    }
   },
   "outputs": [
    {
     "name": "stdout",
     "output_type": "stream",
     "text": [
      "1.09 ms ± 150 µs per loop (mean ± std. dev. of 7 runs, 1000 loops each)\n"
     ]
    }
   ],
   "source": [
    "a_np = np.array(a)\n",
    "b_np = np.array(b)\n",
    "\n",
    "%timeit a_np + b_np"
   ]
  },
  {
   "cell_type": "markdown",
   "metadata": {
    "slideshow": {
     "slide_type": "slide"
    }
   },
   "source": [
    "## Numpy is fast !! (2)\n",
    "\n",
    "With numpy the operation is ~100 times faster. Let's have a look on builtin functions like `sum()` and `np.sum()`:"
   ]
  },
  {
   "cell_type": "code",
   "execution_count": 41,
   "metadata": {
    "slideshow": {
     "slide_type": "fragment"
    }
   },
   "outputs": [
    {
     "name": "stdout",
     "output_type": "stream",
     "text": [
      "4.6 ms ± 421 µs per loop (mean ± std. dev. of 7 runs, 100 loops each)\n"
     ]
    }
   ],
   "source": [
    "%timeit sum_a = sum(a)"
   ]
  },
  {
   "cell_type": "code",
   "execution_count": 42,
   "metadata": {
    "slideshow": {
     "slide_type": "fragment"
    }
   },
   "outputs": [
    {
     "name": "stdout",
     "output_type": "stream",
     "text": [
      "479 µs ± 26.4 µs per loop (mean ± std. dev. of 7 runs, 1000 loops each)\n"
     ]
    }
   ],
   "source": [
    "%timeit sum_a = np.sum(a_np)"
   ]
  },
  {
   "cell_type": "markdown",
   "metadata": {
    "slideshow": {
     "slide_type": "fragment"
    }
   },
   "source": [
    "~10 times faster."
   ]
  },
  {
   "cell_type": "markdown",
   "metadata": {
    "slideshow": {
     "slide_type": "slide"
    }
   },
   "source": [
    "## Be carefull with Numpy!\n",
    "\n",
    "If your code is badly written with division by zero, no Error will be raised.\n",
    "Numpy objects are treated like in C, differently as python objects."
   ]
  },
  {
   "cell_type": "code",
   "execution_count": 43,
   "metadata": {
    "slideshow": {
     "slide_type": "fragment"
    }
   },
   "outputs": [
    {
     "ename": "ZeroDivisionError",
     "evalue": "division by zero",
     "output_type": "error",
     "traceback": [
      "\u001b[0;31m---------------------------------------------------------------------------\u001b[0m",
      "\u001b[0;31mZeroDivisionError\u001b[0m                         Traceback (most recent call last)",
      "\u001b[0;32m<ipython-input-43-d2d7491e3159>\u001b[0m in \u001b[0;36m<module>\u001b[0;34m\u001b[0m\n\u001b[0;32m----> 1\u001b[0;31m \u001b[0;36m45\u001b[0m\u001b[0;34m/\u001b[0m\u001b[0;36m0\u001b[0m\u001b[0;34m\u001b[0m\u001b[0;34m\u001b[0m\u001b[0m\n\u001b[0m",
      "\u001b[0;31mZeroDivisionError\u001b[0m: division by zero"
     ]
    }
   ],
   "source": [
    "45/0"
   ]
  },
  {
   "cell_type": "code",
   "execution_count": null,
   "metadata": {
    "slideshow": {
     "slide_type": "fragment"
    }
   },
   "outputs": [],
   "source": [
    "a = np.array([-1, 45, -30, 0])\n",
    "b = a/0\n",
    "b"
   ]
  },
  {
   "cell_type": "markdown",
   "metadata": {
    "slideshow": {
     "slide_type": "slide"
    }
   },
   "source": [
    "## Be carefull with Numpy! (2)\n",
    "\n",
    "$Nan$ values have to be treated specificaly:"
   ]
  },
  {
   "cell_type": "code",
   "execution_count": 53,
   "metadata": {},
   "outputs": [
    {
     "data": {
      "text/plain": [
       "False"
      ]
     },
     "execution_count": 53,
     "metadata": {},
     "output_type": "execute_result"
    }
   ],
   "source": [
    "b == np.nan"
   ]
  },
  {
   "cell_type": "code",
   "execution_count": 54,
   "metadata": {},
   "outputs": [
    {
     "data": {
      "text/plain": [
       "array([False, False, False, ..., False, False, False])"
      ]
     },
     "execution_count": 54,
     "metadata": {},
     "output_type": "execute_result"
    }
   ],
   "source": [
    "np.isnan(b)"
   ]
  },
  {
   "cell_type": "markdown",
   "metadata": {},
   "source": [
    "np.empty() is not empty but filled with what was previously asigned on the same bytes:"
   ]
  },
  {
   "cell_type": "code",
   "execution_count": 55,
   "metadata": {},
   "outputs": [
    {
     "data": {
      "text/plain": [
       "array([[2.00000000e+000, 1.73059719e-077],\n",
       "       [9.88131292e-324, 2.78134232e-309]])"
      ]
     },
     "execution_count": 55,
     "metadata": {},
     "output_type": "execute_result"
    }
   ],
   "source": [
    "np.empty([2, 2])"
   ]
  },
  {
   "cell_type": "markdown",
   "metadata": {
    "slideshow": {
     "slide_type": "slide"
    }
   },
   "source": [
    "# Scipy  \n",
    "\n",
    "- built in top of the NumPy\n",
    "- Linear Algebra\n",
    "- Data Science features"
   ]
  },
  {
   "cell_type": "markdown",
   "metadata": {
    "slideshow": {
     "slide_type": "slide"
    }
   },
   "source": [
    "## Scipy packages:\n",
    "\n",
    "- `special` Special Function package (Cubic Root, Exponential, Permutation and Combinations, ...)\n",
    "- `linalg` Linear Algebra\n",
    "- `fftpack` Discrete Fourier Transform\n",
    "- `optimize` Optimization and Fit\n",
    "- `ndimage` Image Processing\n",
    "- `integrate` Numerical Integration\n",
    "- ..."
   ]
  },
  {
   "cell_type": "markdown",
   "metadata": {
    "slideshow": {
     "slide_type": "slide"
    }
   },
   "source": [
    "## Optimization and Fit in SciPy – scipy.optimize\n",
    "\n",
    "Using `curve_fit()` we will do a non-linear least squares to fit a function, f, to our data.\n",
    "\n",
    "Here I will use a simple function $ f(\\theta) = \\alpha * sin(\\theta + \\beta)$."
   ]
  },
  {
   "cell_type": "code",
   "execution_count": 56,
   "metadata": {
    "slideshow": {
     "slide_type": "fragment"
    }
   },
   "outputs": [
    {
     "data": {
      "text/plain": [
       "[<matplotlib.lines.Line2D at 0x7f9eaf93ad00>]"
      ]
     },
     "execution_count": 56,
     "metadata": {},
     "output_type": "execute_result"
    },
    {
     "data": {
      "image/png": "[encoded data removed]",
      "text/plain": [
       "<Figure size 432x288 with 1 Axes>"
      ]
     },
     "metadata": {
      "needs_background": "light"
     },
     "output_type": "display_data"
    }
   ],
   "source": [
    "import matplotlib.pyplot as plt\n",
    "\n",
    "a = 1.75\n",
    "b = 4.78\n",
    "d_theta = 0.7\n",
    "\n",
    "def func_sin_a_b(theta, a, b):\n",
    "    return (a*np.sin(theta+b))\n",
    "\n",
    "theta = np.arange(-4*np.pi, 4*np.pi, d_theta)\n",
    "y = func_sin_a_b(theta, a, b) + 3*(np.random.rand(len(theta)) - 0.5)\n",
    "\n",
    "plt.scatter(theta, y)\n",
    "plt.plot(theta, func_sin_a_b(theta, a, b), label=r'$\\alpha * sin(\\theta - b)$')\n"
   ]
  },
  {
   "cell_type": "markdown",
   "metadata": {
    "slideshow": {
     "slide_type": "slide"
    }
   },
   "source": [
    "## Optimization and Fit in SciPy – scipy.optimize (2)"
   ]
  },
  {
   "cell_type": "code",
   "execution_count": 57,
   "metadata": {
    "slideshow": {
     "slide_type": "fragment"
    }
   },
   "outputs": [
    {
     "data": {
      "image/png": "[encoded data removed]",
      "text/plain": [
       "<Figure size 432x288 with 1 Axes>"
      ]
     },
     "metadata": {
      "needs_background": "light"
     },
     "output_type": "display_data"
    }
   ],
   "source": [
    "from matplotlib.ticker import FuncFormatter, MultipleLocator\n",
    "from scipy.optimize import curve_fit\n",
    "\n",
    "fit_sin, pcov = curve_fit(func_sin_a_b, theta, y)\n",
    "\n",
    "fig, ax = plt.subplots(1)\n",
    "ax.scatter(theta, y, label=r'$\\alpha * sin(\\theta - b)$ + Noise')\n",
    "ax.plot(theta, func_sin_a_b(theta, a, b), label=r'$\\alpha * sin(\\theta - b)$')\n",
    "ax.plot(theta, func_sin_a_b(theta, fit_sin[0], fit_sin[1]), label='Scipy curve fit')\n",
    "ax.xaxis.set_major_formatter(FuncFormatter(\n",
    "   lambda val,pos: '{:.0g}$\\pi$'.format(val//np.pi) if val !=0 else '0'\n",
    "))\n",
    "ax.xaxis.set_major_locator(MultipleLocator(base=np.pi))\n",
    "ax.legend(bbox_to_anchor=(1.0, 0.65))\n",
    "ax.set_title(r'$ \\alpha = {:.2f}, \\beta = {:.2f}$'.format(*fit_sin));"
   ]
  },
  {
   "cell_type": "markdown",
   "metadata": {
    "slideshow": {
     "slide_type": "slide"
    }
   },
   "source": [
    "# Pandas"
   ]
  },
  {
   "cell_type": "markdown",
   "metadata": {
    "slideshow": {
     "slide_type": "slide"
    }
   },
   "source": [
    "## Pandas\n",
    "\n",
    "Like _Numpy_, _Pandas_ contains data structure and data manipulation tools, however _Pandas_ can deal with heterogenous data tables, while adopting _Numpy_'s array-based computing. \n",
    "\n",
    "By convention most people use this command to import pandas:\n",
    "\n",
    "```python\n",
    "import pandas as pd\n",
    "```\n",
    "\n",
    "_Pandas_ contains two important data structures $Series$ and $DataFrame$.\n"
   ]
  },
  {
   "cell_type": "markdown",
   "metadata": {
    "slideshow": {
     "slide_type": "slide"
    }
   },
   "source": [
    "## Pandas _Series_\n",
    "\n",
    "_Series_ are a one-dimention array objects. They contains sequence of values that can be associated to data labels or _index_."
   ]
  },
  {
   "cell_type": "code",
   "execution_count": 73,
   "metadata": {
    "slideshow": {
     "slide_type": "fragment"
    }
   },
   "outputs": [
    {
     "data": {
      "text/plain": [
       "a    0\n",
       "b    1\n",
       "c    2\n",
       "d    3\n",
       "e    4\n",
       "dtype: int64"
      ]
     },
     "execution_count": 73,
     "metadata": {},
     "output_type": "execute_result"
    }
   ],
   "source": [
    "import pandas as pd\n",
    "test_serie = pd.Series(range(5), ['a', 'b', 'c', 'd', 'e'])\n",
    "test_serie"
   ]
  },
  {
   "cell_type": "code",
   "execution_count": 70,
   "metadata": {
    "slideshow": {
     "slide_type": "fragment"
    }
   },
   "outputs": [
    {
     "data": {
      "text/plain": [
       "4"
      ]
     },
     "execution_count": 70,
     "metadata": {},
     "output_type": "execute_result"
    }
   ],
   "source": [
    "test_serie.e "
   ]
  },
  {
   "cell_type": "code",
   "execution_count": 72,
   "metadata": {
    "slideshow": {
     "slide_type": "fragment"
    }
   },
   "outputs": [
    {
     "data": {
      "text/plain": [
       "4"
      ]
     },
     "execution_count": 72,
     "metadata": {},
     "output_type": "execute_result"
    }
   ],
   "source": [
    "test_serie['e']"
   ]
  },
  {
   "cell_type": "code",
   "execution_count": 71,
   "metadata": {
    "slideshow": {
     "slide_type": "fragment"
    }
   },
   "outputs": [
    {
     "data": {
      "text/plain": [
       "4"
      ]
     },
     "execution_count": 71,
     "metadata": {},
     "output_type": "execute_result"
    }
   ],
   "source": [
    "test_serie[4]"
   ]
  },
  {
   "cell_type": "markdown",
   "metadata": {
    "slideshow": {
     "slide_type": "slide"
    }
   },
   "source": [
    "## Operation on series"
   ]
  },
  {
   "cell_type": "code",
   "execution_count": 75,
   "metadata": {
    "slideshow": {
     "slide_type": "fragment"
    }
   },
   "outputs": [
    {
     "data": {
      "text/plain": [
       "a     1.5\n",
       "b    11.5\n",
       "c    21.5\n",
       "d    31.5\n",
       "e    41.5\n",
       "dtype: float64"
      ]
     },
     "execution_count": 75,
     "metadata": {},
     "output_type": "execute_result"
    }
   ],
   "source": [
    "(test_serie * 10) + 1.5"
   ]
  },
  {
   "cell_type": "code",
   "execution_count": 77,
   "metadata": {
    "slideshow": {
     "slide_type": "fragment"
    }
   },
   "outputs": [],
   "source": [
    "test2_serie = pd.Series(range(5), ['b', 'c', 'd', 'e', 'f'])"
   ]
  },
  {
   "cell_type": "code",
   "execution_count": 78,
   "metadata": {
    "slideshow": {
     "slide_type": "fragment"
    }
   },
   "outputs": [
    {
     "data": {
      "text/plain": [
       "a    NaN\n",
       "b    1.0\n",
       "c    3.0\n",
       "d    5.0\n",
       "e    7.0\n",
       "f    NaN\n",
       "dtype: float64"
      ]
     },
     "execution_count": 78,
     "metadata": {},
     "output_type": "execute_result"
    }
   ],
   "source": [
    "test_serie + test2_serie"
   ]
  },
  {
   "cell_type": "markdown",
   "metadata": {
    "slideshow": {
     "slide_type": "slide"
    }
   },
   "source": [
    "## Select Data"
   ]
  },
  {
   "cell_type": "code",
   "execution_count": 79,
   "metadata": {
    "slideshow": {
     "slide_type": "fragment"
    }
   },
   "outputs": [
    {
     "data": {
      "text/plain": [
       "a    False\n",
       "b    False\n",
       "c    False\n",
       "d     True\n",
       "e     True\n",
       "dtype: bool"
      ]
     },
     "execution_count": 79,
     "metadata": {},
     "output_type": "execute_result"
    }
   ],
   "source": [
    "test_serie*10 > 20"
   ]
  },
  {
   "cell_type": "code",
   "execution_count": 80,
   "metadata": {},
   "outputs": [
    {
     "data": {
      "text/plain": [
       "d    3\n",
       "e    4\n",
       "dtype: int64"
      ]
     },
     "execution_count": 80,
     "metadata": {},
     "output_type": "execute_result"
    }
   ],
   "source": [
    "test_serie[test_serie*10 > 20]"
   ]
  },
  {
   "cell_type": "markdown",
   "metadata": {
    "slideshow": {
     "slide_type": "slide"
    }
   },
   "source": [
    "## Pandas _DataFrame_\n",
    "\n",
    "_DataFrame_ represents a table of data with heterogenous column type (int, float, bool,  string). \n",
    "_DataFrame_ can also be considered as an ordered dictionary of _Series_ sharing the same index."
   ]
  },
  {
   "cell_type": "code",
   "execution_count": 81,
   "metadata": {
    "slideshow": {
     "slide_type": "fragment"
    }
   },
   "outputs": [],
   "source": [
    "random.seed(0)\n",
    "student_grad = pd.DataFrame({'gender': ['M', 'F', 'M', 'M', 'F', 'F'],\n",
    "                             'math': [random.random()*20 for _ in range(6)],\n",
    "                             'biology': [random.random()*20 for _ in range(6)],\n",
    "                             'french': [random.random()*20 for _ in range(6)],\n",
    "                             'history': [random.random()*20 for _ in range(6)],\n",
    "                             'physics': [random.random()*20 for _ in range(6)]},\n",
    "                            index=['Anders', 'Olga', 'Peter', 'Icham', 'Nathalie', 'Aiko'])"
   ]
  },
  {
   "cell_type": "code",
   "execution_count": 82,
   "metadata": {
    "slideshow": {
     "slide_type": "fragment"
    }
   },
   "outputs": [
    {
     "data": {
      "text/html": [
       "<div>\n",
       "<style scoped>\n",
       "    .dataframe tbody tr th:only-of-type {\n",
       "        vertical-align: middle;\n",
       "    }\n",
       "\n",
       "    .dataframe tbody tr th {\n",
       "        vertical-align: top;\n",
       "    }\n",
       "\n",
       "    .dataframe thead th {\n",
       "        text-align: right;\n",
       "    }\n",
       "</style>\n",
       "<table border=\"1\" class=\"dataframe\">\n",
       "  <thead>\n",
       "    <tr style=\"text-align: right;\">\n",
       "      <th></th>\n",
       "      <th>gender</th>\n",
       "      <th>math</th>\n",
       "      <th>biology</th>\n",
       "      <th>french</th>\n",
       "      <th>history</th>\n",
       "      <th>physics</th>\n",
       "    </tr>\n",
       "  </thead>\n",
       "  <tbody>\n",
       "    <tr>\n",
       "      <th>Anders</th>\n",
       "      <td>M</td>\n",
       "      <td>16.888437</td>\n",
       "      <td>15.675972</td>\n",
       "      <td>5.636757</td>\n",
       "      <td>16.204345</td>\n",
       "      <td>9.442854</td>\n",
       "    </tr>\n",
       "    <tr>\n",
       "      <th>Olga</th>\n",
       "      <td>F</td>\n",
       "      <td>15.159088</td>\n",
       "      <td>6.066255</td>\n",
       "      <td>15.116084</td>\n",
       "      <td>18.043319</td>\n",
       "      <td>2.014024</td>\n",
       "    </tr>\n",
       "    <tr>\n",
       "      <th>Peter</th>\n",
       "      <td>M</td>\n",
       "      <td>8.411432</td>\n",
       "      <td>9.531939</td>\n",
       "      <td>12.367380</td>\n",
       "      <td>6.202951</td>\n",
       "      <td>8.683437</td>\n",
       "    </tr>\n",
       "    <tr>\n",
       "      <th>Icham</th>\n",
       "      <td>M</td>\n",
       "      <td>5.178335</td>\n",
       "      <td>11.667641</td>\n",
       "      <td>5.010127</td>\n",
       "      <td>14.596635</td>\n",
       "      <td>12.217739</td>\n",
       "    </tr>\n",
       "    <tr>\n",
       "      <th>Nathalie</th>\n",
       "      <td>F</td>\n",
       "      <td>10.225494</td>\n",
       "      <td>18.162258</td>\n",
       "      <td>18.194925</td>\n",
       "      <td>17.976766</td>\n",
       "      <td>18.260221</td>\n",
       "    </tr>\n",
       "    <tr>\n",
       "      <th>Aiko</th>\n",
       "      <td>F</td>\n",
       "      <td>8.098683</td>\n",
       "      <td>10.093737</td>\n",
       "      <td>19.655710</td>\n",
       "      <td>13.679679</td>\n",
       "      <td>19.332127</td>\n",
       "    </tr>\n",
       "  </tbody>\n",
       "</table>\n",
       "</div>"
      ],
      "text/plain": [
       "         gender       math    biology     french    history    physics\n",
       "Anders        M  16.888437  15.675972   5.636757  16.204345   9.442854\n",
       "Olga          F  15.159088   6.066255  15.116084  18.043319   2.014024\n",
       "Peter         M   8.411432   9.531939  12.367380   6.202951   8.683437\n",
       "Icham         M   5.178335  11.667641   5.010127  14.596635  12.217739\n",
       "Nathalie      F  10.225494  18.162258  18.194925  17.976766  18.260221\n",
       "Aiko          F   8.098683  10.093737  19.655710  13.679679  19.332127"
      ]
     },
     "execution_count": 82,
     "metadata": {},
     "output_type": "execute_result"
    }
   ],
   "source": [
    "student_grad"
   ]
  },
  {
   "cell_type": "markdown",
   "metadata": {
    "slideshow": {
     "slide_type": "slide"
    }
   },
   "source": [
    "## Data analysis"
   ]
  },
  {
   "cell_type": "code",
   "execution_count": 83,
   "metadata": {},
   "outputs": [
    {
     "data": {
      "text/plain": [
       "gender           F\n",
       "math       15.1591\n",
       "biology    6.06625\n",
       "french     15.1161\n",
       "history    18.0433\n",
       "physics    2.01402\n",
       "Name: Olga, dtype: object"
      ]
     },
     "execution_count": 83,
     "metadata": {},
     "output_type": "execute_result"
    }
   ],
   "source": [
    "student_grad.loc['Olga']"
   ]
  },
  {
   "cell_type": "code",
   "execution_count": 84,
   "metadata": {
    "slideshow": {
     "slide_type": "fragment"
    }
   },
   "outputs": [
    {
     "data": {
      "text/html": [
       "<div>\n",
       "<style scoped>\n",
       "    .dataframe tbody tr th:only-of-type {\n",
       "        vertical-align: middle;\n",
       "    }\n",
       "\n",
       "    .dataframe tbody tr th {\n",
       "        vertical-align: top;\n",
       "    }\n",
       "\n",
       "    .dataframe thead th {\n",
       "        text-align: right;\n",
       "    }\n",
       "</style>\n",
       "<table border=\"1\" class=\"dataframe\">\n",
       "  <thead>\n",
       "    <tr style=\"text-align: right;\">\n",
       "      <th></th>\n",
       "      <th>gender</th>\n",
       "      <th>math</th>\n",
       "      <th>biology</th>\n",
       "      <th>french</th>\n",
       "      <th>history</th>\n",
       "      <th>physics</th>\n",
       "      <th>mean</th>\n",
       "    </tr>\n",
       "  </thead>\n",
       "  <tbody>\n",
       "    <tr>\n",
       "      <th>Anders</th>\n",
       "      <td>M</td>\n",
       "      <td>16.888437</td>\n",
       "      <td>15.675972</td>\n",
       "      <td>5.636757</td>\n",
       "      <td>16.204345</td>\n",
       "      <td>9.442854</td>\n",
       "      <td>12.769673</td>\n",
       "    </tr>\n",
       "    <tr>\n",
       "      <th>Olga</th>\n",
       "      <td>F</td>\n",
       "      <td>15.159088</td>\n",
       "      <td>6.066255</td>\n",
       "      <td>15.116084</td>\n",
       "      <td>18.043319</td>\n",
       "      <td>2.014024</td>\n",
       "      <td>11.279754</td>\n",
       "    </tr>\n",
       "    <tr>\n",
       "      <th>Peter</th>\n",
       "      <td>M</td>\n",
       "      <td>8.411432</td>\n",
       "      <td>9.531939</td>\n",
       "      <td>12.367380</td>\n",
       "      <td>6.202951</td>\n",
       "      <td>8.683437</td>\n",
       "      <td>9.039428</td>\n",
       "    </tr>\n",
       "    <tr>\n",
       "      <th>Icham</th>\n",
       "      <td>M</td>\n",
       "      <td>5.178335</td>\n",
       "      <td>11.667641</td>\n",
       "      <td>5.010127</td>\n",
       "      <td>14.596635</td>\n",
       "      <td>12.217739</td>\n",
       "      <td>9.734095</td>\n",
       "    </tr>\n",
       "    <tr>\n",
       "      <th>Nathalie</th>\n",
       "      <td>F</td>\n",
       "      <td>10.225494</td>\n",
       "      <td>18.162258</td>\n",
       "      <td>18.194925</td>\n",
       "      <td>17.976766</td>\n",
       "      <td>18.260221</td>\n",
       "      <td>16.563933</td>\n",
       "    </tr>\n",
       "    <tr>\n",
       "      <th>Aiko</th>\n",
       "      <td>F</td>\n",
       "      <td>8.098683</td>\n",
       "      <td>10.093737</td>\n",
       "      <td>19.655710</td>\n",
       "      <td>13.679679</td>\n",
       "      <td>19.332127</td>\n",
       "      <td>14.171987</td>\n",
       "    </tr>\n",
       "  </tbody>\n",
       "</table>\n",
       "</div>"
      ],
      "text/plain": [
       "         gender       math    biology     french    history    physics  \\\n",
       "Anders        M  16.888437  15.675972   5.636757  16.204345   9.442854   \n",
       "Olga          F  15.159088   6.066255  15.116084  18.043319   2.014024   \n",
       "Peter         M   8.411432   9.531939  12.367380   6.202951   8.683437   \n",
       "Icham         M   5.178335  11.667641   5.010127  14.596635  12.217739   \n",
       "Nathalie      F  10.225494  18.162258  18.194925  17.976766  18.260221   \n",
       "Aiko          F   8.098683  10.093737  19.655710  13.679679  19.332127   \n",
       "\n",
       "               mean  \n",
       "Anders    12.769673  \n",
       "Olga      11.279754  \n",
       "Peter      9.039428  \n",
       "Icham      9.734095  \n",
       "Nathalie  16.563933  \n",
       "Aiko      14.171987  "
      ]
     },
     "execution_count": 84,
     "metadata": {},
     "output_type": "execute_result"
    }
   ],
   "source": [
    "student_grad['mean'] = student_grad.mean(axis=1)\n",
    "student_grad"
   ]
  },
  {
   "cell_type": "markdown",
   "metadata": {
    "slideshow": {
     "slide_type": "slide"
    }
   },
   "source": [
    "## Merge Data"
   ]
  },
  {
   "cell_type": "code",
   "execution_count": 85,
   "metadata": {
    "slideshow": {
     "slide_type": "fragment"
    }
   },
   "outputs": [],
   "source": [
    "student_grad_2 = pd.DataFrame({'english': [random.random()*20 for _ in range(5)]},\n",
    "                              index=['Olga', 'Peter', 'Icham', 'Nathalie', 'Aiko'])"
   ]
  },
  {
   "cell_type": "code",
   "execution_count": 86,
   "metadata": {
    "slideshow": {
     "slide_type": "fragment"
    }
   },
   "outputs": [
    {
     "data": {
      "text/html": [
       "<div>\n",
       "<style scoped>\n",
       "    .dataframe tbody tr th:only-of-type {\n",
       "        vertical-align: middle;\n",
       "    }\n",
       "\n",
       "    .dataframe tbody tr th {\n",
       "        vertical-align: top;\n",
       "    }\n",
       "\n",
       "    .dataframe thead th {\n",
       "        text-align: right;\n",
       "    }\n",
       "</style>\n",
       "<table border=\"1\" class=\"dataframe\">\n",
       "  <thead>\n",
       "    <tr style=\"text-align: right;\">\n",
       "      <th></th>\n",
       "      <th>gender</th>\n",
       "      <th>math</th>\n",
       "      <th>biology</th>\n",
       "      <th>french</th>\n",
       "      <th>history</th>\n",
       "      <th>physics</th>\n",
       "      <th>mean</th>\n",
       "      <th>english</th>\n",
       "    </tr>\n",
       "  </thead>\n",
       "  <tbody>\n",
       "    <tr>\n",
       "      <th>Anders</th>\n",
       "      <td>M</td>\n",
       "      <td>16.888437</td>\n",
       "      <td>15.675972</td>\n",
       "      <td>5.636757</td>\n",
       "      <td>16.204345</td>\n",
       "      <td>9.442854</td>\n",
       "      <td>12.769673</td>\n",
       "      <td>NaN</td>\n",
       "    </tr>\n",
       "    <tr>\n",
       "      <th>Olga</th>\n",
       "      <td>F</td>\n",
       "      <td>15.159088</td>\n",
       "      <td>6.066255</td>\n",
       "      <td>15.116084</td>\n",
       "      <td>18.043319</td>\n",
       "      <td>2.014024</td>\n",
       "      <td>11.279754</td>\n",
       "      <td>9.540196</td>\n",
       "    </tr>\n",
       "    <tr>\n",
       "      <th>Peter</th>\n",
       "      <td>M</td>\n",
       "      <td>8.411432</td>\n",
       "      <td>9.531939</td>\n",
       "      <td>12.367380</td>\n",
       "      <td>6.202951</td>\n",
       "      <td>8.683437</td>\n",
       "      <td>9.039428</td>\n",
       "      <td>17.306199</td>\n",
       "    </tr>\n",
       "    <tr>\n",
       "      <th>Icham</th>\n",
       "      <td>M</td>\n",
       "      <td>5.178335</td>\n",
       "      <td>11.667641</td>\n",
       "      <td>5.010127</td>\n",
       "      <td>14.596635</td>\n",
       "      <td>12.217739</td>\n",
       "      <td>9.734095</td>\n",
       "      <td>5.209846</td>\n",
       "    </tr>\n",
       "    <tr>\n",
       "      <th>Nathalie</th>\n",
       "      <td>F</td>\n",
       "      <td>10.225494</td>\n",
       "      <td>18.162258</td>\n",
       "      <td>18.194925</td>\n",
       "      <td>17.976766</td>\n",
       "      <td>18.260221</td>\n",
       "      <td>16.563933</td>\n",
       "      <td>16.100557</td>\n",
       "    </tr>\n",
       "    <tr>\n",
       "      <th>Aiko</th>\n",
       "      <td>F</td>\n",
       "      <td>8.098683</td>\n",
       "      <td>10.093737</td>\n",
       "      <td>19.655710</td>\n",
       "      <td>13.679679</td>\n",
       "      <td>19.332127</td>\n",
       "      <td>14.171987</td>\n",
       "      <td>10.973986</td>\n",
       "    </tr>\n",
       "  </tbody>\n",
       "</table>\n",
       "</div>"
      ],
      "text/plain": [
       "         gender       math    biology     french    history    physics  \\\n",
       "Anders        M  16.888437  15.675972   5.636757  16.204345   9.442854   \n",
       "Olga          F  15.159088   6.066255  15.116084  18.043319   2.014024   \n",
       "Peter         M   8.411432   9.531939  12.367380   6.202951   8.683437   \n",
       "Icham         M   5.178335  11.667641   5.010127  14.596635  12.217739   \n",
       "Nathalie      F  10.225494  18.162258  18.194925  17.976766  18.260221   \n",
       "Aiko          F   8.098683  10.093737  19.655710  13.679679  19.332127   \n",
       "\n",
       "               mean    english  \n",
       "Anders    12.769673        NaN  \n",
       "Olga      11.279754   9.540196  \n",
       "Peter      9.039428  17.306199  \n",
       "Icham      9.734095   5.209846  \n",
       "Nathalie  16.563933  16.100557  \n",
       "Aiko      14.171987  10.973986  "
      ]
     },
     "execution_count": 86,
     "metadata": {},
     "output_type": "execute_result"
    }
   ],
   "source": [
    "all_grad = pd.concat([student_grad,student_grad_2], axis=1, sort=False)\n",
    "all_grad"
   ]
  },
  {
   "cell_type": "markdown",
   "metadata": {
    "slideshow": {
     "slide_type": "slide"
    }
   },
   "source": [
    "## Filter Data"
   ]
  },
  {
   "cell_type": "code",
   "execution_count": 87,
   "metadata": {
    "slideshow": {
     "slide_type": "fragment"
    }
   },
   "outputs": [
    {
     "data": {
      "text/html": [
       "<div>\n",
       "<style scoped>\n",
       "    .dataframe tbody tr th:only-of-type {\n",
       "        vertical-align: middle;\n",
       "    }\n",
       "\n",
       "    .dataframe tbody tr th {\n",
       "        vertical-align: top;\n",
       "    }\n",
       "\n",
       "    .dataframe thead th {\n",
       "        text-align: right;\n",
       "    }\n",
       "</style>\n",
       "<table border=\"1\" class=\"dataframe\">\n",
       "  <thead>\n",
       "    <tr style=\"text-align: right;\">\n",
       "      <th></th>\n",
       "      <th>gender</th>\n",
       "      <th>math</th>\n",
       "      <th>biology</th>\n",
       "      <th>french</th>\n",
       "      <th>history</th>\n",
       "      <th>physics</th>\n",
       "      <th>mean</th>\n",
       "      <th>english</th>\n",
       "    </tr>\n",
       "  </thead>\n",
       "  <tbody>\n",
       "    <tr>\n",
       "      <th>Anders</th>\n",
       "      <td>False</td>\n",
       "      <td>False</td>\n",
       "      <td>False</td>\n",
       "      <td>False</td>\n",
       "      <td>False</td>\n",
       "      <td>False</td>\n",
       "      <td>False</td>\n",
       "      <td>True</td>\n",
       "    </tr>\n",
       "    <tr>\n",
       "      <th>Olga</th>\n",
       "      <td>False</td>\n",
       "      <td>False</td>\n",
       "      <td>False</td>\n",
       "      <td>False</td>\n",
       "      <td>False</td>\n",
       "      <td>False</td>\n",
       "      <td>False</td>\n",
       "      <td>False</td>\n",
       "    </tr>\n",
       "    <tr>\n",
       "      <th>Peter</th>\n",
       "      <td>False</td>\n",
       "      <td>False</td>\n",
       "      <td>False</td>\n",
       "      <td>False</td>\n",
       "      <td>False</td>\n",
       "      <td>False</td>\n",
       "      <td>False</td>\n",
       "      <td>False</td>\n",
       "    </tr>\n",
       "    <tr>\n",
       "      <th>Icham</th>\n",
       "      <td>False</td>\n",
       "      <td>False</td>\n",
       "      <td>False</td>\n",
       "      <td>False</td>\n",
       "      <td>False</td>\n",
       "      <td>False</td>\n",
       "      <td>False</td>\n",
       "      <td>False</td>\n",
       "    </tr>\n",
       "    <tr>\n",
       "      <th>Nathalie</th>\n",
       "      <td>False</td>\n",
       "      <td>False</td>\n",
       "      <td>False</td>\n",
       "      <td>False</td>\n",
       "      <td>False</td>\n",
       "      <td>False</td>\n",
       "      <td>False</td>\n",
       "      <td>False</td>\n",
       "    </tr>\n",
       "    <tr>\n",
       "      <th>Aiko</th>\n",
       "      <td>False</td>\n",
       "      <td>False</td>\n",
       "      <td>False</td>\n",
       "      <td>False</td>\n",
       "      <td>False</td>\n",
       "      <td>False</td>\n",
       "      <td>False</td>\n",
       "      <td>False</td>\n",
       "    </tr>\n",
       "  </tbody>\n",
       "</table>\n",
       "</div>"
      ],
      "text/plain": [
       "          gender   math  biology  french  history  physics   mean  english\n",
       "Anders     False  False    False   False    False    False  False     True\n",
       "Olga       False  False    False   False    False    False  False    False\n",
       "Peter      False  False    False   False    False    False  False    False\n",
       "Icham      False  False    False   False    False    False  False    False\n",
       "Nathalie   False  False    False   False    False    False  False    False\n",
       "Aiko       False  False    False   False    False    False  False    False"
      ]
     },
     "execution_count": 87,
     "metadata": {},
     "output_type": "execute_result"
    }
   ],
   "source": [
    "all_grad.isna()"
   ]
  },
  {
   "cell_type": "code",
   "execution_count": 88,
   "metadata": {
    "slideshow": {
     "slide_type": "fragment"
    }
   },
   "outputs": [
    {
     "data": {
      "text/html": [
       "<div>\n",
       "<style scoped>\n",
       "    .dataframe tbody tr th:only-of-type {\n",
       "        vertical-align: middle;\n",
       "    }\n",
       "\n",
       "    .dataframe tbody tr th {\n",
       "        vertical-align: top;\n",
       "    }\n",
       "\n",
       "    .dataframe thead th {\n",
       "        text-align: right;\n",
       "    }\n",
       "</style>\n",
       "<table border=\"1\" class=\"dataframe\">\n",
       "  <thead>\n",
       "    <tr style=\"text-align: right;\">\n",
       "      <th></th>\n",
       "      <th>math</th>\n",
       "      <th>biology</th>\n",
       "      <th>french</th>\n",
       "      <th>history</th>\n",
       "      <th>physics</th>\n",
       "      <th>mean</th>\n",
       "      <th>english</th>\n",
       "    </tr>\n",
       "  </thead>\n",
       "  <tbody>\n",
       "    <tr>\n",
       "      <th>Anders</th>\n",
       "      <td>True</td>\n",
       "      <td>True</td>\n",
       "      <td>False</td>\n",
       "      <td>True</td>\n",
       "      <td>False</td>\n",
       "      <td>True</td>\n",
       "      <td>False</td>\n",
       "    </tr>\n",
       "    <tr>\n",
       "      <th>Olga</th>\n",
       "      <td>True</td>\n",
       "      <td>False</td>\n",
       "      <td>True</td>\n",
       "      <td>True</td>\n",
       "      <td>False</td>\n",
       "      <td>True</td>\n",
       "      <td>False</td>\n",
       "    </tr>\n",
       "    <tr>\n",
       "      <th>Peter</th>\n",
       "      <td>False</td>\n",
       "      <td>False</td>\n",
       "      <td>True</td>\n",
       "      <td>False</td>\n",
       "      <td>False</td>\n",
       "      <td>False</td>\n",
       "      <td>True</td>\n",
       "    </tr>\n",
       "    <tr>\n",
       "      <th>Icham</th>\n",
       "      <td>False</td>\n",
       "      <td>True</td>\n",
       "      <td>False</td>\n",
       "      <td>True</td>\n",
       "      <td>True</td>\n",
       "      <td>False</td>\n",
       "      <td>False</td>\n",
       "    </tr>\n",
       "    <tr>\n",
       "      <th>Nathalie</th>\n",
       "      <td>True</td>\n",
       "      <td>True</td>\n",
       "      <td>True</td>\n",
       "      <td>True</td>\n",
       "      <td>True</td>\n",
       "      <td>True</td>\n",
       "      <td>True</td>\n",
       "    </tr>\n",
       "    <tr>\n",
       "      <th>Aiko</th>\n",
       "      <td>False</td>\n",
       "      <td>True</td>\n",
       "      <td>True</td>\n",
       "      <td>True</td>\n",
       "      <td>True</td>\n",
       "      <td>True</td>\n",
       "      <td>True</td>\n",
       "    </tr>\n",
       "  </tbody>\n",
       "</table>\n",
       "</div>"
      ],
      "text/plain": [
       "           math  biology  french  history  physics   mean  english\n",
       "Anders     True     True   False     True    False   True    False\n",
       "Olga       True    False    True     True    False   True    False\n",
       "Peter     False    False    True    False    False  False     True\n",
       "Icham     False     True   False     True     True  False    False\n",
       "Nathalie   True     True    True     True     True   True     True\n",
       "Aiko      False     True    True     True     True   True     True"
      ]
     },
     "execution_count": 88,
     "metadata": {},
     "output_type": "execute_result"
    }
   ],
   "source": [
    "# Which grades are above 10?\n",
    "# We can't calculate a gender > 10, so we drop that column\n",
    "all_grad2 = all_grad.drop(columns='gender')\n",
    "all_grad2 > 10"
   ]
  },
  {
   "cell_type": "markdown",
   "metadata": {
    "slideshow": {
     "slide_type": "slide"
    }
   },
   "source": [
    "## Data frame instance and function"
   ]
  },
  {
   "cell_type": "code",
   "execution_count": 89,
   "metadata": {
    "slideshow": {
     "slide_type": "fragment"
    }
   },
   "outputs": [
    {
     "data": {
      "text/plain": [
       "Index(['gender', 'math', 'biology', 'french', 'history', 'physics', 'mean',\n",
       "       'english'],\n",
       "      dtype='object')"
      ]
     },
     "execution_count": 89,
     "metadata": {},
     "output_type": "execute_result"
    }
   ],
   "source": [
    "all_grad.columns"
   ]
  },
  {
   "cell_type": "code",
   "execution_count": 90,
   "metadata": {
    "slideshow": {
     "slide_type": "fragment"
    }
   },
   "outputs": [
    {
     "data": {
      "text/plain": [
       "Index(['Anders', 'Olga', 'Peter', 'Icham', 'Nathalie', 'Aiko'], dtype='object')"
      ]
     },
     "execution_count": 90,
     "metadata": {},
     "output_type": "execute_result"
    }
   ],
   "source": [
    "all_grad.index"
   ]
  },
  {
   "cell_type": "code",
   "execution_count": 91,
   "metadata": {
    "slideshow": {
     "slide_type": "fragment"
    }
   },
   "outputs": [
    {
     "data": {
      "text/plain": [
       "Anders      12.769673\n",
       "Olga        10.989828\n",
       "Peter       10.417223\n",
       "Icham        8.980054\n",
       "Nathalie    16.486703\n",
       "Aiko        13.638987\n",
       "dtype: float64"
      ]
     },
     "execution_count": 91,
     "metadata": {},
     "output_type": "execute_result"
    }
   ],
   "source": [
    "# For each student, calculate the mean of all subjects \n",
    "#   but \"mean\" is not a subject, so let's drop it\n",
    "all_grad.drop(columns='mean').mean(axis=1)"
   ]
  },
  {
   "cell_type": "markdown",
   "metadata": {
    "slideshow": {
     "slide_type": "slide"
    }
   },
   "source": [
    "## Data frame selection\n",
    "\n",
    "Don't forget the brackets when combining conditions:"
   ]
  },
  {
   "cell_type": "code",
   "execution_count": 99,
   "metadata": {
    "slideshow": {
     "slide_type": "fragment"
    }
   },
   "outputs": [
    {
     "data": {
      "text/html": [
       "<div>\n",
       "<style scoped>\n",
       "    .dataframe tbody tr th:only-of-type {\n",
       "        vertical-align: middle;\n",
       "    }\n",
       "\n",
       "    .dataframe tbody tr th {\n",
       "        vertical-align: top;\n",
       "    }\n",
       "\n",
       "    .dataframe thead th {\n",
       "        text-align: right;\n",
       "    }\n",
       "</style>\n",
       "<table border=\"1\" class=\"dataframe\">\n",
       "  <thead>\n",
       "    <tr style=\"text-align: right;\">\n",
       "      <th></th>\n",
       "      <th>gender</th>\n",
       "      <th>math</th>\n",
       "      <th>biology</th>\n",
       "      <th>french</th>\n",
       "      <th>history</th>\n",
       "      <th>physics</th>\n",
       "      <th>mean</th>\n",
       "      <th>english</th>\n",
       "    </tr>\n",
       "  </thead>\n",
       "  <tbody>\n",
       "    <tr>\n",
       "      <th>Olga</th>\n",
       "      <td>F</td>\n",
       "      <td>15.159088</td>\n",
       "      <td>6.066255</td>\n",
       "      <td>15.116084</td>\n",
       "      <td>18.043319</td>\n",
       "      <td>2.014024</td>\n",
       "      <td>11.279754</td>\n",
       "      <td>9.540196</td>\n",
       "    </tr>\n",
       "    <tr>\n",
       "      <th>Nathalie</th>\n",
       "      <td>F</td>\n",
       "      <td>10.225494</td>\n",
       "      <td>18.162258</td>\n",
       "      <td>18.194925</td>\n",
       "      <td>17.976766</td>\n",
       "      <td>18.260221</td>\n",
       "      <td>16.563933</td>\n",
       "      <td>16.100557</td>\n",
       "    </tr>\n",
       "  </tbody>\n",
       "</table>\n",
       "</div>"
      ],
      "text/plain": [
       "         gender       math    biology     french    history    physics  \\\n",
       "Olga          F  15.159088   6.066255  15.116084  18.043319   2.014024   \n",
       "Nathalie      F  10.225494  18.162258  18.194925  17.976766  18.260221   \n",
       "\n",
       "               mean    english  \n",
       "Olga      11.279754   9.540196  \n",
       "Nathalie  16.563933  16.100557  "
      ]
     },
     "execution_count": 99,
     "metadata": {},
     "output_type": "execute_result"
    }
   ],
   "source": [
    "# Only Olga and Nathalie have both math and french > 10\n",
    "all_grad[ (all_grad['math'] > 10) & (all_grad['french'] > 10)]"
   ]
  },
  {
   "cell_type": "code",
   "execution_count": 96,
   "metadata": {
    "slideshow": {
     "slide_type": "fragment"
    }
   },
   "outputs": [
    {
     "data": {
      "text/html": [
       "<div>\n",
       "<style scoped>\n",
       "    .dataframe tbody tr th:only-of-type {\n",
       "        vertical-align: middle;\n",
       "    }\n",
       "\n",
       "    .dataframe tbody tr th {\n",
       "        vertical-align: top;\n",
       "    }\n",
       "\n",
       "    .dataframe thead th {\n",
       "        text-align: right;\n",
       "    }\n",
       "</style>\n",
       "<table border=\"1\" class=\"dataframe\">\n",
       "  <thead>\n",
       "    <tr style=\"text-align: right;\">\n",
       "      <th></th>\n",
       "      <th>math</th>\n",
       "      <th>biology</th>\n",
       "    </tr>\n",
       "  </thead>\n",
       "  <tbody>\n",
       "    <tr>\n",
       "      <th>Olga</th>\n",
       "      <td>15.159088</td>\n",
       "      <td>6.066255</td>\n",
       "    </tr>\n",
       "  </tbody>\n",
       "</table>\n",
       "</div>"
      ],
      "text/plain": [
       "           math   biology\n",
       "Olga  15.159088  6.066255"
      ]
     },
     "execution_count": 96,
     "metadata": {},
     "output_type": "execute_result"
    }
   ],
   "source": [
    "all_grad.loc[['Olga'], ['math', 'biology']]"
   ]
  },
  {
   "cell_type": "code",
   "execution_count": 97,
   "metadata": {
    "slideshow": {
     "slide_type": "fragment"
    }
   },
   "outputs": [
    {
     "data": {
      "text/plain": [
       "math       15.1591\n",
       "biology    6.06625\n",
       "Name: Olga, dtype: object"
      ]
     },
     "execution_count": 97,
     "metadata": {},
     "output_type": "execute_result"
    }
   ],
   "source": [
    "# Equivalent: Olga is student 1, and math and biology are column 1 and 2\n",
    "# Python starts counting at 0!\n",
    "all_grad.iloc[1, [1, 2]]"
   ]
  },
  {
   "cell_type": "markdown",
   "metadata": {
    "slideshow": {
     "slide_type": "slide"
    }
   },
   "source": [
    "## Function Application and mapping\n",
    "\n",
    "Let's say that you want to compute the gap between the worst and best grad, you can define your one function and apply it to every column, or line:"
   ]
  },
  {
   "cell_type": "code",
   "execution_count": 100,
   "metadata": {
    "slideshow": {
     "slide_type": "fragment"
    }
   },
   "outputs": [
    {
     "data": {
      "text/plain": [
       "math       11.710102\n",
       "biology    12.096003\n",
       "french     14.645583\n",
       "history    11.840368\n",
       "physics    17.318103\n",
       "mean        7.524505\n",
       "english    12.096352\n",
       "dtype: float64"
      ]
     },
     "execution_count": 100,
     "metadata": {},
     "output_type": "execute_result"
    }
   ],
   "source": [
    "gap_f = lambda x: x.max() - x.min()\n",
    "all_grad.drop(columns=['gender']).apply(gap_f)"
   ]
  },
  {
   "cell_type": "code",
   "execution_count": 101,
   "metadata": {},
   "outputs": [
    {
     "data": {
      "text/plain": [
       "Anders      11.251680\n",
       "Olga        16.029295\n",
       "Peter       11.103247\n",
       "Icham        9.586508\n",
       "Nathalie     8.034727\n",
       "Aiko        11.557027\n",
       "dtype: float64"
      ]
     },
     "execution_count": 101,
     "metadata": {},
     "output_type": "execute_result"
    }
   ],
   "source": [
    "all_grad.drop(columns=['gender']).apply(gap_f, axis='columns')"
   ]
  },
  {
   "cell_type": "markdown",
   "metadata": {
    "slideshow": {
     "slide_type": "slide"
    }
   },
   "source": [
    "## Sorting and counting\n",
    "\n",
    "You want to get the ranking of student base on their mean grade:"
   ]
  },
  {
   "cell_type": "code",
   "execution_count": 102,
   "metadata": {
    "slideshow": {
     "slide_type": "fragment"
    }
   },
   "outputs": [
    {
     "data": {
      "text/html": [
       "<div>\n",
       "<style scoped>\n",
       "    .dataframe tbody tr th:only-of-type {\n",
       "        vertical-align: middle;\n",
       "    }\n",
       "\n",
       "    .dataframe tbody tr th {\n",
       "        vertical-align: top;\n",
       "    }\n",
       "\n",
       "    .dataframe thead th {\n",
       "        text-align: right;\n",
       "    }\n",
       "</style>\n",
       "<table border=\"1\" class=\"dataframe\">\n",
       "  <thead>\n",
       "    <tr style=\"text-align: right;\">\n",
       "      <th></th>\n",
       "      <th>gender</th>\n",
       "      <th>math</th>\n",
       "      <th>biology</th>\n",
       "      <th>french</th>\n",
       "      <th>history</th>\n",
       "      <th>physics</th>\n",
       "      <th>mean</th>\n",
       "      <th>english</th>\n",
       "    </tr>\n",
       "  </thead>\n",
       "  <tbody>\n",
       "    <tr>\n",
       "      <th>Nathalie</th>\n",
       "      <td>F</td>\n",
       "      <td>10.225494</td>\n",
       "      <td>18.162258</td>\n",
       "      <td>18.194925</td>\n",
       "      <td>17.976766</td>\n",
       "      <td>18.260221</td>\n",
       "      <td>16.563933</td>\n",
       "      <td>16.100557</td>\n",
       "    </tr>\n",
       "    <tr>\n",
       "      <th>Aiko</th>\n",
       "      <td>F</td>\n",
       "      <td>8.098683</td>\n",
       "      <td>10.093737</td>\n",
       "      <td>19.655710</td>\n",
       "      <td>13.679679</td>\n",
       "      <td>19.332127</td>\n",
       "      <td>14.171987</td>\n",
       "      <td>10.973986</td>\n",
       "    </tr>\n",
       "    <tr>\n",
       "      <th>Anders</th>\n",
       "      <td>M</td>\n",
       "      <td>16.888437</td>\n",
       "      <td>15.675972</td>\n",
       "      <td>5.636757</td>\n",
       "      <td>16.204345</td>\n",
       "      <td>9.442854</td>\n",
       "      <td>12.769673</td>\n",
       "      <td>NaN</td>\n",
       "    </tr>\n",
       "    <tr>\n",
       "      <th>Olga</th>\n",
       "      <td>F</td>\n",
       "      <td>15.159088</td>\n",
       "      <td>6.066255</td>\n",
       "      <td>15.116084</td>\n",
       "      <td>18.043319</td>\n",
       "      <td>2.014024</td>\n",
       "      <td>11.279754</td>\n",
       "      <td>9.540196</td>\n",
       "    </tr>\n",
       "    <tr>\n",
       "      <th>Icham</th>\n",
       "      <td>M</td>\n",
       "      <td>5.178335</td>\n",
       "      <td>11.667641</td>\n",
       "      <td>5.010127</td>\n",
       "      <td>14.596635</td>\n",
       "      <td>12.217739</td>\n",
       "      <td>9.734095</td>\n",
       "      <td>5.209846</td>\n",
       "    </tr>\n",
       "    <tr>\n",
       "      <th>Peter</th>\n",
       "      <td>M</td>\n",
       "      <td>8.411432</td>\n",
       "      <td>9.531939</td>\n",
       "      <td>12.367380</td>\n",
       "      <td>6.202951</td>\n",
       "      <td>8.683437</td>\n",
       "      <td>9.039428</td>\n",
       "      <td>17.306199</td>\n",
       "    </tr>\n",
       "  </tbody>\n",
       "</table>\n",
       "</div>"
      ],
      "text/plain": [
       "         gender       math    biology     french    history    physics  \\\n",
       "Nathalie      F  10.225494  18.162258  18.194925  17.976766  18.260221   \n",
       "Aiko          F   8.098683  10.093737  19.655710  13.679679  19.332127   \n",
       "Anders        M  16.888437  15.675972   5.636757  16.204345   9.442854   \n",
       "Olga          F  15.159088   6.066255  15.116084  18.043319   2.014024   \n",
       "Icham         M   5.178335  11.667641   5.010127  14.596635  12.217739   \n",
       "Peter         M   8.411432   9.531939  12.367380   6.202951   8.683437   \n",
       "\n",
       "               mean    english  \n",
       "Nathalie  16.563933  16.100557  \n",
       "Aiko      14.171987  10.973986  \n",
       "Anders    12.769673        NaN  \n",
       "Olga      11.279754   9.540196  \n",
       "Icham      9.734095   5.209846  \n",
       "Peter      9.039428  17.306199  "
      ]
     },
     "execution_count": 102,
     "metadata": {},
     "output_type": "execute_result"
    }
   ],
   "source": [
    "all_grad.sort_values(by='mean', ascending=False)"
   ]
  },
  {
   "cell_type": "markdown",
   "metadata": {
    "slideshow": {
     "slide_type": "fragment"
    }
   },
   "source": [
    "Number of course validated:"
   ]
  },
  {
   "cell_type": "code",
   "execution_count": 103,
   "metadata": {
    "slideshow": {
     "slide_type": "fragment"
    }
   },
   "outputs": [
    {
     "data": {
      "text/plain": [
       "Anders      3\n",
       "Olga        3\n",
       "Peter       2\n",
       "Icham       3\n",
       "Nathalie    6\n",
       "Aiko        5\n",
       "dtype: int64"
      ]
     },
     "execution_count": 103,
     "metadata": {},
     "output_type": "execute_result"
    }
   ],
   "source": [
    "(all_grad.drop(columns=['gender', 'mean']) > 10).sum(axis=1)"
   ]
  },
  {
   "cell_type": "markdown",
   "metadata": {
    "slideshow": {
     "slide_type": "slide"
    }
   },
   "source": [
    "## GroupBy \n",
    "\n",
    "The `groupby()` mechanics has been integrated similarly as in `R`. It will split a `DataFrame` into groups based on one or more _keys_ to then apply any statistics."
   ]
  },
  {
   "cell_type": "code",
   "execution_count": 104,
   "metadata": {
    "slideshow": {
     "slide_type": "fragment"
    }
   },
   "outputs": [
    {
     "data": {
      "text/html": [
       "<div>\n",
       "<style scoped>\n",
       "    .dataframe tbody tr th:only-of-type {\n",
       "        vertical-align: middle;\n",
       "    }\n",
       "\n",
       "    .dataframe tbody tr th {\n",
       "        vertical-align: top;\n",
       "    }\n",
       "\n",
       "    .dataframe thead th {\n",
       "        text-align: right;\n",
       "    }\n",
       "</style>\n",
       "<table border=\"1\" class=\"dataframe\">\n",
       "  <thead>\n",
       "    <tr style=\"text-align: right;\">\n",
       "      <th></th>\n",
       "      <th>math</th>\n",
       "      <th>biology</th>\n",
       "      <th>french</th>\n",
       "      <th>history</th>\n",
       "      <th>physics</th>\n",
       "      <th>mean</th>\n",
       "      <th>english</th>\n",
       "    </tr>\n",
       "    <tr>\n",
       "      <th>gender</th>\n",
       "      <th></th>\n",
       "      <th></th>\n",
       "      <th></th>\n",
       "      <th></th>\n",
       "      <th></th>\n",
       "      <th></th>\n",
       "      <th></th>\n",
       "    </tr>\n",
       "  </thead>\n",
       "  <tbody>\n",
       "    <tr>\n",
       "      <th>F</th>\n",
       "      <td>11.161088</td>\n",
       "      <td>11.440750</td>\n",
       "      <td>17.655573</td>\n",
       "      <td>16.566588</td>\n",
       "      <td>13.202124</td>\n",
       "      <td>14.005225</td>\n",
       "      <td>12.204913</td>\n",
       "    </tr>\n",
       "    <tr>\n",
       "      <th>M</th>\n",
       "      <td>10.159401</td>\n",
       "      <td>12.291851</td>\n",
       "      <td>7.671421</td>\n",
       "      <td>12.334644</td>\n",
       "      <td>10.114677</td>\n",
       "      <td>10.514399</td>\n",
       "      <td>11.258022</td>\n",
       "    </tr>\n",
       "  </tbody>\n",
       "</table>\n",
       "</div>"
      ],
      "text/plain": [
       "             math    biology     french    history    physics       mean  \\\n",
       "gender                                                                     \n",
       "F       11.161088  11.440750  17.655573  16.566588  13.202124  14.005225   \n",
       "M       10.159401  12.291851   7.671421  12.334644  10.114677  10.514399   \n",
       "\n",
       "          english  \n",
       "gender             \n",
       "F       12.204913  \n",
       "M       11.258022  "
      ]
     },
     "execution_count": 104,
     "metadata": {},
     "output_type": "execute_result"
    }
   ],
   "source": [
    "all_grad.groupby(all_grad['gender']).mean()"
   ]
  },
  {
   "cell_type": "markdown",
   "metadata": {
    "slideshow": {
     "slide_type": "slide"
    }
   },
   "source": [
    "## Visualising dataset"
   ]
  },
  {
   "cell_type": "code",
   "execution_count": 105,
   "metadata": {
    "slideshow": {
     "slide_type": "fragment"
    }
   },
   "outputs": [
    {
     "data": {
      "text/html": [
       "<div>\n",
       "<style scoped>\n",
       "    .dataframe tbody tr th:only-of-type {\n",
       "        vertical-align: middle;\n",
       "    }\n",
       "\n",
       "    .dataframe tbody tr th {\n",
       "        vertical-align: top;\n",
       "    }\n",
       "\n",
       "    .dataframe thead th {\n",
       "        text-align: right;\n",
       "    }\n",
       "</style>\n",
       "<table border=\"1\" class=\"dataframe\">\n",
       "  <thead>\n",
       "    <tr style=\"text-align: right;\">\n",
       "      <th></th>\n",
       "      <th>sepal_length</th>\n",
       "      <th>sepal_width</th>\n",
       "      <th>petal_length</th>\n",
       "      <th>petal_width</th>\n",
       "      <th>species</th>\n",
       "    </tr>\n",
       "  </thead>\n",
       "  <tbody>\n",
       "    <tr>\n",
       "      <th>0</th>\n",
       "      <td>5.1</td>\n",
       "      <td>3.5</td>\n",
       "      <td>1.4</td>\n",
       "      <td>0.2</td>\n",
       "      <td>setosa</td>\n",
       "    </tr>\n",
       "    <tr>\n",
       "      <th>1</th>\n",
       "      <td>4.9</td>\n",
       "      <td>3.0</td>\n",
       "      <td>1.4</td>\n",
       "      <td>0.2</td>\n",
       "      <td>setosa</td>\n",
       "    </tr>\n",
       "    <tr>\n",
       "      <th>2</th>\n",
       "      <td>4.7</td>\n",
       "      <td>3.2</td>\n",
       "      <td>1.3</td>\n",
       "      <td>0.2</td>\n",
       "      <td>setosa</td>\n",
       "    </tr>\n",
       "    <tr>\n",
       "      <th>3</th>\n",
       "      <td>4.6</td>\n",
       "      <td>3.1</td>\n",
       "      <td>1.5</td>\n",
       "      <td>0.2</td>\n",
       "      <td>setosa</td>\n",
       "    </tr>\n",
       "    <tr>\n",
       "      <th>4</th>\n",
       "      <td>5.0</td>\n",
       "      <td>3.6</td>\n",
       "      <td>1.4</td>\n",
       "      <td>0.2</td>\n",
       "      <td>setosa</td>\n",
       "    </tr>\n",
       "    <tr>\n",
       "      <th>...</th>\n",
       "      <td>...</td>\n",
       "      <td>...</td>\n",
       "      <td>...</td>\n",
       "      <td>...</td>\n",
       "      <td>...</td>\n",
       "    </tr>\n",
       "    <tr>\n",
       "      <th>145</th>\n",
       "      <td>6.7</td>\n",
       "      <td>3.0</td>\n",
       "      <td>5.2</td>\n",
       "      <td>2.3</td>\n",
       "      <td>virginica</td>\n",
       "    </tr>\n",
       "    <tr>\n",
       "      <th>146</th>\n",
       "      <td>6.3</td>\n",
       "      <td>2.5</td>\n",
       "      <td>5.0</td>\n",
       "      <td>1.9</td>\n",
       "      <td>virginica</td>\n",
       "    </tr>\n",
       "    <tr>\n",
       "      <th>147</th>\n",
       "      <td>6.5</td>\n",
       "      <td>3.0</td>\n",
       "      <td>5.2</td>\n",
       "      <td>2.0</td>\n",
       "      <td>virginica</td>\n",
       "    </tr>\n",
       "    <tr>\n",
       "      <th>148</th>\n",
       "      <td>6.2</td>\n",
       "      <td>3.4</td>\n",
       "      <td>5.4</td>\n",
       "      <td>2.3</td>\n",
       "      <td>virginica</td>\n",
       "    </tr>\n",
       "    <tr>\n",
       "      <th>149</th>\n",
       "      <td>5.9</td>\n",
       "      <td>3.0</td>\n",
       "      <td>5.1</td>\n",
       "      <td>1.8</td>\n",
       "      <td>virginica</td>\n",
       "    </tr>\n",
       "  </tbody>\n",
       "</table>\n",
       "<p>150 rows × 5 columns</p>\n",
       "</div>"
      ],
      "text/plain": [
       "     sepal_length  sepal_width  petal_length  petal_width    species\n",
       "0             5.1          3.5           1.4          0.2     setosa\n",
       "1             4.9          3.0           1.4          0.2     setosa\n",
       "2             4.7          3.2           1.3          0.2     setosa\n",
       "3             4.6          3.1           1.5          0.2     setosa\n",
       "4             5.0          3.6           1.4          0.2     setosa\n",
       "..            ...          ...           ...          ...        ...\n",
       "145           6.7          3.0           5.2          2.3  virginica\n",
       "146           6.3          2.5           5.0          1.9  virginica\n",
       "147           6.5          3.0           5.2          2.0  virginica\n",
       "148           6.2          3.4           5.4          2.3  virginica\n",
       "149           5.9          3.0           5.1          1.8  virginica\n",
       "\n",
       "[150 rows x 5 columns]"
      ]
     },
     "execution_count": 105,
     "metadata": {},
     "output_type": "execute_result"
    }
   ],
   "source": [
    "import seaborn as sns\n",
    "iris = sns.load_dataset('iris')\n",
    "iris"
   ]
  },
  {
   "cell_type": "code",
   "execution_count": 106,
   "metadata": {
    "scrolled": true,
    "slideshow": {
     "slide_type": "fragment"
    }
   },
   "outputs": [
    {
     "data": {
      "text/html": [
       "<div>\n",
       "<style scoped>\n",
       "    .dataframe tbody tr th:only-of-type {\n",
       "        vertical-align: middle;\n",
       "    }\n",
       "\n",
       "    .dataframe tbody tr th {\n",
       "        vertical-align: top;\n",
       "    }\n",
       "\n",
       "    .dataframe thead th {\n",
       "        text-align: right;\n",
       "    }\n",
       "</style>\n",
       "<table border=\"1\" class=\"dataframe\">\n",
       "  <thead>\n",
       "    <tr style=\"text-align: right;\">\n",
       "      <th></th>\n",
       "      <th>sepal_length</th>\n",
       "      <th>sepal_width</th>\n",
       "      <th>petal_length</th>\n",
       "      <th>petal_width</th>\n",
       "      <th>species</th>\n",
       "    </tr>\n",
       "  </thead>\n",
       "  <tbody>\n",
       "    <tr>\n",
       "      <th>0</th>\n",
       "      <td>5.1</td>\n",
       "      <td>3.5</td>\n",
       "      <td>1.4</td>\n",
       "      <td>0.2</td>\n",
       "      <td>setosa</td>\n",
       "    </tr>\n",
       "    <tr>\n",
       "      <th>1</th>\n",
       "      <td>4.9</td>\n",
       "      <td>3.0</td>\n",
       "      <td>1.4</td>\n",
       "      <td>0.2</td>\n",
       "      <td>setosa</td>\n",
       "    </tr>\n",
       "  </tbody>\n",
       "</table>\n",
       "</div>"
      ],
      "text/plain": [
       "   sepal_length  sepal_width  petal_length  petal_width species\n",
       "0           5.1          3.5           1.4          0.2  setosa\n",
       "1           4.9          3.0           1.4          0.2  setosa"
      ]
     },
     "execution_count": 106,
     "metadata": {},
     "output_type": "execute_result"
    }
   ],
   "source": [
    "# print 2 first lines\n",
    "iris.head(2)"
   ]
  },
  {
   "cell_type": "code",
   "execution_count": 107,
   "metadata": {
    "scrolled": true,
    "slideshow": {
     "slide_type": "fragment"
    }
   },
   "outputs": [
    {
     "data": {
      "text/html": [
       "<div>\n",
       "<style scoped>\n",
       "    .dataframe tbody tr th:only-of-type {\n",
       "        vertical-align: middle;\n",
       "    }\n",
       "\n",
       "    .dataframe tbody tr th {\n",
       "        vertical-align: top;\n",
       "    }\n",
       "\n",
       "    .dataframe thead th {\n",
       "        text-align: right;\n",
       "    }\n",
       "</style>\n",
       "<table border=\"1\" class=\"dataframe\">\n",
       "  <thead>\n",
       "    <tr style=\"text-align: right;\">\n",
       "      <th></th>\n",
       "      <th>sepal_length</th>\n",
       "      <th>sepal_width</th>\n",
       "      <th>petal_length</th>\n",
       "      <th>petal_width</th>\n",
       "      <th>species</th>\n",
       "    </tr>\n",
       "  </thead>\n",
       "  <tbody>\n",
       "    <tr>\n",
       "      <th>148</th>\n",
       "      <td>6.2</td>\n",
       "      <td>3.4</td>\n",
       "      <td>5.4</td>\n",
       "      <td>2.3</td>\n",
       "      <td>virginica</td>\n",
       "    </tr>\n",
       "    <tr>\n",
       "      <th>149</th>\n",
       "      <td>5.9</td>\n",
       "      <td>3.0</td>\n",
       "      <td>5.1</td>\n",
       "      <td>1.8</td>\n",
       "      <td>virginica</td>\n",
       "    </tr>\n",
       "  </tbody>\n",
       "</table>\n",
       "</div>"
      ],
      "text/plain": [
       "     sepal_length  sepal_width  petal_length  petal_width    species\n",
       "148           6.2          3.4           5.4          2.3  virginica\n",
       "149           5.9          3.0           5.1          1.8  virginica"
      ]
     },
     "execution_count": 107,
     "metadata": {},
     "output_type": "execute_result"
    }
   ],
   "source": [
    "# print 2 last lines\n",
    "iris.tail(2)"
   ]
  },
  {
   "cell_type": "markdown",
   "metadata": {
    "slideshow": {
     "slide_type": "slide"
    }
   },
   "source": [
    "## [Qgrid](https://github.com/quantopian/qgrid)\n",
    "\n",
    "_\"Qgrid is a Jupyter notebook widget which uses SlickGrid to render pandas DataFrames within a Jupyter notebook. This allows you to explore your DataFrames with intuitive scrolling, sorting, and filtering controls, as well as edit your DataFrames by double clicking cells.\"_"
   ]
  },
  {
   "cell_type": "code",
   "execution_count": null,
   "metadata": {
    "slideshow": {
     "slide_type": "fragment"
    }
   },
   "outputs": [],
   "source": [
    "import qgrid\n",
    "qgrid_widget = qgrid.show_grid(iris, show_toolbar=True, grid_options={'maxVisibleRows':5})\n",
    "qgrid_widget"
   ]
  },
  {
   "cell_type": "markdown",
   "metadata": {
    "slideshow": {
     "slide_type": "slide"
    }
   },
   "source": [
    "### Bibliography\n",
    "\n",
    "* [Teaching and Learning with Jupyter](https://jupyter4edu.github.io/jupyter-edu-book/)\n",
    "* [Books with Jupyter and Jekyll](https://jupyter.org/jupyter-book/intro.html)\n",
    "\n",
    "* [IPython Cookbook](https://ipython-books.github.io/)\n",
    "\n",
    "* [Jupyter Cheat Sheet](https://www.edureka.co/blog/cheatsheets/Jupyter-Notebook-Cheat-Sheet)\n",
    "* [Github Markdown Cheat Sheet](https://guides.github.com/pdfs/markdown-cheatsheet-online.pdf)\n",
    "* [Installing Jupyter on Android](https://www.leouieda.com/blog/scipy-on-android.html)\n",
    "\n",
    "\n"
   ]
  },
  {
   "cell_type": "markdown",
   "metadata": {
    "slideshow": {
     "slide_type": "slide"
    }
   },
   "source": [
    "## Practical Work\n",
    "\n",
    "Create a notebook in which you will show on the same graphic (using `matplotlib` or `seaborn`) the function $f(\\theta) = sin(\\theta)$ , $f(\\theta)=cos(\\theta)$ and $f(\\theta)=tan(\\theta)$.\n",
    "You will represent this functions during the interval $[-\\pi, \\pi]$\n",
    "\n",
    "Separate you notebook in multiple cells, comments all code cells in markdown cells, using different heading level, bullet point and _LaTeX_ equation.\n",
    "Emphasis part of the text in _italic_ and __bold__.\n",
    "\n",
    "Present in a table function (sin, cos, tan) value for $\\theta = -\\frac{\\pi}{2}, 0, \\frac{\\pi}{2}$.\n"
   ]
  }
 ],
 "metadata": {
  "celltoolbar": "Diaporama",
  "kernelspec": {
   "display_name": "Python 3",
   "language": "python",
   "name": "python3"
  },
  "language_info": {
   "codemirror_mode": {
    "name": "ipython",
    "version": 3
   },
   "file_extension": ".py",
   "mimetype": "text/x-python",
   "name": "python",
   "nbconvert_exporter": "python",
   "pygments_lexer": "ipython3",
   "version": "3.8.2"
  },
  "toc": {
   "base_numbering": 1,
   "nav_menu": {},
   "number_sections": true,
   "sideBar": true,
   "skip_h1_title": false,
   "title_cell": "Table of Contents",
   "title_sidebar": "Contents",
   "toc_cell": false,
   "toc_position": {},
   "toc_section_display": true,
   "toc_window_display": false
  }
 },
 "nbformat": 4,
 "nbformat_minor": 2
}
