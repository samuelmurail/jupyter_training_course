{
 "cells": [
  {
   "cell_type": "code",
   "execution_count": 7,
   "metadata": {
    "slideshow": {
     "slide_type": "notes"
    }
   },
   "outputs": [
    {
     "data": {
      "text/html": [
       "<style> \n",
       "\n",
       "code {background-color : lightgrey !important;} \n",
       "\n",
       ".CodeMirror {\n",
       "    width: 100vw;\n",
       "}\n",
       "\n",
       ".rendered_html {\n",
       "  font-size:0.8em;\n",
       "  line-height: 90%; \n",
       "}\n",
       ".rendered_html table, .rendered_html th, .rendered_html tr, .rendered_html td {\n",
       "     font-size: 100%;\n",
       "}\n",
       "\n",
       "\n",
       "\n",
       "</style>\n",
       "\n",
       "<!-- To use only for presentation :\n",
       ".container {\n",
       "    width: 99% !important;\n",
       "}\n",
       ">"
      ],
      "text/plain": [
       "<IPython.core.display.HTML object>"
      ]
     },
     "metadata": {},
     "output_type": "display_data"
    }
   ],
   "source": [
    "%%HTML\n",
    "<style> \n",
    "\n",
    "code {background-color : lightgrey !important;} \n",
    "\n",
    ".CodeMirror {\n",
    "    width: 100vw;\n",
    "}\n",
    "\n",
    ".rendered_html {\n",
    "  font-size:0.8em;\n",
    "  line-height: 90%; \n",
    "}\n",
    ".rendered_html table, .rendered_html th, .rendered_html tr, .rendered_html td {\n",
    "     font-size: 100%;\n",
    "}\n",
    "\n",
    "\n",
    "\n",
    "</style>\n",
    "\n",
    "<!-- To use only for presentation :\n",
    ".container {\n",
    "    width: 99% !important;\n",
    "}\n",
    ">"
   ]
  },
  {
   "cell_type": "code",
   "execution_count": 8,
   "metadata": {
    "slideshow": {
     "slide_type": "notes"
    }
   },
   "outputs": [
    {
     "data": {
      "text/html": [
       "<!-- Not content, but for better presentation styles -->\n",
       "<style>\n",
       ".rise-enabled .rendered_html table.dataframe {\n",
       "    font-size: 16px;\n",
       "}\n",
       ".rendered_html code {\n",
       "    background: #EFEFEF;\n",
       "    border: 1px solid #CCC;\n",
       "    padding: 1px 5px;\n",
       "    border-radius: 1px;\n",
       "}\n",
       ".rise-enabled .fa-times-circle:before,\n",
       ".rise-enabled .fa-question:before,\n",
       ".rise-enabled aside.controls {\n",
       "    opacity: 0.1;\n",
       "}\n",
       ".rise-enabled a,\n",
       ".rise-enabled a:active,\n",
       ".rise-enabled a:hover,\n",
       ".rise-enabled a:visited,\n",
       ".rise-enabled :link {\n",
       "    text-decoration: none;\n",
       "    color: #A68910;\n",
       "}\n",
       "</style>"
      ],
      "text/plain": [
       "<IPython.core.display.HTML object>"
      ]
     },
     "metadata": {},
     "output_type": "display_data"
    }
   ],
   "source": [
    "%%HTML\n",
    "<!-- Not content, but for better presentation styles -->\n",
    "<style>\n",
    ".rise-enabled .rendered_html table.dataframe {\n",
    "    font-size: 16px;\n",
    "}\n",
    ".rendered_html code {\n",
    "    background: #EFEFEF;\n",
    "    border: 1px solid #CCC;\n",
    "    padding: 1px 5px;\n",
    "    border-radius: 1px;\n",
    "}\n",
    ".rise-enabled .fa-times-circle:before,\n",
    ".rise-enabled .fa-question:before,\n",
    ".rise-enabled aside.controls {\n",
    "    opacity: 0.1;\n",
    "}\n",
    ".rise-enabled a,\n",
    ".rise-enabled a:active,\n",
    ".rise-enabled a:hover,\n",
    ".rise-enabled a:visited,\n",
    ".rise-enabled :link {\n",
    "    text-decoration: none;\n",
    "    color: #A68910;\n",
    "}\n",
    "</style>"
   ]
  },
  {
   "cell_type": "markdown",
   "metadata": {
    "slideshow": {
     "slide_type": "slide"
    }
   },
   "source": [
    "## Practical introduction to the course\n",
    "\n",
    "**Sjoerd de Vries**\n",
    "\n",
    "Not Francophone\n",
    "- Enormous accent (Netherlands)\n",
    "- Speaking French is a challenge for me\n",
    "- I insert English words, I use Latinisms\n",
    "- Will switch to English if needed\n"
   ]
  },
  {
   "cell_type": "markdown",
   "metadata": {
    "slideshow": {
     "slide_type": "slide"
    }
   },
   "source": [
    "## TLDR of Samuel's introduction\n",
    "\n",
    "- Jupyter is a framework to create *notebooks*\n",
    "- Notebooks consist of *cells*\n",
    "- Cells are run inside a *kernel* (IPython, R, any other programming languages)\n",
    "- This allows for interactive programming\n",
    "- It integrates well with *scientific libraries* and *plotting libraries*\n"
   ]
  },
  {
   "cell_type": "markdown",
   "metadata": {
    "slideshow": {
     "slide_type": "slide"
    }
   },
   "source": [
    "## How Jupyter is installed\n",
    "\n",
    "The last days, Samuel and I have been very busy installing Jupyter and kernels and libraries on all of these computers. It took careful calibration of all the library packages. \n",
    "\n",
    "Some of you may want to work on their own laptop. I hope you managed to install everything beforehand, else it will cost some hours.\n"
   ]
  },
  {
   "cell_type": "markdown",
   "metadata": {
    "slideshow": {
     "slide_type": "slide"
    }
   },
   "source": [
    "## How Jupyter is installed\n",
    "\n",
    "~~The last days, Samuel and I have been very busy installing Jupyter and kernels and libraries on all of these computers. It took careful calibration of all the library packages.~~\n",
    "\n",
    "~~Some of you may want to work on their own laptop. I hope you managed to install everything beforehand, else it will cost some hours.~~\n",
    "\n",
    "\n",
    "*Nothing has been installed on these machines!*\n",
    "\n",
    "\n"
   ]
  },
  {
   "cell_type": "markdown",
   "metadata": {
    "slideshow": {
     "slide_type": "slide"
    }
   },
   "source": [
    "<img src=\"pictures/ipython_jupyter_kernel.png\" alt=\"Jupyter Kernel\" style=\"float:center; height: 80%;\">\n",
    "\n",
    "## Interface level: your machine\n",
    "\n",
    "## Kernel level: JupyterHub (somewhere else)\n",
    "\n"
   ]
  },
  {
   "cell_type": "markdown",
   "metadata": {
    "slideshow": {
     "slide_type": "slide"
    }
   },
   "source": [
    "## Logging into Jupyter\n",
    "\n",
    "\n",
    "JupyterHub: each user their own Jupyter server\n",
    "\n",
    "I have installed it at the RPBS:\n",
    "\n",
    "[http://jupyterhub1.rpbs.univ-paris-diderot.fr](http://jupyterhub1.rpbs.univ-paris-diderot.fr)\n",
    "\n",
    "Runs on my computer (abathur)\n",
    "\n",
    "http://jupyterhub[2-5].rpbs.univ-paris-diderot.fr (will run on the cluster)\n",
    "\n",
    "Type the web address, choose a random **user1-user20** (everyone a different user)\n",
    "\n",
    "Password is **jupyter2019**\n"
   ]
  },
  {
   "cell_type": "markdown",
   "metadata": {
    "slideshow": {
     "slide_type": "fragment"
    }
   },
   "source": [
    "## Logging into Jupyter\n",
    "\n",
    "- Go to ```jupyter_training_course```\n",
    "\n",
    "- Go to ```notebooks```\n",
    "\n",
    "- Click on 01_Jupyter_introduction.ipynb\n"
   ]
  },
  {
   "cell_type": "markdown",
   "metadata": {
    "slideshow": {
     "slide_type": "fragment"
    }
   },
   "source": [
    "<div class=\"toolbar-inner navbar-inner navbar-nobg\">\n",
    "    <div id=\"maintoolbar-container\" class=\"container toolbar\"><div class=\"btn-group\" id=\"save-notbook\"><button class=\"btn btn-default\" title=\"Save and Checkpoint\" data-jupyter-action=\"jupyter-notebook:save-notebook\"><i class=\"fa-save fa\"></i></button></div><div class=\"btn-group\" id=\"insert_above_below\"><button class=\"btn btn-default\" title=\"insert cell below\" data-jupyter-action=\"jupyter-notebook:insert-cell-below\"><i class=\"fa-plus fa\"></i></button></div><div class=\"btn-group\" id=\"cut_copy_paste\"><button class=\"btn btn-default\" title=\"cut selected cells\" data-jupyter-action=\"jupyter-notebook:cut-cell\"><i class=\"fa-cut fa\"></i></button><button class=\"btn btn-default\" title=\"copy selected cells\" data-jupyter-action=\"jupyter-notebook:copy-cell\"><i class=\"fa-copy fa\"></i></button><button class=\"btn btn-default\" title=\"paste cells below\" data-jupyter-action=\"jupyter-notebook:paste-cell-below\"><i class=\"fa-paste fa\"></i></button></div><div class=\"btn-group\" id=\"move_up_down\"><button class=\"btn btn-default\" title=\"move selected cells up\" data-jupyter-action=\"jupyter-notebook:move-cell-up\"><i class=\"fa-arrow-up fa\"></i></button><button class=\"btn btn-default\" title=\"move selected cells down\" data-jupyter-action=\"jupyter-notebook:move-cell-down\"><i class=\"fa-arrow-down fa\"></i></button></div><div class=\"btn-group\" id=\"run_int\"><button class=\"btn btn-default\" title=\"Run\" data-jupyter-action=\"jupyter-notebook:run-cell-and-select-next\"><i class=\"fa-step-forward fa\"></i><span class=\"toolbar-btn-label\">Run</span></button><button class=\"btn btn-default\" title=\"interrupt the kernel\" data-jupyter-action=\"jupyter-notebook:interrupt-kernel\"><i class=\"fa-stop fa\"></i></button><button class=\"btn btn-default\" title=\"restart the kernel (with dialog)\" data-jupyter-action=\"jupyter-notebook:confirm-restart-kernel\"><i class=\"fa-repeat fa\"></i></button><button class=\"btn btn-default\" title=\"restart the kernel, then re-run the whole notebook (with dialog)\" data-jupyter-action=\"jupyter-notebook:confirm-restart-kernel-and-run-all-cells\"><i class=\"fa-forward fa\"></i></button></div><select id=\"cell_type\" class=\"form-control select-xs\"><option value=\"code\">Code</option><option value=\"markdown\">Markdown</option><option value=\"raw\">Raw NBConvert</option><option value=\"heading\">Heading</option><option value=\"multiselect\" disabled=\"disabled\" style=\"display: none;\">-</option></select><div class=\"btn-group\"><button class=\"btn btn-default\" title=\"open the command palette\" data-jupyter-action=\"jupyter-notebook:show-command-palette\"><i class=\"fa-keyboard-o fa\"></i></button></div><div class=\"btn-group\"><button style=\"color:red;\" class=\"btn btn-default\" title=\"Enter/Exit RISE Slideshow\" id=\"RISE\" data-jupyter-action=\"RISE:slideshow\"><i class=\"fa-bar-chart fa\"></i></button></div></div>\n",
    "</div>\n"
   ]
  },
  {
   "cell_type": "markdown",
   "metadata": {
    "slideshow": {
     "slide_type": "fragment"
    }
   },
   "source": [
    "\n",
    "- Use Space, arrow-left, arrow-right to proceed.\n",
    "\n",
    "- To execute code cells, use shift-enter\n"
   ]
  },
  {
   "cell_type": "markdown",
   "metadata": {
    "slideshow": {
     "slide_type": "slide"
    }
   },
   "source": [
    "## How does Jupyter interact with the rest of the world?\n",
    "\n",
    "\n",
    "1.  Outside the notebook\n",
    "\t\n",
    "    - File server\n",
    "    - Terminal\n",
    "\t\n",
    "Jupyter runs inside a Docker image (virtual machine) on a remote computer.\n",
    "\n",
    "Jupyter servers are created by JupyterHub, once Jupyter server for each user\n",
    "\n",
    "Jupyter is an excellent alternative for SSH!\n",
    "\n",
    "Disadvantage of virtualization: hard to get files in or out. \n",
    "\n",
    "Options:\n",
    "\n",
    "- Upload/download of the file server\n",
    "- Command line: wget, tar, zip\n",
    "- git clone\n"
   ]
  },
  {
   "cell_type": "markdown",
   "metadata": {
    "slideshow": {
     "slide_type": "slide"
    }
   },
   "source": [
    "## How does Jupyter interact with the rest of the world?\n",
    "\n",
    "\n",
    "1.  Outside the notebook\n",
    "2.  Between notebook and browser\n",
    "\n",
    "Markdown cells, %%html magic\n",
    "\n",
    "No interaction with the kernel, only influences the browser.\n"
   ]
  },
  {
   "cell_type": "markdown",
   "metadata": {
    "slideshow": {
     "slide_type": "slide"
    }
   },
   "source": [
    "## How does Jupyter interact with the rest of the world?\n",
    "\n",
    "1.  Outside the notebook\n",
    "2.  Between notebook and browser\n",
    "3.  Polyglot in one kernel\n",
    "\n",
    "The IPython kernel can interact with different programming languages\n",
    "\n",
    "You can thus mix Python with those languages. For example:\n",
    "\n",
    "- R\n",
    "\n",
    "https://ipython.org/ipython-doc/2/config/extensions/rmagic.html\n"
   ]
  },
  {
   "cell_type": "code",
   "execution_count": null,
   "metadata": {
    "slideshow": {
     "slide_type": "fragment"
    }
   },
   "outputs": [],
   "source": [
    "import numpy as np\n",
    "\n",
    "X=np.array([1,4,5,7])\n",
    "Y=np.array([2,4,3,9])\n",
    "\n",
    "%load_ext rpy2.ipython"
   ]
  },
  {
   "cell_type": "code",
   "execution_count": null,
   "metadata": {
    "slideshow": {
     "slide_type": "fragment"
    }
   },
   "outputs": [],
   "source": [
    "%%R -i X -i Y\n",
    "summary(lm(Y~X))"
   ]
  },
  {
   "cell_type": "markdown",
   "metadata": {
    "slideshow": {
     "slide_type": "slide"
    }
   },
   "source": [
    "## How does Jupyter interact with the rest of the world?\n",
    "\n",
    "1.  Outside the notebook\n",
    "2.  Between notebook and browser\n",
    "3.  Polyglot in one kernel\n",
    "\n",
    "The IPython kernel can interact with different programming languages\n",
    "\n",
    "You can thus mix Python with those languages. For example:\n",
    "\n",
    "- R\n",
    "- Bash ( `!` magic )\n"
   ]
  },
  {
   "cell_type": "code",
   "execution_count": 11,
   "metadata": {
    "slideshow": {
     "slide_type": "fragment"
    }
   },
   "outputs": [
    {
     "data": {
      "text/plain": [
       "['19', '17', '15', '13', '11', '9', '7', '5', '3', '1']"
      ]
     },
     "execution_count": 11,
     "metadata": {},
     "output_type": "execute_result"
    }
   ],
   "source": [
    "odd = !seq 20 | awk 'NR % 2' | sort -rn\n",
    "odd"
   ]
  },
  {
   "cell_type": "markdown",
   "metadata": {
    "slideshow": {
     "slide_type": "slide"
    }
   },
   "source": [
    "## How does Jupyter interact with the rest of the world?\n",
    "\n",
    "1.  Outside the notebook\n",
    "2.  Between notebook and browser\n",
    "3.  Polyglot in one kernel\n",
    "4.  Polyglot, separate kernels \n",
    "\n",
    "Within the hub, R and C++ kernels have been installed\n",
    "\n",
    "Start an R kernel and enter:\n",
    "\n",
    "``` R\n",
    "X = c(1,4,5,7)\n",
    "Y = c(2,4,3,9)\n",
    "summary(lm(Y~X))\n",
    "```\n",
    "\n",
    "**All** of the code must be in R!\n"
   ]
  },
  {
   "cell_type": "markdown",
   "metadata": {
    "slideshow": {
     "slide_type": "slide"
    }
   },
   "source": [
    "## How does Jupyter interact with the rest of the world?\n",
    "\n",
    "1.  Outside the notebook\n",
    "2.  Between notebook and browser\n",
    "3.  Polyglot in one kernel\n",
    "4.  Polyglot, separate kernels \n",
    "5.  Importing and exporting notebook files \n",
    "\n",
    "Several technologies:\n",
    "- GitHub\n",
    "- nbconvert\n",
    "- nbviewer\n",
    "- Docker\n",
    "\n",
    "Will be discussed tomorrow"
   ]
  },
  {
   "cell_type": "markdown",
   "metadata": {
    "slideshow": {
     "slide_type": "slide"
    }
   },
   "source": [
    "## Open exercise: exploration\n",
    "*~45 minutes*\n",
    "\n",
    "You can choose one or more of the following:\n",
    "\n",
    "A: Get yourself familiar with the Jupyter interface. Extra documentation:\n",
    "https://realpython.com/jupyter-notebook-introduction. Create a notebook in your favorite language (Python, R or C++). For more languages, look at https://jupyter.org/try\n",
    "\n",
    "B. Use Jupyter together with your favorite command line tools. You can use the Terminal + the file server, and/or you can use the Python notebook together with the ! magic. Tell me if you need something installed.\n",
    "\n",
    "C. Using Markdown and/or HTML, create your own Notebook presentation, or adapt ours. \n",
    "- [Markdown](https://guides.github.com/pdfs/markdown-cheatsheet-online.pdf)\n",
    "- The presentation plugin is called Rise.\n",
    "[here](https://rise.readthedocs.io/en/stable/usage.html#creating-a-slideshow) is its documentation. \n",
    "- There are many HTML (and CSS and JavaScript) tutorials on the web.\n",
    "- Note that you can export a notebook as PDF. Alternatively, you can also display PDF pages (e.g. generated from a Powerpoint presentation) inside HTML.\n"
   ]
  },
  {
   "cell_type": "markdown",
   "metadata": {
    "slideshow": {
     "slide_type": "slide"
    }
   },
   "source": [
    "## What can Jupyter be used for?\n",
    "\n",
    "In terms of installation, from easy to hard: \n",
    "\n",
    "- Using it for your own research\n",
    "\t* Visualization\n",
    "\t* Interactivity\n",
    "\t* Data analysis / data science\n",
    "\t* Algorithm optimization\n",
    "- Publishing your research as a notebook\n",
    "- Reproducing / exploring notebooks published by others\n",
    "- Standardized computing environments\n",
    "\t* Teaching\n",
    "    * Making your research easily reproducible\n"
   ]
  },
  {
   "cell_type": "markdown",
   "metadata": {
    "slideshow": {
     "slide_type": "slide"
    }
   },
   "source": [
    "# Course Planning\n",
    "\n",
    "## *Day 1*\n",
    "\n",
    "\n",
    "### 09.30 - 12.00 \n",
    "\n",
    "0. Introduction of the participants\n",
    "\n",
    "1. Introduction to Jupyter\n",
    "\n",
    "2. Practical introduction to the course. Open exercise 1: exploring Jupyter\n",
    "\n",
    "### 13.00 - 17.30\n",
    "\n",
    "3. Installation\n",
    "4. Visualization\n",
    "5. Interactivity\n",
    "6. Open exercise 2: visualization, interactivity, installation\n",
    "\n",
    "## *Day 2*\n",
    "\n",
    "### 9.30 – 13.00\n",
    "\n",
    "7. Data analysis (numpy, pandas)\n",
    "\n",
    "8. Data analysis exercise\n",
    "\n",
    "9. Algorithm optimization\n",
    "\n",
    "10. Open exercise 3: data analysis, optimization\n",
    "\n",
    "### 14.00 - 17.00\n",
    "\n",
    "11. Notebooks as scientific publications.\n",
    "\n",
    "12. Teaching\n",
    "\n",
    "13. Open exercise 4: publishing, teaching\n"
   ]
  }
 ],
 "metadata": {
  "celltoolbar": "Slideshow",
  "kernelspec": {
   "display_name": "Python 3",
   "language": "python",
   "name": "python3"
  },
  "language_info": {
   "codemirror_mode": {
    "name": "ipython",
    "version": 3
   },
   "file_extension": ".py",
   "mimetype": "text/x-python",
   "name": "python",
   "nbconvert_exporter": "python",
   "pygments_lexer": "ipython3",
   "version": "3.6.7"
  },
  "widgets": {
   "application/vnd.jupyter.widget-state+json": {
    "state": {
     "2364354899794e428bca1e20b0cca294": {
      "model_module": "jupyter-leaflet",
      "model_module_version": "~0.10.2",
      "model_name": "LeafletTileLayerModel",
      "state": {
       "_model_module_version": "~0.10.2",
       "_view_count": null,
       "_view_module_version": "~0.10.2",
       "base": true,
       "max_zoom": 19,
       "min_zoom": 1,
       "options": [
        "attribution",
        "detect_retina",
        "max_zoom",
        "min_zoom",
        "tile_size"
       ]
      }
     },
     "52e07275a8704097bd0e3b9eabc76b1d": {
      "model_module": "@jupyter-widgets/base",
      "model_module_version": "1.1.0",
      "model_name": "LayoutModel",
      "state": {}
     },
     "8ff911445d8748439266dac7a8920daa": {
      "model_module": "jupyter-leaflet",
      "model_module_version": "~0.10.2",
      "model_name": "LeafletMapStyleModel",
      "state": {
       "_model_module_version": "~0.10.2",
       "_view_count": null,
       "_view_module": "@jupyter-widgets/base",
       "_view_module_version": "1.1.0",
       "_view_name": "StyleView",
       "cursor": "grab"
      }
     },
     "94ee8f5e7d1943d297358ea8b8186de3": {
      "model_module": "jupyter-leaflet",
      "model_module_version": "~0.10.2",
      "model_name": "LeafletMapStyleModel",
      "state": {
       "_model_module_version": "~0.10.2",
       "_view_count": null,
       "_view_module": "@jupyter-widgets/base",
       "_view_module_version": "1.1.0",
       "_view_name": "StyleView",
       "cursor": "grab"
      }
     },
     "dd3068814a914869a389bb9fba727e43": {
      "model_module": "jupyter-leaflet",
      "model_module_version": "~0.10.2",
      "model_name": "LeafletMapStyleModel",
      "state": {
       "_model_module_version": "~0.10.2",
       "_view_count": null,
       "_view_module": "@jupyter-widgets/base",
       "_view_module_version": "1.1.0",
       "_view_name": "StyleView",
       "cursor": "move"
      }
     },
     "ebf7de8fdc0e4358a29c2caa11e95814": {
      "model_module": "jupyter-leaflet",
      "model_module_version": "~0.10.2",
      "model_name": "LeafletMapModel",
      "state": {
       "_dom_classes": [],
       "_model_module_version": "~0.10.2",
       "_view_count": null,
       "_view_module_version": "~0.10.2",
       "basemap": {
        "attribution": "Map data (c) <a href=\"https://openstreetmap.org\">OpenStreetMap</a> contributors",
        "max_zoom": 19,
        "url": "https://{s}.tile.openstreetmap.org/{z}/{x}/{y}.png"
       },
       "center": [
        34.6252978589571,
        -77.34580993652344
       ],
       "default_style": "IPY_MODEL_8ff911445d8748439266dac7a8920daa",
       "dragging_style": "IPY_MODEL_dd3068814a914869a389bb9fba727e43",
       "east": -76.68457031250001,
       "fullscreen": false,
       "interpolation": "bilinear",
       "layers": [
        "IPY_MODEL_2364354899794e428bca1e20b0cca294"
       ],
       "layout": "IPY_MODEL_52e07275a8704097bd0e3b9eabc76b1d",
       "modisdate": "yesterday",
       "north": 34.85100201839405,
       "options": [
        "attribution_control",
        "basemap",
        "bounce_at_zoom_limits",
        "box_zoom",
        "center",
        "close_popup_on_click",
        "double_click_zoom",
        "dragging",
        "fullscreen",
        "inertia",
        "inertia_deceleration",
        "inertia_max_speed",
        "interpolation",
        "keyboard",
        "keyboard_pan_offset",
        "keyboard_zoom_offset",
        "max_zoom",
        "min_zoom",
        "scroll_wheel_zoom",
        "tap",
        "tap_tolerance",
        "touch_zoom",
        "world_copy_jump",
        "zoom",
        "zoom_animation_threshold",
        "zoom_control",
        "zoom_start"
       ],
       "south": 34.39897808891371,
       "style": "IPY_MODEL_94ee8f5e7d1943d297358ea8b8186de3",
       "west": -78.00704956054689,
       "zoom": 10
      }
     }
    },
    "version_major": 2,
    "version_minor": 0
   }
  }
 },
 "nbformat": 4,
 "nbformat_minor": 2
}
